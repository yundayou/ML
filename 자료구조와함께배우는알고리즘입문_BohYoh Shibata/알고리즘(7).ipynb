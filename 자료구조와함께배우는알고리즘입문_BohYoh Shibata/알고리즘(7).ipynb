{
 "cells": [
  {
   "cell_type": "code",
   "execution_count": 3,
   "id": "c40cbbff",
   "metadata": {
    "ExecuteTime": {
     "end_time": "2021-08-29T07:23:20.259714Z",
     "start_time": "2021-08-29T07:23:19.285379Z"
    }
   },
   "outputs": [
    {
     "name": "stdout",
     "output_type": "stream",
     "text": [
      "출력할 팩토리얼 값을 입력하세요. : 9\n",
      "9의 팩토리얼은 362880입니다.\n"
     ]
    }
   ],
   "source": [
    "def factorial(n : int)-> int:\n",
    "    if n >0 :\n",
    "        return n * factorial(n-1)\n",
    "    else:\n",
    "        return 1\n",
    "if __name__ == '__main__':\n",
    "    n = int(input('출력할 팩토리얼 값을 입력하세요. : '))\n",
    "    print(f'{n}의 팩토리얼은 {factorial(n)}입니다.')"
   ]
  },
  {
   "cell_type": "code",
   "execution_count": 4,
   "id": "eb3527d8",
   "metadata": {
    "ExecuteTime": {
     "end_time": "2021-08-29T07:27:29.056135Z",
     "start_time": "2021-08-29T07:27:24.178642Z"
    }
   },
   "outputs": [
    {
     "name": "stdout",
     "output_type": "stream",
     "text": [
      "두 정숫값의 최대 공약수를 구합니다.\n",
      "첫 번째 정숫값을 입력하세요.22\n",
      "두 번째 정숫값을 입력하세요.8\n",
      "두 정숫값의 최대공약수는  2입니다. \n"
     ]
    }
   ],
   "source": [
    "def gcd(x :  int, y : int)-> int:\n",
    "    if y == 0:\n",
    "        return x\n",
    "    else:\n",
    "        return gcd(y, x % y)\n",
    "    \n",
    "if __name__ == '__main__':\n",
    "    print('두 정숫값의 최대 공약수를 구합니다.')\n",
    "    x = int(input('첫 번째 정숫값을 입력하세요.'))\n",
    "    y = int(input('두 번째 정숫값을 입력하세요.'))\n",
    "    \n",
    "    print(f'두 정숫값의 최대공약수는  {gcd(x, y)}입니다. ')"
   ]
  },
  {
   "cell_type": "code",
   "execution_count": 5,
   "id": "1fb48592",
   "metadata": {
    "ExecuteTime": {
     "end_time": "2021-08-29T07:32:00.084741Z",
     "start_time": "2021-08-29T07:31:56.704774Z"
    }
   },
   "outputs": [
    {
     "name": "stdout",
     "output_type": "stream",
     "text": [
      "정숫값을 입력하세요. :4\n",
      "1\n",
      "2\n",
      "3\n",
      "1\n",
      "4\n",
      "1\n",
      "2\n"
     ]
    }
   ],
   "source": [
    "def recur(n : int) -> int:\n",
    "    if n >0 :\n",
    "        recur(n-1)\n",
    "        print(n)\n",
    "        recur(n-2)\n",
    "x = int(input('정숫값을 입력하세요. :'))\n",
    "\n",
    "recur(x)"
   ]
  },
  {
   "cell_type": "code",
   "execution_count": 6,
   "id": "269e9cc5",
   "metadata": {
    "ExecuteTime": {
     "end_time": "2021-08-29T07:35:33.590314Z",
     "start_time": "2021-08-29T07:35:32.224432Z"
    }
   },
   "outputs": [
    {
     "name": "stdout",
     "output_type": "stream",
     "text": [
      "정숫값을 입력하세요. :6\n",
      "1\n",
      "2\n",
      "3\n",
      "1\n",
      "4\n",
      "1\n",
      "2\n",
      "5\n",
      "1\n",
      "2\n",
      "3\n",
      "1\n",
      "6\n",
      "1\n",
      "2\n",
      "3\n",
      "1\n",
      "4\n",
      "1\n",
      "2\n"
     ]
    }
   ],
   "source": [
    "def recur(n: int)-> int:\n",
    "    while n > 0:\n",
    "        recur(n-1)\n",
    "        print(n)\n",
    "        n = n-2\n",
    "x = int(input('정숫값을 입력하세요. :'))\n",
    "\n",
    "recur(x)"
   ]
  },
  {
   "cell_type": "code",
   "execution_count": 8,
   "id": "69265aee",
   "metadata": {
    "ExecuteTime": {
     "end_time": "2021-08-29T07:37:35.360353Z",
     "start_time": "2021-08-29T07:37:35.346262Z"
    }
   },
   "outputs": [
    {
     "ename": "ModuleNotFoundError",
     "evalue": "No module named 'stack'",
     "output_type": "error",
     "traceback": [
      "\u001b[0;31m---------------------------------------------------------------------------\u001b[0m",
      "\u001b[0;31mModuleNotFoundError\u001b[0m                       Traceback (most recent call last)",
      "\u001b[0;32m<ipython-input-8-b3a043977576>\u001b[0m in \u001b[0;36m<module>\u001b[0;34m\u001b[0m\n\u001b[0;32m----> 1\u001b[0;31m \u001b[0;32mfrom\u001b[0m \u001b[0mstack\u001b[0m \u001b[0;32mimport\u001b[0m \u001b[0mStack\u001b[0m\u001b[0;34m\u001b[0m\u001b[0;34m\u001b[0m\u001b[0m\n\u001b[0m\u001b[1;32m      2\u001b[0m \u001b[0;34m\u001b[0m\u001b[0m\n\u001b[1;32m      3\u001b[0m \u001b[0;32mdef\u001b[0m \u001b[0mrecur\u001b[0m\u001b[0;34m(\u001b[0m\u001b[0mn\u001b[0m \u001b[0;34m:\u001b[0m \u001b[0mint\u001b[0m \u001b[0;34m)\u001b[0m\u001b[0;34m->\u001b[0m \u001b[0mint\u001b[0m\u001b[0;34m:\u001b[0m\u001b[0;34m\u001b[0m\u001b[0;34m\u001b[0m\u001b[0m\n\u001b[1;32m      4\u001b[0m     \u001b[0ms\u001b[0m \u001b[0;34m=\u001b[0m \u001b[0mStack\u001b[0m\u001b[0;34m(\u001b[0m\u001b[0mn\u001b[0m\u001b[0;34m)\u001b[0m\u001b[0;34m\u001b[0m\u001b[0;34m\u001b[0m\u001b[0m\n\u001b[1;32m      5\u001b[0m \u001b[0;34m\u001b[0m\u001b[0m\n",
      "\u001b[0;31mModuleNotFoundError\u001b[0m: No module named 'stack'"
     ]
    }
   ],
   "source": [
    "from stack import Stack\n",
    "\n",
    "def recur(n : int )-> int:\n",
    "    s = Stack(n)\n",
    "    \n",
    "    while True:\n",
    "        if n > 0:\n",
    "            s.push(n)\n",
    "            n = n - 1\n",
    "            continue\n",
    "        if not s.is_empty():\n",
    "            n = s.pop()\n",
    "            print(n)\n",
    "            n = n-2\n",
    "            continue\n",
    "        break\n",
    "        \n",
    "x = int(input('정숫값을 입력하세요 .'))\n",
    "\n",
    "recur(x)"
   ]
  },
  {
   "cell_type": "code",
   "execution_count": null,
   "id": "9bd0d4f5",
   "metadata": {},
   "outputs": [],
   "source": []
  }
 ],
 "metadata": {
  "kernelspec": {
   "display_name": "Python 3",
   "language": "python",
   "name": "python3"
  },
  "language_info": {
   "codemirror_mode": {
    "name": "ipython",
    "version": 3
   },
   "file_extension": ".py",
   "mimetype": "text/x-python",
   "name": "python",
   "nbconvert_exporter": "python",
   "pygments_lexer": "ipython3",
   "version": "3.8.8"
  },
  "toc": {
   "base_numbering": 1,
   "nav_menu": {},
   "number_sections": true,
   "sideBar": true,
   "skip_h1_title": false,
   "title_cell": "Table of Contents",
   "title_sidebar": "Contents",
   "toc_cell": false,
   "toc_position": {},
   "toc_section_display": true,
   "toc_window_display": false
  },
  "varInspector": {
   "cols": {
    "lenName": 16,
    "lenType": 16,
    "lenVar": 40
   },
   "kernels_config": {
    "python": {
     "delete_cmd_postfix": "",
     "delete_cmd_prefix": "del ",
     "library": "var_list.py",
     "varRefreshCmd": "print(var_dic_list())"
    },
    "r": {
     "delete_cmd_postfix": ") ",
     "delete_cmd_prefix": "rm(",
     "library": "var_list.r",
     "varRefreshCmd": "cat(var_dic_list()) "
    }
   },
   "types_to_exclude": [
    "module",
    "function",
    "builtin_function_or_method",
    "instance",
    "_Feature"
   ],
   "window_display": false
  }
 },
 "nbformat": 4,
 "nbformat_minor": 5
}
