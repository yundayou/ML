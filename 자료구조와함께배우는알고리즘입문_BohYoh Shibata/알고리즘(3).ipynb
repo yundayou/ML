{
 "cells": [
  {
   "cell_type": "code",
   "execution_count": 1,
   "id": "51a3bbbb",
   "metadata": {
    "ExecuteTime": {
     "end_time": "2021-08-25T01:46:04.584034Z",
     "start_time": "2021-08-25T01:46:04.581516Z"
    }
   },
   "outputs": [],
   "source": [
    "from typing import Any, Sequence"
   ]
  },
  {
   "cell_type": "code",
   "execution_count": 5,
   "id": "4c7ddd2a",
   "metadata": {
    "ExecuteTime": {
     "end_time": "2021-08-25T01:54:49.883010Z",
     "start_time": "2021-08-25T01:54:43.421161Z"
    }
   },
   "outputs": [
    {
     "name": "stdout",
     "output_type": "stream",
     "text": [
      "원소수를 입력하세요.:8\n",
      "x[0] : 3\n",
      "x[1] : 4\n",
      "x[2] : 5\n",
      "x[3] : 6\n",
      "x[4] : 7\n",
      "x[5] : 83\n",
      "x[6] : 3\n",
      "x[7] : 2\n",
      "검색할 값을 입력하세요. : 3\n",
      "검색값은 x[0]에 있습니다. \n"
     ]
    }
   ],
   "source": [
    "def seq_search(a : Sequence, key : Any) -> int:\n",
    "    \n",
    "    for i in range(len(a)):\n",
    "        if a[i] == key:\n",
    "            return i\n",
    "    return -1\n",
    "        \n",
    "if __name__ == '__main__':\n",
    "    num = int(input('원소수를 입력하세요.:'))\n",
    "    x = [None] * num #아무것도 안들어있는 배열 생성\n",
    "    \n",
    "    for i in range(num):\n",
    "        x[i] = int(input(f'x[{i}] : '))\n",
    "        \n",
    "    ky = int(input('검색할 값을 입력하세요. : '))\n",
    "    idx = seq_search(x,ky)\n",
    "    \n",
    "    if idx == -1:\n",
    "        print('검색값을 갖는 원소가 존재하지 않습니다. ')\n",
    "        \n",
    "    else :\n",
    "        print(f'검색값은 x[{idx}]에 있습니다. ')"
   ]
  },
  {
   "cell_type": "code",
   "execution_count": 6,
   "id": "ada698eb",
   "metadata": {
    "ExecuteTime": {
     "end_time": "2021-08-25T01:58:34.210705Z",
     "start_time": "2021-08-25T01:58:11.528747Z"
    }
   },
   "outputs": [
    {
     "name": "stdout",
     "output_type": "stream",
     "text": [
      "실수를 검색합니다. \n",
      "주의 :  \"End\"를 입력하면 종료합니다. \n",
      "x[0] : 12.7\n",
      "x[1] : 3.14\n",
      "x[2] : 6.4\n",
      "x[3] : 7.2\n",
      "x[4] : End\n",
      "검색할 값을 입력하세요. : 6.4\n",
      "검색값은 x[2]에 있습니다.\n"
     ]
    }
   ],
   "source": [
    "print('실수를 검색합니다. ')\n",
    "print('주의 :  \"End\"를 입력하면 종료합니다. ')\n",
    "\n",
    "number = 0\n",
    "x = []\n",
    "\n",
    "while True :\n",
    "    s = input(f'x[{number}] : ')\n",
    "    if s == 'End':\n",
    "        break\n",
    "    x.append(float(s))\n",
    "    number += 1\n",
    "    \n",
    "ky = float(input('검색할 값을 입력하세요. : '))\n",
    "\n",
    "idx = seq_search(x, ky)\n",
    "\n",
    "if idx == -1:\n",
    "    print('검색값을 갖는 원소가 존재하지 않습니다. ')\n",
    "    \n",
    "else:\n",
    "    print(f'검색값은 x[{idx}]에 있습니다.')"
   ]
  },
  {
   "cell_type": "code",
   "execution_count": 7,
   "id": "d1522de1",
   "metadata": {
    "ExecuteTime": {
     "end_time": "2021-08-25T02:08:13.053694Z",
     "start_time": "2021-08-25T02:08:13.047851Z"
    }
   },
   "outputs": [
    {
     "name": "stdout",
     "output_type": "stream",
     "text": [
      "(4, 7, 5.6, 2, 3.14, 1)에서 5.6의 인덱스는 2입니다.\n",
      "string에서 \"n\"의 인덱스는 4입니다.\n",
      "['DTS', 'AAC', 'FLAC']에서 \"DTS\"의 인덱스는 0입니다.\n"
     ]
    }
   ],
   "source": [
    "t = (4, 7, 5.6, 2, 3.14, 1)\n",
    "s = 'string'\n",
    "a = ['DTS', 'AAC', 'FLAC']\n",
    "\n",
    "print(f'{t}에서 5.6의 인덱스는 {seq_search(t, 5.6)}입니다.')\n",
    "print(f'{s}에서 \"n\"의 인덱스는 {seq_search(s, \"n\")}입니다.')\n",
    "print(f'{a}에서 \"DTS\"의 인덱스는 {seq_search(a, \"DTS\")}입니다.')"
   ]
  },
  {
   "cell_type": "code",
   "execution_count": 9,
   "id": "4e77a0e8",
   "metadata": {
    "ExecuteTime": {
     "end_time": "2021-08-25T05:38:06.591595Z",
     "start_time": "2021-08-25T05:37:49.835691Z"
    }
   },
   "outputs": [
    {
     "name": "stdout",
     "output_type": "stream",
     "text": [
      "원소수를 입력하세요.:7\n",
      "x[0] : 6\n",
      "x[1] : 4\n",
      "x[2] : 3\n",
      "x[3] : 2\n",
      "x[4] : 1\n",
      "x[5] : 8\n",
      "x[6] : 2\n",
      "검색할 값을 입력하세요. : 2\n",
      "검색값은 x[3]에 있습니다. \n"
     ]
    }
   ],
   "source": [
    "from typing import Any, Sequence\n",
    "import copy\n",
    "\n",
    "def seq_search(seq : Sequence ,key :Any) -> int:\n",
    "    \n",
    "    a = copy.deepcopy(seq)\n",
    "    a.append(key)\n",
    "    \n",
    "    \n",
    "    i = 0\n",
    "    while True:\n",
    "        if a[i] == key:\n",
    "            break\n",
    "        i +=1\n",
    "    return -1 if i == len(seq) else i\n",
    "\n",
    "\n",
    "if __name__ == '__main__':\n",
    "    num = int(input('원소수를 입력하세요.:'))\n",
    "    x = [None] * num #아무것도 안들어있는 배열 생성\n",
    "    \n",
    "    for i in range(num):\n",
    "        x[i] = int(input(f'x[{i}] : '))\n",
    "        \n",
    "    ky = int(input('검색할 값을 입력하세요. : '))\n",
    "    idx = seq_search(x,ky)\n",
    "    \n",
    "    if idx == -1:\n",
    "        print('검색값을 갖는 원소가 존재하지 않습니다. ')\n",
    "        \n",
    "    else :\n",
    "        print(f'검색값은 x[{idx}]에 있습니다. ')"
   ]
  },
  {
   "cell_type": "code",
   "execution_count": 12,
   "id": "da1e6391",
   "metadata": {
    "ExecuteTime": {
     "end_time": "2021-08-25T06:01:28.495401Z",
     "start_time": "2021-08-25T06:01:15.652147Z"
    }
   },
   "outputs": [
    {
     "name": "stdout",
     "output_type": "stream",
     "text": [
      "원소의 수를 입력하세요7\n",
      "배열 데이터를 오름차순으로 입력하세요.\n",
      "x[0]: 1\n",
      "x[1] : 2\n",
      "x[2] : 3\n",
      "x[3] : 4\n",
      "x[4] : 5\n",
      "x[5] : 7\n",
      "x[6] : 8\n",
      "검색할 값을 입력하세요4\n",
      "검색값은 x[3])에 있습니다.\n"
     ]
    }
   ],
   "source": [
    "from typing import Any, Sequence\n",
    "\n",
    "\n",
    "def bin_search(a :Sequence, key :Any) -> int:\n",
    "    \n",
    "    pl = 0\n",
    "    pr = len(a)-1\n",
    "    \n",
    "    while True:\n",
    "        pc = (pl+ pr)//2 #중앙원소의 인덱스\n",
    "        if a[pc] == key:\n",
    "            return pc\n",
    "        elif a[pc] < key:\n",
    "            pl = pc+1\n",
    "        else:\n",
    "            pr = pc -1\n",
    "            \n",
    "        if pl > pr:\n",
    "            break\n",
    "        return -1\n",
    "if __name__ == '__main__':\n",
    "    num = int(input('원소의 수를 입력하세요'))\n",
    "    x = [None] * num\n",
    "    \n",
    "    print('배열 데이터를 오름차순으로 입력하세요.')\n",
    "    \n",
    "    x[0] = int(input('x[0]: '))\n",
    "    \n",
    "    for i in range(1, num):\n",
    "        while True:\n",
    "            x[i] = int(input(f'x[{i}] : '))\n",
    "            if x[i] >= x[i-1]:\n",
    "                break\n",
    "    ky =int(input('검색할 값을 입력하세요'))\n",
    "    \n",
    "    idx = bin_search(x,ky)\n",
    "    \n",
    "    if idx == -1:\n",
    "        print('검색값을 갖는 원소가 존재하지 않습니다. ')\n",
    "        \n",
    "    else:\n",
    "        print(f'검색값은 x[{idx}])에 있습니다.')"
   ]
  },
  {
   "cell_type": "code",
   "execution_count": null,
   "id": "84d82e0b",
   "metadata": {
    "ExecuteTime": {
     "start_time": "2021-08-25T07:37:44.442Z"
    }
   },
   "outputs": [],
   "source": [
    "from typing import Any, Sequence\n",
    "\n",
    "def bin_search(a : Sequence, key :Any)-> int:\n",
    "    \n",
    "    pl = 0 #검색 범위 맨 앞 원소의 인덱스\n",
    "    pr = len(a)-1 #검색 범위 맨 뒤 원소의 인덱스\n",
    "    \n",
    "     while True:\n",
    "        pc = (pl+ pr)//2 #중앙원소의 인덱스\n",
    "        if a[pc] == key:\n",
    "            return pc\n",
    "        elif a[pc] < key:\n",
    "            pl = pc+1\n",
    "        else:\n",
    "            pr = pc -1\n",
    "            \n",
    "        if pl > pr:\n",
    "            break\n",
    "        return -1\n",
    "    \n",
    "    print('    |', end='')\n",
    "    for i in range(len(a)):\n",
    "        print(f'{i : 4}', end='')\n",
    "    print()\n",
    "    print('---+' + (4 * len(a) + 2) * '-')\n",
    "        \n",
    "    while True:\n",
    "        \n",
    "        pc = (pl + pr) // 2\n",
    "        \n",
    "        print('    |', end='')\n",
    "        if pl != pc:\n",
    "            print((pl * 4 +1) * '' + '<-' + ((pc-pl) * 4) * '' +'+', end='')\n",
    "        else:\n",
    "            print((pc * 4 +1) * ''+'<+', end='')\n",
    "        \n",
    "        if pc != pr :\n",
    "            print(((pr-pc) * 4 -2) * '' + '->')\n",
    "        else:\n",
    "            print('->')\n",
    "        print(f'{pc:3}|', end='')\n",
    "        \n",
    "        for i in range(len(a)):\n",
    "            print(f'{a[i]:4}', end ='')\n",
    "        print('\\n    |')\n",
    "        \n",
    "if __name__ == '__main__':\n",
    "    num = int(input('원소의 수를 입력하세요'))\n",
    "    x = [None] * num\n",
    "    \n",
    "    print('배열 데이터를 오름차순으로 입력하세요.')\n",
    "    \n",
    "    x[0] = int(input('x[0]: '))\n",
    "    \n",
    "    for i in range(1, num):\n",
    "        while True:\n",
    "            x[i] = int(input(f'x[{i}] : '))\n",
    "            if x[i] >= x[i-1] :\n",
    "                break\n",
    "    ky =int(input('검색할 값을 입력하세요'))\n",
    "    \n",
    "    idx = bin_search(x,ky)\n",
    "    \n",
    "    if idx == -1:\n",
    "        print('검색값을 갖는 원소가 존재하지 않습니다. ')\n",
    "        \n",
    "    else:\n",
    "        print(f'검색값은 x[{idx}])에 있습니다.')\n",
    "\n",
    "        \n",
    "    "
   ]
  },
  {
   "cell_type": "code",
   "execution_count": null,
   "id": "8d5ac26f",
   "metadata": {
    "ExecuteTime": {
     "start_time": "2021-08-25T07:40:41.826Z"
    }
   },
   "outputs": [],
   "source": [
    "\n",
    "from typing import Any, Sequence\n",
    "\n",
    "\n",
    "def bin_search(a :Sequence, key :Any) -> int:\n",
    "    \n",
    "    pl = 0\n",
    "    pr = len(a)-1\n",
    "    \n",
    "    while True:\n",
    "        pc = (pl+ pr)//2 #중앙원소의 인덱스\n",
    "        \n",
    "        if a[pc] == key:\n",
    "            return pc\n",
    "        elif a[pc] < key:\n",
    "            pl = pc+1\n",
    "        else:\n",
    "            pr = pc -1\n",
    "            \n",
    "        if pl > pr:\n",
    "            break\n",
    "        return -1\n",
    "if __name__ == '__main__':\n",
    "    num = int(input('원소의 수를 입력하세요'))\n",
    "    x = [None] * num\n",
    "    \n",
    "    print('배열 데이터를 오름차순으로 입력하세요.')\n",
    "    \n",
    "    x[0] = int(input('x[0]: '))\n",
    "    \n",
    "    for i in range(1, num):\n",
    "        while True:\n",
    "            x[i] = int(input(f'x[{i}] : '))\n",
    "            if x[i] >= x[i-1]:\n",
    "                break\n",
    "    ky =int(input('검색할 값을 입력하세요'))\n",
    "    \n",
    "    idx = bin_search(x,ky)\n",
    "    \n",
    "    if idx == -1:\n",
    "        print('검색값을 갖는 원소가 존재하지 않습니다. ')\n",
    "        \n",
    "    else:\n",
    "        print(f'검색값은 x[{idx}])에 있습니다.')"
   ]
  },
  {
   "cell_type": "code",
   "execution_count": null,
   "id": "32d3ad2b",
   "metadata": {},
   "outputs": [],
   "source": []
  }
 ],
 "metadata": {
  "kernelspec": {
   "display_name": "Python 3",
   "language": "python",
   "name": "python3"
  },
  "toc": {
   "base_numbering": 1,
   "nav_menu": {},
   "number_sections": true,
   "sideBar": true,
   "skip_h1_title": false,
   "title_cell": "Table of Contents",
   "title_sidebar": "Contents",
   "toc_cell": false,
   "toc_position": {},
   "toc_section_display": true,
   "toc_window_display": false
  },
  "varInspector": {
   "cols": {
    "lenName": 16,
    "lenType": 16,
    "lenVar": 40
   },
   "kernels_config": {
    "python": {
     "delete_cmd_postfix": "",
     "delete_cmd_prefix": "del ",
     "library": "var_list.py",
     "varRefreshCmd": "print(var_dic_list())"
    },
    "r": {
     "delete_cmd_postfix": ") ",
     "delete_cmd_prefix": "rm(",
     "library": "var_list.r",
     "varRefreshCmd": "cat(var_dic_list()) "
    }
   },
   "types_to_exclude": [
    "module",
    "function",
    "builtin_function_or_method",
    "instance",
    "_Feature"
   ],
   "window_display": false
  }
 },
 "nbformat": 4,
 "nbformat_minor": 5
}
