{
 "cells": [
  {
   "cell_type": "code",
   "execution_count": null,
   "id": "88ce9209",
   "metadata": {
    "ExecuteTime": {
     "start_time": "2021-08-31T01:46:50.984Z"
    }
   },
   "outputs": [],
   "source": [
    "from typing import MutableSequence\n",
    "\n",
    "def bubble_sort(a : MutableSequence) ->None:\n",
    "    \"\"\"버블정렬\"\"\"\n",
    "    n = len(a)\n",
    "    for i in range(n-1):\n",
    "        for j in range(n-1, i, -1):\n",
    "            if  a[j-1] > a[j]:\n",
    "                a[j-1], a[j] = a[j], a[j-1]\n",
    "                \n",
    "if __name__ == '__main__':\n",
    "    print('버블 정렬을 수행합니다. ')\n",
    "    num = int(input('원소 수를 입력하세요. : '))\n",
    "    x = [None] * num\n",
    "    \n",
    "    for i in range(num):\n",
    "        x[i] = int(input(f'x[{i}] : '))\n",
    "    \n",
    "    bubble_sort_verbose(x)\n",
    "    \n",
    "    print('오름차순으로 정렬했습니다.')\n",
    "    for i in range(num):\n",
    "        print(f'x[{i}] = {x[i]}')"
   ]
  },
  {
   "cell_type": "code",
   "execution_count": 2,
   "id": "2452a082",
   "metadata": {
    "ExecuteTime": {
     "end_time": "2021-08-31T01:48:02.416002Z",
     "start_time": "2021-08-31T01:47:52.119173Z"
    }
   },
   "outputs": [
    {
     "name": "stdout",
     "output_type": "stream",
     "text": [
      "버블 정렬을 수행합니다. \n",
      "원소 수를 입력하세요. : 8\n",
      "x[0] : 2\n",
      "x[1] : 5\n",
      "x[2] : 6\n",
      "x[3] : 9\n",
      "x[4] : 10\n",
      "x[5] : 2\n",
      "x[6] : 7\n",
      "x[7] : 32\n",
      "패스1\n",
      " 2 5 6 910 2 732\n",
      "비교를 0번 했습니다.\n",
      "교환을 0번 했습니다.\n",
      " 2 5 6 910 2 732\n",
      "비교를 0번 했습니다.\n",
      "교환을 0번 했습니다.\n",
      " 2 5 6 910 2 732\n",
      "비교를 0번 했습니다.\n",
      "교환을 0번 했습니다.\n",
      " 2 5 6 910 2 732\n",
      "비교를 0번 했습니다.\n",
      "교환을 0번 했습니다.\n",
      " 2 5 6 910 2 732\n",
      "비교를 0번 했습니다.\n",
      "교환을 0번 했습니다.\n",
      " 2 5 6 910 2 732\n",
      "비교를 0번 했습니다.\n",
      "교환을 0번 했습니다.\n",
      " 2 5 6 910 2 732\n",
      "비교를 0번 했습니다.\n",
      "교환을 0번 했습니다.\n",
      "패스2\n",
      " 2 5 6 910 2 732\n",
      "비교를 0번 했습니다.\n",
      "교환을 0번 했습니다.\n",
      " 2 5 6 910 2 732\n",
      "비교를 0번 했습니다.\n",
      "교환을 0번 했습니다.\n",
      " 2 5 6 910 2 732\n",
      "비교를 0번 했습니다.\n",
      "교환을 0번 했습니다.\n",
      " 2 5 6 910 2 732\n",
      "비교를 0번 했습니다.\n",
      "교환을 0번 했습니다.\n",
      " 2 5 6 910 2 732\n",
      "비교를 0번 했습니다.\n",
      "교환을 0번 했습니다.\n",
      " 2 5 6 910 2 732\n",
      "비교를 0번 했습니다.\n",
      "교환을 0번 했습니다.\n",
      "패스3\n",
      " 2 5 6 910 2 732\n",
      "비교를 0번 했습니다.\n",
      "교환을 0번 했습니다.\n",
      " 2 5 6 910 2 732\n",
      "비교를 0번 했습니다.\n",
      "교환을 0번 했습니다.\n",
      " 2 5 6 910 2 732\n",
      "비교를 0번 했습니다.\n",
      "교환을 0번 했습니다.\n",
      " 2 5 6 910 2 732\n",
      "비교를 0번 했습니다.\n",
      "교환을 0번 했습니다.\n",
      " 2 5 6 910 2 732\n",
      "비교를 0번 했습니다.\n",
      "교환을 0번 했습니다.\n",
      "패스4\n",
      " 2 5 6 910 2 732\n",
      "비교를 0번 했습니다.\n",
      "교환을 0번 했습니다.\n",
      " 2 5 6 910 2 732\n",
      "비교를 0번 했습니다.\n",
      "교환을 0번 했습니다.\n",
      " 2 5 6 910 2 732\n",
      "비교를 0번 했습니다.\n",
      "교환을 0번 했습니다.\n",
      " 2 5 6 910 2 732\n",
      "비교를 0번 했습니다.\n",
      "교환을 0번 했습니다.\n",
      "패스5\n",
      " 2 5 6 910 2 732\n",
      "비교를 0번 했습니다.\n",
      "교환을 0번 했습니다.\n",
      " 2 5 6 910 2 732\n",
      "비교를 0번 했습니다.\n",
      "교환을 0번 했습니다.\n",
      " 2 5 6 910 2 732\n",
      "비교를 0번 했습니다.\n",
      "교환을 0번 했습니다.\n",
      "패스6\n",
      " 2 5 6 910 2 732\n",
      "비교를 0번 했습니다.\n",
      "교환을 0번 했습니다.\n",
      " 2 5 6 910 2 732\n",
      "비교를 0번 했습니다.\n",
      "교환을 0번 했습니다.\n",
      "패스7\n",
      " 2 5 6 910 2 732\n",
      "비교를 0번 했습니다.\n",
      "교환을 0번 했습니다.\n",
      "오름차순으로 정렬했습니다.\n",
      "x[0] = 2\n",
      "x[1] = 5\n",
      "x[2] = 6\n",
      "x[3] = 9\n",
      "x[4] = 10\n",
      "x[5] = 2\n",
      "x[6] = 7\n",
      "x[7] = 32\n"
     ]
    }
   ],
   "source": [
    "from typing import MutableSequence\n",
    "def bubble_sort_verbose(a : MutableSequence) ->None:\n",
    "    \n",
    "    ccnt = 0\n",
    "    scnt = 0\n",
    "    n = len(a)\n",
    "    for i in range(n-1):\n",
    "        print(f'패스{i+1}')\n",
    "        for j in range(n-1, i, -1):\n",
    "            for m in range(0, n, -1):\n",
    "                print(f'{a[m]:2}' + (' ' if m != j -1 else ' + 'if a[j-1] > a[j] else '-'), end='')\n",
    "                print(f'{a[n-1]:2}')\n",
    "                ccnt += 1\n",
    "                if a[j-1] > a[j]:\n",
    "                    scnt += 1\n",
    "                    a[j-1], a[j] = a[j], a[j-1]\n",
    "            for m in range(0, n-1):\n",
    "                print(f'{a[m]:2}', end = '')\n",
    "            print(f'{a[n-1]:2}')\n",
    "            print(f'비교를 {ccnt}번 했습니다.')\n",
    "            print(f'교환을 {scnt}번 했습니다.')\n",
    "            \n",
    "if __name__ == '__main__':\n",
    "    print('버블 정렬을 수행합니다. ')\n",
    "    num = int(input('원소 수를 입력하세요. : '))\n",
    "    x = [None] * num\n",
    "    \n",
    "    for i in range(num):\n",
    "        x[i] = int(input(f'x[{i}] : '))\n",
    "    \n",
    "    bubble_sort_verbose(x)\n",
    "    \n",
    "    print('오름차순으로 정렬했습니다.')\n",
    "    for i in range(num):\n",
    "        print(f'x[{i}] = {x[i]}')"
   ]
  },
  {
   "cell_type": "code",
   "execution_count": 6,
   "id": "19d9e0d7",
   "metadata": {
    "ExecuteTime": {
     "end_time": "2021-08-31T01:53:42.554011Z",
     "start_time": "2021-08-31T01:53:33.957678Z"
    }
   },
   "outputs": [
    {
     "name": "stdout",
     "output_type": "stream",
     "text": [
      "버블 정렬을 수행합니다. \n",
      "원소 수를 입력하세요. : 5\n",
      "x[0] : 10\n",
      "x[1] : 4\n",
      "x[2] : 23\n",
      "x[3] : 2\n",
      "x[4] : 5\n",
      "오름차순으로 정렬했습니다.\n",
      "x[0] = 2\n",
      "x[1] = 4\n",
      "x[2] = 5\n",
      "x[3] = 10\n",
      "x[4] = 23\n"
     ]
    }
   ],
   "source": [
    "from typing import MutableSequence\n",
    "\n",
    "def bubble_sort(a : MutableSequence)->None:\n",
    "    n = len(a)\n",
    "    for i in range(n-1):\n",
    "        exchng = 0\n",
    "        for j in range(n-1, i, -1):\n",
    "            if a[j-1] > a[j]:\n",
    "                a[j-1], a[j] = a[j], a[j-1]\n",
    "                exchng += 1\n",
    "        if exchng == 0:\n",
    "            break\n",
    "            \n",
    "if __name__ == '__main__':\n",
    "    print('버블 정렬을 수행합니다. ')\n",
    "    num = int(input('원소 수를 입력하세요. : '))\n",
    "    x = [None] * num\n",
    "    \n",
    "    for i in range(num):\n",
    "        x[i] = int(input(f'x[{i}] : '))\n",
    "    \n",
    "    bubble_sort(x)\n",
    "    \n",
    "    print('오름차순으로 정렬했습니다.')\n",
    "    for i in range(num):\n",
    "        print(f'x[{i}] = {x[i]}')"
   ]
  },
  {
   "cell_type": "code",
   "execution_count": 9,
   "id": "b176e81d",
   "metadata": {
    "ExecuteTime": {
     "end_time": "2021-08-31T01:58:30.959174Z",
     "start_time": "2021-08-31T01:58:30.953488Z"
    }
   },
   "outputs": [],
   "source": [
    "from typing import MutableSequence\n",
    "\n",
    "def bubble_sort(a : MutableSequence) ->None:\n",
    "    n = len(a)\n",
    "    k = 0\n",
    "    while k < n-1:\n",
    "        last = n-1\n",
    "        for j in range(n-1, k-1):\n",
    "            if a[j-1] > a[j]:\n",
    "                a[j-1], a[j] = a[j], a[j-1]\n",
    "                last = j\n",
    "        k = last"
   ]
  },
  {
   "cell_type": "code",
   "execution_count": 16,
   "id": "53c0b430",
   "metadata": {
    "ExecuteTime": {
     "end_time": "2021-08-31T02:59:33.138703Z",
     "start_time": "2021-08-31T02:59:26.114427Z"
    }
   },
   "outputs": [
    {
     "name": "stdout",
     "output_type": "stream",
     "text": [
      "셰이컼 정렬을 수행합니다. \n",
      "원소 수를 입력하세요. : 7\n",
      "x[0] : 9\n",
      "x[1] : 1\n",
      "x[2] : 3\n",
      "x[3] : 4\n",
      "x[4] : 6\n",
      "x[5] : 7\n",
      "x[6] : 8\n",
      "오름차순으로 정렬했습니다.\n",
      "x[0] = 1\n",
      "x[1] = 3\n",
      "x[2] = 4\n",
      "x[3] = 6\n",
      "x[4] = 7\n",
      "x[5] = 8\n",
      "x[6] = 9\n"
     ]
    }
   ],
   "source": [
    "if __name__ == '__main__':\n",
    "    print('셰이컼 정렬을 수행합니다. ')\n",
    "    num = int(input('원소 수를 입력하세요. : '))\n",
    "    x = [None] * num\n",
    "    \n",
    "    for i in range(num):\n",
    "        x[i] = int(input(f'x[{i}] : '))\n",
    "    \n",
    "    shaker_sort(x)\n",
    "    \n",
    "    print('오름차순으로 정렬했습니다.')\n",
    "    for i in range(num):\n",
    "        print(f'x[{i}] = {x[i]}')"
   ]
  },
  {
   "cell_type": "code",
   "execution_count": 15,
   "id": "4956204f",
   "metadata": {
    "ExecuteTime": {
     "end_time": "2021-08-31T02:59:21.548599Z",
     "start_time": "2021-08-31T02:59:21.542208Z"
    }
   },
   "outputs": [],
   "source": [
    "from typing import MutableSequence\n",
    "\n",
    "def shaker_sort(a : MutableSequence)->None:\n",
    "    left = 0\n",
    "    right = len(a) - 1\n",
    "    last = right\n",
    "    while left < right :\n",
    "        for j in range(right, left, -1):\n",
    "            if a[j - 1] >a[j]:\n",
    "                a[j-1], a[j] = a[j], a[j-1]\n",
    "                last = j\n",
    "        left = last\n",
    "        \n",
    "        for j in range(left, right):\n",
    "            if a[j] > a[j+1]:\n",
    "                a[j], a[j+1] = a[j+1], a[j]\n",
    "                last = j\n",
    "            right = last\n",
    "        "
   ]
  },
  {
   "cell_type": "code",
   "execution_count": 2,
   "id": "f60e06e9",
   "metadata": {
    "ExecuteTime": {
     "end_time": "2021-09-01T00:50:38.089782Z",
     "start_time": "2021-09-01T00:50:38.083396Z"
    }
   },
   "outputs": [],
   "source": [
    "from typing import MutableSequence\n",
    "\n",
    "def selection_sort(a : MutableSequence) ->None:\n",
    "    n = lena(a)\n",
    "    for i in range(n-1):\n",
    "        min = i\n",
    "        for j in range(i+1, n):\n",
    "            if a[j] < a[min]:\n",
    "                min = j\n",
    "        a[i], a[min] = a[min], a[i]"
   ]
  },
  {
   "cell_type": "code",
   "execution_count": null,
   "id": "ad720ac1",
   "metadata": {},
   "outputs": [],
   "source": []
  }
 ],
 "metadata": {
  "kernelspec": {
   "display_name": "Python 3",
   "language": "python",
   "name": "python3"
  },
  "language_info": {
   "codemirror_mode": {
    "name": "ipython",
    "version": 3
   },
   "file_extension": ".py",
   "mimetype": "text/x-python",
   "name": "python",
   "nbconvert_exporter": "python",
   "pygments_lexer": "ipython3",
   "version": "3.8.8"
  },
  "toc": {
   "base_numbering": 1,
   "nav_menu": {},
   "number_sections": true,
   "sideBar": true,
   "skip_h1_title": false,
   "title_cell": "Table of Contents",
   "title_sidebar": "Contents",
   "toc_cell": false,
   "toc_position": {},
   "toc_section_display": true,
   "toc_window_display": false
  },
  "varInspector": {
   "cols": {
    "lenName": 16,
    "lenType": 16,
    "lenVar": 40
   },
   "kernels_config": {
    "python": {
     "delete_cmd_postfix": "",
     "delete_cmd_prefix": "del ",
     "library": "var_list.py",
     "varRefreshCmd": "print(var_dic_list())"
    },
    "r": {
     "delete_cmd_postfix": ") ",
     "delete_cmd_prefix": "rm(",
     "library": "var_list.r",
     "varRefreshCmd": "cat(var_dic_list()) "
    }
   },
   "types_to_exclude": [
    "module",
    "function",
    "builtin_function_or_method",
    "instance",
    "_Feature"
   ],
   "window_display": false
  }
 },
 "nbformat": 4,
 "nbformat_minor": 5
}
