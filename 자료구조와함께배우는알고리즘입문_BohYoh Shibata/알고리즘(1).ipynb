{
 "cells": [
  {
   "cell_type": "markdown",
   "id": "b8977197",
   "metadata": {},
   "source": [
    "# 실습 1-1\n",
    "### 세 정수를 입력받아 최댓값 구하기"
   ]
  },
  {
   "cell_type": "code",
   "execution_count": 1,
   "id": "d9e2d2e5",
   "metadata": {
    "ExecuteTime": {
     "end_time": "2021-08-23T09:56:05.946904Z",
     "start_time": "2021-08-23T09:55:59.926932Z"
    }
   },
   "outputs": [
    {
     "name": "stdout",
     "output_type": "stream",
     "text": [
      "세 정수를 입력하세요.\n",
      "정수의 a의 값을 입력하세요.1\n",
      "정수의 b의 값을 입력하세요.4\n",
      "정수의 c의 값을 입력하세요.0\n",
      "최댓값은 4입니다.\n"
     ]
    }
   ],
   "source": [
    "print(\"세 정수를 입력하세요.\")\n",
    "\n",
    "a = int(input('정수의 a의 값을 입력하세요.'))\n",
    "b = int(input('정수의 b의 값을 입력하세요.'))\n",
    "c = int(input('정수의 c의 값을 입력하세요.'))\n",
    "\n",
    "maximum = a\n",
    "if b > maximum : maximum = b\n",
    "if c > maximum : maximum = c\n",
    "    \n",
    "print(f'최댓값은 {maximum}입니다.')"
   ]
  },
  {
   "cell_type": "code",
   "execution_count": 2,
   "id": "732cc10b",
   "metadata": {
    "ExecuteTime": {
     "end_time": "2021-08-23T10:00:14.739043Z",
     "start_time": "2021-08-23T10:00:14.733323Z"
    }
   },
   "outputs": [
    {
     "name": "stdout",
     "output_type": "stream",
     "text": [
      "max3(3, 2, 1) = 3\n"
     ]
    }
   ],
   "source": [
    "def max3(a, b, c):\n",
    "    maximum = a\n",
    "    if b > maximum : maximum = b\n",
    "    if c > maximum : maximum = c\n",
    "    return maximum\n",
    "\n",
    "print(f'max3(3, 2, 1) = {max(3,2,1)}')"
   ]
  },
  {
   "cell_type": "code",
   "execution_count": 6,
   "id": "ed59cbd3",
   "metadata": {
    "ExecuteTime": {
     "end_time": "2021-08-23T10:07:00.232256Z",
     "start_time": "2021-08-23T10:06:58.154601Z"
    }
   },
   "outputs": [
    {
     "name": "stdout",
     "output_type": "stream",
     "text": [
      "세 정수의 중앙값을 구합니다. \n",
      "a의 값을 입력하세요.4\n",
      "b의 값을 입력하세요.6\n",
      "c의 값을 입력하세요.3\n",
      "중앙값은 4입니다.\n"
     ]
    }
   ],
   "source": [
    "def med3(a, b, c):\n",
    "    if a >= b:\n",
    "        if b>= c:\n",
    "            return b\n",
    "        elif a <= c:\n",
    "            return a\n",
    "        else :\n",
    "            return c\n",
    "    elif a > c:\n",
    "        return a\n",
    "    elif b > c :\n",
    "        return c\n",
    "    else:\n",
    "        return b\n",
    "    \n",
    "print('세 정수의 중앙값을 구합니다. ')\n",
    "a = int(input('a의 값을 입력하세요.'))\n",
    "b = int(input('b의 값을 입력하세요.'))\n",
    "c = int(input('c의 값을 입력하세요.'))\n",
    "\n",
    "print(f'중앙값은 {med3(a,b,c)}입니다.')"
   ]
  },
  {
   "cell_type": "code",
   "execution_count": 8,
   "id": "dc12ee1b",
   "metadata": {
    "ExecuteTime": {
     "end_time": "2021-08-23T10:08:06.659379Z",
     "start_time": "2021-08-23T10:08:06.654951Z"
    }
   },
   "outputs": [],
   "source": [
    "def med3(a, b, c):\n",
    "    if(b >= a and c <= a) or(b <=a and c>=a):\n",
    "        return a\n",
    "    elif(a>b and c<b) or (a<b and c>b):\n",
    "        return b\n",
    "    return c"
   ]
  },
  {
   "cell_type": "code",
   "execution_count": 10,
   "id": "b75c3c73",
   "metadata": {
    "ExecuteTime": {
     "end_time": "2021-08-23T10:09:53.988286Z",
     "start_time": "2021-08-23T10:09:52.663855Z"
    }
   },
   "outputs": [
    {
     "name": "stdout",
     "output_type": "stream",
     "text": [
      "정수를 입력하세요. : 0\n",
      "이 수는 0입니다,\n"
     ]
    }
   ],
   "source": [
    "n = int(input('정수를 입력하세요. : '))\n",
    "\n",
    "if n >0:\n",
    "    print('이 수는 양수입니다 ')\n",
    "elif n < 0:\n",
    "    print('이 수는 음수입니다 ')\n",
    "else : \n",
    "    print('이 수는 0입니다,')"
   ]
  },
  {
   "cell_type": "code",
   "execution_count": 11,
   "id": "b287a668",
   "metadata": {
    "ExecuteTime": {
     "end_time": "2021-08-23T10:10:56.727258Z",
     "start_time": "2021-08-23T10:10:55.221177Z"
    }
   },
   "outputs": [
    {
     "name": "stdout",
     "output_type": "stream",
     "text": [
      "정수를 입력하세요. : 8\n",
      "C\n"
     ]
    }
   ],
   "source": [
    "n = int(input('정수를 입력하세요. : '))\n",
    "\n",
    "if n == 1:\n",
    "    print('A')\n",
    "elif n == 2 :\n",
    "    print('B')\n",
    "else:\n",
    "    print('C')"
   ]
  },
  {
   "cell_type": "code",
   "execution_count": 1,
   "id": "3aefae78",
   "metadata": {
    "ExecuteTime": {
     "end_time": "2021-08-23T10:14:36.854881Z",
     "start_time": "2021-08-23T10:14:32.869723Z"
    }
   },
   "outputs": [
    {
     "name": "stdout",
     "output_type": "stream",
     "text": [
      "1부터 n 까지 정수의 합을 구합니다. \n",
      "n의 값을 입력하세요.10\n",
      "1부터 10까지 정수의 합은  55 입니다.\n"
     ]
    }
   ],
   "source": [
    "print('1부터 n 까지 정수의 합을 구합니다. ')\n",
    "n = int(input('n의 값을 입력하세요.'))\n",
    "\n",
    "sum = 0\n",
    "i = 1\n",
    "\n",
    "while i <= n:\n",
    "    sum += i \n",
    "    i += 1\n",
    "\n",
    "print(f'1부터 {n}까지 정수의 합은  {sum} 입니다.')"
   ]
  },
  {
   "cell_type": "code",
   "execution_count": 2,
   "id": "fc821d85",
   "metadata": {
    "ExecuteTime": {
     "end_time": "2021-08-23T10:15:45.267024Z",
     "start_time": "2021-08-23T10:15:43.672846Z"
    }
   },
   "outputs": [
    {
     "name": "stdout",
     "output_type": "stream",
     "text": [
      "1부터 n 까지 정수의 합을 구합니다. \n",
      "n의 값을 입력하세요.10\n",
      "1부터 10까지 정수의 합은  55 입니다.\n"
     ]
    }
   ],
   "source": [
    "print('1부터 n 까지 정수의 합을 구합니다. ')\n",
    "n = int(input('n의 값을 입력하세요.'))\n",
    "\n",
    "sum = 0\n",
    "\n",
    "for i in range(1, n+1):\n",
    "    sum += i\n",
    "\n",
    "print(f'1부터 {n}까지 정수의 합은  {sum} 입니다.')"
   ]
  },
  {
   "cell_type": "code",
   "execution_count": 3,
   "id": "33b58d38",
   "metadata": {
    "ExecuteTime": {
     "end_time": "2021-08-23T10:17:53.720535Z",
     "start_time": "2021-08-23T10:17:50.889146Z"
    }
   },
   "outputs": [
    {
     "name": "stdout",
     "output_type": "stream",
     "text": [
      "a부터 b까지 정수의 합을 구합니다.\n",
      "정수 a를 입력하세요. 9\n",
      "정수 b를 입력하세요. 6\n",
      "6부터  9까지 정수의 합은 30입니다.\n"
     ]
    }
   ],
   "source": [
    "print('a부터 b까지 정수의 합을 구합니다.')\n",
    "a = int(input('정수 a를 입력하세요. '))\n",
    "b = int(input('정수 b를 입력하세요. '))\n",
    "\n",
    "if a > b:\n",
    "    a, b = b, a\n",
    "    \n",
    "sum = 0\n",
    "\n",
    "for i in range(a, b+1):\n",
    "    sum += i\n",
    "    \n",
    "print(f'{a}부터  {b}까지 정수의 합은 {sum}입니다.')"
   ]
  },
  {
   "cell_type": "code",
   "execution_count": 5,
   "id": "864cfe6e",
   "metadata": {
    "ExecuteTime": {
     "end_time": "2021-08-23T10:20:32.912324Z",
     "start_time": "2021-08-23T10:20:30.924024Z"
    }
   },
   "outputs": [
    {
     "name": "stdout",
     "output_type": "stream",
     "text": [
      "a부터 b까지 정수의 합을 구합니다.\n",
      "정수 a를 입력하세요. 8\n",
      "정수 b를 입력하세요. 5\n",
      "5 + 6 + 7 + 8 = 26\n"
     ]
    }
   ],
   "source": [
    "print('a부터 b까지 정수의 합을 구합니다.')\n",
    "a = int(input('정수 a를 입력하세요. '))\n",
    "b = int(input('정수 b를 입력하세요. '))\n",
    "\n",
    "if a > b:\n",
    "    a, b = b, a\n",
    "    \n",
    "sum = 0\n",
    "\n",
    "for i in range(a, b+1):\n",
    "    if i < b:\n",
    "        print(f'{i} + ', end='')\n",
    "    else:\n",
    "         print(f'{i} = ', end='')\n",
    "            \n",
    "    sum +=i\n",
    "    \n",
    "print(sum)\n",
    "        "
   ]
  },
  {
   "cell_type": "code",
   "execution_count": 7,
   "id": "d71f00ad",
   "metadata": {
    "ExecuteTime": {
     "end_time": "2021-08-23T10:23:46.938718Z",
     "start_time": "2021-08-23T10:23:45.459933Z"
    }
   },
   "outputs": [
    {
     "name": "stdout",
     "output_type": "stream",
     "text": [
      "+와 -를 번갈아 출력합니다. \n",
      "몇개를 출력할까요? : 9\n",
      "-+-+-+-+-\n"
     ]
    }
   ],
   "source": [
    "print('+와 -를 번갈아 출력합니다. ')\n",
    "n = int(input('몇개를 출력할까요? : '))\n",
    "\n",
    "for i in range(1,n+1):\n",
    "    if i%2:\n",
    "        print('-', end='')\n",
    "    else :\n",
    "        print('+', end='')\n",
    "print()"
   ]
  },
  {
   "cell_type": "code",
   "execution_count": 8,
   "id": "03c72a45",
   "metadata": {
    "ExecuteTime": {
     "end_time": "2021-08-23T10:24:34.952225Z",
     "start_time": "2021-08-23T10:24:33.033432Z"
    }
   },
   "outputs": [
    {
     "name": "stdout",
     "output_type": "stream",
     "text": [
      "+와 -를 번갈아 출력합니다. \n",
      "몇개를 출력할까요? : 8\n",
      "+-+-+-+-\n"
     ]
    }
   ],
   "source": [
    "print('+와 -를 번갈아 출력합니다. ')\n",
    "n = int(input('몇개를 출력할까요? : '))\n",
    "\n",
    "for _ in range(n//2):\n",
    "    print('+-', end='')\n",
    "if n%2:\n",
    "    print('+', end='')\n",
    "print()"
   ]
  },
  {
   "cell_type": "code",
   "execution_count": 9,
   "id": "bfaa9063",
   "metadata": {
    "ExecuteTime": {
     "end_time": "2021-08-23T10:28:38.701406Z",
     "start_time": "2021-08-23T10:28:35.068025Z"
    }
   },
   "outputs": [
    {
     "name": "stdout",
     "output_type": "stream",
     "text": [
      "*를 출력합니다.\n",
      "몇 개를 출력할까요? : 9\n",
      "몇 개 마다 줄바꿈할까요? : 3\n",
      "***\n",
      "***\n",
      "***\n"
     ]
    }
   ],
   "source": [
    "print('*를 출력합니다.')\n",
    "n = int(input(\"몇 개를 출력할까요? : \"))\n",
    "w = int(input(\"몇 개 마다 줄바꿈할까요? : \"))\n",
    "\n",
    "for i in range(n):\n",
    "    print('*', end='')\n",
    "    if i % w == w -1:\n",
    "        print()\n",
    "        \n",
    "if n % w : \n",
    "    print()"
   ]
  },
  {
   "cell_type": "code",
   "execution_count": 10,
   "id": "74820e0c",
   "metadata": {
    "ExecuteTime": {
     "end_time": "2021-08-23T10:36:28.848783Z",
     "start_time": "2021-08-23T10:36:23.873301Z"
    }
   },
   "outputs": [
    {
     "name": "stdout",
     "output_type": "stream",
     "text": [
      "*를 출력합니다.\n",
      "몇 개를 출력할까요? : 7\n",
      "몇 개 마다 줄바꿈할까요? : 2\n",
      "**\n",
      "**\n",
      "**\n",
      "*\n"
     ]
    }
   ],
   "source": [
    "print('*를 출력합니다.')\n",
    "n = int(input(\"몇 개를 출력할까요? : \"))\n",
    "w = int(input(\"몇 개 마다 줄바꿈할까요? : \"))\n",
    "\n",
    "for _ in range(n//w):\n",
    "    print('*' * w)\n",
    "    \n",
    "rest = n%w\n",
    "\n",
    "if rest:\n",
    "    print('*' * rest)"
   ]
  },
  {
   "cell_type": "code",
   "execution_count": 11,
   "id": "09a7d4f2",
   "metadata": {
    "ExecuteTime": {
     "end_time": "2021-08-23T10:39:59.792827Z",
     "start_time": "2021-08-23T10:39:47.754364Z"
    }
   },
   "outputs": [
    {
     "name": "stdout",
     "output_type": "stream",
     "text": [
      "1부터 n까지 정수의 합을 구합니다. \n",
      "n값을 입력하세요. :-4\n",
      "n값을 입력하세요. :8\n",
      "1부터 8까지 정수의 합은 36입니다.\n"
     ]
    }
   ],
   "source": [
    "#1부터 -5까지 정수의 합은 0 입니다. \n",
    "\n",
    "\n",
    "print('1부터 n까지 정수의 합을 구합니다. ')\n",
    "\n",
    "while True:\n",
    "    n = int(input('n값을 입력하세요. :'))\n",
    "    if n >0:\n",
    "        break\n",
    "        \n",
    "sum = 0\n",
    "i = 1\n",
    "\n",
    "for i in range(1, n+1):\n",
    "    sum += i\n",
    "    i +=1\n",
    "    \n",
    "print(f'1부터 {n}까지 정수의 합은 {sum}입니다.')"
   ]
  },
  {
   "cell_type": "code",
   "execution_count": 14,
   "id": "5e1b33af",
   "metadata": {
    "ExecuteTime": {
     "end_time": "2021-08-23T10:42:16.487504Z",
     "start_time": "2021-08-23T10:42:15.100861Z"
    }
   },
   "outputs": [
    {
     "name": "stdout",
     "output_type": "stream",
     "text": [
      "직사각형의 넓이를 입력하세요.: 81\n",
      "1 X 81\n",
      "3 X 27\n",
      "9 X 9\n"
     ]
    }
   ],
   "source": [
    "area = int(input(\"직사각형의 넓이를 입력하세요.: \"))\n",
    "\n",
    "for i in range(1, area+1):\n",
    "    if i*i > area :\n",
    "        break\n",
    "        \n",
    "    if area % i :  continue\n",
    "    print(f'{i} X {area//i}')"
   ]
  },
  {
   "cell_type": "code",
   "execution_count": 16,
   "id": "546b05ff",
   "metadata": {
    "ExecuteTime": {
     "end_time": "2021-08-23T10:44:43.257861Z",
     "start_time": "2021-08-23T10:44:42.211409Z"
    }
   },
   "outputs": [
    {
     "name": "stdout",
     "output_type": "stream",
     "text": [
      "난수의 개수를 입력하세요.7\n",
      "36 40 44 26 11 44 81 \n",
      " 난수 생성을 종료합니다.\n"
     ]
    }
   ],
   "source": [
    "import random\n",
    "\n",
    "n = int(input('난수의 개수를 입력하세요.'))\n",
    "\n",
    "for _ in range(n):\n",
    "    r = random.randint(10,99)\n",
    "    print(r, end=' ')\n",
    "    \n",
    "    if r == 13:\n",
    "        print('\\n프로그램을 중단합니다.')\n",
    "        break\n",
    "else:\n",
    "    print('\\n 난수 생성을 종료합니다.')"
   ]
  },
  {
   "cell_type": "code",
   "execution_count": 17,
   "id": "e47b906d",
   "metadata": {
    "ExecuteTime": {
     "end_time": "2021-08-23T10:45:28.847134Z",
     "start_time": "2021-08-23T10:45:28.841939Z"
    }
   },
   "outputs": [
    {
     "name": "stdout",
     "output_type": "stream",
     "text": [
      "1 2 3 4 5 6 7 9 10 11 12 \n"
     ]
    }
   ],
   "source": [
    "for i in range(1, 13) : \n",
    "    if i == 8:\n",
    "        continue\n",
    "    print(i, end=' ')\n",
    "    \n",
    "print()"
   ]
  },
  {
   "cell_type": "code",
   "execution_count": 18,
   "id": "44cbed23",
   "metadata": {
    "ExecuteTime": {
     "end_time": "2021-08-23T10:46:20.085714Z",
     "start_time": "2021-08-23T10:46:20.079999Z"
    }
   },
   "outputs": [
    {
     "name": "stdout",
     "output_type": "stream",
     "text": [
      "1 2 3 4 5 6 7 9 10 11 12 \n"
     ]
    }
   ],
   "source": [
    "for i in list(range(1,8)) + list(range(9, 13)):\n",
    "    print(i, end=' ')\n",
    "print()"
   ]
  },
  {
   "cell_type": "code",
   "execution_count": 19,
   "id": "f86b94bc",
   "metadata": {
    "ExecuteTime": {
     "end_time": "2021-08-23T10:47:32.917252Z",
     "start_time": "2021-08-23T10:47:30.647956Z"
    }
   },
   "outputs": [
    {
     "name": "stdout",
     "output_type": "stream",
     "text": [
      "두 자리 양수를 입력하세요.\n",
      "값을 입력하세요 : 89\n",
      "입력받은 양수는 89입니다.\n"
     ]
    }
   ],
   "source": [
    "print('두 자리 양수를 입력하세요.')\n",
    "\n",
    "while True:\n",
    "    no = int(input('값을 입력하세요 : '))\n",
    "    if no >= 10 and no <= 99:\n",
    "        break\n",
    "print(f'입력받은 양수는 {no}입니다.')"
   ]
  },
  {
   "cell_type": "code",
   "execution_count": 20,
   "id": "685fe593",
   "metadata": {
    "ExecuteTime": {
     "end_time": "2021-08-23T10:49:33.277828Z",
     "start_time": "2021-08-23T10:49:33.269669Z"
    }
   },
   "outputs": [
    {
     "name": "stdout",
     "output_type": "stream",
     "text": [
      "---------------------------\n",
      "  1  2  3  4  5  6  7  8  9\n",
      "  2  4  6  8 10 12 14 16 18\n",
      "  3  6  9 12 15 18 21 24 27\n",
      "  4  8 12 16 20 24 28 32 36\n",
      "  5 10 15 20 25 30 35 40 45\n",
      "  6 12 18 24 30 36 42 48 54\n",
      "  7 14 21 28 35 42 49 56 63\n",
      "  8 16 24 32 40 48 56 64 72\n",
      "  9 18 27 36 45 54 63 72 81\n",
      "---------------------------\n"
     ]
    }
   ],
   "source": [
    "print('-' * 27)\n",
    "\n",
    "for i in range(1,10):\n",
    "    for j in range(1,10):\n",
    "        print(f'{i * j:3}', end = '')\n",
    "    print()\n",
    "    \n",
    "print('-' * 27)"
   ]
  },
  {
   "cell_type": "code",
   "execution_count": 21,
   "id": "3299117e",
   "metadata": {
    "ExecuteTime": {
     "end_time": "2021-08-23T10:50:57.826280Z",
     "start_time": "2021-08-23T10:50:52.964063Z"
    }
   },
   "outputs": [
    {
     "name": "stdout",
     "output_type": "stream",
     "text": [
      "왼쪽 아래가 직각인 이등변 삼각형을 출력합니다. \n",
      "짧은 변의 길이를 입력하세요 : 4\n",
      "*\n",
      "**\n",
      "***\n",
      "****\n"
     ]
    }
   ],
   "source": [
    "print('왼쪽 아래가 직각인 이등변 삼각형을 출력합니다. ')\n",
    "n =  int(input('짧은 변의 길이를 입력하세요 : '))\n",
    "\n",
    "for i in range(n):\n",
    "    for j in range(i+1):\n",
    "        print('*', end='')\n",
    "    print()"
   ]
  },
  {
   "cell_type": "code",
   "execution_count": 22,
   "id": "a88da01e",
   "metadata": {
    "ExecuteTime": {
     "end_time": "2021-08-23T10:52:52.106681Z",
     "start_time": "2021-08-23T10:52:50.135227Z"
    }
   },
   "outputs": [
    {
     "name": "stdout",
     "output_type": "stream",
     "text": [
      "왼쪽 아래가 직각인 이등변 삼각형을 출력합니다. \n",
      "짧은 변의 길이를 입력하세요 : 4\n",
      "   *\n",
      "  **\n",
      " ***\n",
      "****\n"
     ]
    }
   ],
   "source": [
    "print('왼쪽 아래가 직각인 이등변 삼각형을 출력합니다. ')\n",
    "n =  int(input('짧은 변의 길이를 입력하세요 : '))\n",
    "\n",
    "for i in range(n):\n",
    "    for _ in range(n-i-1):\n",
    "        print(' ', end='')\n",
    "    for _ in range(i+1):\n",
    "        print('*', end = '')\n",
    "    print()"
   ]
  },
  {
   "cell_type": "code",
   "execution_count": 23,
   "id": "7c8c1e2a",
   "metadata": {
    "ExecuteTime": {
     "end_time": "2021-08-23T10:54:47.981061Z",
     "start_time": "2021-08-23T10:54:47.976780Z"
    }
   },
   "outputs": [
    {
     "name": "stdout",
     "output_type": "stream",
     "text": [
      "id(1) = 4329417056\n",
      "id(n) = 4329417056\n",
      "id(x) = 4329417056\n"
     ]
    }
   ],
   "source": [
    "n = 1\n",
    "def put_id():\n",
    "    x = 1\n",
    "    print(f'id(x) = {id(x)}')\n",
    "    \n",
    "print(f'id(1) = {id(1)}')\n",
    "print(f'id(n) = {id(n)}')\n",
    "\n",
    "put_id()"
   ]
  },
  {
   "cell_type": "code",
   "execution_count": null,
   "id": "d7959489",
   "metadata": {},
   "outputs": [],
   "source": []
  }
 ],
 "metadata": {
  "kernelspec": {
   "display_name": "Python 3",
   "language": "python",
   "name": "python3"
  },
  "toc": {
   "base_numbering": 1,
   "nav_menu": {},
   "number_sections": true,
   "sideBar": true,
   "skip_h1_title": false,
   "title_cell": "Table of Contents",
   "title_sidebar": "Contents",
   "toc_cell": false,
   "toc_position": {},
   "toc_section_display": true,
   "toc_window_display": false
  },
  "varInspector": {
   "cols": {
    "lenName": 16,
    "lenType": 16,
    "lenVar": 40
   },
   "kernels_config": {
    "python": {
     "delete_cmd_postfix": "",
     "delete_cmd_prefix": "del ",
     "library": "var_list.py",
     "varRefreshCmd": "print(var_dic_list())"
    },
    "r": {
     "delete_cmd_postfix": ") ",
     "delete_cmd_prefix": "rm(",
     "library": "var_list.r",
     "varRefreshCmd": "cat(var_dic_list()) "
    }
   },
   "types_to_exclude": [
    "module",
    "function",
    "builtin_function_or_method",
    "instance",
    "_Feature"
   ],
   "window_display": false
  }
 },
 "nbformat": 4,
 "nbformat_minor": 5
}
