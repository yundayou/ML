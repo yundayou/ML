{
 "cells": [
  {
   "cell_type": "code",
   "execution_count": 1,
   "id": "623404c3",
   "metadata": {
    "ExecuteTime": {
     "end_time": "2021-08-24T00:57:04.841926Z",
     "start_time": "2021-08-24T00:56:55.363097Z"
    }
   },
   "outputs": [
    {
     "name": "stdout",
     "output_type": "stream",
     "text": [
      "학생 그룹의 점수의 합계와 평균을 구합니다.\n",
      "1번 학생의 점수를 입력하세요.90\n",
      "2번 학생의 점수를 입력하세요.50\n",
      "3번 학생의 점수를 입력하세요.60\n",
      "4번 학생의 점수를 입력하세요.70\n",
      "5번 학생의 점수를 입력하세요.45\n",
      "합계는 315입니다\n",
      "평균은 63.0입니다.\n"
     ]
    }
   ],
   "source": [
    "print('학생 그룹의 점수의 합계와 평균을 구합니다.')\n",
    "\n",
    "score1 = int(input(\"1번 학생의 점수를 입력하세요.\"))\n",
    "score2 = int(input(\"2번 학생의 점수를 입력하세요.\"))\n",
    "score3 = int(input(\"3번 학생의 점수를 입력하세요.\"))\n",
    "score4 = int(input(\"4번 학생의 점수를 입력하세요.\"))\n",
    "score5 = int(input(\"5번 학생의 점수를 입력하세요.\"))\n",
    "\n",
    "total = 0\n",
    "\n",
    "total += score1\n",
    "total += score2\n",
    "total += score3\n",
    "total += score4\n",
    "total += score5\n",
    "\n",
    "print(f'합계는 {total}입니다')\n",
    "print(f'평균은 {total/5}입니다.')"
   ]
  },
  {
   "cell_type": "code",
   "execution_count": 2,
   "id": "b38d145f",
   "metadata": {
    "ExecuteTime": {
     "end_time": "2021-08-24T03:36:32.147031Z",
     "start_time": "2021-08-24T03:36:32.144352Z"
    }
   },
   "outputs": [],
   "source": [
    "list01 = []"
   ]
  },
  {
   "cell_type": "code",
   "execution_count": 3,
   "id": "01c7faeb",
   "metadata": {
    "ExecuteTime": {
     "end_time": "2021-08-24T03:36:37.785463Z",
     "start_time": "2021-08-24T03:36:37.782312Z"
    }
   },
   "outputs": [],
   "source": [
    "list02 = [1,2,3]"
   ]
  },
  {
   "cell_type": "code",
   "execution_count": 4,
   "id": "d4f70bda",
   "metadata": {
    "ExecuteTime": {
     "end_time": "2021-08-24T03:36:48.050344Z",
     "start_time": "2021-08-24T03:36:48.047482Z"
    }
   },
   "outputs": [],
   "source": [
    "list03 = ['A', 'B', 'C']"
   ]
  },
  {
   "cell_type": "code",
   "execution_count": 5,
   "id": "25811652",
   "metadata": {
    "ExecuteTime": {
     "end_time": "2021-08-24T03:37:09.287885Z",
     "start_time": "2021-08-24T03:37:09.284481Z"
    }
   },
   "outputs": [],
   "source": [
    "list04 = list()"
   ]
  },
  {
   "cell_type": "code",
   "execution_count": 6,
   "id": "e9a51648",
   "metadata": {
    "ExecuteTime": {
     "end_time": "2021-08-24T03:37:20.459208Z",
     "start_time": "2021-08-24T03:37:20.455866Z"
    }
   },
   "outputs": [],
   "source": [
    "list05 = list('ABC')"
   ]
  },
  {
   "cell_type": "code",
   "execution_count": 7,
   "id": "81a35689",
   "metadata": {
    "ExecuteTime": {
     "end_time": "2021-08-24T03:37:28.809715Z",
     "start_time": "2021-08-24T03:37:28.806155Z"
    }
   },
   "outputs": [],
   "source": [
    "list06 = list([1,2,3])"
   ]
  },
  {
   "cell_type": "code",
   "execution_count": 8,
   "id": "ce9ec0e5",
   "metadata": {
    "ExecuteTime": {
     "end_time": "2021-08-24T03:37:37.368005Z",
     "start_time": "2021-08-24T03:37:37.364605Z"
    }
   },
   "outputs": [],
   "source": [
    "list07 = list((1,2,3))"
   ]
  },
  {
   "cell_type": "code",
   "execution_count": 9,
   "id": "ab30c316",
   "metadata": {
    "ExecuteTime": {
     "end_time": "2021-08-24T03:37:48.682851Z",
     "start_time": "2021-08-24T03:37:48.679495Z"
    }
   },
   "outputs": [],
   "source": [
    "list08 = list(range(7))"
   ]
  },
  {
   "cell_type": "code",
   "execution_count": 10,
   "id": "df251196",
   "metadata": {
    "ExecuteTime": {
     "end_time": "2021-08-24T03:37:51.058373Z",
     "start_time": "2021-08-24T03:37:51.045449Z"
    }
   },
   "outputs": [
    {
     "data": {
      "text/plain": [
       "[0, 1, 2, 3, 4, 5, 6]"
      ]
     },
     "execution_count": 10,
     "metadata": {},
     "output_type": "execute_result"
    }
   ],
   "source": [
    "list08"
   ]
  },
  {
   "cell_type": "code",
   "execution_count": 11,
   "id": "7819b3b3",
   "metadata": {
    "ExecuteTime": {
     "end_time": "2021-08-24T03:38:13.711784Z",
     "start_time": "2021-08-24T03:38:13.708478Z"
    }
   },
   "outputs": [],
   "source": [
    "list12 = [None] * 5"
   ]
  },
  {
   "cell_type": "code",
   "execution_count": 12,
   "id": "a58dfdd4",
   "metadata": {
    "ExecuteTime": {
     "end_time": "2021-08-24T03:38:17.371712Z",
     "start_time": "2021-08-24T03:38:17.366293Z"
    }
   },
   "outputs": [
    {
     "data": {
      "text/plain": [
       "[None, None, None, None, None]"
      ]
     },
     "execution_count": 12,
     "metadata": {},
     "output_type": "execute_result"
    }
   ],
   "source": [
    "list12"
   ]
  },
  {
   "cell_type": "code",
   "execution_count": 14,
   "id": "54076bb6",
   "metadata": {
    "ExecuteTime": {
     "end_time": "2021-08-24T03:39:23.157569Z",
     "start_time": "2021-08-24T03:39:23.151732Z"
    }
   },
   "outputs": [
    {
     "data": {
      "text/plain": [
       "(1, 2, 3)"
      ]
     },
     "execution_count": 14,
     "metadata": {},
     "output_type": "execute_result"
    }
   ],
   "source": [
    "x = [1,2,3]\n",
    "a, b, c =x\n",
    "a,b,c"
   ]
  },
  {
   "cell_type": "code",
   "execution_count": 15,
   "id": "7433bf62",
   "metadata": {
    "ExecuteTime": {
     "end_time": "2021-08-24T03:40:15.834709Z",
     "start_time": "2021-08-24T03:40:15.831248Z"
    }
   },
   "outputs": [],
   "source": [
    "x = [11, 22, 33, 44, 55, 66, 77]"
   ]
  },
  {
   "cell_type": "code",
   "execution_count": 16,
   "id": "093b2584",
   "metadata": {
    "ExecuteTime": {
     "end_time": "2021-08-24T03:40:17.087597Z",
     "start_time": "2021-08-24T03:40:17.081848Z"
    }
   },
   "outputs": [
    {
     "data": {
      "text/plain": [
       "33"
      ]
     },
     "execution_count": 16,
     "metadata": {},
     "output_type": "execute_result"
    }
   ],
   "source": [
    "x[2]"
   ]
  },
  {
   "cell_type": "code",
   "execution_count": 17,
   "id": "99f3752b",
   "metadata": {
    "ExecuteTime": {
     "end_time": "2021-08-24T03:40:20.458545Z",
     "start_time": "2021-08-24T03:40:20.452695Z"
    }
   },
   "outputs": [
    {
     "data": {
      "text/plain": [
       "55"
      ]
     },
     "execution_count": 17,
     "metadata": {},
     "output_type": "execute_result"
    }
   ],
   "source": [
    "x[-3]"
   ]
  },
  {
   "cell_type": "code",
   "execution_count": 18,
   "id": "40731960",
   "metadata": {
    "ExecuteTime": {
     "end_time": "2021-08-24T03:40:29.441089Z",
     "start_time": "2021-08-24T03:40:29.438135Z"
    }
   },
   "outputs": [],
   "source": [
    "x[-4] = 3.14"
   ]
  },
  {
   "cell_type": "code",
   "execution_count": 19,
   "id": "703c1e9d",
   "metadata": {
    "ExecuteTime": {
     "end_time": "2021-08-24T03:40:40.535758Z",
     "start_time": "2021-08-24T03:40:40.333522Z"
    }
   },
   "outputs": [
    {
     "ename": "IndexError",
     "evalue": "list index out of range",
     "output_type": "error",
     "traceback": [
      "\u001b[0;31m---------------------------------------------------------------------------\u001b[0m",
      "\u001b[0;31mIndexError\u001b[0m                                Traceback (most recent call last)",
      "\u001b[0;32m<ipython-input-19-1515eb8c000f>\u001b[0m in \u001b[0;36m<module>\u001b[0;34m\u001b[0m\n\u001b[0;32m----> 1\u001b[0;31m \u001b[0mx\u001b[0m\u001b[0;34m[\u001b[0m\u001b[0;36m7\u001b[0m\u001b[0;34m]\u001b[0m\u001b[0;34m\u001b[0m\u001b[0;34m\u001b[0m\u001b[0m\n\u001b[0m",
      "\u001b[0;31mIndexError\u001b[0m: list index out of range"
     ]
    }
   ],
   "source": [
    "x[7]"
   ]
  },
  {
   "cell_type": "code",
   "execution_count": 20,
   "id": "43dd7f94",
   "metadata": {
    "ExecuteTime": {
     "end_time": "2021-08-24T03:41:29.948590Z",
     "start_time": "2021-08-24T03:41:29.943006Z"
    }
   },
   "outputs": [
    {
     "data": {
      "text/plain": [
       "[11, 22, 33, 44, 55, 66]"
      ]
     },
     "execution_count": 20,
     "metadata": {},
     "output_type": "execute_result"
    }
   ],
   "source": [
    "s = [11, 22, 33, 44, 55, 66, 77]\n",
    "s[0 : 6]"
   ]
  },
  {
   "cell_type": "code",
   "execution_count": 21,
   "id": "55cbdb90",
   "metadata": {
    "ExecuteTime": {
     "end_time": "2021-08-24T03:41:34.952968Z",
     "start_time": "2021-08-24T03:41:34.947189Z"
    }
   },
   "outputs": [
    {
     "data": {
      "text/plain": [
       "[11, 22, 33, 44, 55, 66, 77]"
      ]
     },
     "execution_count": 21,
     "metadata": {},
     "output_type": "execute_result"
    }
   ],
   "source": [
    "s[0 : 7]"
   ]
  },
  {
   "cell_type": "code",
   "execution_count": 22,
   "id": "6da31001",
   "metadata": {
    "ExecuteTime": {
     "end_time": "2021-08-24T03:41:41.582039Z",
     "start_time": "2021-08-24T03:41:41.576092Z"
    }
   },
   "outputs": [
    {
     "data": {
      "text/plain": [
       "[11, 33, 55, 77]"
      ]
     },
     "execution_count": 22,
     "metadata": {},
     "output_type": "execute_result"
    }
   ],
   "source": [
    "s[0 : 7 :2]"
   ]
  },
  {
   "cell_type": "code",
   "execution_count": 23,
   "id": "bb3d1d5e",
   "metadata": {
    "ExecuteTime": {
     "end_time": "2021-08-24T03:45:14.453144Z",
     "start_time": "2021-08-24T03:45:14.450119Z"
    }
   },
   "outputs": [],
   "source": [
    "n = 5"
   ]
  },
  {
   "cell_type": "code",
   "execution_count": 24,
   "id": "3580611f",
   "metadata": {
    "ExecuteTime": {
     "end_time": "2021-08-24T03:45:16.300897Z",
     "start_time": "2021-08-24T03:45:16.295587Z"
    }
   },
   "outputs": [
    {
     "data": {
      "text/plain": [
       "4403411424"
      ]
     },
     "execution_count": 24,
     "metadata": {},
     "output_type": "execute_result"
    }
   ],
   "source": [
    "id(n)"
   ]
  },
  {
   "cell_type": "code",
   "execution_count": 25,
   "id": "5834245a",
   "metadata": {
    "ExecuteTime": {
     "end_time": "2021-08-24T03:45:21.612120Z",
     "start_time": "2021-08-24T03:45:21.609136Z"
    }
   },
   "outputs": [],
   "source": [
    "n = 'ABC'"
   ]
  },
  {
   "cell_type": "code",
   "execution_count": 26,
   "id": "41683c87",
   "metadata": {
    "ExecuteTime": {
     "end_time": "2021-08-24T03:45:24.299855Z",
     "start_time": "2021-08-24T03:45:24.293930Z"
    }
   },
   "outputs": [
    {
     "data": {
      "text/plain": [
       "140307292761712"
      ]
     },
     "execution_count": 26,
     "metadata": {},
     "output_type": "execute_result"
    }
   ],
   "source": [
    "id(n)"
   ]
  },
  {
   "cell_type": "code",
   "execution_count": 27,
   "id": "d703b74a",
   "metadata": {
    "ExecuteTime": {
     "end_time": "2021-08-24T03:46:07.353940Z",
     "start_time": "2021-08-24T03:46:07.350405Z"
    }
   },
   "outputs": [],
   "source": [
    "a, b, c = 1, 2, 3"
   ]
  },
  {
   "cell_type": "code",
   "execution_count": 28,
   "id": "c0e301c2",
   "metadata": {
    "ExecuteTime": {
     "end_time": "2021-08-24T03:46:09.205156Z",
     "start_time": "2021-08-24T03:46:09.200530Z"
    }
   },
   "outputs": [
    {
     "data": {
      "text/plain": [
       "1"
      ]
     },
     "execution_count": 28,
     "metadata": {},
     "output_type": "execute_result"
    }
   ],
   "source": [
    "a"
   ]
  },
  {
   "cell_type": "code",
   "execution_count": 29,
   "id": "21dd2dce",
   "metadata": {
    "ExecuteTime": {
     "end_time": "2021-08-24T03:46:10.274689Z",
     "start_time": "2021-08-24T03:46:10.269461Z"
    }
   },
   "outputs": [
    {
     "data": {
      "text/plain": [
       "2"
      ]
     },
     "execution_count": 29,
     "metadata": {},
     "output_type": "execute_result"
    }
   ],
   "source": [
    "b"
   ]
  },
  {
   "cell_type": "code",
   "execution_count": 30,
   "id": "16aa9782",
   "metadata": {
    "ExecuteTime": {
     "end_time": "2021-08-24T03:46:10.928472Z",
     "start_time": "2021-08-24T03:46:10.923654Z"
    }
   },
   "outputs": [
    {
     "data": {
      "text/plain": [
       "3"
      ]
     },
     "execution_count": 30,
     "metadata": {},
     "output_type": "execute_result"
    }
   ],
   "source": [
    "c"
   ]
  },
  {
   "cell_type": "code",
   "execution_count": 31,
   "id": "cd67dbff",
   "metadata": {
    "ExecuteTime": {
     "end_time": "2021-08-24T03:46:28.143564Z",
     "start_time": "2021-08-24T03:46:28.140319Z"
    }
   },
   "outputs": [],
   "source": [
    "x = 6\n",
    "y = 2\n",
    "x, y = y + 2, x + 3"
   ]
  },
  {
   "cell_type": "code",
   "execution_count": 32,
   "id": "58fab740",
   "metadata": {
    "ExecuteTime": {
     "end_time": "2021-08-24T03:46:30.807563Z",
     "start_time": "2021-08-24T03:46:30.802427Z"
    }
   },
   "outputs": [
    {
     "data": {
      "text/plain": [
       "4"
      ]
     },
     "execution_count": 32,
     "metadata": {},
     "output_type": "execute_result"
    }
   ],
   "source": [
    "x"
   ]
  },
  {
   "cell_type": "code",
   "execution_count": 33,
   "id": "bd4196e7",
   "metadata": {
    "ExecuteTime": {
     "end_time": "2021-08-24T03:46:33.815714Z",
     "start_time": "2021-08-24T03:46:33.810354Z"
    }
   },
   "outputs": [
    {
     "data": {
      "text/plain": [
       "9"
      ]
     },
     "execution_count": 33,
     "metadata": {},
     "output_type": "execute_result"
    }
   ],
   "source": [
    "y"
   ]
  },
  {
   "cell_type": "code",
   "execution_count": 34,
   "id": "cfc1e6e6",
   "metadata": {
    "ExecuteTime": {
     "end_time": "2021-08-24T03:46:53.468766Z",
     "start_time": "2021-08-24T03:46:53.463101Z"
    }
   },
   "outputs": [
    {
     "data": {
      "text/plain": [
       "4403411648"
      ]
     },
     "execution_count": 34,
     "metadata": {},
     "output_type": "execute_result"
    }
   ],
   "source": [
    "n = 12\n",
    "id(n)"
   ]
  },
  {
   "cell_type": "code",
   "execution_count": 35,
   "id": "cea593f2",
   "metadata": {
    "ExecuteTime": {
     "end_time": "2021-08-24T03:47:00.562386Z",
     "start_time": "2021-08-24T03:47:00.558990Z"
    }
   },
   "outputs": [],
   "source": [
    "n += 1"
   ]
  },
  {
   "cell_type": "code",
   "execution_count": 36,
   "id": "d4c6c390",
   "metadata": {
    "ExecuteTime": {
     "end_time": "2021-08-24T03:47:05.085246Z",
     "start_time": "2021-08-24T03:47:05.079443Z"
    }
   },
   "outputs": [
    {
     "data": {
      "text/plain": [
       "4403411680"
      ]
     },
     "execution_count": 36,
     "metadata": {},
     "output_type": "execute_result"
    }
   ],
   "source": [
    "id(n)"
   ]
  },
  {
   "cell_type": "code",
   "execution_count": 37,
   "id": "fbb28ad0",
   "metadata": {
    "ExecuteTime": {
     "end_time": "2021-08-24T03:48:11.481555Z",
     "start_time": "2021-08-24T03:48:11.476078Z"
    }
   },
   "outputs": [
    {
     "data": {
      "text/plain": [
       "int"
      ]
     },
     "execution_count": 37,
     "metadata": {},
     "output_type": "execute_result"
    }
   ],
   "source": [
    "x = 0\n",
    "type(x + 17)"
   ]
  },
  {
   "cell_type": "code",
   "execution_count": 38,
   "id": "dcf27ca5",
   "metadata": {
    "ExecuteTime": {
     "end_time": "2021-08-24T03:48:19.943364Z",
     "start_time": "2021-08-24T03:48:19.934690Z"
    }
   },
   "outputs": [
    {
     "ename": "TypeError",
     "evalue": "type() takes 1 or 3 arguments",
     "output_type": "error",
     "traceback": [
      "\u001b[0;31m---------------------------------------------------------------------------\u001b[0m",
      "\u001b[0;31mTypeError\u001b[0m                                 Traceback (most recent call last)",
      "\u001b[0;32m<ipython-input-38-51f940ad3e7f>\u001b[0m in \u001b[0;36m<module>\u001b[0;34m\u001b[0m\n\u001b[0;32m----> 1\u001b[0;31m \u001b[0mtype\u001b[0m\u001b[0;34m(\u001b[0m\u001b[0mx\u001b[0m \u001b[0;34m=\u001b[0m \u001b[0;36m17\u001b[0m\u001b[0;34m)\u001b[0m\u001b[0;34m\u001b[0m\u001b[0;34m\u001b[0m\u001b[0m\n\u001b[0m",
      "\u001b[0;31mTypeError\u001b[0m: type() takes 1 or 3 arguments"
     ]
    }
   ],
   "source": [
    "type(x = 17)"
   ]
  },
  {
   "cell_type": "code",
   "execution_count": 39,
   "id": "247098bf",
   "metadata": {
    "ExecuteTime": {
     "end_time": "2021-08-24T03:48:47.215421Z",
     "start_time": "2021-08-24T03:48:47.212142Z"
    }
   },
   "outputs": [],
   "source": [
    "a = b = 1"
   ]
  },
  {
   "cell_type": "code",
   "execution_count": 40,
   "id": "67be558d",
   "metadata": {
    "ExecuteTime": {
     "end_time": "2021-08-24T03:48:52.847014Z",
     "start_time": "2021-08-24T03:48:52.842139Z"
    }
   },
   "outputs": [
    {
     "ename": "SyntaxError",
     "evalue": "invalid syntax (<ipython-input-40-617c7ee44f9d>, line 1)",
     "output_type": "error",
     "traceback": [
      "\u001b[0;36m  File \u001b[0;32m\"<ipython-input-40-617c7ee44f9d>\"\u001b[0;36m, line \u001b[0;32m1\u001b[0m\n\u001b[0;31m    a = (b = 1)\u001b[0m\n\u001b[0m           ^\u001b[0m\n\u001b[0;31mSyntaxError\u001b[0m\u001b[0;31m:\u001b[0m invalid syntax\n"
     ]
    }
   ],
   "source": [
    "a = (b = 1)"
   ]
  },
  {
   "cell_type": "code",
   "execution_count": 41,
   "id": "1add08a2",
   "metadata": {
    "ExecuteTime": {
     "end_time": "2021-08-24T03:52:01.799075Z",
     "start_time": "2021-08-24T03:52:01.794531Z"
    }
   },
   "outputs": [
    {
     "name": "stdout",
     "output_type": "stream",
     "text": [
      "[2, 6, 10]\n"
     ]
    }
   ],
   "source": [
    "numbers = [1, 2, 3, 4, 5]\n",
    "twise = [num * 2 for num in numbers if num % 2 == 1]\n",
    "print(twise)"
   ]
  },
  {
   "cell_type": "code",
   "execution_count": 42,
   "id": "133c6a29",
   "metadata": {
    "ExecuteTime": {
     "end_time": "2021-08-24T03:53:25.962705Z",
     "start_time": "2021-08-24T03:53:25.958552Z"
    }
   },
   "outputs": [],
   "source": [
    "def max_of(a):\n",
    "    maximum = a[0]\n",
    "    for i in range(1, len(a)):\n",
    "        if a[i] > maximum :\n",
    "            maximum = a[i]"
   ]
  },
  {
   "cell_type": "code",
   "execution_count": 46,
   "id": "aacf5ebf",
   "metadata": {
    "ExecuteTime": {
     "end_time": "2021-08-24T04:05:44.585018Z",
     "start_time": "2021-08-24T04:05:44.580763Z"
    }
   },
   "outputs": [],
   "source": [
    "from typing import Any, Sequence\n",
    "\n",
    "def max_of(a : Sequence) -> Any:\n",
    "    maximum = a[0]\n",
    "    for i in range(1, len(a)):\n",
    "        if a[i] > maximum:\n",
    "            maximum = a[i]\n",
    "    return maximum"
   ]
  },
  {
   "cell_type": "code",
   "execution_count": 47,
   "id": "2dda1d80",
   "metadata": {
    "ExecuteTime": {
     "end_time": "2021-08-24T04:05:58.979817Z",
     "start_time": "2021-08-24T04:05:45.112821Z"
    }
   },
   "outputs": [
    {
     "name": "stdout",
     "output_type": "stream",
     "text": [
      "배열의 최댓값을 구합니다. \n",
      "원소 수를 입력하세요. : 5\n",
      "x[0]값을 입력하세요. : 172\n",
      "x[1]값을 입력하세요. : 153\n",
      "x[2]값을 입력하세요. : 192\n",
      "x[3]값을 입력하세요. : 140\n",
      "x[4]값을 입력하세요. : 165\n",
      "최댓값은 192입니다. \n"
     ]
    }
   ],
   "source": [
    "if __name__ == '__main__':\n",
    "    print('배열의 최댓값을 구합니다. ')\n",
    "    num = int(input('원소 수를 입력하세요. : '))\n",
    "    x = [None] * num\n",
    "    \n",
    "    for i in range(num):\n",
    "        x[i] = int(input(f'x[{i}]값을 입력하세요. : '))\n",
    "    print(f'최댓값은 {max_of(x)}입니다. ')"
   ]
  },
  {
   "cell_type": "code",
   "execution_count": 50,
   "id": "b583a461",
   "metadata": {
    "ExecuteTime": {
     "end_time": "2021-08-24T04:11:36.927055Z",
     "start_time": "2021-08-24T04:11:21.740539Z"
    }
   },
   "outputs": [
    {
     "name": "stdout",
     "output_type": "stream",
     "text": [
      "배열의 최댓값을 구합니다. \n",
      "주의 : \"End\"를 입력하면 종료합니다\n",
      "x[0]값을 입력하세요. :15\n",
      "x[1]값을 입력하세요. :72\n",
      "x[2]값을 입력하세요. :64\n",
      "x[3]값을 입력하세요. :7\n",
      "x[4]값을 입력하세요. :End\n",
      "4개를 입력했습니다.\n",
      "최댓값은 72 입니다.\n"
     ]
    }
   ],
   "source": [
    "print('배열의 최댓값을 구합니다. ')\n",
    "print('주의 : \"End\"를 입력하면 종료합니다')\n",
    "\n",
    "number = 0\n",
    "x = []\n",
    "\n",
    "while True:\n",
    "    s = input(f'x[{number}]값을 입력하세요. :')\n",
    "    if s == 'End' : \n",
    "        break\n",
    "    x.append(int(s))\n",
    "    number += 1\n",
    "    \n",
    "print(f'{number}개를 입력했습니다.')\n",
    "print(f'최댓값은 {max_of(x)} 입니다.')"
   ]
  },
  {
   "cell_type": "code",
   "execution_count": 51,
   "id": "a636ddb4",
   "metadata": {
    "ExecuteTime": {
     "end_time": "2021-08-24T04:12:46.692116Z",
     "start_time": "2021-08-24T04:12:46.689284Z"
    }
   },
   "outputs": [],
   "source": [
    "import random"
   ]
  },
  {
   "cell_type": "code",
   "execution_count": 54,
   "id": "111227f4",
   "metadata": {
    "ExecuteTime": {
     "end_time": "2021-08-24T04:15:23.616376Z",
     "start_time": "2021-08-24T04:15:20.088672Z"
    }
   },
   "outputs": [
    {
     "name": "stdout",
     "output_type": "stream",
     "text": [
      "난수의 최댓값을 구합니다.\n",
      "난수의 개수를 입력하세요. : 5\n",
      "난수의 최솟값을 입력하세요. : 10\n",
      "난수의 최댓값을 입력하세요. : 99\n",
      "[99, 14, 25, 87, 47]\n",
      "이 가운데 최댓값은 99입니다.\n"
     ]
    }
   ],
   "source": [
    "print('난수의 최댓값을 구합니다.')\n",
    "num = int(input('난수의 개수를 입력하세요. : '))\n",
    "lo = int(input('난수의 최솟값을 입력하세요. : '))\n",
    "hi = int(input('난수의 최댓값을 입력하세요. : '))\n",
    "x = [None] * num\n",
    "\n",
    "for i in range(num):\n",
    "    x[i] = random.randint(lo, hi)\n",
    "    \n",
    "print(f'{(x)}')\n",
    "print(f'이 가운데 최댓값은 {max_of(x)}입니다.')"
   ]
  },
  {
   "cell_type": "code",
   "execution_count": 56,
   "id": "95303795",
   "metadata": {
    "ExecuteTime": {
     "end_time": "2021-08-24T04:17:48.051671Z",
     "start_time": "2021-08-24T04:17:48.046193Z"
    }
   },
   "outputs": [
    {
     "name": "stdout",
     "output_type": "stream",
     "text": [
      "(4, 7, 5.6, 2, 3.14, 1)의 최댓값은 7입니다.\n",
      "string의 최댓값은 t입니다.\n",
      "['DTS', 'AAC', 'FLAC']의 최댓값은 FLAC입니다.\n"
     ]
    }
   ],
   "source": [
    "t = (4, 7, 5.6, 2, 3.14 , 1)\n",
    "s = 'string'\n",
    "a = ['DTS', 'AAC', 'FLAC']\n",
    "\n",
    "print(f'{t}의 최댓값은 {max_of(t)}입니다.')\n",
    "print(f'{s}의 최댓값은 {max_of(s)}입니다.')\n",
    "print(f'{a}의 최댓값은 {max_of(a)}입니다.')"
   ]
  },
  {
   "cell_type": "code",
   "execution_count": 57,
   "id": "31126a0f",
   "metadata": {
    "ExecuteTime": {
     "end_time": "2021-08-24T04:18:43.541898Z",
     "start_time": "2021-08-24T04:18:43.536606Z"
    }
   },
   "outputs": [
    {
     "data": {
      "text/plain": [
       "False"
      ]
     },
     "execution_count": 57,
     "metadata": {},
     "output_type": "execute_result"
    }
   ],
   "source": [
    "list1 = [1, 2, 3, 4, 5]\n",
    "list2 = [1, 2, 3, 4, 5]\n",
    "list1 is list2"
   ]
  },
  {
   "cell_type": "code",
   "execution_count": 58,
   "id": "a10af74b",
   "metadata": {
    "ExecuteTime": {
     "end_time": "2021-08-24T04:19:20.335755Z",
     "start_time": "2021-08-24T04:19:20.330225Z"
    }
   },
   "outputs": [
    {
     "data": {
      "text/plain": [
       "True"
      ]
     },
     "execution_count": 58,
     "metadata": {},
     "output_type": "execute_result"
    }
   ],
   "source": [
    "lst1 = [1, 2, 3, 4, 5]\n",
    "lst2 = lst1\n",
    "lst1 is lst2"
   ]
  },
  {
   "cell_type": "code",
   "execution_count": 60,
   "id": "8d74f514",
   "metadata": {
    "ExecuteTime": {
     "end_time": "2021-08-24T04:19:43.270025Z",
     "start_time": "2021-08-24T04:19:43.264924Z"
    }
   },
   "outputs": [
    {
     "data": {
      "text/plain": [
       "[1, 2, 9, 4, 5]"
      ]
     },
     "execution_count": 60,
     "metadata": {},
     "output_type": "execute_result"
    }
   ],
   "source": [
    "lst1[2] = 9\n",
    "lst1"
   ]
  },
  {
   "cell_type": "code",
   "execution_count": 61,
   "id": "afd9442d",
   "metadata": {
    "ExecuteTime": {
     "end_time": "2021-08-24T04:19:53.845979Z",
     "start_time": "2021-08-24T04:19:53.840920Z"
    }
   },
   "outputs": [
    {
     "data": {
      "text/plain": [
       "[1, 2, 9, 4, 5]"
      ]
     },
     "execution_count": 61,
     "metadata": {},
     "output_type": "execute_result"
    }
   ],
   "source": [
    "lst2"
   ]
  },
  {
   "cell_type": "code",
   "execution_count": 62,
   "id": "b8541e72",
   "metadata": {
    "ExecuteTime": {
     "end_time": "2021-08-24T04:21:17.200453Z",
     "start_time": "2021-08-24T04:21:17.195500Z"
    }
   },
   "outputs": [
    {
     "name": "stdout",
     "output_type": "stream",
     "text": [
      "x[0] = John\n",
      "x[1] = George\n",
      "x[2] = Paul\n",
      "x[3] = Ringo\n"
     ]
    }
   ],
   "source": [
    "x = ['John', 'George', 'Paul', 'Ringo']\n",
    "\n",
    "for i in range(len(x)):\n",
    "    print(f'x[{i}] = {x[i]}')"
   ]
  },
  {
   "cell_type": "code",
   "execution_count": 63,
   "id": "764989e1",
   "metadata": {
    "ExecuteTime": {
     "end_time": "2021-08-24T04:21:51.164964Z",
     "start_time": "2021-08-24T04:21:51.160226Z"
    }
   },
   "outputs": [
    {
     "name": "stdout",
     "output_type": "stream",
     "text": [
      "x[0] = John\n",
      "x[1] = George\n",
      "x[2] = Paul\n",
      "x[3] = Ringo\n"
     ]
    }
   ],
   "source": [
    "for i , name in enumerate(x):\n",
    "    print(f'x[{i}] = {name}')"
   ]
  },
  {
   "cell_type": "code",
   "execution_count": 64,
   "id": "4a1ce19c",
   "metadata": {
    "ExecuteTime": {
     "end_time": "2021-08-24T04:22:46.827042Z",
     "start_time": "2021-08-24T04:22:46.823362Z"
    }
   },
   "outputs": [
    {
     "name": "stdout",
     "output_type": "stream",
     "text": [
      "John\n",
      "George\n",
      "Paul\n",
      "Ringo\n"
     ]
    }
   ],
   "source": [
    "for i in x:\n",
    "    print(i)"
   ]
  },
  {
   "cell_type": "code",
   "execution_count": 66,
   "id": "1df34a64",
   "metadata": {
    "ExecuteTime": {
     "end_time": "2021-08-24T04:23:25.645063Z",
     "start_time": "2021-08-24T04:23:25.641097Z"
    }
   },
   "outputs": [
    {
     "name": "stdout",
     "output_type": "stream",
     "text": [
      "1번째 = John\n",
      "2번째 = George\n",
      "3번째 = Paul\n",
      "4번째 = Ringo\n"
     ]
    }
   ],
   "source": [
    "for i, name in enumerate(x,1):\n",
    "    print(f'{i}번째 = {name}')"
   ]
  },
  {
   "cell_type": "code",
   "execution_count": 67,
   "id": "30febf12",
   "metadata": {
    "ExecuteTime": {
     "end_time": "2021-08-24T04:23:49.444523Z",
     "start_time": "2021-08-24T04:23:49.441026Z"
    }
   },
   "outputs": [],
   "source": [
    "x = ('John', 'George', 'Paul', 'Ringo')"
   ]
  },
  {
   "cell_type": "code",
   "execution_count": 69,
   "id": "64dad684",
   "metadata": {
    "ExecuteTime": {
     "end_time": "2021-08-24T04:28:20.358257Z",
     "start_time": "2021-08-24T04:28:12.357324Z"
    }
   },
   "outputs": [
    {
     "name": "stdout",
     "output_type": "stream",
     "text": [
      "배열 원소를 역순으로 정렬합니다. \n",
      "원소 수를 입력하세요 : 7\n",
      "x[0]값을 입력하세요. :2\n",
      "x[1]값을 입력하세요. :5\n",
      "x[2]값을 입력하세요. :1\n",
      "x[3]값을 입력하세요. :3\n",
      "x[4]값을 입력하세요. :9\n",
      "x[5]값을 입력하세요. :6\n",
      "x[6]값을 입력하세요. :7\n",
      "배열 원소를 역순으로 정렬했습니다.\n",
      "x[0] = 7\n",
      "x[1] = 6\n",
      "x[2] = 9\n",
      "x[3] = 3\n",
      "x[4] = 1\n",
      "x[5] = 5\n",
      "x[6] = 2\n"
     ]
    }
   ],
   "source": [
    "from typing import Any, MutableSequence\n",
    "\n",
    "def reverse_array(a: MutableSequence) -> None:\n",
    "    n = len(a)\n",
    "    for i in range(n//2):\n",
    "        a[i], a[n - i -1] = a[n - i -1], a[i]\n",
    "        \n",
    "if __name__ == '__main__':\n",
    "    print('배열 원소를 역순으로 정렬합니다. ')\n",
    "    nx = int(input('원소 수를 입력하세요 : '))\n",
    "    x = [None] *nx\n",
    "    \n",
    "    for i in range(nx) :\n",
    "        x[i] = int(input(f'x[{i}]값을 입력하세요. :'))\n",
    "        \n",
    "    reverse_array(x)\n",
    "    \n",
    "    print('배열 원소를 역순으로 정렬했습니다.')\n",
    "    for i in range(nx):\n",
    "        print(f'x[{i}] = {x[i]}')"
   ]
  },
  {
   "cell_type": "code",
   "execution_count": 78,
   "id": "902912b2",
   "metadata": {
    "ExecuteTime": {
     "end_time": "2021-08-24T04:46:41.258044Z",
     "start_time": "2021-08-24T04:46:36.161594Z"
    }
   },
   "outputs": [
    {
     "name": "stdout",
     "output_type": "stream",
     "text": [
      "10진수를 n진수로 변환합니다. \n",
      "변환할 값으로 음이 아닌 정수를 입력하세요. :29\n",
      "어떤 진수로 변환할까요? : 2\n",
      " 2 | 29\n",
      " +----\n"
     ]
    },
    {
     "ename": "ValueError",
     "evalue": "Invalid format specifier",
     "output_type": "error",
     "traceback": [
      "\u001b[0;31m---------------------------------------------------------------------------\u001b[0m",
      "\u001b[0;31mValueError\u001b[0m                                Traceback (most recent call last)",
      "\u001b[0;32m<ipython-input-78-2acb81aee8be>\u001b[0m in \u001b[0;36m<module>\u001b[0;34m\u001b[0m\n\u001b[1;32m     30\u001b[0m             \u001b[0;32mif\u001b[0m \u001b[0;36m2\u001b[0m\u001b[0;34m<=\u001b[0m \u001b[0mcd\u001b[0m \u001b[0;34m<=\u001b[0m \u001b[0;36m36\u001b[0m\u001b[0;34m:\u001b[0m\u001b[0;34m\u001b[0m\u001b[0;34m\u001b[0m\u001b[0m\n\u001b[1;32m     31\u001b[0m                 \u001b[0;32mbreak\u001b[0m\u001b[0;34m\u001b[0m\u001b[0;34m\u001b[0m\u001b[0m\n\u001b[0;32m---> 32\u001b[0;31m         \u001b[0mprint\u001b[0m\u001b[0;34m(\u001b[0m\u001b[0;34mf'{cd}진수로는 {card_conv(no, cd)}입니다.'\u001b[0m\u001b[0;34m)\u001b[0m\u001b[0;34m\u001b[0m\u001b[0;34m\u001b[0m\u001b[0m\n\u001b[0m\u001b[1;32m     33\u001b[0m \u001b[0;34m\u001b[0m\u001b[0m\n\u001b[1;32m     34\u001b[0m         \u001b[0mretry\u001b[0m \u001b[0;34m=\u001b[0m \u001b[0minput\u001b[0m\u001b[0;34m(\u001b[0m\u001b[0;34m\"한번 더 변환할까요? (Y ... 예 / N ... 아니오) : \"\u001b[0m\u001b[0;34m)\u001b[0m\u001b[0;34m\u001b[0m\u001b[0;34m\u001b[0m\u001b[0m\n",
      "\u001b[0;32m<ipython-input-78-2acb81aee8be>\u001b[0m in \u001b[0;36mcard_conv\u001b[0;34m(x, r)\u001b[0m\n\u001b[1;32m      9\u001b[0m         \u001b[0mprint\u001b[0m\u001b[0;34m(\u001b[0m\u001b[0;34m' +'\u001b[0m\u001b[0;34m+\u001b[0m \u001b[0;34m(\u001b[0m\u001b[0mn\u001b[0m\u001b[0;34m+\u001b[0m\u001b[0;36m2\u001b[0m\u001b[0;34m)\u001b[0m \u001b[0;34m*\u001b[0m \u001b[0;34m'-'\u001b[0m\u001b[0;34m)\u001b[0m\u001b[0;34m\u001b[0m\u001b[0;34m\u001b[0m\u001b[0m\n\u001b[1;32m     10\u001b[0m         \u001b[0;32mif\u001b[0m \u001b[0mx\u001b[0m\u001b[0;34m//\u001b[0m\u001b[0mr\u001b[0m \u001b[0;34m:\u001b[0m\u001b[0;34m\u001b[0m\u001b[0;34m\u001b[0m\u001b[0m\n\u001b[0;32m---> 11\u001b[0;31m             \u001b[0mprint\u001b[0m\u001b[0;34m(\u001b[0m\u001b[0;34mf'{r:2} | {x//r:{n}d ... {x%r}}'\u001b[0m\u001b[0;34m)\u001b[0m\u001b[0;34m\u001b[0m\u001b[0;34m\u001b[0m\u001b[0m\n\u001b[0m\u001b[1;32m     12\u001b[0m         \u001b[0;32melse\u001b[0m\u001b[0;34m:\u001b[0m\u001b[0;34m\u001b[0m\u001b[0;34m\u001b[0m\u001b[0m\n\u001b[1;32m     13\u001b[0m             \u001b[0mprint\u001b[0m\u001b[0;34m(\u001b[0m\u001b[0;34mf'.   {x//r : {n}d}...{x%r}'\u001b[0m\u001b[0;34m)\u001b[0m\u001b[0;34m\u001b[0m\u001b[0;34m\u001b[0m\u001b[0m\n",
      "\u001b[0;31mValueError\u001b[0m: Invalid format specifier"
     ]
    }
   ],
   "source": [
    "def card_conv(x :int, r: int) ->str:\n",
    "    \n",
    "    d = ''\n",
    "    dchar='0123456789ABCDEFGHIJKLMNOPQRSTUVWXYZ'\n",
    "    n = len(str(x))\n",
    "    \n",
    "    print(f'{r:2} | {x:{n}d}')\n",
    "    while x > 0:\n",
    "        print(' +'+ (n+2) * '-')\n",
    "        if x//r :\n",
    "            print(f'{r:2} | {x//r:{n}d ... {x%r}}')\n",
    "        else:\n",
    "            print(f'.   {x//r : {n}d}...{x%r}')\n",
    "        d += char[x%r]\n",
    "        x //= r\n",
    "        \n",
    "    return d[: : -1]\n",
    "\n",
    "\n",
    "if __name__ == '__main__':\n",
    "    print('10진수를 n진수로 변환합니다. ')\n",
    "    \n",
    "    while True:\n",
    "        while True:\n",
    "            no = int(input('변환할 값으로 음이 아닌 정수를 입력하세요. :'))\n",
    "            if no > 0:\n",
    "                break\n",
    "        while True:\n",
    "            cd = int(input('어떤 진수로 변환할까요? : '))\n",
    "            if 2<= cd <= 36:\n",
    "                break\n",
    "        print(f'{cd}진수로는 {card_conv(no, cd)}입니다.')\n",
    "        \n",
    "        retry = input(\"한번 더 변환할까요? (Y ... 예 / N ... 아니오) : \")\n",
    "        if retry in {'N' , 'n'}:\n",
    "            break"
   ]
  },
  {
   "cell_type": "code",
   "execution_count": 75,
   "id": "391f3273",
   "metadata": {
    "ExecuteTime": {
     "end_time": "2021-08-24T04:35:47.702100Z",
     "start_time": "2021-08-24T04:35:41.112059Z"
    }
   },
   "outputs": [
    {
     "name": "stdout",
     "output_type": "stream",
     "text": [
      "10진수를 n진수로 변환합니다. \n",
      "변환할 값으로 음이 아닌 정수를 입력하세요. :29\n",
      "어떤 진수로 변환할까요? : 2\n",
      "2진수로는 11101입니다.\n",
      "한번 더 변환할까요? (Y ... 예 / N ... 아니오) : N\n"
     ]
    }
   ],
   "source": [
    "if __name__ == '__main__':\n",
    "    print('10진수를 n진수로 변환합니다. ')\n",
    "    \n",
    "    while True:\n",
    "        while True:\n",
    "            no = int(input('변환할 값으로 음이 아닌 정수를 입력하세요. :'))\n",
    "            if no > 0:\n",
    "                break\n",
    "        while True:\n",
    "            cd = int(input('어떤 진수로 변환할까요? : '))\n",
    "            if 2<= cd <= 36:\n",
    "                break\n",
    "        print(f'{cd}진수로는 {card_conv(no, cd)}입니다.')\n",
    "        \n",
    "        retry = input(\"한번 더 변환할까요? (Y ... 예 / N ... 아니오) : \")\n",
    "        if retry in {'N' , 'n'}:\n",
    "            break"
   ]
  },
  {
   "cell_type": "code",
   "execution_count": 79,
   "id": "d97ff620",
   "metadata": {
    "ExecuteTime": {
     "end_time": "2021-08-24T04:48:32.784753Z",
     "start_time": "2021-08-24T04:48:29.735362Z"
    }
   },
   "outputs": [
    {
     "name": "stdout",
     "output_type": "stream",
     "text": [
      "x의 값을 입력하세요. : 5\n",
      "1부터 5까지 정수의 합은 15입니다.\n"
     ]
    }
   ],
   "source": [
    "def sum_1ton(n):\n",
    "    s = 0\n",
    "    while n > 0:\n",
    "        s += n\n",
    "        n -=1\n",
    "    return s\n",
    "\n",
    "\n",
    "x = int(input('x의 값을 입력하세요. : '))\n",
    "print(f'1부터 {x}까지 정수의 합은 {sum_1ton(x)}입니다.')"
   ]
  },
  {
   "cell_type": "code",
   "execution_count": 80,
   "id": "98a2a251",
   "metadata": {
    "ExecuteTime": {
     "end_time": "2021-08-24T04:51:12.441698Z",
     "start_time": "2021-08-24T04:51:06.844305Z"
    }
   },
   "outputs": [
    {
     "name": "stdout",
     "output_type": "stream",
     "text": [
      "x =  [11, 22, 33, 44, 55]\n",
      "업데이트 할 인덱스를 선택하세요. :2\n",
      "새로운 값을 입력하세요. : 99\n",
      "x = [11, 22, 99, 44, 55]\n"
     ]
    }
   ],
   "source": [
    "def change(lst, idx, val):\n",
    "    lst[idx] = val\n",
    "    \n",
    "x = [11, 22, 33, 44, 55]\n",
    "print('x = ', x)\n",
    "\n",
    "index = int(input('업데이트 할 인덱스를 선택하세요. :'))\n",
    "value = int(input('새로운 값을 입력하세요. : '))\n",
    "\n",
    "change(x, index, value)\n",
    "print(f'x = {x}')"
   ]
  },
  {
   "cell_type": "code",
   "execution_count": 82,
   "id": "e3ae2dd5",
   "metadata": {
    "ExecuteTime": {
     "end_time": "2021-08-24T04:53:34.876910Z",
     "start_time": "2021-08-24T04:53:34.854174Z"
    }
   },
   "outputs": [
    {
     "name": "stdout",
     "output_type": "stream",
     "text": [
      "2\n",
      "3\n",
      "5\n",
      "7\n",
      "11\n",
      "13\n",
      "17\n",
      "19\n",
      "23\n",
      "29\n",
      "31\n",
      "37\n",
      "41\n",
      "43\n",
      "47\n",
      "53\n",
      "59\n",
      "61\n",
      "67\n",
      "71\n",
      "73\n",
      "79\n",
      "83\n",
      "89\n",
      "97\n",
      "101\n",
      "103\n",
      "107\n",
      "109\n",
      "113\n",
      "127\n",
      "131\n",
      "137\n",
      "139\n",
      "149\n",
      "151\n",
      "157\n",
      "163\n",
      "167\n",
      "173\n",
      "179\n",
      "181\n",
      "191\n",
      "193\n",
      "197\n",
      "199\n",
      "211\n",
      "223\n",
      "227\n",
      "229\n",
      "233\n",
      "239\n",
      "241\n",
      "251\n",
      "257\n",
      "263\n",
      "269\n",
      "271\n",
      "277\n",
      "281\n",
      "283\n",
      "293\n",
      "307\n",
      "311\n",
      "313\n",
      "317\n",
      "331\n",
      "337\n",
      "347\n",
      "349\n",
      "353\n",
      "359\n",
      "367\n",
      "373\n",
      "379\n",
      "383\n",
      "389\n",
      "397\n",
      "401\n",
      "409\n",
      "419\n",
      "421\n",
      "431\n",
      "433\n",
      "439\n",
      "443\n",
      "449\n",
      "457\n",
      "461\n",
      "463\n",
      "467\n",
      "479\n",
      "487\n",
      "491\n",
      "499\n",
      "503\n",
      "509\n",
      "521\n",
      "523\n",
      "541\n",
      "547\n",
      "557\n",
      "563\n",
      "569\n",
      "571\n",
      "577\n",
      "587\n",
      "593\n",
      "599\n",
      "601\n",
      "607\n",
      "613\n",
      "617\n",
      "619\n",
      "631\n",
      "641\n",
      "643\n",
      "647\n",
      "653\n",
      "659\n",
      "661\n",
      "673\n",
      "677\n",
      "683\n",
      "691\n",
      "701\n",
      "709\n",
      "719\n",
      "727\n",
      "733\n",
      "739\n",
      "743\n",
      "751\n",
      "757\n",
      "761\n",
      "769\n",
      "773\n",
      "787\n",
      "797\n",
      "809\n",
      "811\n",
      "821\n",
      "823\n",
      "827\n",
      "829\n",
      "839\n",
      "853\n",
      "857\n",
      "859\n",
      "863\n",
      "877\n",
      "881\n",
      "883\n",
      "887\n",
      "907\n",
      "911\n",
      "919\n",
      "929\n",
      "937\n",
      "941\n",
      "947\n",
      "953\n",
      "967\n",
      "971\n",
      "977\n",
      "983\n",
      "991\n",
      "997\n",
      "나눗셈을 실행한 횟수 : 78022\n"
     ]
    }
   ],
   "source": [
    "counter = 0\n",
    "\n",
    "for n in range(2, 1001):\n",
    "    for i in range(2, n):\n",
    "        counter += 1\n",
    "        if n % i == 0:\n",
    "            break\n",
    "    else:\n",
    "         print(n)\n",
    "            \n",
    "print(f'나눗셈을 실행한 횟수 : {counter}')"
   ]
  },
  {
   "cell_type": "code",
   "execution_count": 84,
   "id": "669d032e",
   "metadata": {
    "ExecuteTime": {
     "end_time": "2021-08-24T04:57:05.647933Z",
     "start_time": "2021-08-24T04:57:05.633532Z"
    }
   },
   "outputs": [
    {
     "name": "stdout",
     "output_type": "stream",
     "text": [
      "2\n",
      "3\n",
      "5\n",
      "7\n",
      "11\n",
      "13\n",
      "17\n",
      "19\n",
      "23\n",
      "29\n",
      "31\n",
      "37\n",
      "41\n",
      "43\n",
      "47\n",
      "53\n",
      "59\n",
      "61\n",
      "67\n",
      "71\n",
      "73\n",
      "79\n",
      "83\n",
      "89\n",
      "97\n",
      "101\n",
      "103\n",
      "107\n",
      "109\n",
      "113\n",
      "127\n",
      "131\n",
      "137\n",
      "139\n",
      "149\n",
      "151\n",
      "157\n",
      "163\n",
      "167\n",
      "173\n",
      "179\n",
      "181\n",
      "191\n",
      "193\n",
      "197\n",
      "199\n",
      "211\n",
      "223\n",
      "227\n",
      "229\n",
      "233\n",
      "239\n",
      "241\n",
      "251\n",
      "257\n",
      "263\n",
      "269\n",
      "271\n",
      "277\n",
      "281\n",
      "283\n",
      "293\n",
      "307\n",
      "311\n",
      "313\n",
      "317\n",
      "331\n",
      "337\n",
      "347\n",
      "349\n",
      "353\n",
      "359\n",
      "367\n",
      "373\n",
      "379\n",
      "383\n",
      "389\n",
      "397\n",
      "401\n",
      "409\n",
      "419\n",
      "421\n",
      "431\n",
      "433\n",
      "439\n",
      "443\n",
      "449\n",
      "457\n",
      "461\n",
      "463\n",
      "467\n",
      "479\n",
      "487\n",
      "491\n",
      "499\n",
      "503\n",
      "509\n",
      "521\n",
      "523\n",
      "541\n",
      "547\n",
      "557\n",
      "563\n",
      "569\n",
      "571\n",
      "577\n",
      "587\n",
      "593\n",
      "599\n",
      "601\n",
      "607\n",
      "613\n",
      "617\n",
      "619\n",
      "631\n",
      "641\n",
      "643\n",
      "647\n",
      "653\n",
      "659\n",
      "661\n",
      "673\n",
      "677\n",
      "683\n",
      "691\n",
      "701\n",
      "709\n",
      "719\n",
      "727\n",
      "733\n",
      "739\n",
      "743\n",
      "751\n",
      "757\n",
      "761\n",
      "769\n",
      "773\n",
      "787\n",
      "797\n",
      "809\n",
      "811\n",
      "821\n",
      "823\n",
      "827\n",
      "829\n",
      "839\n",
      "853\n",
      "857\n",
      "859\n",
      "863\n",
      "877\n",
      "881\n",
      "883\n",
      "887\n",
      "907\n",
      "911\n",
      "919\n",
      "929\n",
      "937\n",
      "941\n",
      "947\n",
      "953\n",
      "967\n",
      "971\n",
      "977\n",
      "983\n",
      "991\n",
      "997\n",
      "나눗셈을 실행한 횟수 : 14622\n"
     ]
    }
   ],
   "source": [
    "counter = 0\n",
    "ptr = 0\n",
    "prime =[None] * 500\n",
    "\n",
    "prime[ptr] = 2\n",
    "ptr += 1\n",
    "\n",
    "for n in range(3, 1001, 2):\n",
    "    for i in range(1, ptr):\n",
    "        counter += 1\n",
    "        \n",
    "        if n % prime[i] == 0:\n",
    "            break\n",
    "            \n",
    "    else:\n",
    "        prime[ptr] = n\n",
    "        ptr += 1\n",
    "        \n",
    "for i in range(ptr):\n",
    "    print(prime[i])\n",
    "    \n",
    "print(f'나눗셈을 실행한 횟수 : {counter}')"
   ]
  },
  {
   "cell_type": "code",
   "execution_count": 85,
   "id": "f6b52c06",
   "metadata": {
    "ExecuteTime": {
     "end_time": "2021-08-24T06:47:24.113500Z",
     "start_time": "2021-08-24T06:47:24.100189Z"
    }
   },
   "outputs": [
    {
     "name": "stdout",
     "output_type": "stream",
     "text": [
      "2\n",
      "3\n",
      "5\n",
      "7\n",
      "11\n",
      "13\n",
      "17\n",
      "19\n",
      "23\n",
      "29\n",
      "31\n",
      "37\n",
      "41\n",
      "43\n",
      "47\n",
      "53\n",
      "59\n",
      "61\n",
      "67\n",
      "71\n",
      "73\n",
      "79\n",
      "83\n",
      "89\n",
      "97\n",
      "101\n",
      "103\n",
      "107\n",
      "109\n",
      "113\n",
      "127\n",
      "131\n",
      "137\n",
      "139\n",
      "149\n",
      "151\n",
      "157\n",
      "163\n",
      "167\n",
      "173\n",
      "179\n",
      "181\n",
      "191\n",
      "193\n",
      "197\n",
      "199\n",
      "211\n",
      "223\n",
      "227\n",
      "229\n",
      "233\n",
      "239\n",
      "241\n",
      "251\n",
      "257\n",
      "263\n",
      "269\n",
      "271\n",
      "277\n",
      "281\n",
      "283\n",
      "293\n",
      "307\n",
      "311\n",
      "313\n",
      "317\n",
      "331\n",
      "337\n",
      "347\n",
      "349\n",
      "353\n",
      "359\n",
      "367\n",
      "373\n",
      "379\n",
      "383\n",
      "389\n",
      "397\n",
      "401\n",
      "409\n",
      "419\n",
      "421\n",
      "431\n",
      "433\n",
      "439\n",
      "443\n",
      "449\n",
      "457\n",
      "461\n",
      "463\n",
      "467\n",
      "479\n",
      "487\n",
      "491\n",
      "499\n",
      "503\n",
      "509\n",
      "521\n",
      "523\n",
      "541\n",
      "547\n",
      "557\n",
      "563\n",
      "569\n",
      "571\n",
      "577\n",
      "587\n",
      "593\n",
      "599\n",
      "601\n",
      "607\n",
      "613\n",
      "617\n",
      "619\n",
      "631\n",
      "641\n",
      "643\n",
      "647\n",
      "653\n",
      "659\n",
      "661\n",
      "673\n",
      "677\n",
      "683\n",
      "691\n",
      "701\n",
      "709\n",
      "719\n",
      "727\n",
      "733\n",
      "739\n",
      "743\n",
      "751\n",
      "757\n",
      "761\n",
      "769\n",
      "773\n",
      "787\n",
      "797\n",
      "809\n",
      "811\n",
      "821\n",
      "823\n",
      "827\n",
      "829\n",
      "839\n",
      "853\n",
      "857\n",
      "859\n",
      "863\n",
      "877\n",
      "881\n",
      "883\n",
      "887\n",
      "907\n",
      "911\n",
      "919\n",
      "929\n",
      "937\n",
      "941\n",
      "947\n",
      "953\n",
      "967\n",
      "971\n",
      "977\n",
      "983\n",
      "991\n",
      "997\n",
      "곱셈과 나눗셈을 실행한 횟수 : 3774\n"
     ]
    }
   ],
   "source": [
    "counter = 0\n",
    "ptr = 0\n",
    "prime = [None] * 500\n",
    "\n",
    "\n",
    "prime[ptr] = 2\n",
    "ptr += 1\n",
    "\n",
    "prime[ptr] = 3\n",
    "ptr += 1\n",
    "\n",
    "for n in range(5, 1001, 2):\n",
    "    i = 1\n",
    "    while prime[i] * prime[i] <= n:\n",
    "        counter += 2\n",
    "        if n % prime[i] == 0:\n",
    "            break\n",
    "        i += 1\n",
    "    else:\n",
    "        prime[ptr] = n\n",
    "        ptr += 1\n",
    "        counter += 1\n",
    "        \n",
    "for i in range(ptr):\n",
    "    print(prime[i])\n",
    "print(f'곱셈과 나눗셈을 실행한 횟수 : {counter}')"
   ]
  },
  {
   "cell_type": "code",
   "execution_count": null,
   "id": "a2ea78cb",
   "metadata": {},
   "outputs": [],
   "source": []
  }
 ],
 "metadata": {
  "kernelspec": {
   "display_name": "Python 3",
   "language": "python",
   "name": "python3"
  },
  "language_info": {
   "codemirror_mode": {
    "name": "ipython",
    "version": 3
   },
   "file_extension": ".py",
   "mimetype": "text/x-python",
   "name": "python",
   "nbconvert_exporter": "python",
   "pygments_lexer": "ipython3",
   "version": "3.8.8"
  },
  "toc": {
   "base_numbering": 1,
   "nav_menu": {},
   "number_sections": true,
   "sideBar": true,
   "skip_h1_title": false,
   "title_cell": "Table of Contents",
   "title_sidebar": "Contents",
   "toc_cell": false,
   "toc_position": {},
   "toc_section_display": true,
   "toc_window_display": false
  },
  "varInspector": {
   "cols": {
    "lenName": 16,
    "lenType": 16,
    "lenVar": 40
   },
   "kernels_config": {
    "python": {
     "delete_cmd_postfix": "",
     "delete_cmd_prefix": "del ",
     "library": "var_list.py",
     "varRefreshCmd": "print(var_dic_list())"
    },
    "r": {
     "delete_cmd_postfix": ") ",
     "delete_cmd_prefix": "rm(",
     "library": "var_list.r",
     "varRefreshCmd": "cat(var_dic_list()) "
    }
   },
   "types_to_exclude": [
    "module",
    "function",
    "builtin_function_or_method",
    "instance",
    "_Feature"
   ],
   "window_display": false
  }
 },
 "nbformat": 4,
 "nbformat_minor": 5
}
