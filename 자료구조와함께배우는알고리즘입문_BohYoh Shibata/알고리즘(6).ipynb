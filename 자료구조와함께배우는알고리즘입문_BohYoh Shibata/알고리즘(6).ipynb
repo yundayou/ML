{
 "cells": [
  {
   "cell_type": "code",
   "execution_count": null,
   "id": "7b979656",
   "metadata": {
    "ExecuteTime": {
     "start_time": "2021-08-28T16:35:23.946Z"
    }
   },
   "outputs": [],
   "source": [
    "from typing import Any\n",
    "\n",
    "class FixedQueue:\n",
    "    \n",
    "    class Empty(Exception):\n",
    "        pass\n",
    "    \n",
    "    class Full(Exception):\n",
    "        pass\n",
    "    \n",
    "    \n",
    "    def __init__(self, capacity : int) ->None:\n",
    "        self.no = 0\n",
    "        self.front = 0\n",
    "        self.rear = 0\n",
    "        self.capacity = capacity\n",
    "        self.que = [None] * capacity\n",
    "        \n",
    "    def __len__(self) -> int:\n",
    "        return self.no\n",
    "    \n",
    "    def is_empty(self) ->bool:\n",
    "        return self.no <=0\n",
    "    \n",
    "    def is_full(self) -> bool:\n",
    "        return self.no >= self.capacity\n",
    "    \n",
    "    def enque(self, x:Any)->None:\n",
    "        if self.is_full():\n",
    "            raise FixedQueue.Full\n",
    "        self.que[self.rear] = x\n",
    "        self.rear += 1\n",
    "        self.no += 1\n",
    "        if self.rear == self.capacity:\n",
    "            self.rear = 0\n",
    "                \n",
    "    def deque(self)-> Any:\n",
    "        if self.is_empty():\n",
    "            raise FixedQueue.Empty\n",
    "        x = self.que[self.front]\n",
    "        self.front +=1\n",
    "        self.no  -= 1\n",
    "        if self.front == self.capacity:\n",
    "            self.front = 0\n",
    "            \n",
    "        return x\n",
    "    \n",
    "    def peek(self)->Any:\n",
    "        if self.is_empty():\n",
    "            raise FixedQueue.Empty\n",
    "        return self.que[self.front]\n",
    "    \n",
    "    def find(self, value : Any) -> Any:\n",
    "        for i in range(self.no):\n",
    "            idx = (i + self.front) % self.capacity\n",
    "            if self.que[idx] == value:\n",
    "                return idx\n",
    "        return -1\n",
    "    \n",
    "    \n",
    "    def count(self, value : Any) ->bool:\n",
    "        c = 0\n",
    "        for i in range(self.no):\n",
    "            idx = (i + self.front) % self.capacity\n",
    "            if self.que[idx] == value:\n",
    "                c +=1\n",
    "        return c\n",
    "    \n",
    "    def __contains__(self, value : Any) -> bool:\n",
    "        return self.count(value)\n",
    "    \n",
    "    def clear(self) ->None:\n",
    "        self.no = self.front = self.clear = 0\n",
    "        \n",
    "        \n",
    "    def dump(self) ->None:\n",
    "        if self.is_empty():\n",
    "            print('큐가 비었습니다.')\n",
    "            \n",
    "        else :\n",
    "            for i in range(self.no):\n",
    "                print(self.que[(i + self.front) % self.capacity], end='')\n",
    "            print()\n",
    "            \n",
    "        "
   ]
  },
  {
   "cell_type": "code",
   "execution_count": null,
   "id": "0c70698d",
   "metadata": {
    "ExecuteTime": {
     "start_time": "2021-08-28T16:34:26.241Z"
    }
   },
   "outputs": [
    {
     "name": "stdout",
     "output_type": "stream",
     "text": [
      "현재 데이터 개수 : 0/ 64\n",
      "(1)인큐 (2)디큐 (3)피크 (4)검색 (5)덤프 (6)종료 : 1\n",
      "인큐할 데이터를 입력하세요. :1\n",
      "현재 데이터 개수 : 1/ 64\n",
      "(1)인큐 (2)디큐 (3)피크 (4)검색 (5)덤프 (6)종료 : 1\n",
      "인큐할 데이터를 입력하세요. :2\n",
      "현재 데이터 개수 : 2/ 64\n",
      "(1)인큐 (2)디큐 (3)피크 (4)검색 (5)덤프 (6)종료 : 1\n",
      "인큐할 데이터를 입력하세요. :3\n",
      "현재 데이터 개수 : 3/ 64\n",
      "(1)인큐 (2)디큐 (3)피크 (4)검색 (5)덤프 (6)종료 : 1\n",
      "인큐할 데이터를 입력하세요. :4\n",
      "현재 데이터 개수 : 4/ 64\n",
      "(1)인큐 (2)디큐 (3)피크 (4)검색 (5)덤프 (6)종료 : 1\n",
      "인큐할 데이터를 입력하세요. :5\n",
      "현재 데이터 개수 : 5/ 64\n",
      "(1)인큐 (2)디큐 (3)피크 (4)검색 (5)덤프 (6)종료 : 4\n",
      "검색할 값을 입력하세요. :1\n",
      "1개 포함되고, 맨 앞의 위치는 0입니다,\n",
      "현재 데이터 개수 : 5/ 64\n",
      "(1)인큐 (2)디큐 (3)피크 (4)검색 (5)덤프 (6)종료 : 5\n",
      "12345\n",
      "현재 데이터 개수 : 5/ 64\n",
      "(1)인큐 (2)디큐 (3)피크 (4)검색 (5)덤프 (6)종료 : 2\n",
      "현재 데이터 개수 : 4/ 64\n",
      "(1)인큐 (2)디큐 (3)피크 (4)검색 (5)덤프 (6)종료 : 2\n",
      "현재 데이터 개수 : 3/ 64\n",
      "(1)인큐 (2)디큐 (3)피크 (4)검색 (5)덤프 (6)종료"
     ]
    }
   ],
   "source": [
    "from enum import Enum\n",
    "\n",
    "\n",
    "Menu = Enum('Menu', ['인큐', '디큐', '피크', '검색', '덤프', '종료'])\n",
    "\n",
    "def select_menu() -> Menu:\n",
    "    s = [f'({m.value}){m.name}' for m in Menu]\n",
    "    while True:\n",
    "        print(*s, sep = ' ', end ='')\n",
    "        n = int(input(' : '))\n",
    "        if 1 <= n <= len(Menu):\n",
    "            return Menu(n)\n",
    "q = FixedQueue(64)\n",
    "\n",
    "while True:\n",
    "    print(f'현재 데이터 개수 : {len(q)}/ {q.capacity}')\n",
    "    menu = select_menu()\n",
    "    \n",
    "    if menu == Menu.인큐:\n",
    "        x = int(input('인큐할 데이터를 입력하세요. :'))\n",
    "        try:\n",
    "            q.enque(x)\n",
    "        except FixedQueue.Full:\n",
    "            print('큐가 가득 찼습니다.')\n",
    "            \n",
    "    elif menu == Menu.디큐:\n",
    "        try:\n",
    "            x = q.deque()\n",
    "        except FixedQueue.Empty:\n",
    "            print('큐가 비어있습니다.')\n",
    "            \n",
    "    elif menu == Menu.피크:\n",
    "        try:\n",
    "            x = q.peek()\n",
    "            print(f'피크한 데이터는 {x}입니다.')\n",
    "        except FixedQueue.Empty:\n",
    "            print('큐가 비었습니다.')\n",
    "            \n",
    "    elif menu == Menu.검색:\n",
    "        x  = int(input('검색할 값을 입력하세요. :'))\n",
    "        if x in q:\n",
    "            print(f'{q.count(x)}개 포함되고, 맨 앞의 위치는 {q.find(x)}입니다,')\n",
    "        else:\n",
    "            print('검색값을 찾을 수 없습니다.')\n",
    "            \n",
    "    elif menu == Menu.덤프:\n",
    "        q.dump()\n",
    "    else:\n",
    "        break"
   ]
  },
  {
   "cell_type": "code",
   "execution_count": 2,
   "id": "3cfc843d",
   "metadata": {
    "ExecuteTime": {
     "end_time": "2021-08-28T16:40:51.867581Z",
     "start_time": "2021-08-28T16:40:29.849434Z"
    }
   },
   "outputs": [
    {
     "name": "stdout",
     "output_type": "stream",
     "text": [
      "정수를 몇개나 저장할까요? :10\n",
      "1번째 정수를 입력하세요 : 15\n",
      "계속할까요? (Y ... Yes / N ... No: )Y\n",
      "2번째 정수를 입력하세요 : 17\n",
      "계속할까요? (Y ... Yes / N ... No: )N\n",
      "1번째  = 15\n",
      "2번째  = 17\n"
     ]
    }
   ],
   "source": [
    "n = int(input('정수를 몇개나 저장할까요? :'))\n",
    "a = [None] * n\n",
    "\n",
    "cnt = 0\n",
    "while True:\n",
    "    a[cnt % n] = int(input((f'{cnt+1}번째 정수를 입력하세요 : ')))\n",
    "    cnt += 1\n",
    "    \n",
    "    retry = input(f'계속할까요? (Y ... Yes / N ... No: )')\n",
    "    if retry in {'N', 'n'}:\n",
    "        break\n",
    "        \n",
    "i = cnt - n\n",
    "if i < 0: i = 0 \n",
    "    \n",
    "while i <cnt:\n",
    "    print(f'{i + 1}번째  = {a[i % n]}')\n",
    "    i += 1"
   ]
  },
  {
   "cell_type": "code",
   "execution_count": null,
   "id": "273cbe25",
   "metadata": {},
   "outputs": [],
   "source": []
  }
 ],
 "metadata": {
  "kernelspec": {
   "display_name": "Python 3",
   "language": "python",
   "name": "python3"
  },
  "language_info": {
   "codemirror_mode": {
    "name": "ipython",
    "version": 3
   },
   "file_extension": ".py",
   "mimetype": "text/x-python",
   "name": "python",
   "nbconvert_exporter": "python",
   "pygments_lexer": "ipython3",
   "version": "3.8.8"
  },
  "toc": {
   "base_numbering": 1,
   "nav_menu": {},
   "number_sections": true,
   "sideBar": true,
   "skip_h1_title": false,
   "title_cell": "Table of Contents",
   "title_sidebar": "Contents",
   "toc_cell": false,
   "toc_position": {},
   "toc_section_display": true,
   "toc_window_display": false
  },
  "varInspector": {
   "cols": {
    "lenName": 16,
    "lenType": 16,
    "lenVar": 40
   },
   "kernels_config": {
    "python": {
     "delete_cmd_postfix": "",
     "delete_cmd_prefix": "del ",
     "library": "var_list.py",
     "varRefreshCmd": "print(var_dic_list())"
    },
    "r": {
     "delete_cmd_postfix": ") ",
     "delete_cmd_prefix": "rm(",
     "library": "var_list.r",
     "varRefreshCmd": "cat(var_dic_list()) "
    }
   },
   "types_to_exclude": [
    "module",
    "function",
    "builtin_function_or_method",
    "instance",
    "_Feature"
   ],
   "window_display": false
  }
 },
 "nbformat": 4,
 "nbformat_minor": 5
}
