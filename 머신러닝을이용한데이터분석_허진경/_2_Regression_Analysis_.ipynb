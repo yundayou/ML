{
  "nbformat": 4,
  "nbformat_minor": 0,
  "metadata": {
    "colab": {
      "name": "#2 Regression_Analysis .ipynb",
      "provenance": [],
      "collapsed_sections": []
    },
    "kernelspec": {
      "name": "python3",
      "display_name": "Python 3"
    },
    "language_info": {
      "name": "python"
    }
  },
  "cells": [
    {
      "cell_type": "markdown",
      "metadata": {
        "id": "h9qKlIkfaE6C"
      },
      "source": [
        "이산확률분포- 이항분포, 베르누이분포, 기하분포, 다항분포\n",
        "\n",
        "연속확률분포 - t분포, 카이제곱분포, f분포"
      ]
    },
    {
      "cell_type": "code",
      "metadata": {
        "id": "CvdtP10EaEtD"
      },
      "source": [
        "import numpy as np\n",
        "import matplotlib.pyplot as plt\n",
        "%matplotlib inline\n",
        "\n",
        "np.random.seed(0)"
      ],
      "execution_count": null,
      "outputs": []
    },
    {
      "cell_type": "code",
      "metadata": {
        "colab": {
          "base_uri": "https://localhost:8080/"
        },
        "id": "KHxBEG76aDZ_",
        "outputId": "af0f6585-6d76-48d9-ee0d-0f2f8f0eff28"
      },
      "source": [
        "binomial = np.random.binomial(10, 0.5, 100)\n",
        "np.histogram(binomial)"
      ],
      "execution_count": null,
      "outputs": [
        {
          "output_type": "execute_result",
          "data": {
            "text/plain": [
              "(array([ 1,  4, 18,  0, 17, 27,  0, 19,  9,  5]),\n",
              " array([1. , 1.7, 2.4, 3.1, 3.8, 4.5, 5.2, 5.9, 6.6, 7.3, 8. ]))"
            ]
          },
          "metadata": {},
          "execution_count": 2
        }
      ]
    },
    {
      "cell_type": "code",
      "metadata": {
        "colab": {
          "base_uri": "https://localhost:8080/",
          "height": 265
        },
        "id": "Zp2lOadjdUo1",
        "outputId": "b60e5df7-c699-44a8-ef83-aab9e7474172"
      },
      "source": [
        "plt.hist(binomial, bins = 50)\n",
        "plt.show()"
      ],
      "execution_count": null,
      "outputs": [
        {
          "output_type": "display_data",
          "data": {
            "image/png": "[encoded data removed]",
            "text/plain": [
              "<Figure size 432x288 with 1 Axes>"
            ]
          },
          "metadata": {
            "needs_background": "light"
          }
        }
      ]
    },
    {
      "cell_type": "code",
      "metadata": {
        "colab": {
          "base_uri": "https://localhost:8080/",
          "height": 265
        },
        "id": "xzHHuMzldeNp",
        "outputId": "fa529c19-6151-4ce8-d27b-bed1479b5ce6"
      },
      "source": [
        "bernoulli = np.random.binomial(1, 0.5, 100)\n",
        "plt.hist(bernoulli, bins = 50)\n",
        "plt.show()"
      ],
      "execution_count": null,
      "outputs": [
        {
          "output_type": "display_data",
          "data": {
            "image/png": "[encoded data removed]",
            "text/plain": [
              "<Figure size 432x288 with 1 Axes>"
            ]
          },
          "metadata": {
            "needs_background": "light"
          }
        }
      ]
    },
    {
      "cell_type": "code",
      "metadata": {
        "colab": {
          "base_uri": "https://localhost:8080/",
          "height": 265
        },
        "id": "q9hFrrkzdtEE",
        "outputId": "4462c794-df9e-4cd5-da37-d08bc17c629a"
      },
      "source": [
        "geome = np.random.geometric(0.5, 100)\n",
        "plt.hist(geome, bins = 50)\n",
        "plt.show()"
      ],
      "execution_count": null,
      "outputs": [
        {
          "output_type": "display_data",
          "data": {
            "image/png": "[encoded data removed]",
            "text/plain": [
              "<Figure size 432x288 with 1 Axes>"
            ]
          },
          "metadata": {
            "needs_background": "light"
          }
        }
      ]
    },
    {
      "cell_type": "code",
      "metadata": {
        "colab": {
          "base_uri": "https://localhost:8080/"
        },
        "id": "gEJoVJYRd2Y6",
        "outputId": "05d3c09b-1f84-40d5-ae5d-3e4d47876e61"
      },
      "source": [
        "multi = np.random.multinomial(n = 20, pvals = [1/6.]*6, size = 1)\n",
        "multi"
      ],
      "execution_count": null,
      "outputs": [
        {
          "output_type": "execute_result",
          "data": {
            "text/plain": [
              "array([[6, 4, 2, 1, 3, 4]])"
            ]
          },
          "metadata": {},
          "execution_count": 6
        }
      ]
    },
    {
      "cell_type": "code",
      "metadata": {
        "id": "ViPscOvAeJ7J"
      },
      "source": [
        "multi = np.random.multinomial(n = 20, pvals = [1/6.]*6, size = 10)"
      ],
      "execution_count": null,
      "outputs": []
    },
    {
      "cell_type": "code",
      "metadata": {
        "colab": {
          "base_uri": "https://localhost:8080/"
        },
        "id": "ILSKpSVneUVM",
        "outputId": "0e4cb974-12f3-473e-8841-9164173298b0"
      },
      "source": [
        "multi"
      ],
      "execution_count": null,
      "outputs": [
        {
          "output_type": "execute_result",
          "data": {
            "text/plain": [
              "array([[2, 2, 1, 6, 1, 8],\n",
              "       [5, 1, 1, 2, 6, 5],\n",
              "       [2, 3, 4, 5, 4, 2],\n",
              "       [2, 2, 1, 4, 4, 7],\n",
              "       [3, 4, 4, 2, 3, 4],\n",
              "       [2, 5, 1, 5, 5, 2],\n",
              "       [5, 2, 3, 4, 2, 4],\n",
              "       [3, 2, 3, 1, 7, 4],\n",
              "       [1, 4, 3, 4, 6, 2],\n",
              "       [4, 1, 3, 4, 4, 4]])"
            ]
          },
          "metadata": {},
          "execution_count": 8
        }
      ]
    },
    {
      "cell_type": "code",
      "metadata": {
        "colab": {
          "base_uri": "https://localhost:8080/",
          "height": 265
        },
        "id": "VbvdqZg-eWDS",
        "outputId": "8d2b0457-8fe5-4891-abca-280421590a43"
      },
      "source": [
        "unif = np.random.uniform(0, 10, 1000)\n",
        "plt.hist(unif, bins = 100)\n",
        "plt.show()"
      ],
      "execution_count": null,
      "outputs": [
        {
          "output_type": "display_data",
          "data": {
            "image/png": "[encoded data removed]",
            "text/plain": [
              "<Figure size 432x288 with 1 Axes>"
            ]
          },
          "metadata": {
            "needs_background": "light"
          }
        }
      ]
    },
    {
      "cell_type": "code",
      "metadata": {
        "colab": {
          "base_uri": "https://localhost:8080/",
          "height": 265
        },
        "id": "V8ONuaEgef3l",
        "outputId": "9857620b-d073-4a68-fe6a-a8ce898e98b8"
      },
      "source": [
        "norm = np.random.normal(0, 1, 1000)\n",
        "plt.hist(norm, bins = 50)\n",
        "plt.show()"
      ],
      "execution_count": null,
      "outputs": [
        {
          "output_type": "display_data",
          "data": {
            "image/png": "[encoded data removed]",
            "text/plain": [
              "<Figure size 432x288 with 1 Axes>"
            ]
          },
          "metadata": {
            "needs_background": "light"
          }
        }
      ]
    },
    {
      "cell_type": "code",
      "metadata": {
        "colab": {
          "base_uri": "https://localhost:8080/",
          "height": 265
        },
        "id": "0EfKJgtkensZ",
        "outputId": "9c6b23a4-dc23-4615-d8fa-8dac48ff5964"
      },
      "source": [
        "expo = np.random.exponential(10, 1000)\n",
        "plt.hist(expo, bins = 10)\n",
        "plt.show()"
      ],
      "execution_count": null,
      "outputs": [
        {
          "output_type": "display_data",
          "data": {
            "image/png": "[encoded data removed]",
            "text/plain": [
              "<Figure size 432x288 with 1 Axes>"
            ]
          },
          "metadata": {
            "needs_background": "light"
          }
        }
      ]
    },
    {
      "cell_type": "code",
      "metadata": {
        "id": "VBQptHa_e2aV",
        "colab": {
          "base_uri": "https://localhost:8080/",
          "height": 173
        },
        "outputId": "fb73191d-84cd-4b33-9ca3-a2704f809641"
      },
      "source": [
        "import seaborn as sns\n",
        "iris = sns.load_dataset('iris')\n",
        "iris.corr(method = 'pearson')"
      ],
      "execution_count": null,
      "outputs": [
        {
          "output_type": "execute_result",
          "data": {
            "text/html": [
              "<div>\n",
              "<style scoped>\n",
              "    .dataframe tbody tr th:only-of-type {\n",
              "        vertical-align: middle;\n",
              "    }\n",
              "\n",
              "    .dataframe tbody tr th {\n",
              "        vertical-align: top;\n",
              "    }\n",
              "\n",
              "    .dataframe thead th {\n",
              "        text-align: right;\n",
              "    }\n",
              "</style>\n",
              "<table border=\"1\" class=\"dataframe\">\n",
              "  <thead>\n",
              "    <tr style=\"text-align: right;\">\n",
              "      <th></th>\n",
              "      <th>sepal_length</th>\n",
              "      <th>sepal_width</th>\n",
              "      <th>petal_length</th>\n",
              "      <th>petal_width</th>\n",
              "    </tr>\n",
              "  </thead>\n",
              "  <tbody>\n",
              "    <tr>\n",
              "      <th>sepal_length</th>\n",
              "      <td>1.000000</td>\n",
              "      <td>-0.117570</td>\n",
              "      <td>0.871754</td>\n",
              "      <td>0.817941</td>\n",
              "    </tr>\n",
              "    <tr>\n",
              "      <th>sepal_width</th>\n",
              "      <td>-0.117570</td>\n",
              "      <td>1.000000</td>\n",
              "      <td>-0.428440</td>\n",
              "      <td>-0.366126</td>\n",
              "    </tr>\n",
              "    <tr>\n",
              "      <th>petal_length</th>\n",
              "      <td>0.871754</td>\n",
              "      <td>-0.428440</td>\n",
              "      <td>1.000000</td>\n",
              "      <td>0.962865</td>\n",
              "    </tr>\n",
              "    <tr>\n",
              "      <th>petal_width</th>\n",
              "      <td>0.817941</td>\n",
              "      <td>-0.366126</td>\n",
              "      <td>0.962865</td>\n",
              "      <td>1.000000</td>\n",
              "    </tr>\n",
              "  </tbody>\n",
              "</table>\n",
              "</div>"
            ],
            "text/plain": [
              "              sepal_length  sepal_width  petal_length  petal_width\n",
              "sepal_length      1.000000    -0.117570      0.871754     0.817941\n",
              "sepal_width      -0.117570     1.000000     -0.428440    -0.366126\n",
              "petal_length      0.871754    -0.428440      1.000000     0.962865\n",
              "petal_width       0.817941    -0.366126      0.962865     1.000000"
            ]
          },
          "metadata": {},
          "execution_count": 12
        }
      ]
    },
    {
      "cell_type": "code",
      "metadata": {
        "colab": {
          "base_uri": "https://localhost:8080/",
          "height": 743
        },
        "id": "L33PwqFxdRlN",
        "outputId": "80932ffb-a5f9-4056-e360-30f41fdbf7ef"
      },
      "source": [
        "sns.pairplot(iris)"
      ],
      "execution_count": null,
      "outputs": [
        {
          "output_type": "execute_result",
          "data": {
            "text/plain": [
              "<seaborn.axisgrid.PairGrid at 0x7f3a2c0b6610>"
            ]
          },
          "metadata": {},
          "execution_count": 13
        },
        {
          "output_type": "display_data",
          "data": {
            "image/png": "[encoded data removed]",
            "text/plain": [
              "<Figure size 720x720 with 20 Axes>"
            ]
          },
          "metadata": {
            "needs_background": "light"
          }
        }
      ]
    },
    {
      "cell_type": "code",
      "metadata": {
        "colab": {
          "base_uri": "https://localhost:8080/"
        },
        "id": "iNlOeNrOdTnz",
        "outputId": "7720028e-859b-4513-a800-ecf6ec1481b6"
      },
      "source": [
        "#피어슨의 리턴값은 (피어슨 상관계수, p-value)\n",
        "from scipy.stats.stats import pearsonr\n",
        "pearsonr(iris.petal_length, iris.petal_width)"
      ],
      "execution_count": null,
      "outputs": [
        {
          "output_type": "execute_result",
          "data": {
            "text/plain": [
              "(0.9628654314027961, 4.6750039073275495e-86)"
            ]
          },
          "metadata": {},
          "execution_count": 14
        }
      ]
    },
    {
      "cell_type": "code",
      "metadata": {
        "colab": {
          "base_uri": "https://localhost:8080/",
          "height": 351
        },
        "id": "f1_wGOAOdvbG",
        "outputId": "a23e605a-75a7-4cc3-c385-4043770c4b80"
      },
      "source": [
        "sns.scatterplot(iris.petal_length, iris.petal_width)"
      ],
      "execution_count": null,
      "outputs": [
        {
          "output_type": "stream",
          "name": "stderr",
          "text": [
            "/usr/local/lib/python3.7/dist-packages/seaborn/_decorators.py:43: FutureWarning: Pass the following variables as keyword args: x, y. From version 0.12, the only valid positional argument will be `data`, and passing other arguments without an explicit keyword will result in an error or misinterpretation.\n",
            "  FutureWarning\n"
          ]
        },
        {
          "output_type": "execute_result",
          "data": {
            "text/plain": [
              "<matplotlib.axes._subplots.AxesSubplot at 0x7f3a148e3e10>"
            ]
          },
          "metadata": {},
          "execution_count": 15
        },
        {
          "output_type": "display_data",
          "data": {
            "image/png": "[encoded data removed]",
            "text/plain": [
              "<Figure size 432x288 with 1 Axes>"
            ]
          },
          "metadata": {
            "needs_background": "light"
          }
        }
      ]
    },
    {
      "cell_type": "code",
      "metadata": {
        "colab": {
          "base_uri": "https://localhost:8080/",
          "height": 173
        },
        "id": "0aPPFJXseILl",
        "outputId": "21b3d78d-438c-483d-973c-5762dae9468e"
      },
      "source": [
        "iris.corr(method = 'spearman')"
      ],
      "execution_count": null,
      "outputs": [
        {
          "output_type": "execute_result",
          "data": {
            "text/html": [
              "<div>\n",
              "<style scoped>\n",
              "    .dataframe tbody tr th:only-of-type {\n",
              "        vertical-align: middle;\n",
              "    }\n",
              "\n",
              "    .dataframe tbody tr th {\n",
              "        vertical-align: top;\n",
              "    }\n",
              "\n",
              "    .dataframe thead th {\n",
              "        text-align: right;\n",
              "    }\n",
              "</style>\n",
              "<table border=\"1\" class=\"dataframe\">\n",
              "  <thead>\n",
              "    <tr style=\"text-align: right;\">\n",
              "      <th></th>\n",
              "      <th>sepal_length</th>\n",
              "      <th>sepal_width</th>\n",
              "      <th>petal_length</th>\n",
              "      <th>petal_width</th>\n",
              "    </tr>\n",
              "  </thead>\n",
              "  <tbody>\n",
              "    <tr>\n",
              "      <th>sepal_length</th>\n",
              "      <td>1.000000</td>\n",
              "      <td>-0.166778</td>\n",
              "      <td>0.881898</td>\n",
              "      <td>0.834289</td>\n",
              "    </tr>\n",
              "    <tr>\n",
              "      <th>sepal_width</th>\n",
              "      <td>-0.166778</td>\n",
              "      <td>1.000000</td>\n",
              "      <td>-0.309635</td>\n",
              "      <td>-0.289032</td>\n",
              "    </tr>\n",
              "    <tr>\n",
              "      <th>petal_length</th>\n",
              "      <td>0.881898</td>\n",
              "      <td>-0.309635</td>\n",
              "      <td>1.000000</td>\n",
              "      <td>0.937667</td>\n",
              "    </tr>\n",
              "    <tr>\n",
              "      <th>petal_width</th>\n",
              "      <td>0.834289</td>\n",
              "      <td>-0.289032</td>\n",
              "      <td>0.937667</td>\n",
              "      <td>1.000000</td>\n",
              "    </tr>\n",
              "  </tbody>\n",
              "</table>\n",
              "</div>"
            ],
            "text/plain": [
              "              sepal_length  sepal_width  petal_length  petal_width\n",
              "sepal_length      1.000000    -0.166778      0.881898     0.834289\n",
              "sepal_width      -0.166778     1.000000     -0.309635    -0.289032\n",
              "petal_length      0.881898    -0.309635      1.000000     0.937667\n",
              "petal_width       0.834289    -0.289032      0.937667     1.000000"
            ]
          },
          "metadata": {},
          "execution_count": 16
        }
      ]
    },
    {
      "cell_type": "code",
      "metadata": {
        "colab": {
          "base_uri": "https://localhost:8080/"
        },
        "id": "SsvVOqg-eP2i",
        "outputId": "cd00fd42-87c3-4951-8771-2257693d6e06"
      },
      "source": [
        "from scipy.stats.stats import spearmanr\n",
        "spearmanr(iris.petal_length, iris.petal_width)"
      ],
      "execution_count": null,
      "outputs": [
        {
          "output_type": "execute_result",
          "data": {
            "text/plain": [
              "SpearmanrResult(correlation=0.9376668235763412, pvalue=8.156596854126675e-70)"
            ]
          },
          "metadata": {},
          "execution_count": 17
        }
      ]
    },
    {
      "cell_type": "code",
      "metadata": {
        "id": "Z47q04S8egAm"
      },
      "source": [
        "import pandas as pd\n",
        "\n",
        "redwine = pd.read_csv('winequality-red.csv', delimiter=';')"
      ],
      "execution_count": null,
      "outputs": []
    },
    {
      "cell_type": "code",
      "metadata": {
        "colab": {
          "base_uri": "https://localhost:8080/",
          "height": 238
        },
        "id": "-inPFJJDfGRS",
        "outputId": "70d76996-6b52-459d-fba1-a8d1eca4d280"
      },
      "source": [
        "redwine.head()"
      ],
      "execution_count": null,
      "outputs": [
        {
          "output_type": "execute_result",
          "data": {
            "text/html": [
              "<div>\n",
              "<style scoped>\n",
              "    .dataframe tbody tr th:only-of-type {\n",
              "        vertical-align: middle;\n",
              "    }\n",
              "\n",
              "    .dataframe tbody tr th {\n",
              "        vertical-align: top;\n",
              "    }\n",
              "\n",
              "    .dataframe thead th {\n",
              "        text-align: right;\n",
              "    }\n",
              "</style>\n",
              "<table border=\"1\" class=\"dataframe\">\n",
              "  <thead>\n",
              "    <tr style=\"text-align: right;\">\n",
              "      <th></th>\n",
              "      <th>fixed acidity</th>\n",
              "      <th>volatile acidity</th>\n",
              "      <th>citric acid</th>\n",
              "      <th>residual sugar</th>\n",
              "      <th>chlorides</th>\n",
              "      <th>free sulfur dioxide</th>\n",
              "      <th>total sulfur dioxide</th>\n",
              "      <th>density</th>\n",
              "      <th>pH</th>\n",
              "      <th>sulphates</th>\n",
              "      <th>alcohol</th>\n",
              "      <th>quality</th>\n",
              "    </tr>\n",
              "  </thead>\n",
              "  <tbody>\n",
              "    <tr>\n",
              "      <th>0</th>\n",
              "      <td>7.4</td>\n",
              "      <td>0.70</td>\n",
              "      <td>0.00</td>\n",
              "      <td>1.9</td>\n",
              "      <td>0.076</td>\n",
              "      <td>11.0</td>\n",
              "      <td>34.0</td>\n",
              "      <td>0.9978</td>\n",
              "      <td>3.51</td>\n",
              "      <td>0.56</td>\n",
              "      <td>9.4</td>\n",
              "      <td>5</td>\n",
              "    </tr>\n",
              "    <tr>\n",
              "      <th>1</th>\n",
              "      <td>7.8</td>\n",
              "      <td>0.88</td>\n",
              "      <td>0.00</td>\n",
              "      <td>2.6</td>\n",
              "      <td>0.098</td>\n",
              "      <td>25.0</td>\n",
              "      <td>67.0</td>\n",
              "      <td>0.9968</td>\n",
              "      <td>3.20</td>\n",
              "      <td>0.68</td>\n",
              "      <td>9.8</td>\n",
              "      <td>5</td>\n",
              "    </tr>\n",
              "    <tr>\n",
              "      <th>2</th>\n",
              "      <td>7.8</td>\n",
              "      <td>0.76</td>\n",
              "      <td>0.04</td>\n",
              "      <td>2.3</td>\n",
              "      <td>0.092</td>\n",
              "      <td>15.0</td>\n",
              "      <td>54.0</td>\n",
              "      <td>0.9970</td>\n",
              "      <td>3.26</td>\n",
              "      <td>0.65</td>\n",
              "      <td>9.8</td>\n",
              "      <td>5</td>\n",
              "    </tr>\n",
              "    <tr>\n",
              "      <th>3</th>\n",
              "      <td>11.2</td>\n",
              "      <td>0.28</td>\n",
              "      <td>0.56</td>\n",
              "      <td>1.9</td>\n",
              "      <td>0.075</td>\n",
              "      <td>17.0</td>\n",
              "      <td>60.0</td>\n",
              "      <td>0.9980</td>\n",
              "      <td>3.16</td>\n",
              "      <td>0.58</td>\n",
              "      <td>9.8</td>\n",
              "      <td>6</td>\n",
              "    </tr>\n",
              "    <tr>\n",
              "      <th>4</th>\n",
              "      <td>7.4</td>\n",
              "      <td>0.70</td>\n",
              "      <td>0.00</td>\n",
              "      <td>1.9</td>\n",
              "      <td>0.076</td>\n",
              "      <td>11.0</td>\n",
              "      <td>34.0</td>\n",
              "      <td>0.9978</td>\n",
              "      <td>3.51</td>\n",
              "      <td>0.56</td>\n",
              "      <td>9.4</td>\n",
              "      <td>5</td>\n",
              "    </tr>\n",
              "  </tbody>\n",
              "</table>\n",
              "</div>"
            ],
            "text/plain": [
              "   fixed acidity  volatile acidity  citric acid  ...  sulphates  alcohol  quality\n",
              "0            7.4              0.70         0.00  ...       0.56      9.4        5\n",
              "1            7.8              0.88         0.00  ...       0.68      9.8        5\n",
              "2            7.8              0.76         0.04  ...       0.65      9.8        5\n",
              "3           11.2              0.28         0.56  ...       0.58      9.8        6\n",
              "4            7.4              0.70         0.00  ...       0.56      9.4        5\n",
              "\n",
              "[5 rows x 12 columns]"
            ]
          },
          "metadata": {},
          "execution_count": 19
        }
      ]
    },
    {
      "cell_type": "code",
      "metadata": {
        "colab": {
          "base_uri": "https://localhost:8080/",
          "height": 351
        },
        "id": "sxWYyLVZfKBD",
        "outputId": "61ca7459-2afe-402f-dcd5-5de59f2e8ace"
      },
      "source": [
        "redwine.describe()"
      ],
      "execution_count": null,
      "outputs": [
        {
          "output_type": "execute_result",
          "data": {
            "text/html": [
              "<div>\n",
              "<style scoped>\n",
              "    .dataframe tbody tr th:only-of-type {\n",
              "        vertical-align: middle;\n",
              "    }\n",
              "\n",
              "    .dataframe tbody tr th {\n",
              "        vertical-align: top;\n",
              "    }\n",
              "\n",
              "    .dataframe thead th {\n",
              "        text-align: right;\n",
              "    }\n",
              "</style>\n",
              "<table border=\"1\" class=\"dataframe\">\n",
              "  <thead>\n",
              "    <tr style=\"text-align: right;\">\n",
              "      <th></th>\n",
              "      <th>fixed acidity</th>\n",
              "      <th>volatile acidity</th>\n",
              "      <th>citric acid</th>\n",
              "      <th>residual sugar</th>\n",
              "      <th>chlorides</th>\n",
              "      <th>free sulfur dioxide</th>\n",
              "      <th>total sulfur dioxide</th>\n",
              "      <th>density</th>\n",
              "      <th>pH</th>\n",
              "      <th>sulphates</th>\n",
              "      <th>alcohol</th>\n",
              "      <th>quality</th>\n",
              "    </tr>\n",
              "  </thead>\n",
              "  <tbody>\n",
              "    <tr>\n",
              "      <th>count</th>\n",
              "      <td>1599.000000</td>\n",
              "      <td>1599.000000</td>\n",
              "      <td>1599.000000</td>\n",
              "      <td>1599.000000</td>\n",
              "      <td>1599.000000</td>\n",
              "      <td>1599.000000</td>\n",
              "      <td>1599.000000</td>\n",
              "      <td>1599.000000</td>\n",
              "      <td>1599.000000</td>\n",
              "      <td>1599.000000</td>\n",
              "      <td>1599.000000</td>\n",
              "      <td>1599.000000</td>\n",
              "    </tr>\n",
              "    <tr>\n",
              "      <th>mean</th>\n",
              "      <td>8.319637</td>\n",
              "      <td>0.527821</td>\n",
              "      <td>0.270976</td>\n",
              "      <td>2.538806</td>\n",
              "      <td>0.087467</td>\n",
              "      <td>15.874922</td>\n",
              "      <td>46.467792</td>\n",
              "      <td>0.996747</td>\n",
              "      <td>3.311113</td>\n",
              "      <td>0.658149</td>\n",
              "      <td>10.422983</td>\n",
              "      <td>5.636023</td>\n",
              "    </tr>\n",
              "    <tr>\n",
              "      <th>std</th>\n",
              "      <td>1.741096</td>\n",
              "      <td>0.179060</td>\n",
              "      <td>0.194801</td>\n",
              "      <td>1.409928</td>\n",
              "      <td>0.047065</td>\n",
              "      <td>10.460157</td>\n",
              "      <td>32.895324</td>\n",
              "      <td>0.001887</td>\n",
              "      <td>0.154386</td>\n",
              "      <td>0.169507</td>\n",
              "      <td>1.065668</td>\n",
              "      <td>0.807569</td>\n",
              "    </tr>\n",
              "    <tr>\n",
              "      <th>min</th>\n",
              "      <td>4.600000</td>\n",
              "      <td>0.120000</td>\n",
              "      <td>0.000000</td>\n",
              "      <td>0.900000</td>\n",
              "      <td>0.012000</td>\n",
              "      <td>1.000000</td>\n",
              "      <td>6.000000</td>\n",
              "      <td>0.990070</td>\n",
              "      <td>2.740000</td>\n",
              "      <td>0.330000</td>\n",
              "      <td>8.400000</td>\n",
              "      <td>3.000000</td>\n",
              "    </tr>\n",
              "    <tr>\n",
              "      <th>25%</th>\n",
              "      <td>7.100000</td>\n",
              "      <td>0.390000</td>\n",
              "      <td>0.090000</td>\n",
              "      <td>1.900000</td>\n",
              "      <td>0.070000</td>\n",
              "      <td>7.000000</td>\n",
              "      <td>22.000000</td>\n",
              "      <td>0.995600</td>\n",
              "      <td>3.210000</td>\n",
              "      <td>0.550000</td>\n",
              "      <td>9.500000</td>\n",
              "      <td>5.000000</td>\n",
              "    </tr>\n",
              "    <tr>\n",
              "      <th>50%</th>\n",
              "      <td>7.900000</td>\n",
              "      <td>0.520000</td>\n",
              "      <td>0.260000</td>\n",
              "      <td>2.200000</td>\n",
              "      <td>0.079000</td>\n",
              "      <td>14.000000</td>\n",
              "      <td>38.000000</td>\n",
              "      <td>0.996750</td>\n",
              "      <td>3.310000</td>\n",
              "      <td>0.620000</td>\n",
              "      <td>10.200000</td>\n",
              "      <td>6.000000</td>\n",
              "    </tr>\n",
              "    <tr>\n",
              "      <th>75%</th>\n",
              "      <td>9.200000</td>\n",
              "      <td>0.640000</td>\n",
              "      <td>0.420000</td>\n",
              "      <td>2.600000</td>\n",
              "      <td>0.090000</td>\n",
              "      <td>21.000000</td>\n",
              "      <td>62.000000</td>\n",
              "      <td>0.997835</td>\n",
              "      <td>3.400000</td>\n",
              "      <td>0.730000</td>\n",
              "      <td>11.100000</td>\n",
              "      <td>6.000000</td>\n",
              "    </tr>\n",
              "    <tr>\n",
              "      <th>max</th>\n",
              "      <td>15.900000</td>\n",
              "      <td>1.580000</td>\n",
              "      <td>1.000000</td>\n",
              "      <td>15.500000</td>\n",
              "      <td>0.611000</td>\n",
              "      <td>72.000000</td>\n",
              "      <td>289.000000</td>\n",
              "      <td>1.003690</td>\n",
              "      <td>4.010000</td>\n",
              "      <td>2.000000</td>\n",
              "      <td>14.900000</td>\n",
              "      <td>8.000000</td>\n",
              "    </tr>\n",
              "  </tbody>\n",
              "</table>\n",
              "</div>"
            ],
            "text/plain": [
              "       fixed acidity  volatile acidity  ...      alcohol      quality\n",
              "count    1599.000000       1599.000000  ...  1599.000000  1599.000000\n",
              "mean        8.319637          0.527821  ...    10.422983     5.636023\n",
              "std         1.741096          0.179060  ...     1.065668     0.807569\n",
              "min         4.600000          0.120000  ...     8.400000     3.000000\n",
              "25%         7.100000          0.390000  ...     9.500000     5.000000\n",
              "50%         7.900000          0.520000  ...    10.200000     6.000000\n",
              "75%         9.200000          0.640000  ...    11.100000     6.000000\n",
              "max        15.900000          1.580000  ...    14.900000     8.000000\n",
              "\n",
              "[8 rows x 12 columns]"
            ]
          },
          "metadata": {},
          "execution_count": 20
        }
      ]
    },
    {
      "cell_type": "code",
      "metadata": {
        "colab": {
          "base_uri": "https://localhost:8080/",
          "height": 238
        },
        "id": "LnKYTTb4fSM4",
        "outputId": "99fc9451-13d8-4b06-9371-f584e01ae974"
      },
      "source": [
        "redwine.tail()"
      ],
      "execution_count": null,
      "outputs": [
        {
          "output_type": "execute_result",
          "data": {
            "text/html": [
              "<div>\n",
              "<style scoped>\n",
              "    .dataframe tbody tr th:only-of-type {\n",
              "        vertical-align: middle;\n",
              "    }\n",
              "\n",
              "    .dataframe tbody tr th {\n",
              "        vertical-align: top;\n",
              "    }\n",
              "\n",
              "    .dataframe thead th {\n",
              "        text-align: right;\n",
              "    }\n",
              "</style>\n",
              "<table border=\"1\" class=\"dataframe\">\n",
              "  <thead>\n",
              "    <tr style=\"text-align: right;\">\n",
              "      <th></th>\n",
              "      <th>fixed acidity</th>\n",
              "      <th>volatile acidity</th>\n",
              "      <th>citric acid</th>\n",
              "      <th>residual sugar</th>\n",
              "      <th>chlorides</th>\n",
              "      <th>free sulfur dioxide</th>\n",
              "      <th>total sulfur dioxide</th>\n",
              "      <th>density</th>\n",
              "      <th>pH</th>\n",
              "      <th>sulphates</th>\n",
              "      <th>alcohol</th>\n",
              "      <th>quality</th>\n",
              "    </tr>\n",
              "  </thead>\n",
              "  <tbody>\n",
              "    <tr>\n",
              "      <th>1594</th>\n",
              "      <td>6.2</td>\n",
              "      <td>0.600</td>\n",
              "      <td>0.08</td>\n",
              "      <td>2.0</td>\n",
              "      <td>0.090</td>\n",
              "      <td>32.0</td>\n",
              "      <td>44.0</td>\n",
              "      <td>0.99490</td>\n",
              "      <td>3.45</td>\n",
              "      <td>0.58</td>\n",
              "      <td>10.5</td>\n",
              "      <td>5</td>\n",
              "    </tr>\n",
              "    <tr>\n",
              "      <th>1595</th>\n",
              "      <td>5.9</td>\n",
              "      <td>0.550</td>\n",
              "      <td>0.10</td>\n",
              "      <td>2.2</td>\n",
              "      <td>0.062</td>\n",
              "      <td>39.0</td>\n",
              "      <td>51.0</td>\n",
              "      <td>0.99512</td>\n",
              "      <td>3.52</td>\n",
              "      <td>0.76</td>\n",
              "      <td>11.2</td>\n",
              "      <td>6</td>\n",
              "    </tr>\n",
              "    <tr>\n",
              "      <th>1596</th>\n",
              "      <td>6.3</td>\n",
              "      <td>0.510</td>\n",
              "      <td>0.13</td>\n",
              "      <td>2.3</td>\n",
              "      <td>0.076</td>\n",
              "      <td>29.0</td>\n",
              "      <td>40.0</td>\n",
              "      <td>0.99574</td>\n",
              "      <td>3.42</td>\n",
              "      <td>0.75</td>\n",
              "      <td>11.0</td>\n",
              "      <td>6</td>\n",
              "    </tr>\n",
              "    <tr>\n",
              "      <th>1597</th>\n",
              "      <td>5.9</td>\n",
              "      <td>0.645</td>\n",
              "      <td>0.12</td>\n",
              "      <td>2.0</td>\n",
              "      <td>0.075</td>\n",
              "      <td>32.0</td>\n",
              "      <td>44.0</td>\n",
              "      <td>0.99547</td>\n",
              "      <td>3.57</td>\n",
              "      <td>0.71</td>\n",
              "      <td>10.2</td>\n",
              "      <td>5</td>\n",
              "    </tr>\n",
              "    <tr>\n",
              "      <th>1598</th>\n",
              "      <td>6.0</td>\n",
              "      <td>0.310</td>\n",
              "      <td>0.47</td>\n",
              "      <td>3.6</td>\n",
              "      <td>0.067</td>\n",
              "      <td>18.0</td>\n",
              "      <td>42.0</td>\n",
              "      <td>0.99549</td>\n",
              "      <td>3.39</td>\n",
              "      <td>0.66</td>\n",
              "      <td>11.0</td>\n",
              "      <td>6</td>\n",
              "    </tr>\n",
              "  </tbody>\n",
              "</table>\n",
              "</div>"
            ],
            "text/plain": [
              "      fixed acidity  volatile acidity  citric acid  ...  sulphates  alcohol  quality\n",
              "1594            6.2             0.600         0.08  ...       0.58     10.5        5\n",
              "1595            5.9             0.550         0.10  ...       0.76     11.2        6\n",
              "1596            6.3             0.510         0.13  ...       0.75     11.0        6\n",
              "1597            5.9             0.645         0.12  ...       0.71     10.2        5\n",
              "1598            6.0             0.310         0.47  ...       0.66     11.0        6\n",
              "\n",
              "[5 rows x 12 columns]"
            ]
          },
          "metadata": {},
          "execution_count": 21
        }
      ]
    },
    {
      "cell_type": "code",
      "metadata": {
        "colab": {
          "base_uri": "https://localhost:8080/",
          "height": 611
        },
        "id": "5cKNZMd6fWnX",
        "outputId": "a7e1de17-08b6-4572-c0e1-c3eb3790de91"
      },
      "source": [
        "redwine.corr()"
      ],
      "execution_count": null,
      "outputs": [
        {
          "output_type": "execute_result",
          "data": {
            "text/html": [
              "<div>\n",
              "<style scoped>\n",
              "    .dataframe tbody tr th:only-of-type {\n",
              "        vertical-align: middle;\n",
              "    }\n",
              "\n",
              "    .dataframe tbody tr th {\n",
              "        vertical-align: top;\n",
              "    }\n",
              "\n",
              "    .dataframe thead th {\n",
              "        text-align: right;\n",
              "    }\n",
              "</style>\n",
              "<table border=\"1\" class=\"dataframe\">\n",
              "  <thead>\n",
              "    <tr style=\"text-align: right;\">\n",
              "      <th></th>\n",
              "      <th>fixed acidity</th>\n",
              "      <th>volatile acidity</th>\n",
              "      <th>citric acid</th>\n",
              "      <th>residual sugar</th>\n",
              "      <th>chlorides</th>\n",
              "      <th>free sulfur dioxide</th>\n",
              "      <th>total sulfur dioxide</th>\n",
              "      <th>density</th>\n",
              "      <th>pH</th>\n",
              "      <th>sulphates</th>\n",
              "      <th>alcohol</th>\n",
              "      <th>quality</th>\n",
              "    </tr>\n",
              "  </thead>\n",
              "  <tbody>\n",
              "    <tr>\n",
              "      <th>fixed acidity</th>\n",
              "      <td>1.000000</td>\n",
              "      <td>-0.256131</td>\n",
              "      <td>0.671703</td>\n",
              "      <td>0.114777</td>\n",
              "      <td>0.093705</td>\n",
              "      <td>-0.153794</td>\n",
              "      <td>-0.113181</td>\n",
              "      <td>0.668047</td>\n",
              "      <td>-0.682978</td>\n",
              "      <td>0.183006</td>\n",
              "      <td>-0.061668</td>\n",
              "      <td>0.124052</td>\n",
              "    </tr>\n",
              "    <tr>\n",
              "      <th>volatile acidity</th>\n",
              "      <td>-0.256131</td>\n",
              "      <td>1.000000</td>\n",
              "      <td>-0.552496</td>\n",
              "      <td>0.001918</td>\n",
              "      <td>0.061298</td>\n",
              "      <td>-0.010504</td>\n",
              "      <td>0.076470</td>\n",
              "      <td>0.022026</td>\n",
              "      <td>0.234937</td>\n",
              "      <td>-0.260987</td>\n",
              "      <td>-0.202288</td>\n",
              "      <td>-0.390558</td>\n",
              "    </tr>\n",
              "    <tr>\n",
              "      <th>citric acid</th>\n",
              "      <td>0.671703</td>\n",
              "      <td>-0.552496</td>\n",
              "      <td>1.000000</td>\n",
              "      <td>0.143577</td>\n",
              "      <td>0.203823</td>\n",
              "      <td>-0.060978</td>\n",
              "      <td>0.035533</td>\n",
              "      <td>0.364947</td>\n",
              "      <td>-0.541904</td>\n",
              "      <td>0.312770</td>\n",
              "      <td>0.109903</td>\n",
              "      <td>0.226373</td>\n",
              "    </tr>\n",
              "    <tr>\n",
              "      <th>residual sugar</th>\n",
              "      <td>0.114777</td>\n",
              "      <td>0.001918</td>\n",
              "      <td>0.143577</td>\n",
              "      <td>1.000000</td>\n",
              "      <td>0.055610</td>\n",
              "      <td>0.187049</td>\n",
              "      <td>0.203028</td>\n",
              "      <td>0.355283</td>\n",
              "      <td>-0.085652</td>\n",
              "      <td>0.005527</td>\n",
              "      <td>0.042075</td>\n",
              "      <td>0.013732</td>\n",
              "    </tr>\n",
              "    <tr>\n",
              "      <th>chlorides</th>\n",
              "      <td>0.093705</td>\n",
              "      <td>0.061298</td>\n",
              "      <td>0.203823</td>\n",
              "      <td>0.055610</td>\n",
              "      <td>1.000000</td>\n",
              "      <td>0.005562</td>\n",
              "      <td>0.047400</td>\n",
              "      <td>0.200632</td>\n",
              "      <td>-0.265026</td>\n",
              "      <td>0.371260</td>\n",
              "      <td>-0.221141</td>\n",
              "      <td>-0.128907</td>\n",
              "    </tr>\n",
              "    <tr>\n",
              "      <th>free sulfur dioxide</th>\n",
              "      <td>-0.153794</td>\n",
              "      <td>-0.010504</td>\n",
              "      <td>-0.060978</td>\n",
              "      <td>0.187049</td>\n",
              "      <td>0.005562</td>\n",
              "      <td>1.000000</td>\n",
              "      <td>0.667666</td>\n",
              "      <td>-0.021946</td>\n",
              "      <td>0.070377</td>\n",
              "      <td>0.051658</td>\n",
              "      <td>-0.069408</td>\n",
              "      <td>-0.050656</td>\n",
              "    </tr>\n",
              "    <tr>\n",
              "      <th>total sulfur dioxide</th>\n",
              "      <td>-0.113181</td>\n",
              "      <td>0.076470</td>\n",
              "      <td>0.035533</td>\n",
              "      <td>0.203028</td>\n",
              "      <td>0.047400</td>\n",
              "      <td>0.667666</td>\n",
              "      <td>1.000000</td>\n",
              "      <td>0.071269</td>\n",
              "      <td>-0.066495</td>\n",
              "      <td>0.042947</td>\n",
              "      <td>-0.205654</td>\n",
              "      <td>-0.185100</td>\n",
              "    </tr>\n",
              "    <tr>\n",
              "      <th>density</th>\n",
              "      <td>0.668047</td>\n",
              "      <td>0.022026</td>\n",
              "      <td>0.364947</td>\n",
              "      <td>0.355283</td>\n",
              "      <td>0.200632</td>\n",
              "      <td>-0.021946</td>\n",
              "      <td>0.071269</td>\n",
              "      <td>1.000000</td>\n",
              "      <td>-0.341699</td>\n",
              "      <td>0.148506</td>\n",
              "      <td>-0.496180</td>\n",
              "      <td>-0.174919</td>\n",
              "    </tr>\n",
              "    <tr>\n",
              "      <th>pH</th>\n",
              "      <td>-0.682978</td>\n",
              "      <td>0.234937</td>\n",
              "      <td>-0.541904</td>\n",
              "      <td>-0.085652</td>\n",
              "      <td>-0.265026</td>\n",
              "      <td>0.070377</td>\n",
              "      <td>-0.066495</td>\n",
              "      <td>-0.341699</td>\n",
              "      <td>1.000000</td>\n",
              "      <td>-0.196648</td>\n",
              "      <td>0.205633</td>\n",
              "      <td>-0.057731</td>\n",
              "    </tr>\n",
              "    <tr>\n",
              "      <th>sulphates</th>\n",
              "      <td>0.183006</td>\n",
              "      <td>-0.260987</td>\n",
              "      <td>0.312770</td>\n",
              "      <td>0.005527</td>\n",
              "      <td>0.371260</td>\n",
              "      <td>0.051658</td>\n",
              "      <td>0.042947</td>\n",
              "      <td>0.148506</td>\n",
              "      <td>-0.196648</td>\n",
              "      <td>1.000000</td>\n",
              "      <td>0.093595</td>\n",
              "      <td>0.251397</td>\n",
              "    </tr>\n",
              "    <tr>\n",
              "      <th>alcohol</th>\n",
              "      <td>-0.061668</td>\n",
              "      <td>-0.202288</td>\n",
              "      <td>0.109903</td>\n",
              "      <td>0.042075</td>\n",
              "      <td>-0.221141</td>\n",
              "      <td>-0.069408</td>\n",
              "      <td>-0.205654</td>\n",
              "      <td>-0.496180</td>\n",
              "      <td>0.205633</td>\n",
              "      <td>0.093595</td>\n",
              "      <td>1.000000</td>\n",
              "      <td>0.476166</td>\n",
              "    </tr>\n",
              "    <tr>\n",
              "      <th>quality</th>\n",
              "      <td>0.124052</td>\n",
              "      <td>-0.390558</td>\n",
              "      <td>0.226373</td>\n",
              "      <td>0.013732</td>\n",
              "      <td>-0.128907</td>\n",
              "      <td>-0.050656</td>\n",
              "      <td>-0.185100</td>\n",
              "      <td>-0.174919</td>\n",
              "      <td>-0.057731</td>\n",
              "      <td>0.251397</td>\n",
              "      <td>0.476166</td>\n",
              "      <td>1.000000</td>\n",
              "    </tr>\n",
              "  </tbody>\n",
              "</table>\n",
              "</div>"
            ],
            "text/plain": [
              "                      fixed acidity  volatile acidity  ...   alcohol   quality\n",
              "fixed acidity              1.000000         -0.256131  ... -0.061668  0.124052\n",
              "volatile acidity          -0.256131          1.000000  ... -0.202288 -0.390558\n",
              "citric acid                0.671703         -0.552496  ...  0.109903  0.226373\n",
              "residual sugar             0.114777          0.001918  ...  0.042075  0.013732\n",
              "chlorides                  0.093705          0.061298  ... -0.221141 -0.128907\n",
              "free sulfur dioxide       -0.153794         -0.010504  ... -0.069408 -0.050656\n",
              "total sulfur dioxide      -0.113181          0.076470  ... -0.205654 -0.185100\n",
              "density                    0.668047          0.022026  ... -0.496180 -0.174919\n",
              "pH                        -0.682978          0.234937  ...  0.205633 -0.057731\n",
              "sulphates                  0.183006         -0.260987  ...  0.093595  0.251397\n",
              "alcohol                   -0.061668         -0.202288  ...  1.000000  0.476166\n",
              "quality                    0.124052         -0.390558  ...  0.476166  1.000000\n",
              "\n",
              "[12 rows x 12 columns]"
            ]
          },
          "metadata": {},
          "execution_count": 22
        }
      ]
    },
    {
      "cell_type": "code",
      "metadata": {
        "colab": {
          "base_uri": "https://localhost:8080/",
          "height": 571
        },
        "id": "NZ9HNJT1fZVR",
        "outputId": "d1384236-bd60-4dc2-a18d-a36b64da2c1f"
      },
      "source": [
        "import matplotlib.pyplot as plt\n",
        "plt.figure(figsize = (10, 8))\n",
        "sns.heatmap(redwine.corr(), vmax = 1, annot = True, cmap = 'cubehelix_r')\n",
        "plt.show()"
      ],
      "execution_count": null,
      "outputs": [
        {
          "output_type": "display_data",
          "data": {
            "image/png": "[encoded data removed]",
            "text/plain": [
              "<Figure size 720x576 with 2 Axes>"
            ]
          },
          "metadata": {
            "needs_background": "light"
          }
        }
      ]
    },
    {
      "cell_type": "code",
      "metadata": {
        "id": "6j6rrY1mfkej"
      },
      "source": [
        "X = [32, 64, 96, 118, 126, 144, 152, 158]\n",
        "Y = [17, 24, 62, 49, 52, 105, 130, 125]"
      ],
      "execution_count": null,
      "outputs": []
    },
    {
      "cell_type": "code",
      "metadata": {
        "id": "C1wl7z8wgYHp"
      },
      "source": [
        "import numpy as np\n",
        "A = np.c_[X, np.ones(8)]\n",
        "B = np.array(Y)"
      ],
      "execution_count": null,
      "outputs": []
    },
    {
      "cell_type": "code",
      "metadata": {
        "colab": {
          "base_uri": "https://localhost:8080/"
        },
        "id": "r0dY5fWxgdXG",
        "outputId": "e697605d-b6d8-4780-92b4-8d8365648f5c"
      },
      "source": [
        "A"
      ],
      "execution_count": null,
      "outputs": [
        {
          "output_type": "execute_result",
          "data": {
            "text/plain": [
              "array([[ 32.,   1.],\n",
              "       [ 64.,   1.],\n",
              "       [ 96.,   1.],\n",
              "       [118.,   1.],\n",
              "       [126.,   1.],\n",
              "       [144.,   1.],\n",
              "       [152.,   1.],\n",
              "       [158.,   1.]])"
            ]
          },
          "metadata": {},
          "execution_count": 26
        }
      ]
    },
    {
      "cell_type": "code",
      "metadata": {
        "colab": {
          "base_uri": "https://localhost:8080/"
        },
        "id": "wA4wQWmigecz",
        "outputId": "759a9921-f520-41b4-a119-8066c84d5832"
      },
      "source": [
        "B"
      ],
      "execution_count": null,
      "outputs": [
        {
          "output_type": "execute_result",
          "data": {
            "text/plain": [
              "array([ 17,  24,  62,  49,  52, 105, 130, 125])"
            ]
          },
          "metadata": {},
          "execution_count": 27
        }
      ]
    },
    {
      "cell_type": "code",
      "metadata": {
        "colab": {
          "base_uri": "https://localhost:8080/"
        },
        "id": "XoK68LWUghLj",
        "outputId": "0c5001cd-2a8a-47a8-a5eb-d5a30f375902"
      },
      "source": [
        "model = np.linalg.inv(A.T @ A) @ A.T @ B\n",
        "model"
      ],
      "execution_count": null,
      "outputs": [
        {
          "output_type": "execute_result",
          "data": {
            "text/plain": [
              "array([  0.87962664, -27.35846347])"
            ]
          },
          "metadata": {},
          "execution_count": 28
        }
      ]
    },
    {
      "cell_type": "code",
      "metadata": {
        "colab": {
          "base_uri": "https://localhost:8080/"
        },
        "id": "txDK0_zlgo02",
        "outputId": "c8cad05b-380b-4b04-c2ce-636caa267bd0"
      },
      "source": [
        "from scipy import stats\n",
        "slope, intercept, r_value, p_value , std_err = stats.linregress(X, Y)\n",
        "print(f'slope : {slope}')\n",
        "print(f'intercept : {intercept}')\n",
        "print(f'r_value : {r_value}') #결정계수 : 통계 모델로 이 대상을 얼마나 잘 설명할 수 있는 가를 나타냄\n",
        "print(f'p_value : {p_value}')\n",
        "print(f'std_err : {std_err}') # 표준편차"
      ],
      "execution_count": null,
      "outputs": [
        {
          "output_type": "stream",
          "name": "stdout",
          "text": [
            "slope : 0.8796266379465087\n",
            "intercept : -27.3584634715491\n",
            "r_value : 0.89008928103186\n",
            "p_value : 0.003051790677096642\n",
            "std_err : 0.18388671751663876\n"
          ]
        }
      ]
    },
    {
      "cell_type": "code",
      "metadata": {
        "colab": {
          "base_uri": "https://localhost:8080/"
        },
        "id": "ZlbkHqNphhWw",
        "outputId": "bd2caf6e-6403-416e-e08d-2cb818074345"
      },
      "source": [
        "stats.linregress(X, Y)"
      ],
      "execution_count": null,
      "outputs": [
        {
          "output_type": "execute_result",
          "data": {
            "text/plain": [
              "LinregressResult(slope=0.8796266379465087, intercept=-27.3584634715491, rvalue=0.89008928103186, pvalue=0.003051790677096642, stderr=0.18388671751663876)"
            ]
          },
          "metadata": {},
          "execution_count": 30
        }
      ]
    },
    {
      "cell_type": "code",
      "metadata": {
        "id": "Ra_ijZMxhoG5"
      },
      "source": [
        "import numpy as np\n",
        "import matplotlib.pyplot as plt\n",
        "%matplotlib inline"
      ],
      "execution_count": null,
      "outputs": []
    },
    {
      "cell_type": "code",
      "metadata": {
        "colab": {
          "base_uri": "https://localhost:8080/",
          "height": 265
        },
        "id": "QNFu7UsTiihn",
        "outputId": "4ebc8a86-066d-403b-d483-5ceb511cd8eb"
      },
      "source": [
        "plt.scatter(X, Y)\n",
        "plt.plot(X, slope * np.array(X) + intercept, '-')\n",
        "plt.show()"
      ],
      "execution_count": null,
      "outputs": [
        {
          "output_type": "display_data",
          "data": {
            "image/png": "[encoded data removed]",
            "text/plain": [
              "<Figure size 432x288 with 1 Axes>"
            ]
          },
          "metadata": {
            "needs_background": "light"
          }
        }
      ]
    },
    {
      "cell_type": "code",
      "metadata": {
        "colab": {
          "base_uri": "https://localhost:8080/"
        },
        "id": "2_BxgGQSiqkx",
        "outputId": "3515e2c9-10ac-41fa-f80a-3e28fbad9576"
      },
      "source": [
        "import numpy as np\n",
        "fit = np.polyfit(X, Y, 1)\n",
        "fit"
      ],
      "execution_count": null,
      "outputs": [
        {
          "output_type": "execute_result",
          "data": {
            "text/plain": [
              "array([  0.87962664, -27.35846347])"
            ]
          },
          "metadata": {},
          "execution_count": 33
        }
      ]
    },
    {
      "cell_type": "code",
      "metadata": {
        "colab": {
          "base_uri": "https://localhost:8080/"
        },
        "id": "EPdq4JQzjOkY",
        "outputId": "5ba89e7b-ec0f-427a-b3da-766c0ac07ac4"
      },
      "source": [
        "fit_fn = np.poly1d(fit)\n",
        "fit_fn"
      ],
      "execution_count": null,
      "outputs": [
        {
          "output_type": "execute_result",
          "data": {
            "text/plain": [
              "poly1d([  0.87962664, -27.35846347])"
            ]
          },
          "metadata": {},
          "execution_count": 34
        }
      ]
    },
    {
      "cell_type": "code",
      "metadata": {
        "colab": {
          "base_uri": "https://localhost:8080/",
          "height": 265
        },
        "id": "FT_emIHdjUcX",
        "outputId": "5793516d-db0e-43bd-c8d9-c3f864800e2c"
      },
      "source": [
        "plt.scatter(X, Y)\n",
        "plt.plot(X, fit_fn(X))\n",
        "plt.show()"
      ],
      "execution_count": null,
      "outputs": [
        {
          "output_type": "display_data",
          "data": {
            "image/png": "[encoded data removed]",
            "text/plain": [
              "<Figure size 432x288 with 1 Axes>"
            ]
          },
          "metadata": {
            "needs_background": "light"
          }
        }
      ]
    },
    {
      "cell_type": "code",
      "metadata": {
        "colab": {
          "base_uri": "https://localhost:8080/",
          "height": 265
        },
        "id": "EGPAxODAjoFI",
        "outputId": "59da4f76-5c71-4754-ad90-5bd08765e3ab"
      },
      "source": [
        "fit = np.polyfit(X, Y, 2)\n",
        "fit_fn = np.poly1d(fit)\n",
        "\n",
        "sample_X = np.linspace(30, 160, 100)\n",
        "plt.scatter(X, Y)\n",
        "plt.plot(sample_X, fit_fn(sample_X))\n",
        "plt.show()"
      ],
      "execution_count": null,
      "outputs": [
        {
          "output_type": "display_data",
          "data": {
            "image/png": "[encoded data removed]",
            "text/plain": [
              "<Figure size 432x288 with 1 Axes>"
            ]
          },
          "metadata": {
            "needs_background": "light"
          }
        }
      ]
    },
    {
      "cell_type": "code",
      "metadata": {
        "id": "F42eneAFj733"
      },
      "source": [
        "def draw_polyfit(X, Y, deg = 1):\n",
        "  import numpy as np\n",
        "  fit = np.polyfit(X, Y, deg)\n",
        "  print(fit)\n",
        "  fit_fn = np.poly1d(fit)\n",
        "  sample_X = np.linspace(min(X), max(X), 100)\n",
        "  plt.scatter(X, Y)\n",
        "  plt.plot(sample_X, fit_fn(sample_X))\n",
        "  plt.show()"
      ],
      "execution_count": null,
      "outputs": []
    },
    {
      "cell_type": "code",
      "metadata": {
        "colab": {
          "base_uri": "https://localhost:8080/",
          "height": 285
        },
        "id": "9l5ZOjo6kuD-",
        "outputId": "be48e011-295e-49ea-f6a6-20baecca726b"
      },
      "source": [
        "draw_polyfit(X, Y, 3)"
      ],
      "execution_count": null,
      "outputs": [
        {
          "output_type": "stream",
          "name": "stdout",
          "text": [
            "[ 1.36900759e-04 -3.06581641e-02  2.52476185e+00 -3.87896220e+01]\n"
          ]
        },
        {
          "output_type": "display_data",
          "data": {
            "image/png": "[encoded data removed]",
            "text/plain": [
              "<Figure size 432x288 with 1 Axes>"
            ]
          },
          "metadata": {
            "needs_background": "light"
          }
        }
      ]
    },
    {
      "cell_type": "code",
      "metadata": {
        "colab": {
          "base_uri": "https://localhost:8080/",
          "height": 282
        },
        "id": "9pM2Fvjsk4eB",
        "outputId": "c98237ac-eb64-41e8-cda1-152d218baa9c"
      },
      "source": [
        "draw_polyfit(X, Y, 2)"
      ],
      "execution_count": null,
      "outputs": [
        {
          "output_type": "stream",
          "name": "stdout",
          "text": [
            "[ 9.01276143e-03 -8.67975467e-01  3.98246113e+01]\n"
          ]
        },
        {
          "output_type": "display_data",
          "data": {
            "image/png": "[encoded data removed]",
            "text/plain": [
              "<Figure size 432x288 with 1 Axes>"
            ]
          },
          "metadata": {
            "needs_background": "light"
          }
        }
      ]
    },
    {
      "cell_type": "code",
      "metadata": {
        "colab": {
          "base_uri": "https://localhost:8080/",
          "height": 299
        },
        "id": "eGLEjDgvk8wD",
        "outputId": "04e9ff5c-659d-40a1-b0b5-e3c6e0fa84f0"
      },
      "source": [
        "draw_polyfit(X, Y, 5)"
      ],
      "execution_count": null,
      "outputs": [
        {
          "output_type": "stream",
          "name": "stdout",
          "text": [
            "[-3.60679943e-07  1.80553138e-04 -3.41559339e-02  3.01519333e+00\n",
            " -1.21436798e+02  1.75743817e+03]\n"
          ]
        },
        {
          "output_type": "display_data",
          "data": {
            "image/png": "[encoded data removed]",
            "text/plain": [
              "<Figure size 432x288 with 1 Axes>"
            ]
          },
          "metadata": {
            "needs_background": "light"
          }
        }
      ]
    },
    {
      "cell_type": "code",
      "metadata": {
        "colab": {
          "base_uri": "https://localhost:8080/",
          "height": 299
        },
        "id": "HMeAwmrqlLoG",
        "outputId": "d9995e03-f483-477e-a22d-e9636cf483c4"
      },
      "source": [
        "draw_polyfit(X, Y, 6)"
      ],
      "execution_count": null,
      "outputs": [
        {
          "output_type": "stream",
          "name": "stdout",
          "text": [
            "[-6.18327318e-09  3.46694642e-06 -7.70219609e-04  8.62372828e-02\n",
            " -5.09766458e+00  1.50398974e+02 -1.70364025e+03]\n"
          ]
        },
        {
          "output_type": "display_data",
          "data": {
            "image/png": "[encoded data removed]",
            "text/plain": [
              "<Figure size 432x288 with 1 Axes>"
            ]
          },
          "metadata": {
            "needs_background": "light"
          }
        }
      ]
    },
    {
      "cell_type": "code",
      "metadata": {
        "id": "p1tYObISlNTJ"
      },
      "source": [
        "import numpy as np\n",
        "import pandas as pd\n",
        "\n",
        "df = pd.DataFrame(np.c_[X, Y], columns = ['x', 'y'])"
      ],
      "execution_count": null,
      "outputs": []
    },
    {
      "cell_type": "code",
      "metadata": {
        "colab": {
          "base_uri": "https://localhost:8080/"
        },
        "id": "cBywpOA5loJO",
        "outputId": "34e712a4-4665-490a-a74e-cfe7c404b944"
      },
      "source": [
        "from statsmodels.formula.api import ols\n",
        "model = ols('y~x', data = df)\n",
        "result = model.fit()\n",
        "result.params"
      ],
      "execution_count": null,
      "outputs": [
        {
          "output_type": "stream",
          "name": "stderr",
          "text": [
            "/usr/local/lib/python3.7/dist-packages/statsmodels/tools/_testing.py:19: FutureWarning: pandas.util.testing is deprecated. Use the functions in the public API at pandas.testing instead.\n",
            "  import pandas.util.testing as tm\n"
          ]
        },
        {
          "output_type": "execute_result",
          "data": {
            "text/plain": [
              "Intercept   -27.358463\n",
              "x             0.879627\n",
              "dtype: float64"
            ]
          },
          "metadata": {},
          "execution_count": 43
        }
      ]
    },
    {
      "cell_type": "code",
      "metadata": {
        "colab": {
          "base_uri": "https://localhost:8080/"
        },
        "id": "-7TDZDcQmMbC",
        "outputId": "3186753d-83dd-45d6-abee-03ee126268c7"
      },
      "source": [
        "import statsmodels.api as sm\n",
        "model = sm.OLS.from_formula('y~x', data = df)\n",
        "result = model.fit()\n",
        "result.params"
      ],
      "execution_count": null,
      "outputs": [
        {
          "output_type": "execute_result",
          "data": {
            "text/plain": [
              "Intercept   -27.358463\n",
              "x             0.879627\n",
              "dtype: float64"
            ]
          },
          "metadata": {},
          "execution_count": 44
        }
      ]
    },
    {
      "cell_type": "code",
      "metadata": {
        "colab": {
          "base_uri": "https://localhost:8080/"
        },
        "id": "kPLJb5ZLmZr2",
        "outputId": "564f7e2e-1c4e-4cb4-ae3b-0a5550a042f8"
      },
      "source": [
        "result.params"
      ],
      "execution_count": null,
      "outputs": [
        {
          "output_type": "execute_result",
          "data": {
            "text/plain": [
              "Intercept   -27.358463\n",
              "x             0.879627\n",
              "dtype: float64"
            ]
          },
          "metadata": {},
          "execution_count": 45
        }
      ]
    },
    {
      "cell_type": "code",
      "metadata": {
        "colab": {
          "base_uri": "https://localhost:8080/"
        },
        "id": "y2Skq9HWmesR",
        "outputId": "8916e62c-b5f5-40bf-8313-b23cc21304ae"
      },
      "source": [
        "print(result)"
      ],
      "execution_count": null,
      "outputs": [
        {
          "output_type": "stream",
          "name": "stdout",
          "text": [
            "<statsmodels.regression.linear_model.RegressionResultsWrapper object at 0x7f3a12f71050>\n"
          ]
        }
      ]
    },
    {
      "cell_type": "code",
      "metadata": {
        "colab": {
          "base_uri": "https://localhost:8080/"
        },
        "id": "JKzuhpQgmjXW",
        "outputId": "16a9e0af-a099-48b9-cd6f-e858a9231b8e"
      },
      "source": [
        "model2 = ols('y ~ x + I(x**2) + I(x**3) -1', data = df)\n",
        "result2 = model2.fit()\n",
        "result2.params"
      ],
      "execution_count": null,
      "outputs": [
        {
          "output_type": "execute_result",
          "data": {
            "text/plain": [
              "x            1.005637\n",
              "I(x ** 2)   -0.013981\n",
              "I(x ** 3)    0.000082\n",
              "dtype: float64"
            ]
          },
          "metadata": {},
          "execution_count": 47
        }
      ]
    },
    {
      "cell_type": "code",
      "metadata": {
        "colab": {
          "base_uri": "https://localhost:8080/",
          "height": 265
        },
        "id": "YvG9CkblmxKY",
        "outputId": "78e004c3-7510-4fef-d9c3-170b9609ecb6"
      },
      "source": [
        "y_ = result2.predict(df.x)\n",
        "\n",
        "import matplotlib.pyplot as plt\n",
        "%matplotlib inline\n",
        "\n",
        "plt.scatter(X, Y)\n",
        "plt.plot(X, y_)\n",
        "plt.show()"
      ],
      "execution_count": null,
      "outputs": [
        {
          "output_type": "display_data",
          "data": {
            "image/png": "[encoded data removed]",
            "text/plain": [
              "<Figure size 432x288 with 1 Axes>"
            ]
          },
          "metadata": {
            "needs_background": "light"
          }
        }
      ]
    },
    {
      "cell_type": "code",
      "metadata": {
        "id": "RYTQvS1YnPtR"
      },
      "source": [
        "import numpy as np\n",
        "n_samples = 30\n",
        "np.random.seed(0)\n",
        "X = np.sort(np.random.rand(n_samples))\n",
        "y = np.sin(2 * np.pi *X) + np.random.randn(n_samples) * 0.1"
      ],
      "execution_count": null,
      "outputs": []
    },
    {
      "cell_type": "code",
      "metadata": {
        "id": "V0mhXiGjqd1s"
      },
      "source": [
        "import matplotlib.pyplot as plt\n",
        "%matplotlib inline"
      ],
      "execution_count": null,
      "outputs": []
    },
    {
      "cell_type": "code",
      "metadata": {
        "colab": {
          "base_uri": "https://localhost:8080/",
          "height": 265
        },
        "id": "hka7ROQQqlJz",
        "outputId": "e4bbb9c6-09e5-48ef-90a8-771f2f4e5f3d"
      },
      "source": [
        "plt.scatter(X, y)\n",
        "plt.show()"
      ],
      "execution_count": null,
      "outputs": [
        {
          "output_type": "display_data",
          "data": {
            "image/png": "[encoded data removed]",
            "text/plain": [
              "<Figure size 432x288 with 1 Axes>"
            ]
          },
          "metadata": {
            "needs_background": "light"
          }
        }
      ]
    },
    {
      "cell_type": "code",
      "metadata": {
        "id": "CrEazvaarovx"
      },
      "source": [
        "import numpy as np\n",
        "import pandas as pd\n",
        "df = pd.DataFrame(np.c_[X, y], columns = ['x', 'y'])"
      ],
      "execution_count": null,
      "outputs": []
    },
    {
      "cell_type": "code",
      "metadata": {
        "colab": {
          "base_uri": "https://localhost:8080/"
        },
        "id": "4ycvlF_Pr25t",
        "outputId": "43e13ec3-99c2-4266-b1db-4ed5f2e4afcb"
      },
      "source": [
        "from statsmodels.formula.api import ols\n",
        "model = ols('y~x', data = df)\n",
        "result = model.fit()\n",
        "result.params"
      ],
      "execution_count": null,
      "outputs": [
        {
          "output_type": "execute_result",
          "data": {
            "text/plain": [
              "Intercept    0.713959\n",
              "x           -1.642204\n",
              "dtype: float64"
            ]
          },
          "metadata": {},
          "execution_count": 53
        }
      ]
    },
    {
      "cell_type": "code",
      "metadata": {
        "id": "LgisRwiDsAq6"
      },
      "source": [
        "import matplotlib.pyplot as plt\n",
        "%matplotlib inline"
      ],
      "execution_count": null,
      "outputs": []
    },
    {
      "cell_type": "code",
      "metadata": {
        "colab": {
          "base_uri": "https://localhost:8080/",
          "height": 265
        },
        "id": "PzEoUkPjO55T",
        "outputId": "913fe8fe-8d0d-4196-d886-5c05450eb474"
      },
      "source": [
        "plt.scatter(X, y)\n",
        "xx = np.linspace(0, 1, 1000)\n",
        "plt.plot(xx, result.predict({'x' : xx}))\n",
        "plt.show()"
      ],
      "execution_count": null,
      "outputs": [
        {
          "output_type": "display_data",
          "data": {
            "image/png": "[encoded data removed]",
            "text/plain": [
              "<Figure size 432x288 with 1 Axes>"
            ]
          },
          "metadata": {
            "needs_background": "light"
          }
        }
      ]
    },
    {
      "cell_type": "code",
      "metadata": {
        "id": "HwgQIMS4PB2k"
      },
      "source": [
        "from statsmodels.formula.api import ols"
      ],
      "execution_count": null,
      "outputs": []
    },
    {
      "cell_type": "code",
      "metadata": {
        "id": "vdVYPU6sPLbB"
      },
      "source": [
        "model9 = ols('y ~ x + I(x**2)+ I(x**3)+ I(x**4)+ I(x**5)+ I(x**6)+ I(x**7)+ I(x**8)+ I(x**9)', data = df)"
      ],
      "execution_count": null,
      "outputs": []
    },
    {
      "cell_type": "code",
      "metadata": {
        "colab": {
          "base_uri": "https://localhost:8080/"
        },
        "id": "uo3rN5GpPYGX",
        "outputId": "690f57c3-d352-40cc-d9a9-f23466bb4460"
      },
      "source": [
        "result9 = model9.fit()\n",
        "result9.params"
      ],
      "execution_count": null,
      "outputs": [
        {
          "output_type": "execute_result",
          "data": {
            "text/plain": [
              "Intercept       -0.169863\n",
              "x               25.735773\n",
              "I(x ** 2)     -428.141683\n",
              "I(x ** 3)     3866.723114\n",
              "I(x ** 4)   -18340.939663\n",
              "I(x ** 5)    49326.072542\n",
              "I(x ** 6)   -78884.743069\n",
              "I(x ** 7)    74538.645149\n",
              "I(x ** 8)   -38453.132188\n",
              "I(x ** 9)     8350.254985\n",
              "dtype: float64"
            ]
          },
          "metadata": {},
          "execution_count": 58
        }
      ]
    },
    {
      "cell_type": "code",
      "metadata": {
        "colab": {
          "base_uri": "https://localhost:8080/",
          "height": 265
        },
        "id": "XqPpuK9-Pcpw",
        "outputId": "1ff184c9-9659-4f63-de39-47bb1751ec44"
      },
      "source": [
        "plt.scatter(X, y)\n",
        "plt.plot(xx, result9.predict({'x' : xx}))\n",
        "plt.show()"
      ],
      "execution_count": null,
      "outputs": [
        {
          "output_type": "display_data",
          "data": {
            "image/png": "[encoded data removed]",
            "text/plain": [
              "<Figure size 432x288 with 1 Axes>"
            ]
          },
          "metadata": {
            "needs_background": "light"
          }
        }
      ]
    },
    {
      "cell_type": "code",
      "metadata": {
        "id": "uX_GhlwTQEgm"
      },
      "source": [
        "model9 = ols('y ~ x + I(x**2)+ I(x**3)+ I(x**4)+ I(x**5)+ I(x**6)+ I(x**7)+ I(x**8)+ I(x**9)', data = df)"
      ],
      "execution_count": null,
      "outputs": []
    },
    {
      "cell_type": "code",
      "metadata": {
        "colab": {
          "base_uri": "https://localhost:8080/"
        },
        "id": "vhWd70jwPrEk",
        "outputId": "d06dc49d-29cb-4fa2-ed15-7f5fd1f1cec0"
      },
      "source": [
        "result9 = model9.fit_regularized(L1_wt =1, alpha = 0.01)\n",
        "print(result9.params)"
      ],
      "execution_count": null,
      "outputs": [
        {
          "output_type": "stream",
          "name": "stdout",
          "text": [
            "Intercept    0.687949\n",
            "x           -1.129134\n",
            "I(x ** 2)   -1.124878\n",
            "I(x ** 3)    0.000000\n",
            "I(x ** 4)    0.000000\n",
            "I(x ** 5)    0.000000\n",
            "I(x ** 6)    0.000000\n",
            "I(x ** 7)    0.000000\n",
            "I(x ** 8)    0.281484\n",
            "I(x ** 9)    1.075281\n",
            "dtype: float64\n"
          ]
        }
      ]
    },
    {
      "cell_type": "code",
      "metadata": {
        "colab": {
          "base_uri": "https://localhost:8080/",
          "height": 265
        },
        "id": "_EBZipBZQD6P",
        "outputId": "e08aa70f-e2fb-4966-e8d3-0b81904903b0"
      },
      "source": [
        "plt.scatter(X, y)\n",
        "plt.plot(xx, result9.predict({'x' : xx}))\n",
        "plt.show()"
      ],
      "execution_count": null,
      "outputs": [
        {
          "output_type": "display_data",
          "data": {
            "image/png": "[encoded data removed]",
            "text/plain": [
              "<Figure size 432x288 with 1 Axes>"
            ]
          },
          "metadata": {
            "needs_background": "light"
          }
        }
      ]
    },
    {
      "cell_type": "code",
      "metadata": {
        "id": "EqsacSMQRC1s"
      },
      "source": [
        "from statsmodels.formula.api import ols\n",
        "\n",
        "model9 = ols(\"y ~ x + I(x**2) + I(x**3) + I(x**4) + I(x**5) + I(x**6) + I(x**7) + I(x**8) + I(x**9)\", data=df)"
      ],
      "execution_count": null,
      "outputs": []
    },
    {
      "cell_type": "code",
      "metadata": {
        "colab": {
          "base_uri": "https://localhost:8080/"
        },
        "id": "YJ86jWpcQDlu",
        "outputId": "5f434d98-da91-47ae-e305-f41b50b3c2e8"
      },
      "source": [
        "Ridge_model9 = model9.fit_regularized(L1_wt=0, alpha=0.01)\n",
        "Ridge_model9.params"
      ],
      "execution_count": null,
      "outputs": [
        {
          "output_type": "execute_result",
          "data": {
            "text/plain": [
              "array([ 0.63308745, -0.75705866, -1.07056551, -0.76835135, -0.35530367,\n",
              "        0.0121939 ,  0.29917825,  0.50969248,  0.65793698,  0.75851865])"
            ]
          },
          "metadata": {},
          "execution_count": 64
        }
      ]
    },
    {
      "cell_type": "code",
      "metadata": {
        "colab": {
          "base_uri": "https://localhost:8080/",
          "height": 265
        },
        "id": "ZJRIfG41P9Am",
        "outputId": "08ec6f11-e0ce-4162-9e62-7928910ebb16"
      },
      "source": [
        "plt.scatter(X, y)\n",
        "plt.plot(xx, Ridge_model9.predict({'x' : xx}))\n",
        "plt.show()"
      ],
      "execution_count": null,
      "outputs": [
        {
          "output_type": "display_data",
          "data": {
            "image/png": "[encoded data removed]",
            "text/plain": [
              "<Figure size 432x288 with 1 Axes>"
            ]
          },
          "metadata": {
            "needs_background": "light"
          }
        }
      ]
    },
    {
      "cell_type": "code",
      "metadata": {
        "id": "XifOBa0LQxN2"
      },
      "source": [
        "from statsmodels.formula.api import ols\n",
        "\n",
        "model9 = ols(\"y ~ x + I(x**2) + I(x**3) + I(x**4) + I(x**5) + I(x**6) + I(x**7) + I(x**8) + I(x**9)\", data=df)"
      ],
      "execution_count": null,
      "outputs": []
    },
    {
      "cell_type": "code",
      "metadata": {
        "colab": {
          "base_uri": "https://localhost:8080/"
        },
        "id": "YokegIXKRvk1",
        "outputId": "ad3cea1e-5374-49a1-b5c0-3ca63f60a1c6"
      },
      "source": [
        "result9 = model9.fit_regularized(L1_wt=0.5, alpha = 0.01)\n",
        "print(result9.params)"
      ],
      "execution_count": null,
      "outputs": [
        {
          "output_type": "stream",
          "name": "stdout",
          "text": [
            "Intercept    0.656203\n",
            "x           -0.849745\n",
            "I(x ** 2)   -1.262902\n",
            "I(x ** 3)   -0.425687\n",
            "I(x ** 4)    0.000000\n",
            "I(x ** 5)    0.000000\n",
            "I(x ** 6)    0.000000\n",
            "I(x ** 7)    0.304049\n",
            "I(x ** 8)    0.631908\n",
            "I(x ** 9)    0.801206\n",
            "dtype: float64\n"
          ]
        }
      ]
    },
    {
      "cell_type": "code",
      "metadata": {
        "colab": {
          "base_uri": "https://localhost:8080/",
          "height": 265
        },
        "id": "TFDWkaXxR3f6",
        "outputId": "a375bfb5-443a-4303-ec00-ce05f148f881"
      },
      "source": [
        "plt.scatter(X, y)\n",
        "plt.plot(xx, result9.predict({'x' : xx}))\n",
        "plt.show()"
      ],
      "execution_count": null,
      "outputs": [
        {
          "output_type": "display_data",
          "data": {
            "image/png": "[encoded data removed]",
            "text/plain": [
              "<Figure size 432x288 with 1 Axes>"
            ]
          },
          "metadata": {
            "needs_background": "light"
          }
        }
      ]
    },
    {
      "cell_type": "code",
      "metadata": {
        "id": "dwdhk0CaR-A7"
      },
      "source": [
        "import statsmodels.api as sm"
      ],
      "execution_count": null,
      "outputs": []
    },
    {
      "cell_type": "code",
      "metadata": {
        "id": "iqg-MlRcSM6K"
      },
      "source": [
        "np.random.seed(0)\n",
        "n_samples = 30"
      ],
      "execution_count": null,
      "outputs": []
    },
    {
      "cell_type": "code",
      "metadata": {
        "id": "fyDBdAydSPod"
      },
      "source": [
        "x = np.sort(np.random.rand(n_samples))\n",
        "y = np.sin(2 * np.pi * x) + np.random.randn(n_samples) * 0.1\n",
        "X = X[:, np.newaxis]"
      ],
      "execution_count": null,
      "outputs": []
    },
    {
      "cell_type": "code",
      "metadata": {
        "id": "MBsLXA1wSchJ"
      },
      "source": [
        "def plot_model(model):\n",
        "  plt.scatter(X, y)\n",
        "  x = np.linspace(0,1, 1000)\n",
        "  plt.plot(x, model.predict(x[:, np.newaxis]))\n",
        "  plt.show()"
      ],
      "execution_count": null,
      "outputs": []
    },
    {
      "cell_type": "code",
      "metadata": {
        "id": "V1UgNJ-oSmBn"
      },
      "source": [
        "from sklearn.preprocessing import PolynomialFeatures\n",
        "from sklearn.pipeline import make_pipeline\n",
        "from sklearn.linear_model import LinearRegression"
      ],
      "execution_count": null,
      "outputs": []
    },
    {
      "cell_type": "code",
      "metadata": {
        "colab": {
          "base_uri": "https://localhost:8080/",
          "height": 316
        },
        "id": "79dFPzJdSu_X",
        "outputId": "b09a7c30-01c8-4159-c86d-4721315233c6"
      },
      "source": [
        "poly = PolynomialFeatures(9)\n",
        "model = make_pipeline(poly, LinearRegression()).fit(X,y)\n",
        "print(model.steps[1][1].coef_)\n",
        "plot_model(model)"
      ],
      "execution_count": null,
      "outputs": [
        {
          "output_type": "stream",
          "name": "stdout",
          "text": [
            "[ 0.00000000e+00  2.57357731e+01 -4.28141684e+02  3.86672312e+03\n",
            " -1.83409397e+04  4.93260726e+04 -7.88847431e+04  7.45386452e+04\n",
            " -3.84531322e+04  8.35025499e+03]\n"
          ]
        },
        {
          "output_type": "display_data",
          "data": {
            "image/png": "[encoded data removed]",
            "text/plain": [
              "<Figure size 432x288 with 1 Axes>"
            ]
          },
          "metadata": {
            "needs_background": "light"
          }
        }
      ]
    },
    {
      "cell_type": "code",
      "metadata": {
        "id": "IfJ8P3kjS6Gz"
      },
      "source": [
        "from sklearn.linear_model import Lasso\n"
      ],
      "execution_count": null,
      "outputs": []
    },
    {
      "cell_type": "code",
      "metadata": {
        "colab": {
          "base_uri": "https://localhost:8080/",
          "height": 299
        },
        "id": "iXCBRHbaTFH1",
        "outputId": "1389f146-40c8-4588-975c-b0328551bf40"
      },
      "source": [
        "model = make_pipeline(poly, Lasso(alpha = 0.01)).fit(X,y)\n",
        "print(model.steps[1][1].coef_)\n",
        "plot_model(model)"
      ],
      "execution_count": null,
      "outputs": [
        {
          "output_type": "stream",
          "name": "stdout",
          "text": [
            "[ 0.         -0.07668852 -2.44096313 -0.         -0.          0.\n",
            "  0.          0.          0.          1.88188725]\n"
          ]
        },
        {
          "output_type": "display_data",
          "data": {
            "image/png": "[encoded data removed]",
            "text/plain": [
              "<Figure size 432x288 with 1 Axes>"
            ]
          },
          "metadata": {
            "needs_background": "light"
          }
        }
      ]
    },
    {
      "cell_type": "code",
      "metadata": {
        "id": "_gOlgG0sTNgV"
      },
      "source": [
        "from sklearn.linear_model import Ridge"
      ],
      "execution_count": null,
      "outputs": []
    },
    {
      "cell_type": "code",
      "metadata": {
        "colab": {
          "base_uri": "https://localhost:8080/",
          "height": 299
        },
        "id": "fi1upk0ATT3j",
        "outputId": "7793f64a-6221-43cb-fc27-c260027771a1"
      },
      "source": [
        "model = make_pipeline(poly, Ridge(alpha = 0.01)).fit(X,y)\n",
        "print(model.steps[1][1].coef_)\n",
        "plot_model(model)"
      ],
      "execution_count": null,
      "outputs": [
        {
          "output_type": "stream",
          "name": "stdout",
          "text": [
            "[ 0.          1.51430399 -3.90160797 -2.6359859  -0.41526792  1.07530175\n",
            "  1.64913273  1.52026782  0.94651401  0.13299614]\n"
          ]
        },
        {
          "output_type": "display_data",
          "data": {
            "image/png": "[encoded data removed]",
            "text/plain": [
              "<Figure size 432x288 with 1 Axes>"
            ]
          },
          "metadata": {
            "needs_background": "light"
          }
        }
      ]
    },
    {
      "cell_type": "code",
      "metadata": {
        "id": "lRarHUVzTWON"
      },
      "source": [
        "from sklearn.linear_model import ElasticNet"
      ],
      "execution_count": null,
      "outputs": []
    },
    {
      "cell_type": "code",
      "metadata": {
        "colab": {
          "base_uri": "https://localhost:8080/",
          "height": 299
        },
        "id": "lA6lY3H2ThaL",
        "outputId": "786db206-7e5d-4296-fb98-0b706ae26c5b"
      },
      "source": [
        "model = make_pipeline(poly, ElasticNet(alpha = 0.01)).fit(X,y)\n",
        "print(model.steps[1][1].coef_)\n",
        "plot_model(model)"
      ],
      "execution_count": null,
      "outputs": [
        {
          "output_type": "stream",
          "name": "stdout",
          "text": [
            "[ 0.         -0.83768018 -1.23944649 -0.50166684 -0.          0.\n",
            "  0.          0.30382246  0.62459231  0.84262899]\n"
          ]
        },
        {
          "output_type": "display_data",
          "data": {
            "image/png": "[encoded data removed]",
            "text/plain": [
              "<Figure size 432x288 with 1 Axes>"
            ]
          },
          "metadata": {
            "needs_background": "light"
          }
        }
      ]
    },
    {
      "cell_type": "code",
      "metadata": {
        "id": "zWqvCMxVTjME"
      },
      "source": [
        "from sklearn.datasets import load_diabetes\n",
        "diabetes = load_diabetes()\n",
        "X = diabetes.data\n",
        "y = diabetes.target"
      ],
      "execution_count": null,
      "outputs": []
    },
    {
      "cell_type": "code",
      "metadata": {
        "id": "zGNWLEjUTxpI"
      },
      "source": [
        "alpha = np.logspace(-3, 1, 5)\n",
        "data = []\n",
        "for i , a in enumerate(alpha):\n",
        "  ridge = Ridge(alpha = a).fit(X, y)\n",
        "  data.append(pd.Series(np.hstack([ridge.intercept_, ridge.coef_])))"
      ],
      "execution_count": null,
      "outputs": []
    },
    {
      "cell_type": "code",
      "metadata": {
        "colab": {
          "base_uri": "https://localhost:8080/",
          "height": 390
        },
        "id": "BcEOAH7xUChp",
        "outputId": "d0868cab-3397-499c-9fe4-15fc7db13c61"
      },
      "source": [
        "df_ridge = pd.DataFrame(data, index = alpha).T\n",
        "df_ridge"
      ],
      "execution_count": null,
      "outputs": [
        {
          "output_type": "execute_result",
          "data": {
            "text/html": [
              "<div>\n",
              "<style scoped>\n",
              "    .dataframe tbody tr th:only-of-type {\n",
              "        vertical-align: middle;\n",
              "    }\n",
              "\n",
              "    .dataframe tbody tr th {\n",
              "        vertical-align: top;\n",
              "    }\n",
              "\n",
              "    .dataframe thead th {\n",
              "        text-align: right;\n",
              "    }\n",
              "</style>\n",
              "<table border=\"1\" class=\"dataframe\">\n",
              "  <thead>\n",
              "    <tr style=\"text-align: right;\">\n",
              "      <th></th>\n",
              "      <th>0.001</th>\n",
              "      <th>0.010</th>\n",
              "      <th>0.100</th>\n",
              "      <th>1.000</th>\n",
              "      <th>10.000</th>\n",
              "    </tr>\n",
              "  </thead>\n",
              "  <tbody>\n",
              "    <tr>\n",
              "      <th>0</th>\n",
              "      <td>152.133484</td>\n",
              "      <td>152.133484</td>\n",
              "      <td>152.133484</td>\n",
              "      <td>152.133484</td>\n",
              "      <td>152.133484</td>\n",
              "    </tr>\n",
              "    <tr>\n",
              "      <th>1</th>\n",
              "      <td>-9.551414</td>\n",
              "      <td>-7.199457</td>\n",
              "      <td>1.307349</td>\n",
              "      <td>29.465746</td>\n",
              "      <td>19.812822</td>\n",
              "    </tr>\n",
              "    <tr>\n",
              "      <th>2</th>\n",
              "      <td>-239.090354</td>\n",
              "      <td>-234.552930</td>\n",
              "      <td>-207.194814</td>\n",
              "      <td>-83.154885</td>\n",
              "      <td>-0.918458</td>\n",
              "    </tr>\n",
              "    <tr>\n",
              "      <th>3</th>\n",
              "      <td>520.363367</td>\n",
              "      <td>520.583136</td>\n",
              "      <td>489.691080</td>\n",
              "      <td>306.351627</td>\n",
              "      <td>75.416167</td>\n",
              "    </tr>\n",
              "    <tr>\n",
              "      <th>4</th>\n",
              "      <td>323.828627</td>\n",
              "      <td>320.523356</td>\n",
              "      <td>301.769437</td>\n",
              "      <td>201.629434</td>\n",
              "      <td>55.025419</td>\n",
              "    </tr>\n",
              "    <tr>\n",
              "      <th>5</th>\n",
              "      <td>-712.328205</td>\n",
              "      <td>-380.607066</td>\n",
              "      <td>-83.466074</td>\n",
              "      <td>5.909369</td>\n",
              "      <td>19.924600</td>\n",
              "    </tr>\n",
              "    <tr>\n",
              "      <th>6</th>\n",
              "      <td>413.383794</td>\n",
              "      <td>150.483752</td>\n",
              "      <td>-70.828096</td>\n",
              "      <td>-29.515927</td>\n",
              "      <td>13.948686</td>\n",
              "    </tr>\n",
              "    <tr>\n",
              "      <th>7</th>\n",
              "      <td>65.811629</td>\n",
              "      <td>-78.591232</td>\n",
              "      <td>-188.680164</td>\n",
              "      <td>-152.040465</td>\n",
              "      <td>-47.553816</td>\n",
              "    </tr>\n",
              "    <tr>\n",
              "      <th>8</th>\n",
              "      <td>167.513774</td>\n",
              "      <td>130.313059</td>\n",
              "      <td>115.712703</td>\n",
              "      <td>117.311715</td>\n",
              "      <td>48.259420</td>\n",
              "    </tr>\n",
              "    <tr>\n",
              "      <th>9</th>\n",
              "      <td>720.944468</td>\n",
              "      <td>592.349587</td>\n",
              "      <td>443.814054</td>\n",
              "      <td>262.944995</td>\n",
              "      <td>70.144068</td>\n",
              "    </tr>\n",
              "    <tr>\n",
              "      <th>10</th>\n",
              "      <td>68.122100</td>\n",
              "      <td>71.133768</td>\n",
              "      <td>86.748539</td>\n",
              "      <td>111.878718</td>\n",
              "      <td>44.213876</td>\n",
              "    </tr>\n",
              "  </tbody>\n",
              "</table>\n",
              "</div>"
            ],
            "text/plain": [
              "        0.001       0.010       0.100       1.000       10.000\n",
              "0   152.133484  152.133484  152.133484  152.133484  152.133484\n",
              "1    -9.551414   -7.199457    1.307349   29.465746   19.812822\n",
              "2  -239.090354 -234.552930 -207.194814  -83.154885   -0.918458\n",
              "3   520.363367  520.583136  489.691080  306.351627   75.416167\n",
              "4   323.828627  320.523356  301.769437  201.629434   55.025419\n",
              "5  -712.328205 -380.607066  -83.466074    5.909369   19.924600\n",
              "6   413.383794  150.483752  -70.828096  -29.515927   13.948686\n",
              "7    65.811629  -78.591232 -188.680164 -152.040465  -47.553816\n",
              "8   167.513774  130.313059  115.712703  117.311715   48.259420\n",
              "9   720.944468  592.349587  443.814054  262.944995   70.144068\n",
              "10   68.122100   71.133768   86.748539  111.878718   44.213876"
            ]
          },
          "metadata": {},
          "execution_count": 83
        }
      ]
    },
    {
      "cell_type": "code",
      "metadata": {
        "id": "bKiSmkDgUNVW"
      },
      "source": [
        "alpha = np.logspace(-3, 1, 5)\n",
        "data = []\n",
        "for i, a in enumerate(alpha):\n",
        "  lasso = Lasso(alpha = a).fit(X, y)\n",
        "  data.append(pd.Series(np.hstack([lasso.intercept_, lasso.coef_])))"
      ],
      "execution_count": null,
      "outputs": []
    },
    {
      "cell_type": "code",
      "metadata": {
        "colab": {
          "base_uri": "https://localhost:8080/",
          "height": 390
        },
        "id": "SSl1VbyD0C66",
        "outputId": "49087b16-7f32-4885-b822-e5bdf0efaff2"
      },
      "source": [
        "df_lasso = pd.DataFrame(data, index = alpha).T\n",
        "df_lasso"
      ],
      "execution_count": null,
      "outputs": [
        {
          "output_type": "execute_result",
          "data": {
            "text/html": [
              "<div>\n",
              "<style scoped>\n",
              "    .dataframe tbody tr th:only-of-type {\n",
              "        vertical-align: middle;\n",
              "    }\n",
              "\n",
              "    .dataframe tbody tr th {\n",
              "        vertical-align: top;\n",
              "    }\n",
              "\n",
              "    .dataframe thead th {\n",
              "        text-align: right;\n",
              "    }\n",
              "</style>\n",
              "<table border=\"1\" class=\"dataframe\">\n",
              "  <thead>\n",
              "    <tr style=\"text-align: right;\">\n",
              "      <th></th>\n",
              "      <th>0.001</th>\n",
              "      <th>0.010</th>\n",
              "      <th>0.100</th>\n",
              "      <th>1.000</th>\n",
              "      <th>10.000</th>\n",
              "    </tr>\n",
              "  </thead>\n",
              "  <tbody>\n",
              "    <tr>\n",
              "      <th>0</th>\n",
              "      <td>152.133484</td>\n",
              "      <td>152.133484</td>\n",
              "      <td>152.133484</td>\n",
              "      <td>152.133484</td>\n",
              "      <td>152.133484</td>\n",
              "    </tr>\n",
              "    <tr>\n",
              "      <th>1</th>\n",
              "      <td>-8.998449</td>\n",
              "      <td>-1.306575</td>\n",
              "      <td>-0.000000</td>\n",
              "      <td>0.000000</td>\n",
              "      <td>0.000000</td>\n",
              "    </tr>\n",
              "    <tr>\n",
              "      <th>2</th>\n",
              "      <td>-238.899740</td>\n",
              "      <td>-228.822331</td>\n",
              "      <td>-155.362882</td>\n",
              "      <td>-0.000000</td>\n",
              "      <td>0.000000</td>\n",
              "    </tr>\n",
              "    <tr>\n",
              "      <th>3</th>\n",
              "      <td>520.261362</td>\n",
              "      <td>525.560658</td>\n",
              "      <td>517.182017</td>\n",
              "      <td>367.701852</td>\n",
              "      <td>0.000000</td>\n",
              "    </tr>\n",
              "    <tr>\n",
              "      <th>4</th>\n",
              "      <td>323.429484</td>\n",
              "      <td>316.175320</td>\n",
              "      <td>275.082351</td>\n",
              "      <td>6.301904</td>\n",
              "      <td>0.000000</td>\n",
              "    </tr>\n",
              "    <tr>\n",
              "      <th>5</th>\n",
              "      <td>-720.251734</td>\n",
              "      <td>-307.013677</td>\n",
              "      <td>-52.540269</td>\n",
              "      <td>0.000000</td>\n",
              "      <td>0.000000</td>\n",
              "    </tr>\n",
              "    <tr>\n",
              "      <th>6</th>\n",
              "      <td>421.405141</td>\n",
              "      <td>89.321688</td>\n",
              "      <td>-0.000000</td>\n",
              "      <td>0.000000</td>\n",
              "      <td>0.000000</td>\n",
              "    </tr>\n",
              "    <tr>\n",
              "      <th>7</th>\n",
              "      <td>66.734168</td>\n",
              "      <td>-105.081398</td>\n",
              "      <td>-210.159753</td>\n",
              "      <td>-0.000000</td>\n",
              "      <td>-0.000000</td>\n",
              "    </tr>\n",
              "    <tr>\n",
              "      <th>8</th>\n",
              "      <td>164.448873</td>\n",
              "      <td>119.597989</td>\n",
              "      <td>0.000000</td>\n",
              "      <td>0.000000</td>\n",
              "      <td>0.000000</td>\n",
              "    </tr>\n",
              "    <tr>\n",
              "      <th>9</th>\n",
              "      <td>725.340440</td>\n",
              "      <td>571.330871</td>\n",
              "      <td>483.914409</td>\n",
              "      <td>307.605700</td>\n",
              "      <td>0.000000</td>\n",
              "    </tr>\n",
              "    <tr>\n",
              "      <th>10</th>\n",
              "      <td>67.475538</td>\n",
              "      <td>65.007316</td>\n",
              "      <td>33.672821</td>\n",
              "      <td>0.000000</td>\n",
              "      <td>0.000000</td>\n",
              "    </tr>\n",
              "  </tbody>\n",
              "</table>\n",
              "</div>"
            ],
            "text/plain": [
              "        0.001       0.010       0.100       1.000       10.000\n",
              "0   152.133484  152.133484  152.133484  152.133484  152.133484\n",
              "1    -8.998449   -1.306575   -0.000000    0.000000    0.000000\n",
              "2  -238.899740 -228.822331 -155.362882   -0.000000    0.000000\n",
              "3   520.261362  525.560658  517.182017  367.701852    0.000000\n",
              "4   323.429484  316.175320  275.082351    6.301904    0.000000\n",
              "5  -720.251734 -307.013677  -52.540269    0.000000    0.000000\n",
              "6   421.405141   89.321688   -0.000000    0.000000    0.000000\n",
              "7    66.734168 -105.081398 -210.159753   -0.000000   -0.000000\n",
              "8   164.448873  119.597989    0.000000    0.000000    0.000000\n",
              "9   725.340440  571.330871  483.914409  307.605700    0.000000\n",
              "10   67.475538   65.007316   33.672821    0.000000    0.000000"
            ]
          },
          "metadata": {},
          "execution_count": 85
        }
      ]
    },
    {
      "cell_type": "code",
      "metadata": {
        "colab": {
          "base_uri": "https://localhost:8080/",
          "height": 285
        },
        "id": "3t2Esm0q0J-S",
        "outputId": "61c301b8-cfa2-44c7-bdfa-c28cf69f3f7d"
      },
      "source": [
        "ax1 = plt.subplot(121)\n",
        "plt.semilogx(df_ridge.T)\n",
        "plt.xticks(alpha, label = np.log10(alpha))\n",
        "plt.title('Ridge')\n",
        "\n",
        "ax2 = plt.subplot(122)\n",
        "plt.semilogx(df_lasso.T)\n",
        "plt.xticks(alpha, label = np.log10(alpha))\n",
        "plt.title('lasso')\n",
        "plt.show()"
      ],
      "execution_count": null,
      "outputs": [
        {
          "output_type": "display_data",
          "data": {
            "image/png": "[encoded data removed]",
            "text/plain": [
              "<Figure size 432x288 with 2 Axes>"
            ]
          },
          "metadata": {
            "needs_background": "light"
          }
        }
      ]
    },
    {
      "cell_type": "code",
      "metadata": {
        "id": "4wqeQ5Ad0kFM"
      },
      "source": [
        "from sklearn.datasets import load_boston\n",
        "\n",
        "boston = load_boston()\n",
        "X = boston.data\n",
        "y = boston.target\n"
      ],
      "execution_count": null,
      "outputs": []
    },
    {
      "cell_type": "code",
      "metadata": {
        "id": "JASDU2-V1Dkn"
      },
      "source": [
        "from sklearn.model_selection import train_test_split\n",
        "train_X, test_X, train_y, test_y = train_test_split(X, y , test_size = 0.3)"
      ],
      "execution_count": null,
      "outputs": []
    },
    {
      "cell_type": "code",
      "metadata": {
        "colab": {
          "base_uri": "https://localhost:8080/"
        },
        "id": "Ecifav3V1NuE",
        "outputId": "cb69bad0-4b90-439f-fe55-456667f92658"
      },
      "source": [
        "from sklearn.linear_model import LinearRegression\n",
        "model_boston = LinearRegression()\n",
        "model_boston.fit(train_X, train_y)"
      ],
      "execution_count": null,
      "outputs": [
        {
          "output_type": "execute_result",
          "data": {
            "text/plain": [
              "LinearRegression(copy_X=True, fit_intercept=True, n_jobs=None, normalize=False)"
            ]
          },
          "metadata": {},
          "execution_count": 89
        }
      ]
    },
    {
      "cell_type": "code",
      "metadata": {
        "colab": {
          "base_uri": "https://localhost:8080/"
        },
        "id": "bygc0Lnt1WhZ",
        "outputId": "62bc356b-2132-4193-b8c1-dbb7fb39f54b"
      },
      "source": [
        "model_boston.score(train_X, train_y)"
      ],
      "execution_count": null,
      "outputs": [
        {
          "output_type": "execute_result",
          "data": {
            "text/plain": [
              "0.7224912856655239"
            ]
          },
          "metadata": {},
          "execution_count": 90
        }
      ]
    },
    {
      "cell_type": "code",
      "metadata": {
        "colab": {
          "base_uri": "https://localhost:8080/"
        },
        "id": "vvOS4fn11eio",
        "outputId": "00c832da-7659-4a4d-de4b-40b63b777e74"
      },
      "source": [
        "from sklearn.model_selection import cross_val_score\n",
        "r2 = cross_val_score(model_boston, train_X, train_y, cv=5)\n",
        "r2"
      ],
      "execution_count": null,
      "outputs": [
        {
          "output_type": "execute_result",
          "data": {
            "text/plain": [
              "array([0.74514558, 0.69041499, 0.65921423, 0.65352445, 0.56368183])"
            ]
          },
          "metadata": {},
          "execution_count": 91
        }
      ]
    },
    {
      "cell_type": "code",
      "metadata": {
        "colab": {
          "base_uri": "https://localhost:8080/"
        },
        "id": "yJk21EJ61oZ7",
        "outputId": "24c04624-66fa-4090-8373-2993e912f237"
      },
      "source": [
        "r2.mean()"
      ],
      "execution_count": null,
      "outputs": [
        {
          "output_type": "execute_result",
          "data": {
            "text/plain": [
              "0.6623962165346959"
            ]
          },
          "metadata": {},
          "execution_count": 92
        }
      ]
    },
    {
      "cell_type": "code",
      "metadata": {
        "colab": {
          "base_uri": "https://localhost:8080/"
        },
        "id": "r6Y58OoV1rlC",
        "outputId": "0b833c9a-fdcd-4041-a1d7-6d8e74f43362"
      },
      "source": [
        "import math\n",
        "from sklearn.metrics import mean_squared_error\n",
        "math.sqrt(mean_squared_error(train_y, model_boston.predict(train_X)))"
      ],
      "execution_count": null,
      "outputs": [
        {
          "output_type": "execute_result",
          "data": {
            "text/plain": [
              "5.0100207705201605"
            ]
          },
          "metadata": {},
          "execution_count": 93
        }
      ]
    },
    {
      "cell_type": "code",
      "metadata": {
        "colab": {
          "base_uri": "https://localhost:8080/"
        },
        "id": "tZ2KMdsX1_tk",
        "outputId": "88d50ea0-a8e4-40bf-81c0-60a4153e71a8"
      },
      "source": [
        "y_pred = model_boston.predict(test_X)\n",
        "y_pred"
      ],
      "execution_count": null,
      "outputs": [
        {
          "output_type": "execute_result",
          "data": {
            "text/plain": [
              "array([13.68134948, 14.72822159, 17.56497914, 10.31353767, 18.29252101,\n",
              "       19.85732201, 11.45659558, 21.02304362, 39.01118116, 23.22455551,\n",
              "       19.95149739, 31.0753286 , 20.55149669, 17.07092377, 20.48655937,\n",
              "       20.84775366, 20.69975726, 31.73753104, 21.30012715, 17.72154341,\n",
              "       36.42506667, 30.83327813, 11.60932474, 37.47988163, 13.83746617,\n",
              "       18.02755695, 23.28700537, 18.50683118, 18.75265029, 21.49966669,\n",
              "       20.46156157, 19.20817821, 23.05932703, 36.32511556, 24.97543411,\n",
              "       29.20494467, 20.60895554, 16.15183338, 19.84241368, 36.12506217,\n",
              "       28.54258197,  6.73632825, 40.2437941 , 24.05132374, 23.78055186,\n",
              "       12.10878764, 18.72016966, 14.99773347, 17.60279548, 17.9891877 ,\n",
              "       25.58742536, 34.81417964, 27.35505181, 18.37851025, 14.35066137,\n",
              "       20.30553803, 19.18502872, 20.80972543, 26.12716426, 21.53777508,\n",
              "       15.7667025 , 33.74763347, 33.15282238, 16.15805566, 20.09972979,\n",
              "       31.35370513, 28.68988917, 22.59371961, 22.859353  , 24.05855284,\n",
              "       13.55665892, 33.40609432, 25.62036141,  8.63996439, 16.86632566,\n",
              "        7.00951908, 32.95365062, 22.15106124, 19.2127352 , 33.1960987 ,\n",
              "       12.30609106, 25.44943395, 22.10666149, 17.33394345, 21.25563574,\n",
              "       33.34633854, 13.41074568, 11.75028737, 19.81435776, 31.06659438,\n",
              "       18.83752316, 27.51684491, 19.28099888, 20.51169415, 20.07631258,\n",
              "       37.27614291, 24.18623887, 17.62453087, 26.17872373, 11.25645492,\n",
              "       21.12456425, 32.71120942, 25.63383944, 27.72528964,  3.32229163,\n",
              "       26.26966791,  7.81489536, 21.90044677, 34.68012916, 20.99714763,\n",
              "       35.82266892, 22.85130507, 32.02934321, 28.00531047, 19.94068719,\n",
              "       16.55166379, 24.93640773, 28.83259913, 22.64447573, 24.34310191,\n",
              "       21.45166529, 22.03201654, 15.83009801, 25.07231707, 29.99849396,\n",
              "       15.23116817, 26.77796639, 24.96992332, 16.09682627, 25.06397498,\n",
              "       14.67919053, 16.78540904, 25.75520955, 31.45093166, 32.60368002,\n",
              "       18.35721573, 27.04928305, 19.18175636, 23.23239968, 29.14527342,\n",
              "       22.91656907, 22.53851375, 13.52825746, 19.18602388, 19.65859275,\n",
              "       20.77921416, 24.83018707, 23.09456161, 22.72151831, 16.05357907,\n",
              "       18.61176998, 18.57732084])"
            ]
          },
          "metadata": {},
          "execution_count": 94
        }
      ]
    },
    {
      "cell_type": "code",
      "metadata": {
        "colab": {
          "base_uri": "https://localhost:8080/"
        },
        "id": "z5iyX06o2EGx",
        "outputId": "6e820c28-7850-4125-8e18-d9bcf435bae1"
      },
      "source": [
        "rmse_test = math.sqrt(mean_squared_error(test_y, y_pred))\n",
        "rmse_test"
      ],
      "execution_count": null,
      "outputs": [
        {
          "output_type": "execute_result",
          "data": {
            "text/plain": [
              "3.944200878859425"
            ]
          },
          "metadata": {},
          "execution_count": 95
        }
      ]
    },
    {
      "cell_type": "code",
      "metadata": {
        "colab": {
          "base_uri": "https://localhost:8080/"
        },
        "id": "oW7AqZbE2M4U",
        "outputId": "094a03bc-f401-4602-9844-d3f5a377b10f"
      },
      "source": [
        "from sklearn.metrics import r2_score\n",
        "r2_score(test_y, y_pred)"
      ],
      "execution_count": null,
      "outputs": [
        {
          "output_type": "execute_result",
          "data": {
            "text/plain": [
              "0.7732420592861843"
            ]
          },
          "metadata": {},
          "execution_count": 96
        }
      ]
    },
    {
      "cell_type": "code",
      "metadata": {
        "colab": {
          "base_uri": "https://localhost:8080/",
          "height": 204
        },
        "id": "hEF0CQma2TPZ",
        "outputId": "e0b34317-504e-4141-a930-b7f1494cbf2c"
      },
      "source": [
        "Boston = sm.datasets.get_rdataset('Boston', package = 'MASS')\n",
        "boston_df = Boston.data\n",
        "boston_df.head()"
      ],
      "execution_count": null,
      "outputs": [
        {
          "output_type": "execute_result",
          "data": {
            "text/html": [
              "<div>\n",
              "<style scoped>\n",
              "    .dataframe tbody tr th:only-of-type {\n",
              "        vertical-align: middle;\n",
              "    }\n",
              "\n",
              "    .dataframe tbody tr th {\n",
              "        vertical-align: top;\n",
              "    }\n",
              "\n",
              "    .dataframe thead th {\n",
              "        text-align: right;\n",
              "    }\n",
              "</style>\n",
              "<table border=\"1\" class=\"dataframe\">\n",
              "  <thead>\n",
              "    <tr style=\"text-align: right;\">\n",
              "      <th></th>\n",
              "      <th>crim</th>\n",
              "      <th>zn</th>\n",
              "      <th>indus</th>\n",
              "      <th>chas</th>\n",
              "      <th>nox</th>\n",
              "      <th>rm</th>\n",
              "      <th>age</th>\n",
              "      <th>dis</th>\n",
              "      <th>rad</th>\n",
              "      <th>tax</th>\n",
              "      <th>ptratio</th>\n",
              "      <th>black</th>\n",
              "      <th>lstat</th>\n",
              "      <th>medv</th>\n",
              "    </tr>\n",
              "  </thead>\n",
              "  <tbody>\n",
              "    <tr>\n",
              "      <th>0</th>\n",
              "      <td>0.00632</td>\n",
              "      <td>18.0</td>\n",
              "      <td>2.31</td>\n",
              "      <td>0</td>\n",
              "      <td>0.538</td>\n",
              "      <td>6.575</td>\n",
              "      <td>65.2</td>\n",
              "      <td>4.0900</td>\n",
              "      <td>1</td>\n",
              "      <td>296</td>\n",
              "      <td>15.3</td>\n",
              "      <td>396.90</td>\n",
              "      <td>4.98</td>\n",
              "      <td>24.0</td>\n",
              "    </tr>\n",
              "    <tr>\n",
              "      <th>1</th>\n",
              "      <td>0.02731</td>\n",
              "      <td>0.0</td>\n",
              "      <td>7.07</td>\n",
              "      <td>0</td>\n",
              "      <td>0.469</td>\n",
              "      <td>6.421</td>\n",
              "      <td>78.9</td>\n",
              "      <td>4.9671</td>\n",
              "      <td>2</td>\n",
              "      <td>242</td>\n",
              "      <td>17.8</td>\n",
              "      <td>396.90</td>\n",
              "      <td>9.14</td>\n",
              "      <td>21.6</td>\n",
              "    </tr>\n",
              "    <tr>\n",
              "      <th>2</th>\n",
              "      <td>0.02729</td>\n",
              "      <td>0.0</td>\n",
              "      <td>7.07</td>\n",
              "      <td>0</td>\n",
              "      <td>0.469</td>\n",
              "      <td>7.185</td>\n",
              "      <td>61.1</td>\n",
              "      <td>4.9671</td>\n",
              "      <td>2</td>\n",
              "      <td>242</td>\n",
              "      <td>17.8</td>\n",
              "      <td>392.83</td>\n",
              "      <td>4.03</td>\n",
              "      <td>34.7</td>\n",
              "    </tr>\n",
              "    <tr>\n",
              "      <th>3</th>\n",
              "      <td>0.03237</td>\n",
              "      <td>0.0</td>\n",
              "      <td>2.18</td>\n",
              "      <td>0</td>\n",
              "      <td>0.458</td>\n",
              "      <td>6.998</td>\n",
              "      <td>45.8</td>\n",
              "      <td>6.0622</td>\n",
              "      <td>3</td>\n",
              "      <td>222</td>\n",
              "      <td>18.7</td>\n",
              "      <td>394.63</td>\n",
              "      <td>2.94</td>\n",
              "      <td>33.4</td>\n",
              "    </tr>\n",
              "    <tr>\n",
              "      <th>4</th>\n",
              "      <td>0.06905</td>\n",
              "      <td>0.0</td>\n",
              "      <td>2.18</td>\n",
              "      <td>0</td>\n",
              "      <td>0.458</td>\n",
              "      <td>7.147</td>\n",
              "      <td>54.2</td>\n",
              "      <td>6.0622</td>\n",
              "      <td>3</td>\n",
              "      <td>222</td>\n",
              "      <td>18.7</td>\n",
              "      <td>396.90</td>\n",
              "      <td>5.33</td>\n",
              "      <td>36.2</td>\n",
              "    </tr>\n",
              "  </tbody>\n",
              "</table>\n",
              "</div>"
            ],
            "text/plain": [
              "      crim    zn  indus  chas    nox  ...  tax  ptratio   black  lstat  medv\n",
              "0  0.00632  18.0   2.31     0  0.538  ...  296     15.3  396.90   4.98  24.0\n",
              "1  0.02731   0.0   7.07     0  0.469  ...  242     17.8  396.90   9.14  21.6\n",
              "2  0.02729   0.0   7.07     0  0.469  ...  242     17.8  392.83   4.03  34.7\n",
              "3  0.03237   0.0   2.18     0  0.458  ...  222     18.7  394.63   2.94  33.4\n",
              "4  0.06905   0.0   2.18     0  0.458  ...  222     18.7  396.90   5.33  36.2\n",
              "\n",
              "[5 rows x 14 columns]"
            ]
          },
          "metadata": {},
          "execution_count": 97
        }
      ]
    },
    {
      "cell_type": "code",
      "metadata": {
        "id": "ibz8fYlR3X9a"
      },
      "source": [
        "import statsmodels.formula.api as smf\n",
        "formula = 'medv~' + '+'.join(boston_df.iloc[:, :-1].columns)\n",
        "model_boston = smf.ols(formula = formula, data = boston_df).fit()\n"
      ],
      "execution_count": null,
      "outputs": []
    },
    {
      "cell_type": "code",
      "metadata": {
        "colab": {
          "base_uri": "https://localhost:8080/",
          "height": 730
        },
        "id": "bmqH7URI4qMC",
        "outputId": "f64e38c0-53a4-419b-a2ae-f96b2c3da3e8"
      },
      "source": [
        "model_boston.summary()"
      ],
      "execution_count": null,
      "outputs": [
        {
          "output_type": "execute_result",
          "data": {
            "text/html": [
              "<table class=\"simpletable\">\n",
              "<caption>OLS Regression Results</caption>\n",
              "<tr>\n",
              "  <th>Dep. Variable:</th>          <td>medv</td>       <th>  R-squared:         </th> <td>   0.741</td> \n",
              "</tr>\n",
              "<tr>\n",
              "  <th>Model:</th>                   <td>OLS</td>       <th>  Adj. R-squared:    </th> <td>   0.734</td> \n",
              "</tr>\n",
              "<tr>\n",
              "  <th>Method:</th>             <td>Least Squares</td>  <th>  F-statistic:       </th> <td>   108.1</td> \n",
              "</tr>\n",
              "<tr>\n",
              "  <th>Date:</th>             <td>Mon, 20 Sep 2021</td> <th>  Prob (F-statistic):</th> <td>6.72e-135</td>\n",
              "</tr>\n",
              "<tr>\n",
              "  <th>Time:</th>                 <td>15:47:49</td>     <th>  Log-Likelihood:    </th> <td> -1498.8</td> \n",
              "</tr>\n",
              "<tr>\n",
              "  <th>No. Observations:</th>      <td>   506</td>      <th>  AIC:               </th> <td>   3026.</td> \n",
              "</tr>\n",
              "<tr>\n",
              "  <th>Df Residuals:</th>          <td>   492</td>      <th>  BIC:               </th> <td>   3085.</td> \n",
              "</tr>\n",
              "<tr>\n",
              "  <th>Df Model:</th>              <td>    13</td>      <th>                     </th>     <td> </td>    \n",
              "</tr>\n",
              "<tr>\n",
              "  <th>Covariance Type:</th>      <td>nonrobust</td>    <th>                     </th>     <td> </td>    \n",
              "</tr>\n",
              "</table>\n",
              "<table class=\"simpletable\">\n",
              "<tr>\n",
              "      <td></td>         <th>coef</th>     <th>std err</th>      <th>t</th>      <th>P>|t|</th>  <th>[0.025</th>    <th>0.975]</th>  \n",
              "</tr>\n",
              "<tr>\n",
              "  <th>Intercept</th> <td>   36.4595</td> <td>    5.103</td> <td>    7.144</td> <td> 0.000</td> <td>   26.432</td> <td>   46.487</td>\n",
              "</tr>\n",
              "<tr>\n",
              "  <th>crim</th>      <td>   -0.1080</td> <td>    0.033</td> <td>   -3.287</td> <td> 0.001</td> <td>   -0.173</td> <td>   -0.043</td>\n",
              "</tr>\n",
              "<tr>\n",
              "  <th>zn</th>        <td>    0.0464</td> <td>    0.014</td> <td>    3.382</td> <td> 0.001</td> <td>    0.019</td> <td>    0.073</td>\n",
              "</tr>\n",
              "<tr>\n",
              "  <th>indus</th>     <td>    0.0206</td> <td>    0.061</td> <td>    0.334</td> <td> 0.738</td> <td>   -0.100</td> <td>    0.141</td>\n",
              "</tr>\n",
              "<tr>\n",
              "  <th>chas</th>      <td>    2.6867</td> <td>    0.862</td> <td>    3.118</td> <td> 0.002</td> <td>    0.994</td> <td>    4.380</td>\n",
              "</tr>\n",
              "<tr>\n",
              "  <th>nox</th>       <td>  -17.7666</td> <td>    3.820</td> <td>   -4.651</td> <td> 0.000</td> <td>  -25.272</td> <td>  -10.262</td>\n",
              "</tr>\n",
              "<tr>\n",
              "  <th>rm</th>        <td>    3.8099</td> <td>    0.418</td> <td>    9.116</td> <td> 0.000</td> <td>    2.989</td> <td>    4.631</td>\n",
              "</tr>\n",
              "<tr>\n",
              "  <th>age</th>       <td>    0.0007</td> <td>    0.013</td> <td>    0.052</td> <td> 0.958</td> <td>   -0.025</td> <td>    0.027</td>\n",
              "</tr>\n",
              "<tr>\n",
              "  <th>dis</th>       <td>   -1.4756</td> <td>    0.199</td> <td>   -7.398</td> <td> 0.000</td> <td>   -1.867</td> <td>   -1.084</td>\n",
              "</tr>\n",
              "<tr>\n",
              "  <th>rad</th>       <td>    0.3060</td> <td>    0.066</td> <td>    4.613</td> <td> 0.000</td> <td>    0.176</td> <td>    0.436</td>\n",
              "</tr>\n",
              "<tr>\n",
              "  <th>tax</th>       <td>   -0.0123</td> <td>    0.004</td> <td>   -3.280</td> <td> 0.001</td> <td>   -0.020</td> <td>   -0.005</td>\n",
              "</tr>\n",
              "<tr>\n",
              "  <th>ptratio</th>   <td>   -0.9527</td> <td>    0.131</td> <td>   -7.283</td> <td> 0.000</td> <td>   -1.210</td> <td>   -0.696</td>\n",
              "</tr>\n",
              "<tr>\n",
              "  <th>black</th>     <td>    0.0093</td> <td>    0.003</td> <td>    3.467</td> <td> 0.001</td> <td>    0.004</td> <td>    0.015</td>\n",
              "</tr>\n",
              "<tr>\n",
              "  <th>lstat</th>     <td>   -0.5248</td> <td>    0.051</td> <td>  -10.347</td> <td> 0.000</td> <td>   -0.624</td> <td>   -0.425</td>\n",
              "</tr>\n",
              "</table>\n",
              "<table class=\"simpletable\">\n",
              "<tr>\n",
              "  <th>Omnibus:</th>       <td>178.041</td> <th>  Durbin-Watson:     </th> <td>   1.078</td> \n",
              "</tr>\n",
              "<tr>\n",
              "  <th>Prob(Omnibus):</th> <td> 0.000</td>  <th>  Jarque-Bera (JB):  </th> <td> 783.126</td> \n",
              "</tr>\n",
              "<tr>\n",
              "  <th>Skew:</th>          <td> 1.521</td>  <th>  Prob(JB):          </th> <td>8.84e-171</td>\n",
              "</tr>\n",
              "<tr>\n",
              "  <th>Kurtosis:</th>      <td> 8.281</td>  <th>  Cond. No.          </th> <td>1.51e+04</td> \n",
              "</tr>\n",
              "</table><br/><br/>Warnings:<br/>[1] Standard Errors assume that the covariance matrix of the errors is correctly specified.<br/>[2] The condition number is large, 1.51e+04. This might indicate that there are<br/>strong multicollinearity or other numerical problems."
            ],
            "text/plain": [
              "<class 'statsmodels.iolib.summary.Summary'>\n",
              "\"\"\"\n",
              "                            OLS Regression Results                            \n",
              "==============================================================================\n",
              "Dep. Variable:                   medv   R-squared:                       0.741\n",
              "Model:                            OLS   Adj. R-squared:                  0.734\n",
              "Method:                 Least Squares   F-statistic:                     108.1\n",
              "Date:                Mon, 20 Sep 2021   Prob (F-statistic):          6.72e-135\n",
              "Time:                        15:47:49   Log-Likelihood:                -1498.8\n",
              "No. Observations:                 506   AIC:                             3026.\n",
              "Df Residuals:                     492   BIC:                             3085.\n",
              "Df Model:                          13                                         \n",
              "Covariance Type:            nonrobust                                         \n",
              "==============================================================================\n",
              "                 coef    std err          t      P>|t|      [0.025      0.975]\n",
              "------------------------------------------------------------------------------\n",
              "Intercept     36.4595      5.103      7.144      0.000      26.432      46.487\n",
              "crim          -0.1080      0.033     -3.287      0.001      -0.173      -0.043\n",
              "zn             0.0464      0.014      3.382      0.001       0.019       0.073\n",
              "indus          0.0206      0.061      0.334      0.738      -0.100       0.141\n",
              "chas           2.6867      0.862      3.118      0.002       0.994       4.380\n",
              "nox          -17.7666      3.820     -4.651      0.000     -25.272     -10.262\n",
              "rm             3.8099      0.418      9.116      0.000       2.989       4.631\n",
              "age            0.0007      0.013      0.052      0.958      -0.025       0.027\n",
              "dis           -1.4756      0.199     -7.398      0.000      -1.867      -1.084\n",
              "rad            0.3060      0.066      4.613      0.000       0.176       0.436\n",
              "tax           -0.0123      0.004     -3.280      0.001      -0.020      -0.005\n",
              "ptratio       -0.9527      0.131     -7.283      0.000      -1.210      -0.696\n",
              "black          0.0093      0.003      3.467      0.001       0.004       0.015\n",
              "lstat         -0.5248      0.051    -10.347      0.000      -0.624      -0.425\n",
              "==============================================================================\n",
              "Omnibus:                      178.041   Durbin-Watson:                   1.078\n",
              "Prob(Omnibus):                  0.000   Jarque-Bera (JB):              783.126\n",
              "Skew:                           1.521   Prob(JB):                    8.84e-171\n",
              "Kurtosis:                       8.281   Cond. No.                     1.51e+04\n",
              "==============================================================================\n",
              "\n",
              "Warnings:\n",
              "[1] Standard Errors assume that the covariance matrix of the errors is correctly specified.\n",
              "[2] The condition number is large, 1.51e+04. This might indicate that there are\n",
              "strong multicollinearity or other numerical problems.\n",
              "\"\"\""
            ]
          },
          "metadata": {},
          "execution_count": 103
        }
      ]
    },
    {
      "cell_type": "code",
      "metadata": {
        "id": "o9C3yOAH5FTH"
      },
      "source": [
        "formula = 'medv ~ rad + zn + rm + chas + age -1'\n",
        "model_boston2 = smf.ols(formula = formula, data = boston_df).fit()"
      ],
      "execution_count": null,
      "outputs": []
    },
    {
      "cell_type": "code",
      "metadata": {
        "colab": {
          "base_uri": "https://localhost:8080/",
          "height": 507
        },
        "id": "TFD8iSn85TTH",
        "outputId": "40ea22de-b3ef-494b-a4d5-a06b0f582d49"
      },
      "source": [
        "model_boston2.summary()"
      ],
      "execution_count": null,
      "outputs": [
        {
          "output_type": "execute_result",
          "data": {
            "text/html": [
              "<table class=\"simpletable\">\n",
              "<caption>OLS Regression Results</caption>\n",
              "<tr>\n",
              "  <th>Dep. Variable:</th>          <td>medv</td>       <th>  R-squared (uncentered):</th>      <td>   0.932</td> \n",
              "</tr>\n",
              "<tr>\n",
              "  <th>Model:</th>                   <td>OLS</td>       <th>  Adj. R-squared (uncentered):</th> <td>   0.931</td> \n",
              "</tr>\n",
              "<tr>\n",
              "  <th>Method:</th>             <td>Least Squares</td>  <th>  F-statistic:       </th>          <td>   1363.</td> \n",
              "</tr>\n",
              "<tr>\n",
              "  <th>Date:</th>             <td>Mon, 20 Sep 2021</td> <th>  Prob (F-statistic):</th>          <td>5.05e-289</td>\n",
              "</tr>\n",
              "<tr>\n",
              "  <th>Time:</th>                 <td>15:49:09</td>     <th>  Log-Likelihood:    </th>          <td> -1654.6</td> \n",
              "</tr>\n",
              "<tr>\n",
              "  <th>No. Observations:</th>      <td>   506</td>      <th>  AIC:               </th>          <td>   3319.</td> \n",
              "</tr>\n",
              "<tr>\n",
              "  <th>Df Residuals:</th>          <td>   501</td>      <th>  BIC:               </th>          <td>   3340.</td> \n",
              "</tr>\n",
              "<tr>\n",
              "  <th>Df Model:</th>              <td>     5</td>      <th>                     </th>              <td> </td>    \n",
              "</tr>\n",
              "<tr>\n",
              "  <th>Covariance Type:</th>      <td>nonrobust</td>    <th>                     </th>              <td> </td>    \n",
              "</tr>\n",
              "</table>\n",
              "<table class=\"simpletable\">\n",
              "<tr>\n",
              "    <td></td>      <th>coef</th>     <th>std err</th>      <th>t</th>      <th>P>|t|</th>  <th>[0.025</th>    <th>0.975]</th>  \n",
              "</tr>\n",
              "<tr>\n",
              "  <th>rad</th>  <td>   -0.2183</td> <td>    0.037</td> <td>   -5.924</td> <td> 0.000</td> <td>   -0.291</td> <td>   -0.146</td>\n",
              "</tr>\n",
              "<tr>\n",
              "  <th>zn</th>   <td>    0.0161</td> <td>    0.015</td> <td>    1.056</td> <td> 0.291</td> <td>   -0.014</td> <td>    0.046</td>\n",
              "</tr>\n",
              "<tr>\n",
              "  <th>rm</th>   <td>    4.7232</td> <td>    0.147</td> <td>   32.166</td> <td> 0.000</td> <td>    4.435</td> <td>    5.012</td>\n",
              "</tr>\n",
              "<tr>\n",
              "  <th>chas</th> <td>    5.6944</td> <td>    1.128</td> <td>    5.047</td> <td> 0.000</td> <td>    3.478</td> <td>    7.911</td>\n",
              "</tr>\n",
              "<tr>\n",
              "  <th>age</th>  <td>   -0.0792</td> <td>    0.012</td> <td>   -6.358</td> <td> 0.000</td> <td>   -0.104</td> <td>   -0.055</td>\n",
              "</tr>\n",
              "</table>\n",
              "<table class=\"simpletable\">\n",
              "<tr>\n",
              "  <th>Omnibus:</th>       <td>234.375</td> <th>  Durbin-Watson:     </th> <td>   0.708</td> \n",
              "</tr>\n",
              "<tr>\n",
              "  <th>Prob(Omnibus):</th> <td> 0.000</td>  <th>  Jarque-Bera (JB):  </th> <td>1253.471</td> \n",
              "</tr>\n",
              "<tr>\n",
              "  <th>Skew:</th>          <td> 2.008</td>  <th>  Prob(JB):          </th> <td>6.49e-273</td>\n",
              "</tr>\n",
              "<tr>\n",
              "  <th>Kurtosis:</th>      <td> 9.583</td>  <th>  Cond. No.          </th> <td>    299.</td> \n",
              "</tr>\n",
              "</table><br/><br/>Warnings:<br/>[1] Standard Errors assume that the covariance matrix of the errors is correctly specified."
            ],
            "text/plain": [
              "<class 'statsmodels.iolib.summary.Summary'>\n",
              "\"\"\"\n",
              "                                 OLS Regression Results                                \n",
              "=======================================================================================\n",
              "Dep. Variable:                   medv   R-squared (uncentered):                   0.932\n",
              "Model:                            OLS   Adj. R-squared (uncentered):              0.931\n",
              "Method:                 Least Squares   F-statistic:                              1363.\n",
              "Date:                Mon, 20 Sep 2021   Prob (F-statistic):                   5.05e-289\n",
              "Time:                        15:49:09   Log-Likelihood:                         -1654.6\n",
              "No. Observations:                 506   AIC:                                      3319.\n",
              "Df Residuals:                     501   BIC:                                      3340.\n",
              "Df Model:                           5                                                  \n",
              "Covariance Type:            nonrobust                                                  \n",
              "==============================================================================\n",
              "                 coef    std err          t      P>|t|      [0.025      0.975]\n",
              "------------------------------------------------------------------------------\n",
              "rad           -0.2183      0.037     -5.924      0.000      -0.291      -0.146\n",
              "zn             0.0161      0.015      1.056      0.291      -0.014       0.046\n",
              "rm             4.7232      0.147     32.166      0.000       4.435       5.012\n",
              "chas           5.6944      1.128      5.047      0.000       3.478       7.911\n",
              "age           -0.0792      0.012     -6.358      0.000      -0.104      -0.055\n",
              "==============================================================================\n",
              "Omnibus:                      234.375   Durbin-Watson:                   0.708\n",
              "Prob(Omnibus):                  0.000   Jarque-Bera (JB):             1253.471\n",
              "Skew:                           2.008   Prob(JB):                    6.49e-273\n",
              "Kurtosis:                       9.583   Cond. No.                         299.\n",
              "==============================================================================\n",
              "\n",
              "Warnings:\n",
              "[1] Standard Errors assume that the covariance matrix of the errors is correctly specified.\n",
              "\"\"\""
            ]
          },
          "metadata": {},
          "execution_count": 107
        }
      ]
    },
    {
      "cell_type": "code",
      "metadata": {
        "id": "3WIHVvbO5ZBO"
      },
      "source": [
        "y_pred = model_boston2.predict(boston_df)"
      ],
      "execution_count": null,
      "outputs": []
    },
    {
      "cell_type": "code",
      "metadata": {
        "colab": {
          "base_uri": "https://localhost:8080/",
          "height": 204
        },
        "id": "JmsDMass6hvz",
        "outputId": "b94bf6cf-4a05-48c4-c015-c1b8b01952bb"
      },
      "source": [
        "boston_df.head()"
      ],
      "execution_count": null,
      "outputs": [
        {
          "output_type": "execute_result",
          "data": {
            "text/html": [
              "<div>\n",
              "<style scoped>\n",
              "    .dataframe tbody tr th:only-of-type {\n",
              "        vertical-align: middle;\n",
              "    }\n",
              "\n",
              "    .dataframe tbody tr th {\n",
              "        vertical-align: top;\n",
              "    }\n",
              "\n",
              "    .dataframe thead th {\n",
              "        text-align: right;\n",
              "    }\n",
              "</style>\n",
              "<table border=\"1\" class=\"dataframe\">\n",
              "  <thead>\n",
              "    <tr style=\"text-align: right;\">\n",
              "      <th></th>\n",
              "      <th>crim</th>\n",
              "      <th>zn</th>\n",
              "      <th>indus</th>\n",
              "      <th>chas</th>\n",
              "      <th>nox</th>\n",
              "      <th>rm</th>\n",
              "      <th>age</th>\n",
              "      <th>dis</th>\n",
              "      <th>rad</th>\n",
              "      <th>tax</th>\n",
              "      <th>ptratio</th>\n",
              "      <th>black</th>\n",
              "      <th>lstat</th>\n",
              "      <th>medv</th>\n",
              "    </tr>\n",
              "  </thead>\n",
              "  <tbody>\n",
              "    <tr>\n",
              "      <th>0</th>\n",
              "      <td>0.00632</td>\n",
              "      <td>18.0</td>\n",
              "      <td>2.31</td>\n",
              "      <td>0</td>\n",
              "      <td>0.538</td>\n",
              "      <td>6.575</td>\n",
              "      <td>65.2</td>\n",
              "      <td>4.0900</td>\n",
              "      <td>1</td>\n",
              "      <td>296</td>\n",
              "      <td>15.3</td>\n",
              "      <td>396.90</td>\n",
              "      <td>4.98</td>\n",
              "      <td>24.0</td>\n",
              "    </tr>\n",
              "    <tr>\n",
              "      <th>1</th>\n",
              "      <td>0.02731</td>\n",
              "      <td>0.0</td>\n",
              "      <td>7.07</td>\n",
              "      <td>0</td>\n",
              "      <td>0.469</td>\n",
              "      <td>6.421</td>\n",
              "      <td>78.9</td>\n",
              "      <td>4.9671</td>\n",
              "      <td>2</td>\n",
              "      <td>242</td>\n",
              "      <td>17.8</td>\n",
              "      <td>396.90</td>\n",
              "      <td>9.14</td>\n",
              "      <td>21.6</td>\n",
              "    </tr>\n",
              "    <tr>\n",
              "      <th>2</th>\n",
              "      <td>0.02729</td>\n",
              "      <td>0.0</td>\n",
              "      <td>7.07</td>\n",
              "      <td>0</td>\n",
              "      <td>0.469</td>\n",
              "      <td>7.185</td>\n",
              "      <td>61.1</td>\n",
              "      <td>4.9671</td>\n",
              "      <td>2</td>\n",
              "      <td>242</td>\n",
              "      <td>17.8</td>\n",
              "      <td>392.83</td>\n",
              "      <td>4.03</td>\n",
              "      <td>34.7</td>\n",
              "    </tr>\n",
              "    <tr>\n",
              "      <th>3</th>\n",
              "      <td>0.03237</td>\n",
              "      <td>0.0</td>\n",
              "      <td>2.18</td>\n",
              "      <td>0</td>\n",
              "      <td>0.458</td>\n",
              "      <td>6.998</td>\n",
              "      <td>45.8</td>\n",
              "      <td>6.0622</td>\n",
              "      <td>3</td>\n",
              "      <td>222</td>\n",
              "      <td>18.7</td>\n",
              "      <td>394.63</td>\n",
              "      <td>2.94</td>\n",
              "      <td>33.4</td>\n",
              "    </tr>\n",
              "    <tr>\n",
              "      <th>4</th>\n",
              "      <td>0.06905</td>\n",
              "      <td>0.0</td>\n",
              "      <td>2.18</td>\n",
              "      <td>0</td>\n",
              "      <td>0.458</td>\n",
              "      <td>7.147</td>\n",
              "      <td>54.2</td>\n",
              "      <td>6.0622</td>\n",
              "      <td>3</td>\n",
              "      <td>222</td>\n",
              "      <td>18.7</td>\n",
              "      <td>396.90</td>\n",
              "      <td>5.33</td>\n",
              "      <td>36.2</td>\n",
              "    </tr>\n",
              "  </tbody>\n",
              "</table>\n",
              "</div>"
            ],
            "text/plain": [
              "      crim    zn  indus  chas    nox  ...  tax  ptratio   black  lstat  medv\n",
              "0  0.00632  18.0   2.31     0  0.538  ...  296     15.3  396.90   4.98  24.0\n",
              "1  0.02731   0.0   7.07     0  0.469  ...  242     17.8  396.90   9.14  21.6\n",
              "2  0.02729   0.0   7.07     0  0.469  ...  242     17.8  392.83   4.03  34.7\n",
              "3  0.03237   0.0   2.18     0  0.458  ...  222     18.7  394.63   2.94  33.4\n",
              "4  0.06905   0.0   2.18     0  0.458  ...  222     18.7  396.90   5.33  36.2\n",
              "\n",
              "[5 rows x 14 columns]"
            ]
          },
          "metadata": {},
          "execution_count": 113
        }
      ]
    },
    {
      "cell_type": "code",
      "metadata": {
        "colab": {
          "base_uri": "https://localhost:8080/",
          "height": 295
        },
        "id": "Ipm2WwDO52t2",
        "outputId": "123ccaf6-0b92-49d3-a45d-b32c271278a0"
      },
      "source": [
        "fig = plt.figure()\n",
        "plt.scatter(boston_df.iloc[:,-1], y_pred)\n",
        "plt.xlabel('Target y')\n",
        "plt.ylabel('Prediced y')\n",
        "plt.title('Prediction vs.Actual')\n",
        "plt.show()"
      ],
      "execution_count": null,
      "outputs": [
        {
          "output_type": "display_data",
          "data": {
            "image/png": "[encoded data removed]",
            "text/plain": [
              "<Figure size 432x288 with 1 Axes>"
            ]
          },
          "metadata": {
            "needs_background": "light"
          }
        }
      ]
    },
    {
      "cell_type": "code",
      "metadata": {
        "colab": {
          "base_uri": "https://localhost:8080/",
          "height": 295
        },
        "id": "fc5tuZJI6EcP",
        "outputId": "462f2d82-9a61-47bd-cde3-ff353acff072"
      },
      "source": [
        "from scipy import stats\n",
        "fig = plt.figure()\n",
        "res = stats.probplot(y_pred, plot = plt)\n",
        "plt.title('Probablility plot')\n",
        "plt.show()"
      ],
      "execution_count": null,
      "outputs": [
        {
          "output_type": "display_data",
          "data": {
            "image/png": "[encoded data removed]",
            "text/plain": [
              "<Figure size 432x288 with 1 Axes>"
            ]
          },
          "metadata": {
            "needs_background": "light"
          }
        }
      ]
    },
    {
      "cell_type": "code",
      "metadata": {
        "colab": {
          "base_uri": "https://localhost:8080/"
        },
        "id": "qJc6qGBO6UWD",
        "outputId": "33b7923f-c7a5-44a8-9616-03712f942c6d"
      },
      "source": [
        "influence = model_boston2.get_influence()\n",
        "leverage = influence.hat_matrix_diag\n",
        "leverage"
      ],
      "execution_count": null,
      "outputs": [
        {
          "output_type": "execute_result",
          "data": {
            "text/plain": [
              "array([0.00451776, 0.0056484 , 0.0071177 , 0.00849182, 0.00749566,\n",
              "       0.00492324, 0.00257611, 0.00743155, 0.00978876, 0.00520168,\n",
              "       0.00665308, 0.0046034 , 0.00344662, 0.00350544, 0.00503083,\n",
              "       0.00348841, 0.00805384, 0.00464245, 0.00478533, 0.00339064,\n",
              "       0.00834257, 0.0058364 , 0.00623029, 0.00851624, 0.00688384,\n",
              "       0.00536983, 0.00614372, 0.00572945, 0.00660802, 0.00552768,\n",
              "       0.0070933 , 0.00817743, 0.0046783 , 0.00733028, 0.00738016,\n",
              "       0.00317729, 0.003061  , 0.00504048, 0.00794906, 0.01686875,\n",
              "       0.01725022, 0.02286547, 0.01720944, 0.01750687, 0.00625739,\n",
              "       0.00613695, 0.00660426, 0.00575776, 0.00848394, 0.00337546,\n",
              "       0.00269591, 0.00309051, 0.00792315, 0.00609131, 0.02095916,\n",
              "       0.02487653, 0.02391795, 0.03478123, 0.00530086, 0.00271819,\n",
              "       0.00331751, 0.00850954, 0.00310248, 0.00424104, 0.00415371,\n",
              "       0.01966903, 0.02126082, 0.00689605, 0.00311742, 0.00440053,\n",
              "       0.01888701, 0.01182293, 0.01622191, 0.01801147, 0.01850682,\n",
              "       0.0057765 , 0.0037391 , 0.00518584, 0.00435549, 0.00606671,\n",
              "       0.00547518, 0.00420887, 0.0046141 , 0.00304236, 0.00596832,\n",
              "       0.00565469, 0.00526076, 0.00435423, 0.00687076, 0.00664536,\n",
              "       0.00505837, 0.00525422, 0.00344874, 0.00487507, 0.00613293,\n",
              "       0.00586063, 0.00475006, 0.00850888, 0.01496859, 0.00767103,\n",
              "       0.00444295, 0.0043809 , 0.00469073, 0.00494218, 0.00535309,\n",
              "       0.00697173, 0.00589914, 0.00462596, 0.00653482, 0.00553864,\n",
              "       0.00419027, 0.00412175, 0.00553573, 0.00590154, 0.00408147,\n",
              "       0.00466646, 0.00323553, 0.00386709, 0.00300747, 0.00264958,\n",
              "       0.0044426 , 0.00616412, 0.00794089, 0.00908488, 0.00873704,\n",
              "       0.00695043, 0.00899811, 0.0075961 , 0.00754855, 0.00733156,\n",
              "       0.00755234, 0.00737592, 0.00738792, 0.00729238, 0.00815155,\n",
              "       0.00748257, 0.00673338, 0.00744375, 0.00796553, 0.00756768,\n",
              "       0.00659263, 0.00999524, 0.03348932, 0.00843462, 0.00889378,\n",
              "       0.00746734, 0.00815854, 0.00818219, 0.007152  , 0.0068378 ,\n",
              "       0.00683245, 0.00855261, 0.03155253, 0.00761772, 0.03134154,\n",
              "       0.02968895, 0.00706836, 0.00645138, 0.0075407 , 0.00712063,\n",
              "       0.03068422, 0.00591178, 0.03087561, 0.03123792, 0.00586401,\n",
              "       0.00593386, 0.00679923, 0.00386444, 0.00642175, 0.00619894,\n",
              "       0.00645206, 0.00708517, 0.00541532, 0.00454977, 0.00311466,\n",
              "       0.009567  , 0.00462513, 0.00373451, 0.00448182, 0.0063973 ,\n",
              "       0.00708387, 0.0041805 , 0.00699306, 0.00748406, 0.00681881,\n",
              "       0.00421907, 0.0102115 , 0.00633975, 0.00698775, 0.00687602,\n",
              "       0.00889932, 0.00705663, 0.00851804, 0.01274752, 0.011325  ,\n",
              "       0.01901695, 0.01935748, 0.01973839, 0.01970859, 0.0277738 ,\n",
              "       0.02767076, 0.02327172, 0.0207947 , 0.02762391, 0.02735186,\n",
              "       0.00988674, 0.00494342, 0.00364199, 0.03014887, 0.03416348,\n",
              "       0.0313593 , 0.03145883, 0.03029036, 0.00907137, 0.01190548,\n",
              "       0.00603095, 0.03005448, 0.00475761, 0.03118412, 0.0305621 ,\n",
              "       0.0291606 , 0.02960516, 0.02924286, 0.00339228, 0.00646008,\n",
              "       0.00726673, 0.00538758, 0.00401677, 0.02307177, 0.01417599,\n",
              "       0.00258702, 0.00454185, 0.00731032, 0.00746888, 0.0300135 ,\n",
              "       0.00299837, 0.02908582, 0.00479636, 0.00803623, 0.00407195,\n",
              "       0.00370866, 0.00412521, 0.00334319, 0.01095554, 0.00463407,\n",
              "       0.0035429 , 0.0040498 , 0.0043026 , 0.00296178, 0.01028262,\n",
              "       0.01087542, 0.0121696 , 0.0155321 , 0.02231975, 0.02084598,\n",
              "       0.01982513, 0.02496728, 0.00574629, 0.00784672, 0.0086224 ,\n",
              "       0.00453706, 0.00553393, 0.00586227, 0.0065867 , 0.00610198,\n",
              "       0.0027691 , 0.00498496, 0.00531438, 0.0047883 , 0.02975959,\n",
              "       0.00288331, 0.00829923, 0.00338469, 0.03211336, 0.03405117,\n",
              "       0.0054755 , 0.03268791, 0.03509503, 0.00576422, 0.00641786,\n",
              "       0.00450388, 0.00585612, 0.03220932, 0.05264896, 0.02456601,\n",
              "       0.00922448, 0.02055536, 0.00839833, 0.00849796, 0.00941219,\n",
              "       0.01940432, 0.01921837, 0.01947544, 0.01233093, 0.00549309,\n",
              "       0.01077433, 0.00577884, 0.00334585, 0.01500581, 0.01663162,\n",
              "       0.01564081, 0.00461063, 0.00831086, 0.01006953, 0.0055636 ,\n",
              "       0.003897  , 0.00463552, 0.00466894, 0.00500922, 0.00408207,\n",
              "       0.00331506, 0.00438695, 0.00603682, 0.00484098, 0.00548851,\n",
              "       0.00410696, 0.00484698, 0.00356844, 0.00412502, 0.00390663,\n",
              "       0.0050422 , 0.00465418, 0.00431831, 0.00333849, 0.00722329,\n",
              "       0.01553858, 0.00978286, 0.00536791, 0.00873833, 0.01385194,\n",
              "       0.00813987, 0.00463245, 0.00563987, 0.00731584, 0.00719998,\n",
              "       0.00712694, 0.00434215, 0.00320406, 0.00655859, 0.00479552,\n",
              "       0.00338565, 0.00578615, 0.00598293, 0.01015147, 0.00960105,\n",
              "       0.00482327, 0.00417283, 0.02268214, 0.01970889, 0.00659162,\n",
              "       0.00578159, 0.01067954, 0.01099041, 0.0266006 , 0.02051903,\n",
              "       0.02001041, 0.0343249 , 0.03434325, 0.03507428, 0.00782998,\n",
              "       0.00750516, 0.00745714, 0.008596  , 0.03493687, 0.0380888 ,\n",
              "       0.01160859, 0.00880647, 0.01314906, 0.00988037, 0.03385779,\n",
              "       0.03362504, 0.00774532, 0.03484084, 0.01003419, 0.01221655,\n",
              "       0.00727429, 0.0073424 , 0.00729043, 0.00744217, 0.00773794,\n",
              "       0.00743336, 0.00742172, 0.00870782, 0.00873633, 0.00999277,\n",
              "       0.00895842, 0.0106872 , 0.0085833 , 0.01009791, 0.00884274,\n",
              "       0.00813641, 0.00774481, 0.00929873, 0.00748602, 0.00778206,\n",
              "       0.00746093, 0.0074234 , 0.00825149, 0.00885865, 0.00802131,\n",
              "       0.00801506, 0.00761954, 0.00756516, 0.00859766, 0.00782433,\n",
              "       0.00845848, 0.01221655, 0.00858285, 0.00835342, 0.0072859 ,\n",
              "       0.00834158, 0.00738147, 0.01075242, 0.00945999, 0.01105624,\n",
              "       0.00753985, 0.00743507, 0.00814149, 0.00805449, 0.00895069,\n",
              "       0.00755917, 0.00769572, 0.00776416, 0.00762208, 0.00858467,\n",
              "       0.00780901, 0.01061644, 0.00807975, 0.00813335, 0.00742945,\n",
              "       0.007587  , 0.00731383, 0.00872273, 0.00751183, 0.00752218,\n",
              "       0.00732837, 0.00737882, 0.00781515, 0.00759935, 0.00802569,\n",
              "       0.00774829, 0.00745229, 0.00774215, 0.00749901, 0.00792796,\n",
              "       0.0073812 , 0.0074717 , 0.00754188, 0.00769789, 0.00748092,\n",
              "       0.00735854, 0.00733826, 0.00743788, 0.00724932, 0.00732077,\n",
              "       0.00760194, 0.00758225, 0.00786255, 0.00771686, 0.00765194,\n",
              "       0.00745536, 0.00748975, 0.00776965, 0.00743797, 0.01003432,\n",
              "       0.01336905, 0.00765355, 0.00766481, 0.00877254, 0.01106986,\n",
              "       0.00767466, 0.00746716, 0.00870716, 0.01099978, 0.00841571,\n",
              "       0.00765081, 0.00737079, 0.00881449, 0.00759872, 0.00751317,\n",
              "       0.01022764, 0.0091088 , 0.00921479, 0.0159328 , 0.01569445,\n",
              "       0.01365623, 0.00794306, 0.01229968, 0.00705267, 0.00865783,\n",
              "       0.00917292, 0.00796914, 0.00488748, 0.00302126, 0.00503656,\n",
              "       0.00725213, 0.00279972, 0.00283323, 0.00300735, 0.00289114,\n",
              "       0.00356701, 0.00592644, 0.00584425, 0.00819785, 0.00785763,\n",
              "       0.00633075])"
            ]
          },
          "metadata": {},
          "execution_count": 114
        }
      ]
    },
    {
      "cell_type": "code",
      "metadata": {
        "colab": {
          "base_uri": "https://localhost:8080/",
          "height": 224
        },
        "id": "SN8B62A4670D",
        "outputId": "5e36ea8c-d87c-40b6-99d4-421c43321898"
      },
      "source": [
        "inf_df = influence.summary_frame()\n",
        "inf_df.head()"
      ],
      "execution_count": null,
      "outputs": [
        {
          "output_type": "execute_result",
          "data": {
            "text/html": [
              "<div>\n",
              "<style scoped>\n",
              "    .dataframe tbody tr th:only-of-type {\n",
              "        vertical-align: middle;\n",
              "    }\n",
              "\n",
              "    .dataframe tbody tr th {\n",
              "        vertical-align: top;\n",
              "    }\n",
              "\n",
              "    .dataframe thead th {\n",
              "        text-align: right;\n",
              "    }\n",
              "</style>\n",
              "<table border=\"1\" class=\"dataframe\">\n",
              "  <thead>\n",
              "    <tr style=\"text-align: right;\">\n",
              "      <th></th>\n",
              "      <th>dfb_rad</th>\n",
              "      <th>dfb_zn</th>\n",
              "      <th>dfb_rm</th>\n",
              "      <th>dfb_chas</th>\n",
              "      <th>dfb_age</th>\n",
              "      <th>cooks_d</th>\n",
              "      <th>standard_resid</th>\n",
              "      <th>hat_diag</th>\n",
              "      <th>dffits_internal</th>\n",
              "      <th>student_resid</th>\n",
              "      <th>dffits</th>\n",
              "    </tr>\n",
              "  </thead>\n",
              "  <tbody>\n",
              "    <tr>\n",
              "      <th>0</th>\n",
              "      <td>0.014158</td>\n",
              "      <td>-0.001691</td>\n",
              "      <td>-0.004468</td>\n",
              "      <td>0.004550</td>\n",
              "      <td>-0.005715</td>\n",
              "      <td>0.000086</td>\n",
              "      <td>-0.307386</td>\n",
              "      <td>0.004518</td>\n",
              "      <td>-0.020708</td>\n",
              "      <td>-0.307108</td>\n",
              "      <td>-0.020689</td>\n",
              "    </tr>\n",
              "    <tr>\n",
              "      <th>1</th>\n",
              "      <td>0.017086</td>\n",
              "      <td>0.006812</td>\n",
              "      <td>-0.005552</td>\n",
              "      <td>0.005430</td>\n",
              "      <td>-0.007745</td>\n",
              "      <td>0.000116</td>\n",
              "      <td>-0.320005</td>\n",
              "      <td>0.005648</td>\n",
              "      <td>-0.024118</td>\n",
              "      <td>-0.319718</td>\n",
              "      <td>-0.024097</td>\n",
              "    </tr>\n",
              "    <tr>\n",
              "      <th>2</th>\n",
              "      <td>-0.037099</td>\n",
              "      <td>-0.048103</td>\n",
              "      <td>0.060999</td>\n",
              "      <td>-0.014854</td>\n",
              "      <td>-0.024080</td>\n",
              "      <td>0.001287</td>\n",
              "      <td>0.947338</td>\n",
              "      <td>0.007118</td>\n",
              "      <td>0.080210</td>\n",
              "      <td>0.947241</td>\n",
              "      <td>0.080201</td>\n",
              "    </tr>\n",
              "    <tr>\n",
              "      <th>3</th>\n",
              "      <td>-0.015222</td>\n",
              "      <td>-0.045586</td>\n",
              "      <td>0.062027</td>\n",
              "      <td>-0.009620</td>\n",
              "      <td>-0.039300</td>\n",
              "      <td>0.000904</td>\n",
              "      <td>0.726654</td>\n",
              "      <td>0.008492</td>\n",
              "      <td>0.067248</td>\n",
              "      <td>0.726311</td>\n",
              "      <td>0.067216</td>\n",
              "    </tr>\n",
              "    <tr>\n",
              "      <th>4</th>\n",
              "      <td>-0.032230</td>\n",
              "      <td>-0.065823</td>\n",
              "      <td>0.086878</td>\n",
              "      <td>-0.016786</td>\n",
              "      <td>-0.047057</td>\n",
              "      <td>0.002031</td>\n",
              "      <td>1.159507</td>\n",
              "      <td>0.007496</td>\n",
              "      <td>0.100766</td>\n",
              "      <td>1.159907</td>\n",
              "      <td>0.100800</td>\n",
              "    </tr>\n",
              "  </tbody>\n",
              "</table>\n",
              "</div>"
            ],
            "text/plain": [
              "    dfb_rad    dfb_zn    dfb_rm  ...  dffits_internal  student_resid    dffits\n",
              "0  0.014158 -0.001691 -0.004468  ...        -0.020708      -0.307108 -0.020689\n",
              "1  0.017086  0.006812 -0.005552  ...        -0.024118      -0.319718 -0.024097\n",
              "2 -0.037099 -0.048103  0.060999  ...         0.080210       0.947241  0.080201\n",
              "3 -0.015222 -0.045586  0.062027  ...         0.067248       0.726311  0.067216\n",
              "4 -0.032230 -0.065823  0.086878  ...         0.100766       1.159907  0.100800\n",
              "\n",
              "[5 rows x 11 columns]"
            ]
          },
          "metadata": {},
          "execution_count": 115
        }
      ]
    },
    {
      "cell_type": "code",
      "metadata": {
        "colab": {
          "base_uri": "https://localhost:8080/"
        },
        "id": "YqEORDXA7BTn",
        "outputId": "3c41a351-ff7a-4a1e-decc-fbf0bf3d629b"
      },
      "source": [
        "inf_df.standard_resid #표준화된 잔차"
      ],
      "execution_count": null,
      "outputs": [
        {
          "output_type": "execute_result",
          "data": {
            "text/plain": [
              "0     -0.307386\n",
              "1     -0.320005\n",
              "2      0.947338\n",
              "3      0.726654\n",
              "4      1.159507\n",
              "         ...   \n",
              "501   -0.477882\n",
              "502   -0.315476\n",
              "503   -0.254717\n",
              "504   -0.439040\n",
              "505   -1.562010\n",
              "Name: standard_resid, Length: 506, dtype: float64"
            ]
          },
          "metadata": {},
          "execution_count": 116
        }
      ]
    },
    {
      "cell_type": "code",
      "metadata": {
        "id": "3kWb95l37GVN"
      },
      "source": [
        "(c,p) = influence.cooks_distance #쿸의 거리와 p-value"
      ],
      "execution_count": null,
      "outputs": []
    },
    {
      "cell_type": "code",
      "metadata": {
        "colab": {
          "base_uri": "https://localhost:8080/"
        },
        "id": "pbnclqcQ7L7D",
        "outputId": "f8307a6e-8d35-4a15-fef6-3a30f2e4f665"
      },
      "source": [
        "c"
      ],
      "execution_count": null,
      "outputs": [
        {
          "output_type": "execute_result",
          "data": {
            "text/plain": [
              "array([8.57607218e-05, 1.16340057e-04, 1.28671302e-03, 9.04461053e-04,\n",
              "       2.03074066e-03, 3.20792224e-04, 5.67084951e-06, 1.53316849e-03,\n",
              "       8.06015504e-05, 7.99053018e-05, 1.50540054e-03, 9.30962551e-05,\n",
              "       7.73122191e-05, 6.42436150e-05, 2.27397248e-04, 9.13111243e-05,\n",
              "       1.20787174e-04, 2.72086373e-04, 7.62564440e-05, 1.01882798e-04,\n",
              "       6.84812609e-04, 1.16522693e-05, 9.92016113e-04, 7.33173025e-04,\n",
              "       5.60313227e-04, 6.32521615e-04, 2.43436937e-04, 9.70422809e-04,\n",
              "       5.04452776e-04, 2.04206419e-04, 1.24736062e-03, 1.17782861e-03,\n",
              "       1.30976990e-03, 1.07118836e-03, 1.66442093e-03, 1.07989001e-04,\n",
              "       4.01384621e-05, 1.26142781e-04, 1.04717429e-09, 5.79819826e-05,\n",
              "       5.12350479e-04, 2.35970568e-03, 6.15615562e-04, 1.06419494e-03,\n",
              "       4.10539701e-04, 5.36667856e-04, 5.32494389e-04, 5.64456398e-04,\n",
              "       3.53916958e-04, 3.70382167e-05, 2.45913006e-04, 1.24019449e-04,\n",
              "       4.94540442e-04, 2.19501208e-04, 3.46156347e-03, 8.23743286e-04,\n",
              "       1.54768694e-03, 8.01244364e-04, 1.11823800e-04, 1.46431277e-04,\n",
              "       5.45410210e-05, 4.99483794e-04, 3.80113930e-05, 9.71771446e-05,\n",
              "       4.20309984e-04, 2.71774613e-03, 3.75451062e-03, 3.93881294e-04,\n",
              "       4.52617121e-04, 2.82650481e-04, 2.12861804e-03, 1.04107012e-03,\n",
              "       1.55286810e-03, 2.04295240e-03, 1.47284608e-03, 3.77013362e-04,\n",
              "       1.30660754e-04, 3.10204348e-04, 1.79261349e-04, 3.57775501e-04,\n",
              "       1.13794030e-05, 3.59124578e-05, 8.60018251e-05, 6.33474702e-05,\n",
              "       9.76982591e-05, 4.11171972e-06, 7.35512913e-05, 5.20069752e-05,\n",
              "       1.68236027e-04, 1.60745979e-05, 1.03543289e-04, 9.98720509e-05,\n",
              "       1.38657918e-04, 6.34399507e-05, 1.70406670e-04, 1.30631190e-04,\n",
              "       7.25464862e-05, 2.09845785e-03, 7.87768537e-03, 4.82235447e-04,\n",
              "       2.16892904e-04, 3.16599266e-05, 3.33377148e-04, 6.81797296e-05,\n",
              "       1.72543700e-05, 1.30726631e-05, 2.72887971e-06, 1.11502258e-05,\n",
              "       1.28811986e-04, 7.96017361e-05, 9.62890810e-05, 2.65328338e-05,\n",
              "       5.79209409e-06, 4.25483862e-05, 1.88214506e-04, 4.53152600e-05,\n",
              "       1.34108379e-05, 3.65781829e-05, 8.14750092e-07, 2.18053861e-05,\n",
              "       1.17899351e-06, 2.81176258e-05, 7.69391651e-07, 2.26709248e-04,\n",
              "       3.86508588e-05, 1.09998742e-05, 3.51602588e-04, 1.84402900e-04,\n",
              "       5.05962957e-04, 5.67307664e-04, 2.52399116e-04, 1.01671884e-04,\n",
              "       8.58778455e-05, 1.61835050e-05, 3.46193932e-04, 3.72949779e-04,\n",
              "       1.89864502e-04, 8.21104098e-04, 1.29034709e-03, 2.58639624e-04,\n",
              "       1.54213194e-03, 1.30628683e-05, 1.35677862e-02, 6.18074750e-05,\n",
              "       2.80897988e-04, 1.39652843e-03, 1.57250846e-04, 9.98352683e-10,\n",
              "       1.18235951e-04, 1.99581060e-04, 6.47001226e-05, 4.05269221e-04,\n",
              "       5.92718687e-03, 6.66884009e-05, 1.30637390e-02, 2.04346251e-02,\n",
              "       3.73100406e-04, 9.56950746e-03, 8.12526114e-04, 8.63151367e-05,\n",
              "       7.14128582e-06, 1.53406290e-02, 4.27977769e-02, 2.86663466e-02,\n",
              "       3.37629632e-04, 6.31938627e-04, 1.52201981e-02, 2.20756026e-04,\n",
              "       2.24383650e-04, 1.47660065e-05, 9.94057016e-05, 5.55412187e-07,\n",
              "       6.37795972e-04, 2.46674426e-05, 3.26269207e-05, 2.29627946e-04,\n",
              "       3.71231322e-06, 5.17706900e-05, 4.44052957e-04, 2.86450096e-03,\n",
              "       3.77981685e-03, 3.35421358e-03, 5.04144966e-03, 3.51261145e-03,\n",
              "       2.00150915e-03, 9.17097371e-04, 1.63387215e-02, 4.04202184e-04,\n",
              "       7.85951875e-05, 6.62961557e-04, 1.72285752e-03, 7.62827455e-05,\n",
              "       1.03600194e-03, 6.15134634e-05, 1.03238967e-04, 2.15030874e-02,\n",
              "       5.26283941e-05, 1.49415527e-04, 5.89474057e-04, 7.54722311e-04,\n",
              "       4.70371556e-05, 9.71018235e-04, 4.76780455e-03, 2.55586688e-02,\n",
              "       2.73836729e-02, 3.29120360e-04, 4.88030564e-06, 5.91833329e-05,\n",
              "       3.00593840e-03, 8.20454478e-04, 2.58193858e-03, 2.65770815e-03,\n",
              "       4.91265292e-03, 9.11742719e-05, 2.68392374e-06, 3.22289837e-08,\n",
              "       3.41428459e-03, 6.24857523e-04, 2.32045104e-03, 3.05490000e-03,\n",
              "       1.42361756e-03, 2.61989253e-03, 1.17526195e-03, 8.14802291e-04,\n",
              "       6.00606758e-03, 1.05459537e-02, 1.79910419e-03, 6.75295883e-04,\n",
              "       2.14934187e-02, 1.13748961e-03, 1.29356783e-04, 4.59300531e-04,\n",
              "       3.53399517e-03, 1.02928812e-02, 3.27103125e-04, 5.16601695e-05,\n",
              "       2.54374348e-03, 4.10275961e-04, 8.51069805e-04, 2.79316458e-04,\n",
              "       5.41754633e-04, 1.48646264e-04, 1.30117345e-04, 1.39553176e-03,\n",
              "       5.73038858e-05, 2.67707880e-05, 7.44255543e-06, 4.51641595e-05,\n",
              "       9.81590212e-06, 4.52373660e-04, 8.84305815e-04, 8.47053647e-04,\n",
              "       1.87216241e-04, 3.61660554e-03, 3.19492670e-03, 4.14238226e-03,\n",
              "       1.47104076e-02, 7.77018130e-03, 3.93686997e-03, 1.79619510e-03,\n",
              "       1.10453975e-03, 6.50987834e-03, 8.52403574e-03, 7.04253137e-04,\n",
              "       3.32015046e-03, 7.08785073e-05, 6.25239657e-04, 7.48360935e-03,\n",
              "       4.08611940e-03, 9.27960857e-03, 1.18445749e-04, 2.89189773e-04,\n",
              "       3.73537285e-05, 9.52261476e-04, 1.00860284e-03, 2.85034869e-04,\n",
              "       1.25100958e-03, 1.07794726e-03, 4.49428334e-05, 1.23885161e-03,\n",
              "       4.56728698e-03, 1.11443434e-03, 1.33155622e-02, 1.66281889e-02,\n",
              "       9.35550508e-05, 2.01136575e-03, 6.53316276e-03, 4.22591055e-04,\n",
              "       5.02776182e-04, 7.23416384e-04, 4.39195890e-04, 2.76006743e-03,\n",
              "       3.86417544e-04, 4.52901425e-04, 1.63913285e-04, 8.40072722e-06,\n",
              "       3.33489874e-05, 4.10825232e-05, 2.64078497e-03, 1.02879144e-03,\n",
              "       1.22048525e-03, 5.55886707e-04, 1.39581331e-04, 3.15132260e-04,\n",
              "       1.04807905e-03, 1.45110224e-04, 5.81896329e-04, 1.34371694e-04,\n",
              "       3.16025462e-05, 1.84763762e-05, 2.02122696e-04, 6.69725452e-05,\n",
              "       3.07190748e-05, 7.59914707e-06, 8.82653160e-06, 2.79684371e-04,\n",
              "       1.70431216e-04, 1.60880906e-05, 1.45956662e-05, 1.05527483e-04,\n",
              "       4.31668698e-05, 6.04201751e-05, 2.03014692e-04, 3.61316209e-05,\n",
              "       3.80892570e-05, 9.69754681e-04, 5.74087089e-04, 1.03730956e-04,\n",
              "       1.31358853e-03, 1.79298458e-03, 1.35759518e-03, 1.44226154e-03,\n",
              "       1.60322003e-03, 4.49942755e-04, 8.78689751e-04, 4.55077574e-04,\n",
              "       2.56388253e-04, 1.96403072e-04, 5.12112880e-04, 4.96307535e-04,\n",
              "       2.35776983e-04, 1.21227056e-04, 2.63755965e-03, 4.71842420e-04,\n",
              "       6.48503959e-05, 9.77171515e-04, 7.05874561e-04, 4.14511965e-03,\n",
              "       2.40628302e-03, 4.88013105e-04, 6.21155272e-04, 9.50655989e-04,\n",
              "       3.35543970e-03, 9.31663871e-05, 5.45788001e-03, 4.04896997e-03,\n",
              "       3.29454621e-03, 5.52041800e-04, 1.41841830e-06, 1.13771594e-03,\n",
              "       1.81905828e-03, 2.96316361e-04, 2.96709577e-03, 2.95250133e-03,\n",
              "       3.64214408e-02, 3.03952335e-02, 5.23878140e-03, 2.14048329e-02,\n",
              "       7.75434709e-02, 1.16556325e-01, 1.02414131e-01, 4.39059458e-02,\n",
              "       1.52532559e-01, 7.17808425e-04, 3.36359224e-03, 1.54540691e-03,\n",
              "       8.65017532e-04, 1.18409732e-03, 6.43111971e-04, 1.39694454e-03,\n",
              "       3.68023145e-03, 1.76436668e-03, 1.23238306e-04, 1.62515676e-05,\n",
              "       1.99198051e-05, 9.90334307e-04, 1.51991417e-04, 6.44618294e-04,\n",
              "       4.87304123e-06, 3.44247607e-05, 4.36252034e-05, 1.57115013e-03,\n",
              "       6.26304974e-05, 3.07165394e-04, 2.15956245e-04, 7.15769130e-04,\n",
              "       8.86840106e-04, 1.27193118e-03, 2.54127531e-03, 3.93292704e-03,\n",
              "       3.60418084e-03, 3.48243788e-03, 9.33169051e-04, 7.25644849e-04,\n",
              "       1.22634786e-03, 3.16766559e-03, 1.86080579e-03, 9.05875194e-03,\n",
              "       5.57048730e-04, 2.48629936e-03, 3.89013870e-05, 4.28404125e-05,\n",
              "       4.54435891e-03, 1.23096062e-03, 7.73924571e-05, 3.76093034e-03,\n",
              "       5.39859468e-03, 2.24171886e-04, 1.52513948e-03, 6.99156734e-03,\n",
              "       6.61475687e-06, 7.26464487e-05, 1.52982957e-03, 4.48820106e-04,\n",
              "       6.00879966e-04, 1.76658139e-03, 2.90184976e-03, 1.92094459e-03,\n",
              "       1.88116813e-03, 2.25399711e-03, 4.41029503e-04, 1.08272870e-03,\n",
              "       4.11918977e-04, 5.65596687e-04, 8.80143345e-04, 9.73839753e-04,\n",
              "       2.51229263e-03, 2.00860701e-03, 2.08098644e-03, 4.82282455e-05,\n",
              "       7.51451465e-04, 1.75920577e-06, 1.83698833e-04, 1.59282003e-04,\n",
              "       6.16612651e-04, 1.29933840e-03, 1.75202880e-04, 6.08578133e-04,\n",
              "       1.61368094e-04, 6.80532843e-04, 1.27104069e-03, 3.76044203e-04,\n",
              "       4.71813134e-05, 5.78846148e-04, 6.35495846e-04, 8.07523948e-04,\n",
              "       4.15480902e-04, 3.36544583e-04, 3.42619847e-04, 3.89444126e-04,\n",
              "       3.07015006e-04, 1.11764454e-06, 8.41606654e-05, 1.19266018e-04,\n",
              "       3.11024431e-04, 2.07069330e-04, 3.05389442e-04, 4.58212010e-04,\n",
              "       1.69932959e-04, 4.48278969e-04, 2.70444326e-04, 2.50891775e-04,\n",
              "       6.84669164e-04, 3.02979437e-03, 3.87938459e-05, 3.08253038e-04,\n",
              "       5.91010146e-05, 4.86326987e-07, 1.10724346e-04, 6.53881455e-04,\n",
              "       7.68718511e-04, 4.05386201e-04, 4.09483168e-04, 7.31563056e-04,\n",
              "       1.61559443e-04, 3.73424724e-05, 1.25321206e-04, 2.88221189e-04,\n",
              "       1.92127561e-04, 4.22851211e-03, 2.44570257e-03, 1.40527122e-03,\n",
              "       1.08888543e-05, 2.76838288e-06, 3.54628652e-05, 2.86913053e-07,\n",
              "       2.41808293e-05, 6.52056509e-05, 8.24426899e-06, 3.97118343e-05,\n",
              "       2.87033270e-04, 2.72299652e-04, 1.17013783e-04, 1.07255788e-04,\n",
              "       3.05319780e-04, 3.10893013e-03])"
            ]
          },
          "metadata": {},
          "execution_count": 118
        }
      ]
    },
    {
      "cell_type": "code",
      "metadata": {
        "colab": {
          "base_uri": "https://localhost:8080/",
          "height": 295
        },
        "id": "2VQzHPKi7MjO",
        "outputId": "5d6a1441-1da1-4369-9102-5a54886191c3"
      },
      "source": [
        "plt.scatter(influence.hat_matrix_diag, inf_df.standard_resid)\n",
        "fit = np.polyfit(influence.hat_matrix_diag, inf_df.standard_resid,1)\n",
        "fit_fn = np.poly1d(fit)\n",
        "plt.plot(influence.hat_matrix_diag, fit_fn(influence.hat_matrix_diag),\n",
        "         'r')\n",
        "\n",
        "plt.xlabel('leverage')\n",
        "plt.ylabel('Standarized residual')\n",
        "plt.title('Leverage vs. Residual')\n",
        "plt.show()"
      ],
      "execution_count": null,
      "outputs": [
        {
          "output_type": "display_data",
          "data": {
            "image/png": "[encoded data removed]",
            "text/plain": [
              "<Figure size 432x288 with 1 Axes>"
            ]
          },
          "metadata": {
            "needs_background": "light"
          }
        }
      ]
    },
    {
      "cell_type": "code",
      "metadata": {
        "id": "mxpjS-RC7uZe"
      },
      "source": [
        "import statsmodels.api as sm\n",
        "\n",
        "Boston = sm.datasets.get_rdataset('Boston', package = 'MASS')\n",
        "boston_df  = Boston.data"
      ],
      "execution_count": null,
      "outputs": []
    },
    {
      "cell_type": "code",
      "metadata": {
        "id": "xGzUEwrR9eFZ"
      },
      "source": [
        "formula = 'medv~'+'+'.join(boston_df.columns[:-1])"
      ],
      "execution_count": null,
      "outputs": []
    },
    {
      "cell_type": "code",
      "metadata": {
        "id": "IV2UVBxb9mok"
      },
      "source": [
        "from patsy import dmatrices\n",
        "y, X = dmatrices(formula, boston_df, return_type = 'dataframe')"
      ],
      "execution_count": null,
      "outputs": []
    },
    {
      "cell_type": "code",
      "metadata": {
        "id": "D2W5QQlr9wrP"
      },
      "source": [
        "import pandas as pd\n",
        "vif = pd.DataFrame()"
      ],
      "execution_count": null,
      "outputs": []
    },
    {
      "cell_type": "code",
      "metadata": {
        "colab": {
          "base_uri": "https://localhost:8080/",
          "height": 483
        },
        "id": "qEDm6Ygl9z7t",
        "outputId": "6cf8a8ba-5bfb-48e4-9db8-6d78eab4778d"
      },
      "source": [
        "from statsmodels.stats.outliers_influence import variance_inflation_factor\n",
        "\n",
        "vif['VIF Factor'] = [variance_inflation_factor(X.values, i) for i in range(X.shape[1])] #X.shape[1] : column 개수\n",
        "vif['features'] = X.columns\n",
        "vif.sort_values(by = 'VIF Factor', ascending = False)"
      ],
      "execution_count": null,
      "outputs": [
        {
          "output_type": "execute_result",
          "data": {
            "text/html": [
              "<div>\n",
              "<style scoped>\n",
              "    .dataframe tbody tr th:only-of-type {\n",
              "        vertical-align: middle;\n",
              "    }\n",
              "\n",
              "    .dataframe tbody tr th {\n",
              "        vertical-align: top;\n",
              "    }\n",
              "\n",
              "    .dataframe thead th {\n",
              "        text-align: right;\n",
              "    }\n",
              "</style>\n",
              "<table border=\"1\" class=\"dataframe\">\n",
              "  <thead>\n",
              "    <tr style=\"text-align: right;\">\n",
              "      <th></th>\n",
              "      <th>VIF Factor</th>\n",
              "      <th>features</th>\n",
              "    </tr>\n",
              "  </thead>\n",
              "  <tbody>\n",
              "    <tr>\n",
              "      <th>0</th>\n",
              "      <td>585.265238</td>\n",
              "      <td>Intercept</td>\n",
              "    </tr>\n",
              "    <tr>\n",
              "      <th>10</th>\n",
              "      <td>9.008554</td>\n",
              "      <td>tax</td>\n",
              "    </tr>\n",
              "    <tr>\n",
              "      <th>9</th>\n",
              "      <td>7.484496</td>\n",
              "      <td>rad</td>\n",
              "    </tr>\n",
              "    <tr>\n",
              "      <th>5</th>\n",
              "      <td>4.393720</td>\n",
              "      <td>nox</td>\n",
              "    </tr>\n",
              "    <tr>\n",
              "      <th>3</th>\n",
              "      <td>3.991596</td>\n",
              "      <td>indus</td>\n",
              "    </tr>\n",
              "    <tr>\n",
              "      <th>8</th>\n",
              "      <td>3.955945</td>\n",
              "      <td>dis</td>\n",
              "    </tr>\n",
              "    <tr>\n",
              "      <th>7</th>\n",
              "      <td>3.100826</td>\n",
              "      <td>age</td>\n",
              "    </tr>\n",
              "    <tr>\n",
              "      <th>13</th>\n",
              "      <td>2.941491</td>\n",
              "      <td>lstat</td>\n",
              "    </tr>\n",
              "    <tr>\n",
              "      <th>2</th>\n",
              "      <td>2.298758</td>\n",
              "      <td>zn</td>\n",
              "    </tr>\n",
              "    <tr>\n",
              "      <th>6</th>\n",
              "      <td>1.933744</td>\n",
              "      <td>rm</td>\n",
              "    </tr>\n",
              "    <tr>\n",
              "      <th>11</th>\n",
              "      <td>1.799084</td>\n",
              "      <td>ptratio</td>\n",
              "    </tr>\n",
              "    <tr>\n",
              "      <th>1</th>\n",
              "      <td>1.792192</td>\n",
              "      <td>crim</td>\n",
              "    </tr>\n",
              "    <tr>\n",
              "      <th>12</th>\n",
              "      <td>1.348521</td>\n",
              "      <td>black</td>\n",
              "    </tr>\n",
              "    <tr>\n",
              "      <th>4</th>\n",
              "      <td>1.073995</td>\n",
              "      <td>chas</td>\n",
              "    </tr>\n",
              "  </tbody>\n",
              "</table>\n",
              "</div>"
            ],
            "text/plain": [
              "    VIF Factor   features\n",
              "0   585.265238  Intercept\n",
              "10    9.008554        tax\n",
              "9     7.484496        rad\n",
              "5     4.393720        nox\n",
              "3     3.991596      indus\n",
              "8     3.955945        dis\n",
              "7     3.100826        age\n",
              "13    2.941491      lstat\n",
              "2     2.298758         zn\n",
              "6     1.933744         rm\n",
              "11    1.799084    ptratio\n",
              "1     1.792192       crim\n",
              "12    1.348521      black\n",
              "4     1.073995       chas"
            ]
          },
          "metadata": {},
          "execution_count": 128
        }
      ]
    },
    {
      "cell_type": "code",
      "metadata": {
        "id": "VmS8DbPq-OCJ"
      },
      "source": [
        "def get_vif(formula, df):\n",
        "  from patsy import dmatrices\n",
        "  y, X = dmatrices(formula, df, return_type = 'dataframe')\n",
        "  import pandas as pd\n",
        "  vif = pd.DataFrame()\n",
        "  from statsmodels.stats.outliers_influence import variance_inflation_factor\n",
        "  vif['VIF Factor'] = [variance_inflation_factor(X.values, i) for i in range(X.shape[1])]\n",
        "  vif['features'] = X.columns\n",
        "  vif.sort_values(by = 'VIF Factor', ascending = False, inplace = True)\n",
        "  return vif"
      ],
      "execution_count": null,
      "outputs": []
    },
    {
      "cell_type": "code",
      "metadata": {
        "id": "e3cqvsOW-ajp"
      },
      "source": [
        "feature_cols = list(boston_df.columns[:-1])\n",
        "while True:\n",
        "  formula = 'medv~'+ '+'.join(feature_cols) + '-1'\n",
        "  vif = get_vif(formula, boston_df)\n",
        "  if vif.iloc[0,0] > 10:\n",
        "    feature_cols.remove(vif.iloc[0,1])\n",
        "  else:\n",
        "    break"
      ],
      "execution_count": null,
      "outputs": []
    },
    {
      "cell_type": "code",
      "metadata": {
        "colab": {
          "base_uri": "https://localhost:8080/",
          "height": 266
        },
        "id": "10YEIsoy__N7",
        "outputId": "58971487-22bb-4531-dc20-4302a7378340"
      },
      "source": [
        "vif"
      ],
      "execution_count": null,
      "outputs": [
        {
          "output_type": "execute_result",
          "data": {
            "text/html": [
              "<div>\n",
              "<style scoped>\n",
              "    .dataframe tbody tr th:only-of-type {\n",
              "        vertical-align: middle;\n",
              "    }\n",
              "\n",
              "    .dataframe tbody tr th {\n",
              "        vertical-align: top;\n",
              "    }\n",
              "\n",
              "    .dataframe thead th {\n",
              "        text-align: right;\n",
              "    }\n",
              "</style>\n",
              "<table border=\"1\" class=\"dataframe\">\n",
              "  <thead>\n",
              "    <tr style=\"text-align: right;\">\n",
              "      <th></th>\n",
              "      <th>VIF Factor</th>\n",
              "      <th>features</th>\n",
              "    </tr>\n",
              "  </thead>\n",
              "  <tbody>\n",
              "    <tr>\n",
              "      <th>2</th>\n",
              "      <td>6.900077</td>\n",
              "      <td>indus</td>\n",
              "    </tr>\n",
              "    <tr>\n",
              "      <th>6</th>\n",
              "      <td>6.726973</td>\n",
              "      <td>lstat</td>\n",
              "    </tr>\n",
              "    <tr>\n",
              "      <th>5</th>\n",
              "      <td>4.678181</td>\n",
              "      <td>rad</td>\n",
              "    </tr>\n",
              "    <tr>\n",
              "      <th>4</th>\n",
              "      <td>3.968908</td>\n",
              "      <td>dis</td>\n",
              "    </tr>\n",
              "    <tr>\n",
              "      <th>1</th>\n",
              "      <td>2.299351</td>\n",
              "      <td>zn</td>\n",
              "    </tr>\n",
              "    <tr>\n",
              "      <th>0</th>\n",
              "      <td>2.067135</td>\n",
              "      <td>crim</td>\n",
              "    </tr>\n",
              "    <tr>\n",
              "      <th>3</th>\n",
              "      <td>1.086574</td>\n",
              "      <td>chas</td>\n",
              "    </tr>\n",
              "  </tbody>\n",
              "</table>\n",
              "</div>"
            ],
            "text/plain": [
              "   VIF Factor features\n",
              "2    6.900077    indus\n",
              "6    6.726973    lstat\n",
              "5    4.678181      rad\n",
              "4    3.968908      dis\n",
              "1    2.299351       zn\n",
              "0    2.067135     crim\n",
              "3    1.086574     chas"
            ]
          },
          "metadata": {},
          "execution_count": 146
        }
      ]
    },
    {
      "cell_type": "code",
      "metadata": {
        "colab": {
          "base_uri": "https://localhost:8080/",
          "height": 266
        },
        "id": "fK63aKaaAMj-",
        "outputId": "af38d8ed-9145-4c93-e112-a88fa3300f20"
      },
      "source": [
        "vif"
      ],
      "execution_count": null,
      "outputs": [
        {
          "output_type": "execute_result",
          "data": {
            "text/html": [
              "<div>\n",
              "<style scoped>\n",
              "    .dataframe tbody tr th:only-of-type {\n",
              "        vertical-align: middle;\n",
              "    }\n",
              "\n",
              "    .dataframe tbody tr th {\n",
              "        vertical-align: top;\n",
              "    }\n",
              "\n",
              "    .dataframe thead th {\n",
              "        text-align: right;\n",
              "    }\n",
              "</style>\n",
              "<table border=\"1\" class=\"dataframe\">\n",
              "  <thead>\n",
              "    <tr style=\"text-align: right;\">\n",
              "      <th></th>\n",
              "      <th>VIF Factor</th>\n",
              "      <th>features</th>\n",
              "    </tr>\n",
              "  </thead>\n",
              "  <tbody>\n",
              "    <tr>\n",
              "      <th>2</th>\n",
              "      <td>6.900077</td>\n",
              "      <td>indus</td>\n",
              "    </tr>\n",
              "    <tr>\n",
              "      <th>6</th>\n",
              "      <td>6.726973</td>\n",
              "      <td>lstat</td>\n",
              "    </tr>\n",
              "    <tr>\n",
              "      <th>5</th>\n",
              "      <td>4.678181</td>\n",
              "      <td>rad</td>\n",
              "    </tr>\n",
              "    <tr>\n",
              "      <th>4</th>\n",
              "      <td>3.968908</td>\n",
              "      <td>dis</td>\n",
              "    </tr>\n",
              "    <tr>\n",
              "      <th>1</th>\n",
              "      <td>2.299351</td>\n",
              "      <td>zn</td>\n",
              "    </tr>\n",
              "    <tr>\n",
              "      <th>0</th>\n",
              "      <td>2.067135</td>\n",
              "      <td>crim</td>\n",
              "    </tr>\n",
              "    <tr>\n",
              "      <th>3</th>\n",
              "      <td>1.086574</td>\n",
              "      <td>chas</td>\n",
              "    </tr>\n",
              "  </tbody>\n",
              "</table>\n",
              "</div>"
            ],
            "text/plain": [
              "   VIF Factor features\n",
              "2    6.900077    indus\n",
              "6    6.726973    lstat\n",
              "5    4.678181      rad\n",
              "4    3.968908      dis\n",
              "1    2.299351       zn\n",
              "0    2.067135     crim\n",
              "3    1.086574     chas"
            ]
          },
          "metadata": {},
          "execution_count": 147
        }
      ]
    },
    {
      "cell_type": "code",
      "metadata": {
        "colab": {
          "base_uri": "https://localhost:8080/"
        },
        "id": "6wN-7PVKASlk",
        "outputId": "d685c95a-8dde-4bab-b1f4-2a38fb725ddf"
      },
      "source": [
        "from sklearn.metrics import SCORERS\n",
        "SCORERS.keys()"
      ],
      "execution_count": null,
      "outputs": [
        {
          "output_type": "execute_result",
          "data": {
            "text/plain": [
              "dict_keys(['explained_variance', 'r2', 'max_error', 'neg_median_absolute_error', 'neg_mean_absolute_error', 'neg_mean_squared_error', 'neg_mean_squared_log_error', 'neg_root_mean_squared_error', 'neg_mean_poisson_deviance', 'neg_mean_gamma_deviance', 'accuracy', 'roc_auc', 'roc_auc_ovr', 'roc_auc_ovo', 'roc_auc_ovr_weighted', 'roc_auc_ovo_weighted', 'balanced_accuracy', 'average_precision', 'neg_log_loss', 'neg_brier_score', 'adjusted_rand_score', 'homogeneity_score', 'completeness_score', 'v_measure_score', 'mutual_info_score', 'adjusted_mutual_info_score', 'normalized_mutual_info_score', 'fowlkes_mallows_score', 'precision', 'precision_macro', 'precision_micro', 'precision_samples', 'precision_weighted', 'recall', 'recall_macro', 'recall_micro', 'recall_samples', 'recall_weighted', 'f1', 'f1_macro', 'f1_micro', 'f1_samples', 'f1_weighted', 'jaccard', 'jaccard_macro', 'jaccard_micro', 'jaccard_samples', 'jaccard_weighted'])"
            ]
          },
          "metadata": {},
          "execution_count": 149
        }
      ]
    },
    {
      "cell_type": "code",
      "metadata": {
        "id": "GQzHC8XoA13I"
      },
      "source": [
        "from sklearn import datasets, linear_model\n",
        "from sklearn.model_selection import train_test_split"
      ],
      "execution_count": null,
      "outputs": []
    },
    {
      "cell_type": "code",
      "metadata": {
        "id": "RRG9FVpdBUWw"
      },
      "source": [
        "diabetes = datasets.load_diabetes()\n",
        "X = diabetes.data\n",
        "y = diabetes.target"
      ],
      "execution_count": null,
      "outputs": []
    },
    {
      "cell_type": "code",
      "metadata": {
        "id": "jMomF3Q6BdVt"
      },
      "source": [
        "train_X, test_X, train_y, test_y = train_test_split(X, y, test_size = 0.3)"
      ],
      "execution_count": null,
      "outputs": []
    },
    {
      "cell_type": "code",
      "metadata": {
        "colab": {
          "base_uri": "https://localhost:8080/"
        },
        "id": "XcOZlyIUBjOI",
        "outputId": "ddbd0a7c-68fd-4060-a17d-9f5aee04debc"
      },
      "source": [
        "lasso = linear_model.Lasso()\n",
        "model = lasso.fit(train_X, train_y)\n",
        "model"
      ],
      "execution_count": null,
      "outputs": [
        {
          "output_type": "execute_result",
          "data": {
            "text/plain": [
              "Lasso(alpha=1.0, copy_X=True, fit_intercept=True, max_iter=1000,\n",
              "      normalize=False, positive=False, precompute=False, random_state=None,\n",
              "      selection='cyclic', tol=0.0001, warm_start=False)"
            ]
          },
          "metadata": {},
          "execution_count": 153
        }
      ]
    },
    {
      "cell_type": "code",
      "metadata": {
        "colab": {
          "base_uri": "https://localhost:8080/"
        },
        "id": "2IX2azyQBpQO",
        "outputId": "f0de9cbb-2b47-4b35-c4a5-d4d5cedd32b2"
      },
      "source": [
        "pred = model.predict(test_X)\n",
        "pred[:10]"
      ],
      "execution_count": null,
      "outputs": [
        {
          "output_type": "execute_result",
          "data": {
            "text/plain": [
              "array([161.35677448, 139.87745539, 130.2351721 , 142.87904817,\n",
              "       143.43453123, 186.09061643, 164.07809371, 202.88797923,\n",
              "       112.49407588, 172.47810123])"
            ]
          },
          "metadata": {},
          "execution_count": 154
        }
      ]
    },
    {
      "cell_type": "code",
      "metadata": {
        "colab": {
          "base_uri": "https://localhost:8080/"
        },
        "id": "MGszvZn-Bu4V",
        "outputId": "90b4f3ee-234b-432f-822d-3abd42b38573"
      },
      "source": [
        "from sklearn.metrics import mean_squared_error\n",
        "mean_squared_error(test_y, pred)"
      ],
      "execution_count": null,
      "outputs": [
        {
          "output_type": "execute_result",
          "data": {
            "text/plain": [
              "3395.145022149491"
            ]
          },
          "metadata": {},
          "execution_count": 155
        }
      ]
    },
    {
      "cell_type": "code",
      "metadata": {
        "colab": {
          "base_uri": "https://localhost:8080/"
        },
        "id": "Q33YHemJBz3a",
        "outputId": "8ceacf99-c909-42f7-9fef-db1518531115"
      },
      "source": [
        "import math\n",
        "rmse = math.sqrt(mean_squared_error(test_y, pred))\n",
        "rmse"
      ],
      "execution_count": null,
      "outputs": [
        {
          "output_type": "execute_result",
          "data": {
            "text/plain": [
              "58.26787298460011"
            ]
          },
          "metadata": {},
          "execution_count": 156
        }
      ]
    },
    {
      "cell_type": "code",
      "metadata": {
        "colab": {
          "base_uri": "https://localhost:8080/"
        },
        "id": "kV6Fh_g8B5ub",
        "outputId": "3e8843dc-ba67-41e8-b70a-58987a026fa0"
      },
      "source": [
        "from sklearn.metrics import mean_absolute_error\n",
        "mean_absolute_error(test_y, pred)"
      ],
      "execution_count": null,
      "outputs": [
        {
          "output_type": "execute_result",
          "data": {
            "text/plain": [
              "48.71376874620696"
            ]
          },
          "metadata": {},
          "execution_count": 158
        }
      ]
    },
    {
      "cell_type": "code",
      "metadata": {
        "colab": {
          "base_uri": "https://localhost:8080/"
        },
        "id": "1BKWzp0nCB2t",
        "outputId": "bc0a178c-116a-4539-91e4-41f2cbfe67db"
      },
      "source": [
        "from sklearn.metrics import explained_variance_score\n",
        "explained_variance_score(test_y, pred)"
      ],
      "execution_count": null,
      "outputs": [
        {
          "output_type": "execute_result",
          "data": {
            "text/plain": [
              "0.3737698138762475"
            ]
          },
          "metadata": {},
          "execution_count": 159
        }
      ]
    },
    {
      "cell_type": "code",
      "metadata": {
        "colab": {
          "base_uri": "https://localhost:8080/"
        },
        "id": "E72v3lsGCMY7",
        "outputId": "fe1d3970-4552-4b18-e916-02770123376e"
      },
      "source": [
        "from sklearn.metrics import r2_score\n",
        "r2_score(test_y, pred)"
      ],
      "execution_count": null,
      "outputs": [
        {
          "output_type": "execute_result",
          "data": {
            "text/plain": [
              "0.3670362034718291"
            ]
          },
          "metadata": {},
          "execution_count": 160
        }
      ]
    },
    {
      "cell_type": "code",
      "metadata": {
        "id": "t4qxymsyCQgG"
      },
      "source": [
        "cars = sm.datasets.get_rdataset('cars', package = 'datasets')\n",
        "cars_df = cars.data"
      ],
      "execution_count": null,
      "outputs": []
    },
    {
      "cell_type": "code",
      "metadata": {
        "colab": {
          "base_uri": "https://localhost:8080/",
          "height": 204
        },
        "id": "JDRkG4RSDeEF",
        "outputId": "328965b3-4156-4370-d5d9-ad66ef63a5de"
      },
      "source": [
        "cars_df.head()"
      ],
      "execution_count": null,
      "outputs": [
        {
          "output_type": "execute_result",
          "data": {
            "text/html": [
              "<div>\n",
              "<style scoped>\n",
              "    .dataframe tbody tr th:only-of-type {\n",
              "        vertical-align: middle;\n",
              "    }\n",
              "\n",
              "    .dataframe tbody tr th {\n",
              "        vertical-align: top;\n",
              "    }\n",
              "\n",
              "    .dataframe thead th {\n",
              "        text-align: right;\n",
              "    }\n",
              "</style>\n",
              "<table border=\"1\" class=\"dataframe\">\n",
              "  <thead>\n",
              "    <tr style=\"text-align: right;\">\n",
              "      <th></th>\n",
              "      <th>speed</th>\n",
              "      <th>dist</th>\n",
              "    </tr>\n",
              "  </thead>\n",
              "  <tbody>\n",
              "    <tr>\n",
              "      <th>0</th>\n",
              "      <td>4</td>\n",
              "      <td>2</td>\n",
              "    </tr>\n",
              "    <tr>\n",
              "      <th>1</th>\n",
              "      <td>4</td>\n",
              "      <td>10</td>\n",
              "    </tr>\n",
              "    <tr>\n",
              "      <th>2</th>\n",
              "      <td>7</td>\n",
              "      <td>4</td>\n",
              "    </tr>\n",
              "    <tr>\n",
              "      <th>3</th>\n",
              "      <td>7</td>\n",
              "      <td>22</td>\n",
              "    </tr>\n",
              "    <tr>\n",
              "      <th>4</th>\n",
              "      <td>8</td>\n",
              "      <td>16</td>\n",
              "    </tr>\n",
              "  </tbody>\n",
              "</table>\n",
              "</div>"
            ],
            "text/plain": [
              "   speed  dist\n",
              "0      4     2\n",
              "1      4    10\n",
              "2      7     4\n",
              "3      7    22\n",
              "4      8    16"
            ]
          },
          "metadata": {},
          "execution_count": 165
        }
      ]
    },
    {
      "cell_type": "code",
      "metadata": {
        "colab": {
          "base_uri": "https://localhost:8080/",
          "height": 295
        },
        "id": "In4ue2xTC3cD",
        "outputId": "0bb08a88-7191-43b7-96e8-0046fda9f932"
      },
      "source": [
        "fig = plt.figure()\n",
        "plt.scatter(cars_df.speed, cars_df.dist)\n",
        "flt = np.polyfit(cars_df.speed, cars_df.dist,1)\n",
        "fit_fn = np.poly1d(fit)\n",
        "plt.plot(cars_df.speed, fit_fn(cars_df.speed))\n",
        "plt.xlabel('speed')\n",
        "plt.ylabel('dist')\n",
        "plt.title('cars')\n",
        "plt.show()"
      ],
      "execution_count": null,
      "outputs": [
        {
          "output_type": "display_data",
          "data": {
            "image/png": "[encoded data removed]",
            "text/plain": [
              "<Figure size 432x288 with 1 Axes>"
            ]
          },
          "metadata": {
            "needs_background": "light"
          }
        }
      ]
    },
    {
      "cell_type": "code",
      "metadata": {
        "colab": {
          "base_uri": "https://localhost:8080/",
          "height": 444
        },
        "id": "VLwuxFJHDRwq",
        "outputId": "06b18c23-224b-45ed-b652-680b4fc52f4c"
      },
      "source": [
        "import statsmodels.formula.api as sm\n",
        "model_cars = sm.ols(formula = 'dist ~ speed', data = cars_df).fit()\n",
        "model_cars.summary()"
      ],
      "execution_count": null,
      "outputs": [
        {
          "output_type": "execute_result",
          "data": {
            "text/html": [
              "<table class=\"simpletable\">\n",
              "<caption>OLS Regression Results</caption>\n",
              "<tr>\n",
              "  <th>Dep. Variable:</th>          <td>dist</td>       <th>  R-squared:         </th> <td>   0.651</td>\n",
              "</tr>\n",
              "<tr>\n",
              "  <th>Model:</th>                   <td>OLS</td>       <th>  Adj. R-squared:    </th> <td>   0.644</td>\n",
              "</tr>\n",
              "<tr>\n",
              "  <th>Method:</th>             <td>Least Squares</td>  <th>  F-statistic:       </th> <td>   89.57</td>\n",
              "</tr>\n",
              "<tr>\n",
              "  <th>Date:</th>             <td>Mon, 20 Sep 2021</td> <th>  Prob (F-statistic):</th> <td>1.49e-12</td>\n",
              "</tr>\n",
              "<tr>\n",
              "  <th>Time:</th>                 <td>16:34:16</td>     <th>  Log-Likelihood:    </th> <td> -206.58</td>\n",
              "</tr>\n",
              "<tr>\n",
              "  <th>No. Observations:</th>      <td>    50</td>      <th>  AIC:               </th> <td>   417.2</td>\n",
              "</tr>\n",
              "<tr>\n",
              "  <th>Df Residuals:</th>          <td>    48</td>      <th>  BIC:               </th> <td>   421.0</td>\n",
              "</tr>\n",
              "<tr>\n",
              "  <th>Df Model:</th>              <td>     1</td>      <th>                     </th>     <td> </td>   \n",
              "</tr>\n",
              "<tr>\n",
              "  <th>Covariance Type:</th>      <td>nonrobust</td>    <th>                     </th>     <td> </td>   \n",
              "</tr>\n",
              "</table>\n",
              "<table class=\"simpletable\">\n",
              "<tr>\n",
              "      <td></td>         <th>coef</th>     <th>std err</th>      <th>t</th>      <th>P>|t|</th>  <th>[0.025</th>    <th>0.975]</th>  \n",
              "</tr>\n",
              "<tr>\n",
              "  <th>Intercept</th> <td>  -17.5791</td> <td>    6.758</td> <td>   -2.601</td> <td> 0.012</td> <td>  -31.168</td> <td>   -3.990</td>\n",
              "</tr>\n",
              "<tr>\n",
              "  <th>speed</th>     <td>    3.9324</td> <td>    0.416</td> <td>    9.464</td> <td> 0.000</td> <td>    3.097</td> <td>    4.768</td>\n",
              "</tr>\n",
              "</table>\n",
              "<table class=\"simpletable\">\n",
              "<tr>\n",
              "  <th>Omnibus:</th>       <td> 8.975</td> <th>  Durbin-Watson:     </th> <td>   1.676</td>\n",
              "</tr>\n",
              "<tr>\n",
              "  <th>Prob(Omnibus):</th> <td> 0.011</td> <th>  Jarque-Bera (JB):  </th> <td>   8.189</td>\n",
              "</tr>\n",
              "<tr>\n",
              "  <th>Skew:</th>          <td> 0.885</td> <th>  Prob(JB):          </th> <td>  0.0167</td>\n",
              "</tr>\n",
              "<tr>\n",
              "  <th>Kurtosis:</th>      <td> 3.893</td> <th>  Cond. No.          </th> <td>    50.7</td>\n",
              "</tr>\n",
              "</table><br/><br/>Warnings:<br/>[1] Standard Errors assume that the covariance matrix of the errors is correctly specified."
            ],
            "text/plain": [
              "<class 'statsmodels.iolib.summary.Summary'>\n",
              "\"\"\"\n",
              "                            OLS Regression Results                            \n",
              "==============================================================================\n",
              "Dep. Variable:                   dist   R-squared:                       0.651\n",
              "Model:                            OLS   Adj. R-squared:                  0.644\n",
              "Method:                 Least Squares   F-statistic:                     89.57\n",
              "Date:                Mon, 20 Sep 2021   Prob (F-statistic):           1.49e-12\n",
              "Time:                        16:34:16   Log-Likelihood:                -206.58\n",
              "No. Observations:                  50   AIC:                             417.2\n",
              "Df Residuals:                      48   BIC:                             421.0\n",
              "Df Model:                           1                                         \n",
              "Covariance Type:            nonrobust                                         \n",
              "==============================================================================\n",
              "                 coef    std err          t      P>|t|      [0.025      0.975]\n",
              "------------------------------------------------------------------------------\n",
              "Intercept    -17.5791      6.758     -2.601      0.012     -31.168      -3.990\n",
              "speed          3.9324      0.416      9.464      0.000       3.097       4.768\n",
              "==============================================================================\n",
              "Omnibus:                        8.975   Durbin-Watson:                   1.676\n",
              "Prob(Omnibus):                  0.011   Jarque-Bera (JB):                8.189\n",
              "Skew:                           0.885   Prob(JB):                       0.0167\n",
              "Kurtosis:                       3.893   Cond. No.                         50.7\n",
              "==============================================================================\n",
              "\n",
              "Warnings:\n",
              "[1] Standard Errors assume that the covariance matrix of the errors is correctly specified.\n",
              "\"\"\""
            ]
          },
          "metadata": {},
          "execution_count": 167
        }
      ]
    },
    {
      "cell_type": "code",
      "metadata": {
        "colab": {
          "base_uri": "https://localhost:8080/",
          "height": 295
        },
        "id": "eKhK1AVFDm3a",
        "outputId": "0610dae2-9711-40e9-d450-3b593a53a25e"
      },
      "source": [
        "y_pred = model_cars.predict(cars_df)\n",
        "fig = plt.figure()\n",
        "res = stats.probplot(y_pred, plot = plt)\n",
        "plt.title('Probability plot')\n",
        "plt.show()"
      ],
      "execution_count": null,
      "outputs": [
        {
          "output_type": "display_data",
          "data": {
            "image/png": "[encoded data removed]",
            "text/plain": [
              "<Figure size 432x288 with 1 Axes>"
            ]
          },
          "metadata": {
            "needs_background": "light"
          }
        }
      ]
    },
    {
      "cell_type": "code",
      "metadata": {
        "colab": {
          "base_uri": "https://localhost:8080/",
          "height": 204
        },
        "id": "9-J8mGRzD-9Q",
        "outputId": "e00470c3-0181-4fdb-f5cb-006b232ef85c"
      },
      "source": [
        "influence = model_cars.get_influence()\n",
        "inf_df = influence.summary_frame()\n",
        "inf_df.head()"
      ],
      "execution_count": null,
      "outputs": [
        {
          "output_type": "execute_result",
          "data": {
            "text/html": [
              "<div>\n",
              "<style scoped>\n",
              "    .dataframe tbody tr th:only-of-type {\n",
              "        vertical-align: middle;\n",
              "    }\n",
              "\n",
              "    .dataframe tbody tr th {\n",
              "        vertical-align: top;\n",
              "    }\n",
              "\n",
              "    .dataframe thead th {\n",
              "        text-align: right;\n",
              "    }\n",
              "</style>\n",
              "<table border=\"1\" class=\"dataframe\">\n",
              "  <thead>\n",
              "    <tr style=\"text-align: right;\">\n",
              "      <th></th>\n",
              "      <th>dfb_Intercept</th>\n",
              "      <th>dfb_speed</th>\n",
              "      <th>cooks_d</th>\n",
              "      <th>standard_resid</th>\n",
              "      <th>hat_diag</th>\n",
              "      <th>dffits_internal</th>\n",
              "      <th>student_resid</th>\n",
              "      <th>dffits</th>\n",
              "    </tr>\n",
              "  </thead>\n",
              "  <tbody>\n",
              "    <tr>\n",
              "      <th>0</th>\n",
              "      <td>0.094402</td>\n",
              "      <td>-0.086246</td>\n",
              "      <td>0.004592</td>\n",
              "      <td>0.266042</td>\n",
              "      <td>0.114861</td>\n",
              "      <td>0.095836</td>\n",
              "      <td>0.263450</td>\n",
              "      <td>0.094903</td>\n",
              "    </tr>\n",
              "    <tr>\n",
              "      <th>1</th>\n",
              "      <td>0.292425</td>\n",
              "      <td>-0.267160</td>\n",
              "      <td>0.043514</td>\n",
              "      <td>0.818933</td>\n",
              "      <td>0.114861</td>\n",
              "      <td>0.295005</td>\n",
              "      <td>0.816078</td>\n",
              "      <td>0.293977</td>\n",
              "    </tr>\n",
              "    <tr>\n",
              "      <th>2</th>\n",
              "      <td>-0.107498</td>\n",
              "      <td>0.093693</td>\n",
              "      <td>0.006202</td>\n",
              "      <td>-0.401346</td>\n",
              "      <td>0.071504</td>\n",
              "      <td>-0.111376</td>\n",
              "      <td>-0.397812</td>\n",
              "      <td>-0.110396</td>\n",
              "    </tr>\n",
              "    <tr>\n",
              "      <th>3</th>\n",
              "      <td>0.218976</td>\n",
              "      <td>-0.190855</td>\n",
              "      <td>0.025467</td>\n",
              "      <td>0.813266</td>\n",
              "      <td>0.071504</td>\n",
              "      <td>0.225687</td>\n",
              "      <td>0.810353</td>\n",
              "      <td>0.224879</td>\n",
              "    </tr>\n",
              "    <tr>\n",
              "      <th>4</th>\n",
              "      <td>0.034075</td>\n",
              "      <td>-0.029014</td>\n",
              "      <td>0.000645</td>\n",
              "      <td>0.142162</td>\n",
              "      <td>0.059971</td>\n",
              "      <td>0.035907</td>\n",
              "      <td>0.140703</td>\n",
              "      <td>0.035539</td>\n",
              "    </tr>\n",
              "  </tbody>\n",
              "</table>\n",
              "</div>"
            ],
            "text/plain": [
              "   dfb_Intercept  dfb_speed   cooks_d  ...  dffits_internal  student_resid    dffits\n",
              "0       0.094402  -0.086246  0.004592  ...         0.095836       0.263450  0.094903\n",
              "1       0.292425  -0.267160  0.043514  ...         0.295005       0.816078  0.293977\n",
              "2      -0.107498   0.093693  0.006202  ...        -0.111376      -0.397812 -0.110396\n",
              "3       0.218976  -0.190855  0.025467  ...         0.225687       0.810353  0.224879\n",
              "4       0.034075  -0.029014  0.000645  ...         0.035907       0.140703  0.035539\n",
              "\n",
              "[5 rows x 8 columns]"
            ]
          },
          "metadata": {},
          "execution_count": 177
        }
      ]
    },
    {
      "cell_type": "code",
      "metadata": {
        "colab": {
          "base_uri": "https://localhost:8080/"
        },
        "id": "yPrugsrBFFpP",
        "outputId": "2420d82e-8b1a-404e-8ed9-a4528c4d64e4"
      },
      "source": [
        "influence.hat_matrix_diag.shape"
      ],
      "execution_count": null,
      "outputs": [
        {
          "output_type": "execute_result",
          "data": {
            "text/plain": [
              "(50,)"
            ]
          },
          "metadata": {},
          "execution_count": 178
        }
      ]
    },
    {
      "cell_type": "code",
      "metadata": {
        "colab": {
          "base_uri": "https://localhost:8080/"
        },
        "id": "dEy4SHCIFNj_",
        "outputId": "72184fb0-f23a-4aeb-f72c-7eb8d01d0f9c"
      },
      "source": [
        "inf_df.shape"
      ],
      "execution_count": null,
      "outputs": [
        {
          "output_type": "execute_result",
          "data": {
            "text/plain": [
              "(50, 8)"
            ]
          },
          "metadata": {},
          "execution_count": 179
        }
      ]
    },
    {
      "cell_type": "code",
      "metadata": {
        "colab": {
          "base_uri": "https://localhost:8080/",
          "height": 295
        },
        "id": "u96ApbHeEH8P",
        "outputId": "5b25f4d9-4366-4f2c-9470-cde83675efe1"
      },
      "source": [
        "import numpy as pd\n",
        "from sklearn.linear_model import LinearRegression\n",
        "plt.scatter(influence.hat_matrix_diag, inf_df.standard_resid)\n",
        "fit = np.polyfit(influence.hat_matrix_diag, inf_df.standard_resid,1)\n",
        "fit_fn = np.poly1d(fit)\n",
        "plt.plot(influence.hat_matrix_diag, fit_fn(influence.hat_matrix_diag), 'r')\n",
        "plt.xlabel('Leverage')\n",
        "plt.ylabel('Standaredized residual')\n",
        "plt.title('Leverage vs. Residual')\n",
        "plt.show()"
      ],
      "execution_count": null,
      "outputs": [
        {
          "output_type": "display_data",
          "data": {
            "image/png": "[encoded data removed]",
            "text/plain": [
              "<Figure size 432x288 with 1 Axes>"
            ]
          },
          "metadata": {
            "needs_background": "light"
          }
        }
      ]
    },
    {
      "cell_type": "code",
      "metadata": {
        "id": "VaUJ0eHqEpgc"
      },
      "source": [
        ""
      ],
      "execution_count": null,
      "outputs": []
    }
  ]
}