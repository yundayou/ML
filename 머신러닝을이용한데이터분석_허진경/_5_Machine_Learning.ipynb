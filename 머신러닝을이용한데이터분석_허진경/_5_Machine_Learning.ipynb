{
  "nbformat": 4,
  "nbformat_minor": 0,
  "metadata": {
    "colab": {
      "name": "#5. Machine_Learning.ipynb",
      "provenance": [],
      "collapsed_sections": []
    },
    "kernelspec": {
      "name": "python3",
      "display_name": "Python 3"
    },
    "language_info": {
      "name": "python"
    }
  },
  "cells": [
    {
      "cell_type": "code",
      "metadata": {
        "id": "NIUqMsNWySqr"
      },
      "source": [
        "import seaborn as sns\n",
        "iris = sns.load_dataset('iris')"
      ],
      "execution_count": null,
      "outputs": []
    },
    {
      "cell_type": "code",
      "metadata": {
        "id": "xkNDbhMyyqtY"
      },
      "source": [
        "from sklearn.model_selection import train_test_split\n",
        "X, y = iris.iloc[:,:-1].values, iris.iloc[:, -1].values\n",
        "train_X, test_X, train_y, test_y = train_test_split(X, y , test_size = 0.3, random_state = 0)"
      ],
      "execution_count": null,
      "outputs": []
    },
    {
      "cell_type": "code",
      "metadata": {
        "id": "jpaH3-0VznnQ"
      },
      "source": [
        "from sklearn.preprocessing import StandardScaler\n",
        "\n",
        "sc = StandardScaler()\n",
        "train_X_std = sc.fit_transform(train_X)\n",
        "test_X_std = sc.transform(test_X)"
      ],
      "execution_count": null,
      "outputs": []
    },
    {
      "cell_type": "code",
      "metadata": {
        "id": "KXHSQDFD0F5S"
      },
      "source": [
        "import numpy as np\n",
        "cov_mat = np.cov(train_X_std.T)"
      ],
      "execution_count": null,
      "outputs": []
    },
    {
      "cell_type": "code",
      "metadata": {
        "colab": {
          "base_uri": "https://localhost:8080/"
        },
        "id": "DMrqTX5w2v3o",
        "outputId": "ec7fd508-386a-4777-df6f-0b3159938b4c"
      },
      "source": [
        "cov_mat"
      ],
      "execution_count": null,
      "outputs": [
        {
          "output_type": "execute_result",
          "data": {
            "text/plain": [
              "array([[ 1.00961538, -0.03658858,  0.89282533,  0.84057159],\n",
              "       [-0.03658858,  1.00961538, -0.3421826 , -0.2898399 ],\n",
              "       [ 0.89282533, -0.3421826 ,  1.00961538,  0.9779029 ],\n",
              "       [ 0.84057159, -0.2898399 ,  0.9779029 ,  1.00961538]])"
            ]
          },
          "metadata": {},
          "execution_count": 5
        }
      ]
    },
    {
      "cell_type": "code",
      "metadata": {
        "colab": {
          "base_uri": "https://localhost:8080/"
        },
        "id": "AjDRncpq0gyc",
        "outputId": "4489aac7-6fc3-4d91-8158-85d6f1229f88"
      },
      "source": [
        "eigen_vals, eigen_vecs = np.linalg.eig(cov_mat)\n",
        "print('Eigenvalues : %s' %eigen_vals)"
      ],
      "execution_count": null,
      "outputs": [
        {
          "output_type": "stream",
          "name": "stdout",
          "text": [
            "Eigenvalues : [2.8998938  0.98708902 0.13466453 0.01681419]\n"
          ]
        }
      ]
    },
    {
      "cell_type": "code",
      "metadata": {
        "colab": {
          "base_uri": "https://localhost:8080/"
        },
        "id": "Ju48Dy9u0ukJ",
        "outputId": "f49da215-5fb9-4a81-8bca-e829096d06cc"
      },
      "source": [
        "tot = sum(eigen_vals)\n",
        "var_exp = [(i / tot) for i in sorted(eigen_vals, reverse = True)]\n",
        "var_exp"
      ],
      "execution_count": null,
      "outputs": [
        {
          "output_type": "execute_result",
          "data": {
            "text/plain": [
              "[0.7180689405527698,\n",
              " 0.2444220436332153,\n",
              " 0.033345502524849045,\n",
              " 0.0041635132891658525]"
            ]
          },
          "metadata": {},
          "execution_count": 7
        }
      ]
    },
    {
      "cell_type": "code",
      "metadata": {
        "colab": {
          "base_uri": "https://localhost:8080/"
        },
        "id": "B2tBGRdq035L",
        "outputId": "c141b94d-18b1-466f-99ca-a83e4b202e16"
      },
      "source": [
        "cum_var_exp = np.cumsum(var_exp)\n",
        "cum_var_exp"
      ],
      "execution_count": null,
      "outputs": [
        {
          "output_type": "execute_result",
          "data": {
            "text/plain": [
              "array([0.71806894, 0.96249098, 0.99583649, 1.        ])"
            ]
          },
          "metadata": {},
          "execution_count": 8
        }
      ]
    },
    {
      "cell_type": "code",
      "metadata": {
        "colab": {
          "base_uri": "https://localhost:8080/",
          "height": 297
        },
        "id": "rUjgcEUY1Hrp",
        "outputId": "1169f3b3-2cb4-42a4-e87b-47f2ddf09056"
      },
      "source": [
        "import matplotlib.pyplot as plt\n",
        "%matplotlib inline\n",
        "\n",
        "plt.bar(range(1,5), var_exp, alpha = 0.5, align = 'center', label = 'individual explained variance')\n",
        "plt.step(range(1,5), cum_var_exp, where = 'mid', label = 'cumulative explained variance')\n",
        "plt.ylabel('Explainded variance ratio')\n",
        "plt.xlabel('Principal components')\n",
        "plt.legend(loc = 'best')\n",
        "plt.tight_layout()\n",
        "\n",
        "plt.show()"
      ],
      "execution_count": null,
      "outputs": [
        {
          "output_type": "display_data",
          "data": {
            "image/png": "[encoded data removed]",
            "text/plain": [
              "<Figure size 432x288 with 1 Axes>"
            ]
          },
          "metadata": {
            "needs_background": "light"
          }
        }
      ]
    },
    {
      "cell_type": "code",
      "metadata": {
        "id": "pzDVUA5j1yEv",
        "colab": {
          "base_uri": "https://localhost:8080/"
        },
        "outputId": "65ae711e-168e-4172-991e-bb0c48c167d0"
      },
      "source": [
        "eigen_pairs = [(np.abs(eigen_vals[i]), eigen_vecs[:,i]) for i in range(len(eigen_vals))]\n",
        "eigen_pairs.sort(reverse = True)\n",
        "eigen_pairs"
      ],
      "execution_count": null,
      "outputs": [
        {
          "output_type": "execute_result",
          "data": {
            "text/plain": [
              "[(2.8998937983861857,\n",
              "  array([ 0.53547007, -0.20428207,  0.58615942,  0.57267597])),\n",
              " (0.9870890223649079,\n",
              "  array([-3.25785192e-01, -9.44860554e-01,  7.51890810e-04, -3.31960469e-02])),\n",
              " (0.134664529427275,\n",
              "  array([-0.73207448,  0.23052807,  0.13736953,  0.62614166])),\n",
              " (0.016814188283169787,\n",
              "  array([ 0.26683847, -0.11119432, -0.79846489,  0.52809741]))]"
            ]
          },
          "metadata": {},
          "execution_count": 10
        }
      ]
    },
    {
      "cell_type": "code",
      "metadata": {
        "colab": {
          "base_uri": "https://localhost:8080/"
        },
        "id": "lv2jQi0ZHgCq",
        "outputId": "91ec63d6-4ae5-4798-f090-94c92cd63ddc"
      },
      "source": [
        "w = np.hstack((eigen_pairs[0][1][:, np.newaxis], eigen_pairs[1][1][:, np.newaxis]))\n",
        "print('Matrix W : \\n', w)"
      ],
      "execution_count": null,
      "outputs": [
        {
          "output_type": "stream",
          "name": "stdout",
          "text": [
            "Matrix W : \n",
            " [[ 5.35470073e-01 -3.25785192e-01]\n",
            " [-2.04282071e-01 -9.44860554e-01]\n",
            " [ 5.86159424e-01  7.51890810e-04]\n",
            " [ 5.72675970e-01 -3.31960469e-02]]\n"
          ]
        }
      ]
    },
    {
      "cell_type": "code",
      "metadata": {
        "id": "tS50E0sCIBy8"
      },
      "source": [
        "train_X_pca = train_X_std.dot(w)"
      ],
      "execution_count": null,
      "outputs": []
    },
    {
      "cell_type": "code",
      "metadata": {
        "colab": {
          "base_uri": "https://localhost:8080/",
          "height": 297
        },
        "id": "9v8JFzOLIGr9",
        "outputId": "a6e42bca-9cbb-4c6c-d3d7-9216c98b1bf8"
      },
      "source": [
        "colors = ['r', 'b', 'g']\n",
        "markers = ['s', 'x', 'o']\n",
        "for l, c, m in zip(np.unique(train_y), colors, markers):\n",
        "  plt.scatter(train_X_pca[train_y == l, 0], train_X_pca[train_y == l,1], c= c, label = l, marker = m)\n",
        "\n",
        "plt.xlabel('PC 1')\n",
        "plt.ylabel('PC 2')\n",
        "plt.legend(loc = 'lower left')\n",
        "plt.tight_layout()\n",
        "plt.show()"
      ],
      "execution_count": null,
      "outputs": [
        {
          "output_type": "display_data",
          "data": {
            "image/png": "[encoded data removed]",
            "text/plain": [
              "<Figure size 432x288 with 1 Axes>"
            ]
          },
          "metadata": {
            "needs_background": "light"
          }
        }
      ]
    },
    {
      "cell_type": "code",
      "metadata": {
        "colab": {
          "base_uri": "https://localhost:8080/"
        },
        "id": "ZUkQW01nI_LA",
        "outputId": "05a7e7ae-b2fa-4590-a78c-f3a2462e42f1"
      },
      "source": [
        "from sklearn.neural_network import MLPClassifier\n",
        "mlp = MLPClassifier(hidden_layer_sizes= (50, 30))\n",
        "mlp.fit(train_X_pca, train_y)"
      ],
      "execution_count": null,
      "outputs": [
        {
          "output_type": "stream",
          "name": "stderr",
          "text": [
            "/usr/local/lib/python3.7/dist-packages/sklearn/neural_network/_multilayer_perceptron.py:571: ConvergenceWarning: Stochastic Optimizer: Maximum iterations (200) reached and the optimization hasn't converged yet.\n",
            "  % self.max_iter, ConvergenceWarning)\n"
          ]
        },
        {
          "output_type": "execute_result",
          "data": {
            "text/plain": [
              "MLPClassifier(activation='relu', alpha=0.0001, batch_size='auto', beta_1=0.9,\n",
              "              beta_2=0.999, early_stopping=False, epsilon=1e-08,\n",
              "              hidden_layer_sizes=(50, 30), learning_rate='constant',\n",
              "              learning_rate_init=0.001, max_fun=15000, max_iter=200,\n",
              "              momentum=0.9, n_iter_no_change=10, nesterovs_momentum=True,\n",
              "              power_t=0.5, random_state=None, shuffle=True, solver='adam',\n",
              "              tol=0.0001, validation_fraction=0.1, verbose=False,\n",
              "              warm_start=False)"
            ]
          },
          "metadata": {},
          "execution_count": 14
        }
      ]
    },
    {
      "cell_type": "code",
      "metadata": {
        "colab": {
          "base_uri": "https://localhost:8080/"
        },
        "id": "kMgv4-KUJhR5",
        "outputId": "4d4d00ff-6afb-409b-ab66-1636065107c7"
      },
      "source": [
        "print(mlp.score(train_X_pca, train_y))"
      ],
      "execution_count": null,
      "outputs": [
        {
          "output_type": "stream",
          "name": "stdout",
          "text": [
            "0.9333333333333333\n"
          ]
        }
      ]
    },
    {
      "cell_type": "code",
      "metadata": {
        "colab": {
          "base_uri": "https://localhost:8080/"
        },
        "id": "xO3MLMNGKsAC",
        "outputId": "a73928ce-0600-4144-d2a6-cbe3590b81cf"
      },
      "source": [
        "test_X_pca = test_X_std.dot(w)\n",
        "pred = mlp.predict(test_X_pca)\n",
        "pred"
      ],
      "execution_count": null,
      "outputs": [
        {
          "output_type": "execute_result",
          "data": {
            "text/plain": [
              "array(['virginica', 'versicolor', 'setosa', 'virginica', 'setosa',\n",
              "       'virginica', 'setosa', 'versicolor', 'virginica', 'versicolor',\n",
              "       'virginica', 'versicolor', 'versicolor', 'virginica', 'versicolor',\n",
              "       'setosa', 'versicolor', 'versicolor', 'setosa', 'setosa',\n",
              "       'virginica', 'versicolor', 'setosa', 'setosa', 'virginica',\n",
              "       'setosa', 'setosa', 'versicolor', 'versicolor', 'setosa',\n",
              "       'virginica', 'versicolor', 'setosa', 'virginica', 'virginica',\n",
              "       'versicolor', 'setosa', 'virginica', 'versicolor', 'versicolor',\n",
              "       'virginica', 'setosa', 'virginica', 'setosa', 'setosa'],\n",
              "      dtype='<U10')"
            ]
          },
          "metadata": {},
          "execution_count": 16
        }
      ]
    },
    {
      "cell_type": "code",
      "metadata": {
        "colab": {
          "base_uri": "https://localhost:8080/",
          "height": 206
        },
        "id": "uUf6bILgKyTH",
        "outputId": "33d261de-2a96-4076-efc9-4e1cedd23669"
      },
      "source": [
        "import pandas as pd\n",
        "confusion_matrix = pd.crosstab(test_y, pred, margins= True, rownames = ['True'], colnames = ['Pred'])\n",
        "confusion_matrix"
      ],
      "execution_count": null,
      "outputs": [
        {
          "output_type": "execute_result",
          "data": {
            "text/html": [
              "<div>\n",
              "<style scoped>\n",
              "    .dataframe tbody tr th:only-of-type {\n",
              "        vertical-align: middle;\n",
              "    }\n",
              "\n",
              "    .dataframe tbody tr th {\n",
              "        vertical-align: top;\n",
              "    }\n",
              "\n",
              "    .dataframe thead th {\n",
              "        text-align: right;\n",
              "    }\n",
              "</style>\n",
              "<table border=\"1\" class=\"dataframe\">\n",
              "  <thead>\n",
              "    <tr style=\"text-align: right;\">\n",
              "      <th>Pred</th>\n",
              "      <th>setosa</th>\n",
              "      <th>versicolor</th>\n",
              "      <th>virginica</th>\n",
              "      <th>All</th>\n",
              "    </tr>\n",
              "    <tr>\n",
              "      <th>True</th>\n",
              "      <th></th>\n",
              "      <th></th>\n",
              "      <th></th>\n",
              "      <th></th>\n",
              "    </tr>\n",
              "  </thead>\n",
              "  <tbody>\n",
              "    <tr>\n",
              "      <th>setosa</th>\n",
              "      <td>16</td>\n",
              "      <td>0</td>\n",
              "      <td>0</td>\n",
              "      <td>16</td>\n",
              "    </tr>\n",
              "    <tr>\n",
              "      <th>versicolor</th>\n",
              "      <td>0</td>\n",
              "      <td>15</td>\n",
              "      <td>3</td>\n",
              "      <td>18</td>\n",
              "    </tr>\n",
              "    <tr>\n",
              "      <th>virginica</th>\n",
              "      <td>0</td>\n",
              "      <td>0</td>\n",
              "      <td>11</td>\n",
              "      <td>11</td>\n",
              "    </tr>\n",
              "    <tr>\n",
              "      <th>All</th>\n",
              "      <td>16</td>\n",
              "      <td>15</td>\n",
              "      <td>14</td>\n",
              "      <td>45</td>\n",
              "    </tr>\n",
              "  </tbody>\n",
              "</table>\n",
              "</div>"
            ],
            "text/plain": [
              "Pred        setosa  versicolor  virginica  All\n",
              "True                                          \n",
              "setosa          16           0          0   16\n",
              "versicolor       0          15          3   18\n",
              "virginica        0           0         11   11\n",
              "All             16          15         14   45"
            ]
          },
          "metadata": {},
          "execution_count": 17
        }
      ]
    },
    {
      "cell_type": "code",
      "metadata": {
        "colab": {
          "base_uri": "https://localhost:8080/"
        },
        "id": "4qNKBAbPLHvt",
        "outputId": "10a986ef-49dd-4c11-b1f9-c23ea10da25f"
      },
      "source": [
        "print(mlp.score(test_X_pca, test_y))"
      ],
      "execution_count": null,
      "outputs": [
        {
          "output_type": "stream",
          "name": "stdout",
          "text": [
            "0.9333333333333333\n"
          ]
        }
      ]
    },
    {
      "cell_type": "code",
      "metadata": {
        "id": "eBYEMQUkL8PK"
      },
      "source": [
        "import seaborn as sns\n",
        "from sklearn.decomposition import PCA"
      ],
      "execution_count": null,
      "outputs": []
    },
    {
      "cell_type": "code",
      "metadata": {
        "id": "9PSShPQFOdPD"
      },
      "source": [
        "iris = sns.load_dataset('iris')\n",
        "iris_X, iris_y = iris.iloc[:, :-1], iris.species"
      ],
      "execution_count": null,
      "outputs": []
    },
    {
      "cell_type": "code",
      "metadata": {
        "id": "6_hBTBvIOoqs"
      },
      "source": [
        "pca = PCA(n_components = 2)\n",
        "iris_pca = pca.fit_transform(iris_X)"
      ],
      "execution_count": null,
      "outputs": []
    },
    {
      "cell_type": "code",
      "metadata": {
        "colab": {
          "base_uri": "https://localhost:8080/"
        },
        "id": "2XqaQTlCOtfs",
        "outputId": "93720752-6fc8-4a6b-c3ea-2ebef3d2629f"
      },
      "source": [
        "iris_pca[:5, :]"
      ],
      "execution_count": null,
      "outputs": [
        {
          "output_type": "execute_result",
          "data": {
            "text/plain": [
              "array([[-2.68412563,  0.31939725],\n",
              "       [-2.71414169, -0.17700123],\n",
              "       [-2.88899057, -0.14494943],\n",
              "       [-2.74534286, -0.31829898],\n",
              "       [-2.72871654,  0.32675451]])"
            ]
          },
          "metadata": {},
          "execution_count": 22
        }
      ]
    },
    {
      "cell_type": "code",
      "metadata": {
        "colab": {
          "base_uri": "https://localhost:8080/"
        },
        "id": "aEx9wZ_HOvCh",
        "outputId": "48d5052a-d55f-49a6-9979-354791505af4"
      },
      "source": [
        "pca.explained_variance_"
      ],
      "execution_count": null,
      "outputs": [
        {
          "output_type": "execute_result",
          "data": {
            "text/plain": [
              "array([4.22824171, 0.24267075])"
            ]
          },
          "metadata": {},
          "execution_count": 23
        }
      ]
    },
    {
      "cell_type": "code",
      "metadata": {
        "colab": {
          "base_uri": "https://localhost:8080/"
        },
        "id": "u5b688dSOxY0",
        "outputId": "9c7207d4-5be4-4733-edc0-503a32da6602"
      },
      "source": [
        "pca.components_"
      ],
      "execution_count": null,
      "outputs": [
        {
          "output_type": "execute_result",
          "data": {
            "text/plain": [
              "array([[ 0.36138659, -0.08452251,  0.85667061,  0.3582892 ],\n",
              "       [ 0.65658877,  0.73016143, -0.17337266, -0.07548102]])"
            ]
          },
          "metadata": {},
          "execution_count": 24
        }
      ]
    },
    {
      "cell_type": "code",
      "metadata": {
        "id": "TjC6Ne2IOyo6"
      },
      "source": [
        "x = [32, 64, 96, 118, 126, 144, 152, 158]\n",
        "y = [18, 24, 61.5, 49, 52, 105, 130, 125]"
      ],
      "execution_count": null,
      "outputs": []
    },
    {
      "cell_type": "code",
      "metadata": {
        "id": "01uw-oQneB76"
      },
      "source": [
        "A = np.c_[x, [1] * 8]\n",
        "B = np.array(y)"
      ],
      "execution_count": null,
      "outputs": []
    },
    {
      "cell_type": "code",
      "metadata": {
        "colab": {
          "base_uri": "https://localhost:8080/"
        },
        "id": "h-fnooyxeFx6",
        "outputId": "b4542295-4846-4c9a-fb8b-e422b8d6acf9"
      },
      "source": [
        "U, s, VT = np.linalg.svd(A, full_matrices=True)\n",
        "U"
      ],
      "execution_count": null,
      "outputs": [
        {
          "output_type": "execute_result",
          "data": {
            "text/plain": [
              "array([[-0.09523708, -0.75291219, -0.30570949, -0.28090959, -0.27189145,\n",
              "        -0.25160063, -0.24258249, -0.23581888],\n",
              "       [-0.19045071, -0.49902645, -0.10192726,  0.12193311,  0.20333687,\n",
              "         0.38649535,  0.46789912,  0.52895194],\n",
              "       [-0.28566433, -0.24514071,  0.91852536, -0.0671799 , -0.06198182,\n",
              "        -0.05028612, -0.04508804, -0.04118947],\n",
              "       [-0.3511237 , -0.07059426, -0.09192115,  0.8886239 , -0.11845062,\n",
              "        -0.13436831, -0.14144283, -0.14674873],\n",
              "       [-0.37492711, -0.00712283, -0.09571988, -0.12744744,  0.86101527,\n",
              "        -0.16494364, -0.17648094, -0.18513391],\n",
              "       [-0.42848478,  0.1356879 , -0.10426703, -0.16360796, -0.18518648,\n",
              "         0.76626184, -0.25531668, -0.27150057],\n",
              "       [-0.45228818,  0.19915934, -0.10806576, -0.1796793 , -0.20572059,\n",
              "        -0.26431349,  0.70964522, -0.30988575],\n",
              "       [-0.47014074,  0.24676291, -0.1109148 , -0.19173281, -0.22112118,\n",
              "        -0.287245  , -0.31663336,  0.66132536]])"
            ]
          },
          "metadata": {},
          "execution_count": 27
        }
      ]
    },
    {
      "cell_type": "code",
      "metadata": {
        "colab": {
          "base_uri": "https://localhost:8080/"
        },
        "id": "u0XEwooYeLu4",
        "outputId": "fccdbea4-92a3-4399-f192-bea039a3b30e"
      },
      "source": [
        "s"
      ],
      "execution_count": null,
      "outputs": [
        {
          "output_type": "execute_result",
          "data": {
            "text/plain": [
              "array([336.0759044 ,   0.99321713])"
            ]
          },
          "metadata": {},
          "execution_count": 28
        }
      ]
    },
    {
      "cell_type": "code",
      "metadata": {
        "colab": {
          "base_uri": "https://localhost:8080/"
        },
        "id": "HD_aizmGeP0C",
        "outputId": "3d8ce95b-424d-403a-a68f-0190f4556e7a"
      },
      "source": [
        "VT"
      ],
      "execution_count": null,
      "outputs": [
        {
          "output_type": "execute_result",
          "data": {
            "text/plain": [
              "array([[-0.99996895, -0.00788011],\n",
              "       [ 0.00788011, -0.99996895]])"
            ]
          },
          "metadata": {},
          "execution_count": 29
        }
      ]
    },
    {
      "cell_type": "code",
      "metadata": {
        "id": "RJgMkXALeQrO"
      },
      "source": [
        "S = np.zeros((1,1))\n",
        "S[0][0] = s[0]"
      ],
      "execution_count": null,
      "outputs": []
    },
    {
      "cell_type": "code",
      "metadata": {
        "id": "67IheEcLeV8r"
      },
      "source": [
        "A2 = U[:, 0:1] @S @VT[0:1, 0:1]"
      ],
      "execution_count": null,
      "outputs": []
    },
    {
      "cell_type": "code",
      "metadata": {
        "colab": {
          "base_uri": "https://localhost:8080/"
        },
        "id": "jau2fkAueazT",
        "outputId": "da18cc7a-cb0b-41d2-9bef-7fc557a6452b"
      },
      "source": [
        "A2"
      ],
      "execution_count": null,
      "outputs": [
        {
          "output_type": "execute_result",
          "data": {
            "text/plain": [
              "array([[ 32.00589279],\n",
              "       [ 64.00390571],\n",
              "       [ 96.00191863],\n",
              "       [118.00055252],\n",
              "       [126.00005575],\n",
              "       [143.99893802],\n",
              "       [151.99844125],\n",
              "       [157.99806867]])"
            ]
          },
          "metadata": {},
          "execution_count": 32
        }
      ]
    },
    {
      "cell_type": "code",
      "metadata": {
        "colab": {
          "base_uri": "https://localhost:8080/"
        },
        "id": "vz9CD-DLfKzS",
        "outputId": "3b02504e-8c74-4ef5-ad0d-294e7ade4892"
      },
      "source": [
        "A"
      ],
      "execution_count": null,
      "outputs": [
        {
          "output_type": "execute_result",
          "data": {
            "text/plain": [
              "array([[ 32,   1],\n",
              "       [ 64,   1],\n",
              "       [ 96,   1],\n",
              "       [118,   1],\n",
              "       [126,   1],\n",
              "       [144,   1],\n",
              "       [152,   1],\n",
              "       [158,   1]])"
            ]
          },
          "metadata": {},
          "execution_count": 33
        }
      ]
    },
    {
      "cell_type": "code",
      "metadata": {
        "colab": {
          "base_uri": "https://localhost:8080/"
        },
        "id": "lyM4wRJYfLGt",
        "outputId": "1363c95a-d0ec-4af3-8dda-5cdddbe88165"
      },
      "source": [
        "weight, bias = np.linalg.inv(A.T @ A)@A.T@B\n",
        "weight, bias"
      ],
      "execution_count": null,
      "outputs": [
        {
          "output_type": "execute_result",
          "data": {
            "text/plain": [
              "(0.8744839346616398, -26.72383773110744)"
            ]
          },
          "metadata": {},
          "execution_count": 34
        }
      ]
    },
    {
      "cell_type": "code",
      "metadata": {
        "id": "M1CPLRxCfT8c"
      },
      "source": [
        "x2 = np.c_[A2, [1]*8]"
      ],
      "execution_count": null,
      "outputs": []
    },
    {
      "cell_type": "code",
      "metadata": {
        "id": "YbJKGivqfndV",
        "colab": {
          "base_uri": "https://localhost:8080/",
          "height": 184
        },
        "outputId": "27817e72-9f76-49e3-d765-8038e23616ea"
      },
      "source": [
        "weight2, bias2 = np.linalg.inv(A2.T @ A2) @A2.T @ B\n",
        "weight2, bias2 "
      ],
      "execution_count": null,
      "outputs": [
        {
          "output_type": "error",
          "ename": "ValueError",
          "evalue": "ignored",
          "traceback": [
            "\u001b[0;31m---------------------------------------------------------------------------\u001b[0m",
            "\u001b[0;31mValueError\u001b[0m                                Traceback (most recent call last)",
            "\u001b[0;32m<ipython-input-36-0970fc1f07ae>\u001b[0m in \u001b[0;36m<module>\u001b[0;34m()\u001b[0m\n\u001b[0;32m----> 1\u001b[0;31m \u001b[0mweight2\u001b[0m\u001b[0;34m,\u001b[0m \u001b[0mbias2\u001b[0m \u001b[0;34m=\u001b[0m \u001b[0mnp\u001b[0m\u001b[0;34m.\u001b[0m\u001b[0mlinalg\u001b[0m\u001b[0;34m.\u001b[0m\u001b[0minv\u001b[0m\u001b[0;34m(\u001b[0m\u001b[0mA2\u001b[0m\u001b[0;34m.\u001b[0m\u001b[0mT\u001b[0m \u001b[0;34m@\u001b[0m \u001b[0mA2\u001b[0m\u001b[0;34m)\u001b[0m \u001b[0;34m@\u001b[0m\u001b[0mA2\u001b[0m\u001b[0;34m.\u001b[0m\u001b[0mT\u001b[0m \u001b[0;34m@\u001b[0m \u001b[0mB\u001b[0m\u001b[0;34m\u001b[0m\u001b[0;34m\u001b[0m\u001b[0m\n\u001b[0m\u001b[1;32m      2\u001b[0m \u001b[0mweight2\u001b[0m\u001b[0;34m,\u001b[0m \u001b[0mbias2\u001b[0m\u001b[0;34m\u001b[0m\u001b[0;34m\u001b[0m\u001b[0m\n",
            "\u001b[0;31mValueError\u001b[0m: not enough values to unpack (expected 2, got 1)"
          ]
        }
      ]
    },
    {
      "cell_type": "code",
      "metadata": {
        "id": "qySqPr7GOIsb"
      },
      "source": [
        "import numpy as np\n",
        "import matplotlib.pyplot as plt\n"
      ],
      "execution_count": null,
      "outputs": []
    },
    {
      "cell_type": "code",
      "metadata": {
        "colab": {
          "base_uri": "https://localhost:8080/",
          "height": 466
        },
        "id": "J8N06KpoOOFh",
        "outputId": "aaf56a94-72d3-4c2d-f483-2cee9d0e6bb7"
      },
      "source": [
        "fig, ax = plt.subplots(ncols = 2)\n",
        "ax[0].scatter(x,y)\n",
        "ax[0].plot(A[:, 0 ], weight * A [:,0] + bias, '-')\n",
        "ax[1].scatter(A2[:, 0], y, color = 'red')\n",
        "ax[1].plot(A2[:, 0], weight * A2[:,0] + bias2, '-.', color = 'red')\n",
        "plt.show()"
      ],
      "execution_count": null,
      "outputs": [
        {
          "output_type": "error",
          "ename": "NameError",
          "evalue": "ignored",
          "traceback": [
            "\u001b[0;31m---------------------------------------------------------------------------\u001b[0m",
            "\u001b[0;31mNameError\u001b[0m                                 Traceback (most recent call last)",
            "\u001b[0;32m<ipython-input-38-6f8886a96247>\u001b[0m in \u001b[0;36m<module>\u001b[0;34m()\u001b[0m\n\u001b[1;32m      3\u001b[0m \u001b[0max\u001b[0m\u001b[0;34m[\u001b[0m\u001b[0;36m0\u001b[0m\u001b[0;34m]\u001b[0m\u001b[0;34m.\u001b[0m\u001b[0mplot\u001b[0m\u001b[0;34m(\u001b[0m\u001b[0mA\u001b[0m\u001b[0;34m[\u001b[0m\u001b[0;34m:\u001b[0m\u001b[0;34m,\u001b[0m \u001b[0;36m0\u001b[0m \u001b[0;34m]\u001b[0m\u001b[0;34m,\u001b[0m \u001b[0mweight\u001b[0m \u001b[0;34m*\u001b[0m \u001b[0mA\u001b[0m \u001b[0;34m[\u001b[0m\u001b[0;34m:\u001b[0m\u001b[0;34m,\u001b[0m\u001b[0;36m0\u001b[0m\u001b[0;34m]\u001b[0m \u001b[0;34m+\u001b[0m \u001b[0mbias\u001b[0m\u001b[0;34m,\u001b[0m \u001b[0;34m'-'\u001b[0m\u001b[0;34m)\u001b[0m\u001b[0;34m\u001b[0m\u001b[0;34m\u001b[0m\u001b[0m\n\u001b[1;32m      4\u001b[0m \u001b[0max\u001b[0m\u001b[0;34m[\u001b[0m\u001b[0;36m1\u001b[0m\u001b[0;34m]\u001b[0m\u001b[0;34m.\u001b[0m\u001b[0mscatter\u001b[0m\u001b[0;34m(\u001b[0m\u001b[0mA2\u001b[0m\u001b[0;34m[\u001b[0m\u001b[0;34m:\u001b[0m\u001b[0;34m,\u001b[0m \u001b[0;36m0\u001b[0m\u001b[0;34m]\u001b[0m\u001b[0;34m,\u001b[0m \u001b[0my\u001b[0m\u001b[0;34m,\u001b[0m \u001b[0mcolor\u001b[0m \u001b[0;34m=\u001b[0m \u001b[0;34m'red'\u001b[0m\u001b[0;34m)\u001b[0m\u001b[0;34m\u001b[0m\u001b[0;34m\u001b[0m\u001b[0m\n\u001b[0;32m----> 5\u001b[0;31m \u001b[0max\u001b[0m\u001b[0;34m[\u001b[0m\u001b[0;36m1\u001b[0m\u001b[0;34m]\u001b[0m\u001b[0;34m.\u001b[0m\u001b[0mplot\u001b[0m\u001b[0;34m(\u001b[0m\u001b[0mA2\u001b[0m\u001b[0;34m[\u001b[0m\u001b[0;34m:\u001b[0m\u001b[0;34m,\u001b[0m \u001b[0;36m0\u001b[0m\u001b[0;34m]\u001b[0m\u001b[0;34m,\u001b[0m \u001b[0mweight\u001b[0m \u001b[0;34m*\u001b[0m \u001b[0mA2\u001b[0m\u001b[0;34m[\u001b[0m\u001b[0;34m:\u001b[0m\u001b[0;34m,\u001b[0m\u001b[0;36m0\u001b[0m\u001b[0;34m]\u001b[0m \u001b[0;34m+\u001b[0m \u001b[0mbias2\u001b[0m\u001b[0;34m,\u001b[0m \u001b[0;34m'-.'\u001b[0m\u001b[0;34m,\u001b[0m \u001b[0mcolor\u001b[0m \u001b[0;34m=\u001b[0m \u001b[0;34m'red'\u001b[0m\u001b[0;34m)\u001b[0m\u001b[0;34m\u001b[0m\u001b[0;34m\u001b[0m\u001b[0m\n\u001b[0m\u001b[1;32m      6\u001b[0m \u001b[0mplt\u001b[0m\u001b[0;34m.\u001b[0m\u001b[0mshow\u001b[0m\u001b[0;34m(\u001b[0m\u001b[0;34m)\u001b[0m\u001b[0;34m\u001b[0m\u001b[0;34m\u001b[0m\u001b[0m\n",
            "\u001b[0;31mNameError\u001b[0m: name 'bias2' is not defined"
          ]
        },
        {
          "output_type": "display_data",
          "data": {
            "image/png": "[encoded data removed]",
            "text/plain": [
              "<Figure size 432x288 with 2 Axes>"
            ]
          },
          "metadata": {
            "needs_background": "light"
          }
        }
      ]
    },
    {
      "cell_type": "code",
      "metadata": {
        "colab": {
          "base_uri": "https://localhost:8080/"
        },
        "id": "hy5DGIoCOlkq",
        "outputId": "535bbff9-d391-4e61-d637-ab0991e37e37"
      },
      "source": [
        "Uw , Uv = np.linalg.eig(A @ A.T)\n",
        "Uv"
      ],
      "execution_count": null,
      "outputs": [
        {
          "output_type": "execute_result",
          "data": {
            "text/plain": [
              "array([[-9.52370763e-02+0.00000000e+00j,  7.52912191e-01+0.00000000e+00j,\n",
              "        -3.82054792e-01+0.00000000e+00j,  1.09306425e-01+0.00000000e+00j,\n",
              "        -3.30811714e-05+7.92805098e-06j, -3.30811714e-05-7.92805098e-06j,\n",
              "         1.92120027e-05+0.00000000e+00j, -4.11979138e-05+0.00000000e+00j],\n",
              "       [-1.90450705e-01+0.00000000e+00j,  4.99026450e-01+0.00000000e+00j,\n",
              "         4.79868025e-01+0.00000000e+00j,  1.07053949e-01+0.00000000e+00j,\n",
              "         6.35138250e-07-3.54557509e-06j,  6.35138250e-07+3.54557509e-06j,\n",
              "         4.08662902e-06+0.00000000e+00j, -2.35259980e-07+0.00000000e+00j],\n",
              "       [-2.85664334e-01+0.00000000e+00j,  2.45140710e-01+0.00000000e+00j,\n",
              "        -1.55883859e-01+0.00000000e+00j, -2.07385928e-02+0.00000000e+00j,\n",
              "        -8.17847568e-02+2.34230543e-01j, -8.17847568e-02-2.34230543e-01j,\n",
              "         3.11149259e-01+0.00000000e+00j,  1.28986605e-01+0.00000000e+00j],\n",
              "       [-3.51123704e-01+0.00000000e+00j,  7.05942631e-02+0.00000000e+00j,\n",
              "         4.93813475e-01+0.00000000e+00j, -7.03143473e-01+0.00000000e+00j,\n",
              "         4.60806010e-02-2.43336184e-01j,  4.60806010e-02+2.43336184e-01j,\n",
              "        -8.49775978e-01+0.00000000e+00j,  4.02495973e-01+0.00000000e+00j],\n",
              "       [-3.74927111e-01+0.00000000e+00j,  7.12282792e-03+0.00000000e+00j,\n",
              "        -2.41698146e-01+0.00000000e+00j,  1.89258389e-01+0.00000000e+00j,\n",
              "        -1.03386554e-01-7.38971768e-02j, -1.03386554e-01+7.38971768e-02j,\n",
              "         4.12680359e-01+0.00000000e+00j, -8.61956902e-01+0.00000000e+00j],\n",
              "       [-4.28484777e-01+0.00000000e+00j, -1.35687901e-01+0.00000000e+00j,\n",
              "         2.54557211e-01+0.00000000e+00j, -2.91723189e-01+0.00000000e+00j,\n",
              "         5.91478638e-01+0.00000000e+00j,  5.91478638e-01-0.00000000e+00j,\n",
              "         7.84766386e-02+0.00000000e+00j,  1.50518421e-01+0.00000000e+00j],\n",
              "       [-4.52288185e-01+0.00000000e+00j, -1.99159336e-01+0.00000000e+00j,\n",
              "        -4.80981773e-01+0.00000000e+00j,  6.00617846e-01+0.00000000e+00j,\n",
              "        -2.90131969e-01-4.04133723e-01j, -2.90131969e-01+4.04133723e-01j,\n",
              "         6.54226297e-02+0.00000000e+00j,  2.30594595e-01+0.00000000e+00j],\n",
              "       [-4.70140740e-01+0.00000000e+00j, -2.46762913e-01+0.00000000e+00j,\n",
              "         3.23798585e-02+0.00000000e+00j,  9.36864546e-03+0.00000000e+00j,\n",
              "        -1.62223514e-01+4.87132158e-01j, -1.62223514e-01-4.87132158e-01j,\n",
              "        -1.79762068e-02+0.00000000e+00j, -5.05972600e-02+0.00000000e+00j]])"
            ]
          },
          "metadata": {},
          "execution_count": 39
        }
      ]
    },
    {
      "cell_type": "code",
      "metadata": {
        "colab": {
          "base_uri": "https://localhost:8080/"
        },
        "id": "v2JePu9gRy_h",
        "outputId": "895da069-7797-4e63-b599-4b867fa86d77"
      },
      "source": [
        "Vw, Vv = np.linalg.eig(A.T @ A)\n",
        "Vv"
      ],
      "execution_count": null,
      "outputs": [
        {
          "output_type": "execute_result",
          "data": {
            "text/plain": [
              "array([[ 0.99996895, -0.00788011],\n",
              "       [ 0.00788011,  0.99996895]])"
            ]
          },
          "metadata": {},
          "execution_count": 40
        }
      ]
    },
    {
      "cell_type": "code",
      "metadata": {
        "id": "JG4xT9hVR4x_"
      },
      "source": [
        "s = np.sqrt(Vw)"
      ],
      "execution_count": null,
      "outputs": []
    },
    {
      "cell_type": "code",
      "metadata": {
        "colab": {
          "base_uri": "https://localhost:8080/"
        },
        "id": "oHhPspd-R63b",
        "outputId": "bef4abd7-4325-46ec-f12c-7bf18dd0738b"
      },
      "source": [
        "s"
      ],
      "execution_count": null,
      "outputs": [
        {
          "output_type": "execute_result",
          "data": {
            "text/plain": [
              "array([336.0759044 ,   0.99321713])"
            ]
          },
          "metadata": {},
          "execution_count": 42
        }
      ]
    },
    {
      "cell_type": "code",
      "metadata": {
        "colab": {
          "base_uri": "https://localhost:8080/"
        },
        "id": "up8Rh6_xSCn_",
        "outputId": "ea62a23b-6b1f-4b26-e693-07ab5168837e"
      },
      "source": [
        "import numpy as np\n",
        "import pandas as pd\n",
        "from sklearn import datasets\n",
        "iris = datasets.load_iris()\n",
        "iris"
      ],
      "execution_count": null,
      "outputs": [
        {
          "output_type": "execute_result",
          "data": {
            "text/plain": [
              "{'DESCR': '.. _iris_dataset:\\n\\nIris plants dataset\\n--------------------\\n\\n**Data Set Characteristics:**\\n\\n    :Number of Instances: 150 (50 in each of three classes)\\n    :Number of Attributes: 4 numeric, predictive attributes and the class\\n    :Attribute Information:\\n        - sepal length in cm\\n        - sepal width in cm\\n        - petal length in cm\\n        - petal width in cm\\n        - class:\\n                - Iris-Setosa\\n                - Iris-Versicolour\\n                - Iris-Virginica\\n                \\n    :Summary Statistics:\\n\\n    ============== ==== ==== ======= ===== ====================\\n                    Min  Max   Mean    SD   Class Correlation\\n    ============== ==== ==== ======= ===== ====================\\n    sepal length:   4.3  7.9   5.84   0.83    0.7826\\n    sepal width:    2.0  4.4   3.05   0.43   -0.4194\\n    petal length:   1.0  6.9   3.76   1.76    0.9490  (high!)\\n    petal width:    0.1  2.5   1.20   0.76    0.9565  (high!)\\n    ============== ==== ==== ======= ===== ====================\\n\\n    :Missing Attribute Values: None\\n    :Class Distribution: 33.3% for each of 3 classes.\\n    :Creator: R.A. Fisher\\n    :Donor: Michael Marshall (MARSHALL%PLU@io.arc.nasa.gov)\\n    :Date: July, 1988\\n\\nThe famous Iris database, first used by Sir R.A. Fisher. The dataset is taken\\nfrom Fisher\\'s paper. Note that it\\'s the same as in R, but not as in the UCI\\nMachine Learning Repository, which has two wrong data points.\\n\\nThis is perhaps the best known database to be found in the\\npattern recognition literature.  Fisher\\'s paper is a classic in the field and\\nis referenced frequently to this day.  (See Duda & Hart, for example.)  The\\ndata set contains 3 classes of 50 instances each, where each class refers to a\\ntype of iris plant.  One class is linearly separable from the other 2; the\\nlatter are NOT linearly separable from each other.\\n\\n.. topic:: References\\n\\n   - Fisher, R.A. \"The use of multiple measurements in taxonomic problems\"\\n     Annual Eugenics, 7, Part II, 179-188 (1936); also in \"Contributions to\\n     Mathematical Statistics\" (John Wiley, NY, 1950).\\n   - Duda, R.O., & Hart, P.E. (1973) Pattern Classification and Scene Analysis.\\n     (Q327.D83) John Wiley & Sons.  ISBN 0-471-22361-1.  See page 218.\\n   - Dasarathy, B.V. (1980) \"Nosing Around the Neighborhood: A New System\\n     Structure and Classification Rule for Recognition in Partially Exposed\\n     Environments\".  IEEE Transactions on Pattern Analysis and Machine\\n     Intelligence, Vol. PAMI-2, No. 1, 67-71.\\n   - Gates, G.W. (1972) \"The Reduced Nearest Neighbor Rule\".  IEEE Transactions\\n     on Information Theory, May 1972, 431-433.\\n   - See also: 1988 MLC Proceedings, 54-64.  Cheeseman et al\"s AUTOCLASS II\\n     conceptual clustering system finds 3 classes in the data.\\n   - Many, many more ...',\n",
              " 'data': array([[5.1, 3.5, 1.4, 0.2],\n",
              "        [4.9, 3. , 1.4, 0.2],\n",
              "        [4.7, 3.2, 1.3, 0.2],\n",
              "        [4.6, 3.1, 1.5, 0.2],\n",
              "        [5. , 3.6, 1.4, 0.2],\n",
              "        [5.4, 3.9, 1.7, 0.4],\n",
              "        [4.6, 3.4, 1.4, 0.3],\n",
              "        [5. , 3.4, 1.5, 0.2],\n",
              "        [4.4, 2.9, 1.4, 0.2],\n",
              "        [4.9, 3.1, 1.5, 0.1],\n",
              "        [5.4, 3.7, 1.5, 0.2],\n",
              "        [4.8, 3.4, 1.6, 0.2],\n",
              "        [4.8, 3. , 1.4, 0.1],\n",
              "        [4.3, 3. , 1.1, 0.1],\n",
              "        [5.8, 4. , 1.2, 0.2],\n",
              "        [5.7, 4.4, 1.5, 0.4],\n",
              "        [5.4, 3.9, 1.3, 0.4],\n",
              "        [5.1, 3.5, 1.4, 0.3],\n",
              "        [5.7, 3.8, 1.7, 0.3],\n",
              "        [5.1, 3.8, 1.5, 0.3],\n",
              "        [5.4, 3.4, 1.7, 0.2],\n",
              "        [5.1, 3.7, 1.5, 0.4],\n",
              "        [4.6, 3.6, 1. , 0.2],\n",
              "        [5.1, 3.3, 1.7, 0.5],\n",
              "        [4.8, 3.4, 1.9, 0.2],\n",
              "        [5. , 3. , 1.6, 0.2],\n",
              "        [5. , 3.4, 1.6, 0.4],\n",
              "        [5.2, 3.5, 1.5, 0.2],\n",
              "        [5.2, 3.4, 1.4, 0.2],\n",
              "        [4.7, 3.2, 1.6, 0.2],\n",
              "        [4.8, 3.1, 1.6, 0.2],\n",
              "        [5.4, 3.4, 1.5, 0.4],\n",
              "        [5.2, 4.1, 1.5, 0.1],\n",
              "        [5.5, 4.2, 1.4, 0.2],\n",
              "        [4.9, 3.1, 1.5, 0.2],\n",
              "        [5. , 3.2, 1.2, 0.2],\n",
              "        [5.5, 3.5, 1.3, 0.2],\n",
              "        [4.9, 3.6, 1.4, 0.1],\n",
              "        [4.4, 3. , 1.3, 0.2],\n",
              "        [5.1, 3.4, 1.5, 0.2],\n",
              "        [5. , 3.5, 1.3, 0.3],\n",
              "        [4.5, 2.3, 1.3, 0.3],\n",
              "        [4.4, 3.2, 1.3, 0.2],\n",
              "        [5. , 3.5, 1.6, 0.6],\n",
              "        [5.1, 3.8, 1.9, 0.4],\n",
              "        [4.8, 3. , 1.4, 0.3],\n",
              "        [5.1, 3.8, 1.6, 0.2],\n",
              "        [4.6, 3.2, 1.4, 0.2],\n",
              "        [5.3, 3.7, 1.5, 0.2],\n",
              "        [5. , 3.3, 1.4, 0.2],\n",
              "        [7. , 3.2, 4.7, 1.4],\n",
              "        [6.4, 3.2, 4.5, 1.5],\n",
              "        [6.9, 3.1, 4.9, 1.5],\n",
              "        [5.5, 2.3, 4. , 1.3],\n",
              "        [6.5, 2.8, 4.6, 1.5],\n",
              "        [5.7, 2.8, 4.5, 1.3],\n",
              "        [6.3, 3.3, 4.7, 1.6],\n",
              "        [4.9, 2.4, 3.3, 1. ],\n",
              "        [6.6, 2.9, 4.6, 1.3],\n",
              "        [5.2, 2.7, 3.9, 1.4],\n",
              "        [5. , 2. , 3.5, 1. ],\n",
              "        [5.9, 3. , 4.2, 1.5],\n",
              "        [6. , 2.2, 4. , 1. ],\n",
              "        [6.1, 2.9, 4.7, 1.4],\n",
              "        [5.6, 2.9, 3.6, 1.3],\n",
              "        [6.7, 3.1, 4.4, 1.4],\n",
              "        [5.6, 3. , 4.5, 1.5],\n",
              "        [5.8, 2.7, 4.1, 1. ],\n",
              "        [6.2, 2.2, 4.5, 1.5],\n",
              "        [5.6, 2.5, 3.9, 1.1],\n",
              "        [5.9, 3.2, 4.8, 1.8],\n",
              "        [6.1, 2.8, 4. , 1.3],\n",
              "        [6.3, 2.5, 4.9, 1.5],\n",
              "        [6.1, 2.8, 4.7, 1.2],\n",
              "        [6.4, 2.9, 4.3, 1.3],\n",
              "        [6.6, 3. , 4.4, 1.4],\n",
              "        [6.8, 2.8, 4.8, 1.4],\n",
              "        [6.7, 3. , 5. , 1.7],\n",
              "        [6. , 2.9, 4.5, 1.5],\n",
              "        [5.7, 2.6, 3.5, 1. ],\n",
              "        [5.5, 2.4, 3.8, 1.1],\n",
              "        [5.5, 2.4, 3.7, 1. ],\n",
              "        [5.8, 2.7, 3.9, 1.2],\n",
              "        [6. , 2.7, 5.1, 1.6],\n",
              "        [5.4, 3. , 4.5, 1.5],\n",
              "        [6. , 3.4, 4.5, 1.6],\n",
              "        [6.7, 3.1, 4.7, 1.5],\n",
              "        [6.3, 2.3, 4.4, 1.3],\n",
              "        [5.6, 3. , 4.1, 1.3],\n",
              "        [5.5, 2.5, 4. , 1.3],\n",
              "        [5.5, 2.6, 4.4, 1.2],\n",
              "        [6.1, 3. , 4.6, 1.4],\n",
              "        [5.8, 2.6, 4. , 1.2],\n",
              "        [5. , 2.3, 3.3, 1. ],\n",
              "        [5.6, 2.7, 4.2, 1.3],\n",
              "        [5.7, 3. , 4.2, 1.2],\n",
              "        [5.7, 2.9, 4.2, 1.3],\n",
              "        [6.2, 2.9, 4.3, 1.3],\n",
              "        [5.1, 2.5, 3. , 1.1],\n",
              "        [5.7, 2.8, 4.1, 1.3],\n",
              "        [6.3, 3.3, 6. , 2.5],\n",
              "        [5.8, 2.7, 5.1, 1.9],\n",
              "        [7.1, 3. , 5.9, 2.1],\n",
              "        [6.3, 2.9, 5.6, 1.8],\n",
              "        [6.5, 3. , 5.8, 2.2],\n",
              "        [7.6, 3. , 6.6, 2.1],\n",
              "        [4.9, 2.5, 4.5, 1.7],\n",
              "        [7.3, 2.9, 6.3, 1.8],\n",
              "        [6.7, 2.5, 5.8, 1.8],\n",
              "        [7.2, 3.6, 6.1, 2.5],\n",
              "        [6.5, 3.2, 5.1, 2. ],\n",
              "        [6.4, 2.7, 5.3, 1.9],\n",
              "        [6.8, 3. , 5.5, 2.1],\n",
              "        [5.7, 2.5, 5. , 2. ],\n",
              "        [5.8, 2.8, 5.1, 2.4],\n",
              "        [6.4, 3.2, 5.3, 2.3],\n",
              "        [6.5, 3. , 5.5, 1.8],\n",
              "        [7.7, 3.8, 6.7, 2.2],\n",
              "        [7.7, 2.6, 6.9, 2.3],\n",
              "        [6. , 2.2, 5. , 1.5],\n",
              "        [6.9, 3.2, 5.7, 2.3],\n",
              "        [5.6, 2.8, 4.9, 2. ],\n",
              "        [7.7, 2.8, 6.7, 2. ],\n",
              "        [6.3, 2.7, 4.9, 1.8],\n",
              "        [6.7, 3.3, 5.7, 2.1],\n",
              "        [7.2, 3.2, 6. , 1.8],\n",
              "        [6.2, 2.8, 4.8, 1.8],\n",
              "        [6.1, 3. , 4.9, 1.8],\n",
              "        [6.4, 2.8, 5.6, 2.1],\n",
              "        [7.2, 3. , 5.8, 1.6],\n",
              "        [7.4, 2.8, 6.1, 1.9],\n",
              "        [7.9, 3.8, 6.4, 2. ],\n",
              "        [6.4, 2.8, 5.6, 2.2],\n",
              "        [6.3, 2.8, 5.1, 1.5],\n",
              "        [6.1, 2.6, 5.6, 1.4],\n",
              "        [7.7, 3. , 6.1, 2.3],\n",
              "        [6.3, 3.4, 5.6, 2.4],\n",
              "        [6.4, 3.1, 5.5, 1.8],\n",
              "        [6. , 3. , 4.8, 1.8],\n",
              "        [6.9, 3.1, 5.4, 2.1],\n",
              "        [6.7, 3.1, 5.6, 2.4],\n",
              "        [6.9, 3.1, 5.1, 2.3],\n",
              "        [5.8, 2.7, 5.1, 1.9],\n",
              "        [6.8, 3.2, 5.9, 2.3],\n",
              "        [6.7, 3.3, 5.7, 2.5],\n",
              "        [6.7, 3. , 5.2, 2.3],\n",
              "        [6.3, 2.5, 5. , 1.9],\n",
              "        [6.5, 3. , 5.2, 2. ],\n",
              "        [6.2, 3.4, 5.4, 2.3],\n",
              "        [5.9, 3. , 5.1, 1.8]]),\n",
              " 'feature_names': ['sepal length (cm)',\n",
              "  'sepal width (cm)',\n",
              "  'petal length (cm)',\n",
              "  'petal width (cm)'],\n",
              " 'filename': '/usr/local/lib/python3.7/dist-packages/sklearn/datasets/data/iris.csv',\n",
              " 'target': array([0, 0, 0, 0, 0, 0, 0, 0, 0, 0, 0, 0, 0, 0, 0, 0, 0, 0, 0, 0, 0, 0,\n",
              "        0, 0, 0, 0, 0, 0, 0, 0, 0, 0, 0, 0, 0, 0, 0, 0, 0, 0, 0, 0, 0, 0,\n",
              "        0, 0, 0, 0, 0, 0, 1, 1, 1, 1, 1, 1, 1, 1, 1, 1, 1, 1, 1, 1, 1, 1,\n",
              "        1, 1, 1, 1, 1, 1, 1, 1, 1, 1, 1, 1, 1, 1, 1, 1, 1, 1, 1, 1, 1, 1,\n",
              "        1, 1, 1, 1, 1, 1, 1, 1, 1, 1, 1, 1, 2, 2, 2, 2, 2, 2, 2, 2, 2, 2,\n",
              "        2, 2, 2, 2, 2, 2, 2, 2, 2, 2, 2, 2, 2, 2, 2, 2, 2, 2, 2, 2, 2, 2,\n",
              "        2, 2, 2, 2, 2, 2, 2, 2, 2, 2, 2, 2, 2, 2, 2, 2, 2, 2]),\n",
              " 'target_names': array(['setosa', 'versicolor', 'virginica'], dtype='<U10')}"
            ]
          },
          "metadata": {},
          "execution_count": 43
        }
      ]
    },
    {
      "cell_type": "code",
      "metadata": {
        "colab": {
          "base_uri": "https://localhost:8080/"
        },
        "id": "Kl7LllCrSnUh",
        "outputId": "54f27e56-3bcb-48e3-a6cc-b1d0a5cb21b0"
      },
      "source": [
        "U, s, VT = np.linalg.svd(iris.data)\n",
        "U"
      ],
      "execution_count": null,
      "outputs": [
        {
          "output_type": "execute_result",
          "data": {
            "text/plain": [
              "array([[-0.06161685,  0.12961144,  0.0021386 , ..., -0.09343429,\n",
              "        -0.09573864, -0.08085465],\n",
              "       [-0.05807094,  0.11101978,  0.07067239, ...,  0.03690405,\n",
              "        -0.03153954,  0.01309526],\n",
              "       [-0.05676305,  0.11796647,  0.00434255, ...,  0.03066199,\n",
              "         0.19531473,  0.13569909],\n",
              "       ...,\n",
              "       [-0.0940593 , -0.0498297 , -0.04144001, ...,  0.98181631,\n",
              "        -0.02194514, -0.00894446],\n",
              "       [-0.09488961, -0.05610123, -0.21297821, ..., -0.02155617,\n",
              "         0.94178018, -0.02971961],\n",
              "       [-0.08847836, -0.0515697 , -0.09575285, ..., -0.0086052 ,\n",
              "        -0.03021088,  0.9736599 ]])"
            ]
          },
          "metadata": {},
          "execution_count": 44
        }
      ]
    },
    {
      "cell_type": "code",
      "metadata": {
        "colab": {
          "base_uri": "https://localhost:8080/"
        },
        "id": "H0UQ-LsZTOMx",
        "outputId": "3d56ec67-7998-4b6b-b984-aba3ea5dcf51"
      },
      "source": [
        "s"
      ],
      "execution_count": null,
      "outputs": [
        {
          "output_type": "execute_result",
          "data": {
            "text/plain": [
              "array([95.95991387, 17.76103366,  3.46093093,  1.88482631])"
            ]
          },
          "metadata": {},
          "execution_count": 45
        }
      ]
    },
    {
      "cell_type": "code",
      "metadata": {
        "colab": {
          "base_uri": "https://localhost:8080/"
        },
        "id": "ryGiysiaTPmI",
        "outputId": "eaf0bbe9-d25b-489b-9253-83a111e64352"
      },
      "source": [
        "VT"
      ],
      "execution_count": null,
      "outputs": [
        {
          "output_type": "execute_result",
          "data": {
            "text/plain": [
              "array([[-0.75110816, -0.38008617, -0.51300886, -0.16790754],\n",
              "       [ 0.2841749 ,  0.5467445 , -0.70866455, -0.34367081],\n",
              "       [ 0.50215472, -0.67524332, -0.05916621, -0.53701625],\n",
              "       [ 0.32081425, -0.31725607, -0.48074507,  0.75187165]])"
            ]
          },
          "metadata": {},
          "execution_count": 46
        }
      ]
    },
    {
      "cell_type": "code",
      "metadata": {
        "id": "-tVoBrsITQI-"
      },
      "source": [
        "N = 3\n",
        "S = np.zeros((3,3))\n",
        "for i in range(N):\n",
        "  S[i][i] = s[i]"
      ],
      "execution_count": null,
      "outputs": []
    },
    {
      "cell_type": "code",
      "metadata": {
        "colab": {
          "base_uri": "https://localhost:8080/"
        },
        "id": "61svYR34TXFO",
        "outputId": "a6f790a3-4f4b-4eff-e825-e7d6dea98d01"
      },
      "source": [
        "S"
      ],
      "execution_count": null,
      "outputs": [
        {
          "output_type": "execute_result",
          "data": {
            "text/plain": [
              "array([[95.95991387,  0.        ,  0.        ],\n",
              "       [ 0.        , 17.76103366,  0.        ],\n",
              "       [ 0.        ,  0.        ,  3.46093093]])"
            ]
          },
          "metadata": {},
          "execution_count": 48
        }
      ]
    },
    {
      "cell_type": "code",
      "metadata": {
        "colab": {
          "base_uri": "https://localhost:8080/",
          "height": 206
        },
        "id": "Bii-7tsPTXcC",
        "outputId": "60458a33-6bc8-4176-8973-e0df999eb9d3"
      },
      "source": [
        "iris2 = U[:, 0:3] @S @VT[0:3, 0:3]\n",
        "iris_df = pd.DataFrame(data = np.c_[iris2, iris.target], columns = ['A', 'B', 'C','Species'])\n",
        "iris_df.head()"
      ],
      "execution_count": null,
      "outputs": [
        {
          "output_type": "execute_result",
          "data": {
            "text/html": [
              "<div>\n",
              "<style scoped>\n",
              "    .dataframe tbody tr th:only-of-type {\n",
              "        vertical-align: middle;\n",
              "    }\n",
              "\n",
              "    .dataframe tbody tr th {\n",
              "        vertical-align: top;\n",
              "    }\n",
              "\n",
              "    .dataframe thead th {\n",
              "        text-align: right;\n",
              "    }\n",
              "</style>\n",
              "<table border=\"1\" class=\"dataframe\">\n",
              "  <thead>\n",
              "    <tr style=\"text-align: right;\">\n",
              "      <th></th>\n",
              "      <th>A</th>\n",
              "      <th>B</th>\n",
              "      <th>C</th>\n",
              "      <th>Species</th>\n",
              "    </tr>\n",
              "  </thead>\n",
              "  <tbody>\n",
              "    <tr>\n",
              "      <th>0</th>\n",
              "      <td>5.099009</td>\n",
              "      <td>3.500980</td>\n",
              "      <td>1.401484</td>\n",
              "      <td>0.0</td>\n",
              "    </tr>\n",
              "    <tr>\n",
              "      <th>1</th>\n",
              "      <td>4.868704</td>\n",
              "      <td>3.030949</td>\n",
              "      <td>1.446898</td>\n",
              "      <td>0.0</td>\n",
              "    </tr>\n",
              "    <tr>\n",
              "      <th>2</th>\n",
              "      <td>4.694221</td>\n",
              "      <td>3.205715</td>\n",
              "      <td>1.308660</td>\n",
              "      <td>0.0</td>\n",
              "    </tr>\n",
              "    <tr>\n",
              "      <th>3</th>\n",
              "      <td>4.625181</td>\n",
              "      <td>3.075098</td>\n",
              "      <td>1.462266</td>\n",
              "      <td>0.0</td>\n",
              "    </tr>\n",
              "    <tr>\n",
              "      <th>4</th>\n",
              "      <td>5.019480</td>\n",
              "      <td>3.580736</td>\n",
              "      <td>1.370809</td>\n",
              "      <td>0.0</td>\n",
              "    </tr>\n",
              "  </tbody>\n",
              "</table>\n",
              "</div>"
            ],
            "text/plain": [
              "          A         B         C  Species\n",
              "0  5.099009  3.500980  1.401484      0.0\n",
              "1  4.868704  3.030949  1.446898      0.0\n",
              "2  4.694221  3.205715  1.308660      0.0\n",
              "3  4.625181  3.075098  1.462266      0.0\n",
              "4  5.019480  3.580736  1.370809      0.0"
            ]
          },
          "metadata": {},
          "execution_count": 49
        }
      ]
    },
    {
      "cell_type": "code",
      "metadata": {
        "id": "4HIidrxrTrX0"
      },
      "source": [
        "from sklearn.model_selection import train_test_split\n",
        "train_x, test_x, train_y, test_y = train_test_split(iris_df.iloc[:, :-1], iris_df.iloc[:, -1], test_size = 0.3)"
      ],
      "execution_count": null,
      "outputs": []
    },
    {
      "cell_type": "code",
      "metadata": {
        "colab": {
          "base_uri": "https://localhost:8080/"
        },
        "id": "VuHM4W_7T6CD",
        "outputId": "f68e5b45-5881-4cca-93e1-7ba38d666c10"
      },
      "source": [
        "from sklearn.neural_network import MLPClassifier\n",
        "mlp = MLPClassifier(hidden_layer_sizes=(50, 30), max_iter =1000)\n",
        "mlp.fit(train_x, train_y)"
      ],
      "execution_count": null,
      "outputs": [
        {
          "output_type": "execute_result",
          "data": {
            "text/plain": [
              "MLPClassifier(activation='relu', alpha=0.0001, batch_size='auto', beta_1=0.9,\n",
              "              beta_2=0.999, early_stopping=False, epsilon=1e-08,\n",
              "              hidden_layer_sizes=(50, 30), learning_rate='constant',\n",
              "              learning_rate_init=0.001, max_fun=15000, max_iter=1000,\n",
              "              momentum=0.9, n_iter_no_change=10, nesterovs_momentum=True,\n",
              "              power_t=0.5, random_state=None, shuffle=True, solver='adam',\n",
              "              tol=0.0001, validation_fraction=0.1, verbose=False,\n",
              "              warm_start=False)"
            ]
          },
          "metadata": {},
          "execution_count": 51
        }
      ]
    },
    {
      "cell_type": "code",
      "metadata": {
        "colab": {
          "base_uri": "https://localhost:8080/",
          "height": 206
        },
        "id": "5R02pgkBUIjH",
        "outputId": "fb0ed1fd-53b3-4ae6-fc48-1651785bda13"
      },
      "source": [
        "pred = mlp.predict(test_x)\n",
        "confusion_matrix = pd.crosstab(test_y, pred, rownames = ['True'], colnames=['Pred'], margins=True)\n",
        "confusion_matrix"
      ],
      "execution_count": null,
      "outputs": [
        {
          "output_type": "execute_result",
          "data": {
            "text/html": [
              "<div>\n",
              "<style scoped>\n",
              "    .dataframe tbody tr th:only-of-type {\n",
              "        vertical-align: middle;\n",
              "    }\n",
              "\n",
              "    .dataframe tbody tr th {\n",
              "        vertical-align: top;\n",
              "    }\n",
              "\n",
              "    .dataframe thead th {\n",
              "        text-align: right;\n",
              "    }\n",
              "</style>\n",
              "<table border=\"1\" class=\"dataframe\">\n",
              "  <thead>\n",
              "    <tr style=\"text-align: right;\">\n",
              "      <th>Pred</th>\n",
              "      <th>0.0</th>\n",
              "      <th>1.0</th>\n",
              "      <th>2.0</th>\n",
              "      <th>All</th>\n",
              "    </tr>\n",
              "    <tr>\n",
              "      <th>True</th>\n",
              "      <th></th>\n",
              "      <th></th>\n",
              "      <th></th>\n",
              "      <th></th>\n",
              "    </tr>\n",
              "  </thead>\n",
              "  <tbody>\n",
              "    <tr>\n",
              "      <th>0.0</th>\n",
              "      <td>13</td>\n",
              "      <td>0</td>\n",
              "      <td>0</td>\n",
              "      <td>13</td>\n",
              "    </tr>\n",
              "    <tr>\n",
              "      <th>1.0</th>\n",
              "      <td>0</td>\n",
              "      <td>15</td>\n",
              "      <td>1</td>\n",
              "      <td>16</td>\n",
              "    </tr>\n",
              "    <tr>\n",
              "      <th>2.0</th>\n",
              "      <td>0</td>\n",
              "      <td>0</td>\n",
              "      <td>16</td>\n",
              "      <td>16</td>\n",
              "    </tr>\n",
              "    <tr>\n",
              "      <th>All</th>\n",
              "      <td>13</td>\n",
              "      <td>15</td>\n",
              "      <td>17</td>\n",
              "      <td>45</td>\n",
              "    </tr>\n",
              "  </tbody>\n",
              "</table>\n",
              "</div>"
            ],
            "text/plain": [
              "Pred  0.0  1.0  2.0  All\n",
              "True                    \n",
              "0.0    13    0    0   13\n",
              "1.0     0   15    1   16\n",
              "2.0     0    0   16   16\n",
              "All    13   15   17   45"
            ]
          },
          "metadata": {},
          "execution_count": 52
        }
      ]
    },
    {
      "cell_type": "code",
      "metadata": {
        "colab": {
          "base_uri": "https://localhost:8080/"
        },
        "id": "JiVe7CByUatZ",
        "outputId": "2b29d141-73e5-4f91-9191-acdecc6ff382"
      },
      "source": [
        "mlp.score(test_x, test_y)"
      ],
      "execution_count": null,
      "outputs": [
        {
          "output_type": "execute_result",
          "data": {
            "text/plain": [
              "0.9777777777777777"
            ]
          },
          "metadata": {},
          "execution_count": 53
        }
      ]
    },
    {
      "cell_type": "code",
      "metadata": {
        "id": "nH9Hh1rQUcnj"
      },
      "source": [
        "from sklearn import datasets\n",
        "from sklearn.utils.extmath import randomized_svd\n",
        "import numpy as np\n",
        "import pandas as pd\n"
      ],
      "execution_count": null,
      "outputs": []
    },
    {
      "cell_type": "code",
      "metadata": {
        "id": "W1K6n_wDVGGh"
      },
      "source": [
        "iris = datasets.load_iris()"
      ],
      "execution_count": null,
      "outputs": []
    },
    {
      "cell_type": "code",
      "metadata": {
        "id": "mGfRm8pDVIB-"
      },
      "source": [
        "U, s, VT = randomized_svd(iris['data'], n_components=3, n_iter = 5, random_state=None)"
      ],
      "execution_count": null,
      "outputs": []
    },
    {
      "cell_type": "code",
      "metadata": {
        "colab": {
          "base_uri": "https://localhost:8080/"
        },
        "id": "YF3QvINyVOJC",
        "outputId": "538cddf6-6c7e-405e-f788-063b98fa5cef"
      },
      "source": [
        "s"
      ],
      "execution_count": null,
      "outputs": [
        {
          "output_type": "execute_result",
          "data": {
            "text/plain": [
              "array([95.95991387, 17.76103366,  3.46093093])"
            ]
          },
          "metadata": {},
          "execution_count": 57
        }
      ]
    },
    {
      "cell_type": "code",
      "metadata": {
        "colab": {
          "base_uri": "https://localhost:8080/"
        },
        "id": "cqTzEYAHVPAy",
        "outputId": "ba8ac158-1fd3-40a9-8e59-48a1c2469029"
      },
      "source": [
        "VT"
      ],
      "execution_count": null,
      "outputs": [
        {
          "output_type": "execute_result",
          "data": {
            "text/plain": [
              "array([[ 0.75110816,  0.38008617,  0.51300886,  0.16790754],\n",
              "       [ 0.2841749 ,  0.5467445 , -0.70866455, -0.34367081],\n",
              "       [-0.50215472,  0.67524332,  0.05916621,  0.53701625]])"
            ]
          },
          "metadata": {},
          "execution_count": 58
        }
      ]
    },
    {
      "cell_type": "code",
      "metadata": {
        "id": "eKcA3UoaVPYf"
      },
      "source": [
        "S = np.zeros((3,3))\n",
        "for i in range(3):\n",
        "  S[i][i] = s[i]"
      ],
      "execution_count": null,
      "outputs": []
    },
    {
      "cell_type": "code",
      "metadata": {
        "colab": {
          "base_uri": "https://localhost:8080/"
        },
        "id": "-tcZj7k8VU4a",
        "outputId": "a91ba12c-1226-4b5a-d8a0-e5f500f0a057"
      },
      "source": [
        "S #대각행렬"
      ],
      "execution_count": null,
      "outputs": [
        {
          "output_type": "execute_result",
          "data": {
            "text/plain": [
              "array([[95.95991387,  0.        ,  0.        ],\n",
              "       [ 0.        , 17.76103366,  0.        ],\n",
              "       [ 0.        ,  0.        ,  3.46093093]])"
            ]
          },
          "metadata": {},
          "execution_count": 60
        }
      ]
    },
    {
      "cell_type": "code",
      "metadata": {
        "id": "u-04pECbVVLC"
      },
      "source": [
        "iris2 = U @ S @ VT[:, 0:3]"
      ],
      "execution_count": null,
      "outputs": []
    },
    {
      "cell_type": "code",
      "metadata": {
        "id": "dNIlHS24VXX-"
      },
      "source": [
        "columns = ['A', 'B', 'C', 'Species']\n"
      ],
      "execution_count": null,
      "outputs": []
    },
    {
      "cell_type": "code",
      "metadata": {
        "id": "tD4LT3hzVfNr"
      },
      "source": [
        "iris_df = pd.DataFrame(data = np.c_[iris2,\n",
        "                                    iris['target_names'][iris['target']]],\n",
        "                       columns = columns)"
      ],
      "execution_count": null,
      "outputs": []
    },
    {
      "cell_type": "code",
      "metadata": {
        "colab": {
          "base_uri": "https://localhost:8080/",
          "height": 206
        },
        "id": "pzzTK1QHVo8g",
        "outputId": "64ab64ed-c4a5-4a0b-e3d0-3747af50c78b"
      },
      "source": [
        "iris_df.head()"
      ],
      "execution_count": null,
      "outputs": [
        {
          "output_type": "execute_result",
          "data": {
            "text/html": [
              "<div>\n",
              "<style scoped>\n",
              "    .dataframe tbody tr th:only-of-type {\n",
              "        vertical-align: middle;\n",
              "    }\n",
              "\n",
              "    .dataframe tbody tr th {\n",
              "        vertical-align: top;\n",
              "    }\n",
              "\n",
              "    .dataframe thead th {\n",
              "        text-align: right;\n",
              "    }\n",
              "</style>\n",
              "<table border=\"1\" class=\"dataframe\">\n",
              "  <thead>\n",
              "    <tr style=\"text-align: right;\">\n",
              "      <th></th>\n",
              "      <th>A</th>\n",
              "      <th>B</th>\n",
              "      <th>C</th>\n",
              "      <th>Species</th>\n",
              "    </tr>\n",
              "  </thead>\n",
              "  <tbody>\n",
              "    <tr>\n",
              "      <th>0</th>\n",
              "      <td>5.099009419824259</td>\n",
              "      <td>3.500979593534085</td>\n",
              "      <td>1.401484399539957</td>\n",
              "      <td>setosa</td>\n",
              "    </tr>\n",
              "    <tr>\n",
              "      <th>1</th>\n",
              "      <td>4.868703642816379</td>\n",
              "      <td>3.0309492455919695</td>\n",
              "      <td>1.4468980697813862</td>\n",
              "      <td>setosa</td>\n",
              "    </tr>\n",
              "    <tr>\n",
              "      <th>2</th>\n",
              "      <td>4.694221066713817</td>\n",
              "      <td>3.2057148384549725</td>\n",
              "      <td>1.3086598198929993</td>\n",
              "      <td>setosa</td>\n",
              "    </tr>\n",
              "    <tr>\n",
              "      <th>3</th>\n",
              "      <td>4.625181192541417</td>\n",
              "      <td>3.0750980950373643</td>\n",
              "      <td>1.4622655979398018</td>\n",
              "      <td>setosa</td>\n",
              "    </tr>\n",
              "    <tr>\n",
              "      <th>4</th>\n",
              "      <td>5.0194796252879055</td>\n",
              "      <td>3.5807364255354734</td>\n",
              "      <td>1.3708094836498779</td>\n",
              "      <td>setosa</td>\n",
              "    </tr>\n",
              "  </tbody>\n",
              "</table>\n",
              "</div>"
            ],
            "text/plain": [
              "                    A                   B                   C Species\n",
              "0   5.099009419824259   3.500979593534085   1.401484399539957  setosa\n",
              "1   4.868703642816379  3.0309492455919695  1.4468980697813862  setosa\n",
              "2   4.694221066713817  3.2057148384549725  1.3086598198929993  setosa\n",
              "3   4.625181192541417  3.0750980950373643  1.4622655979398018  setosa\n",
              "4  5.0194796252879055  3.5807364255354734  1.3708094836498779  setosa"
            ]
          },
          "metadata": {},
          "execution_count": 64
        }
      ]
    },
    {
      "cell_type": "code",
      "metadata": {
        "colab": {
          "base_uri": "https://localhost:8080/",
          "height": 416
        },
        "id": "Y-c9aU2Fbxu9",
        "outputId": "d689fc8a-6dd0-4362-f898-4ccac24060d1"
      },
      "source": [
        "import pandas as pd\n",
        "redwine = pd.read_csv('winequality-red.csv', delimiter = ';')\n",
        "redwine.head()"
      ],
      "execution_count": null,
      "outputs": [
        {
          "output_type": "error",
          "ename": "FileNotFoundError",
          "evalue": "ignored",
          "traceback": [
            "\u001b[0;31m---------------------------------------------------------------------------\u001b[0m",
            "\u001b[0;31mFileNotFoundError\u001b[0m                         Traceback (most recent call last)",
            "\u001b[0;32m<ipython-input-65-0d570cfcb712>\u001b[0m in \u001b[0;36m<module>\u001b[0;34m()\u001b[0m\n\u001b[1;32m      1\u001b[0m \u001b[0;32mimport\u001b[0m \u001b[0mpandas\u001b[0m \u001b[0;32mas\u001b[0m \u001b[0mpd\u001b[0m\u001b[0;34m\u001b[0m\u001b[0;34m\u001b[0m\u001b[0m\n\u001b[0;32m----> 2\u001b[0;31m \u001b[0mredwine\u001b[0m \u001b[0;34m=\u001b[0m \u001b[0mpd\u001b[0m\u001b[0;34m.\u001b[0m\u001b[0mread_csv\u001b[0m\u001b[0;34m(\u001b[0m\u001b[0;34m'winequality-red.csv'\u001b[0m\u001b[0;34m,\u001b[0m \u001b[0mdelimiter\u001b[0m \u001b[0;34m=\u001b[0m \u001b[0;34m';'\u001b[0m\u001b[0;34m)\u001b[0m\u001b[0;34m\u001b[0m\u001b[0;34m\u001b[0m\u001b[0m\n\u001b[0m\u001b[1;32m      3\u001b[0m \u001b[0mredwine\u001b[0m\u001b[0;34m.\u001b[0m\u001b[0mhead\u001b[0m\u001b[0;34m(\u001b[0m\u001b[0;34m)\u001b[0m\u001b[0;34m\u001b[0m\u001b[0;34m\u001b[0m\u001b[0m\n",
            "\u001b[0;32m/usr/local/lib/python3.7/dist-packages/pandas/io/parsers.py\u001b[0m in \u001b[0;36mread_csv\u001b[0;34m(filepath_or_buffer, sep, delimiter, header, names, index_col, usecols, squeeze, prefix, mangle_dupe_cols, dtype, engine, converters, true_values, false_values, skipinitialspace, skiprows, skipfooter, nrows, na_values, keep_default_na, na_filter, verbose, skip_blank_lines, parse_dates, infer_datetime_format, keep_date_col, date_parser, dayfirst, cache_dates, iterator, chunksize, compression, thousands, decimal, lineterminator, quotechar, quoting, doublequote, escapechar, comment, encoding, dialect, error_bad_lines, warn_bad_lines, delim_whitespace, low_memory, memory_map, float_precision)\u001b[0m\n\u001b[1;32m    686\u001b[0m     )\n\u001b[1;32m    687\u001b[0m \u001b[0;34m\u001b[0m\u001b[0m\n\u001b[0;32m--> 688\u001b[0;31m     \u001b[0;32mreturn\u001b[0m \u001b[0m_read\u001b[0m\u001b[0;34m(\u001b[0m\u001b[0mfilepath_or_buffer\u001b[0m\u001b[0;34m,\u001b[0m \u001b[0mkwds\u001b[0m\u001b[0;34m)\u001b[0m\u001b[0;34m\u001b[0m\u001b[0;34m\u001b[0m\u001b[0m\n\u001b[0m\u001b[1;32m    689\u001b[0m \u001b[0;34m\u001b[0m\u001b[0m\n\u001b[1;32m    690\u001b[0m \u001b[0;34m\u001b[0m\u001b[0m\n",
            "\u001b[0;32m/usr/local/lib/python3.7/dist-packages/pandas/io/parsers.py\u001b[0m in \u001b[0;36m_read\u001b[0;34m(filepath_or_buffer, kwds)\u001b[0m\n\u001b[1;32m    452\u001b[0m \u001b[0;34m\u001b[0m\u001b[0m\n\u001b[1;32m    453\u001b[0m     \u001b[0;31m# Create the parser.\u001b[0m\u001b[0;34m\u001b[0m\u001b[0;34m\u001b[0m\u001b[0;34m\u001b[0m\u001b[0m\n\u001b[0;32m--> 454\u001b[0;31m     \u001b[0mparser\u001b[0m \u001b[0;34m=\u001b[0m \u001b[0mTextFileReader\u001b[0m\u001b[0;34m(\u001b[0m\u001b[0mfp_or_buf\u001b[0m\u001b[0;34m,\u001b[0m \u001b[0;34m**\u001b[0m\u001b[0mkwds\u001b[0m\u001b[0;34m)\u001b[0m\u001b[0;34m\u001b[0m\u001b[0;34m\u001b[0m\u001b[0m\n\u001b[0m\u001b[1;32m    455\u001b[0m \u001b[0;34m\u001b[0m\u001b[0m\n\u001b[1;32m    456\u001b[0m     \u001b[0;32mif\u001b[0m \u001b[0mchunksize\u001b[0m \u001b[0;32mor\u001b[0m \u001b[0miterator\u001b[0m\u001b[0;34m:\u001b[0m\u001b[0;34m\u001b[0m\u001b[0;34m\u001b[0m\u001b[0m\n",
            "\u001b[0;32m/usr/local/lib/python3.7/dist-packages/pandas/io/parsers.py\u001b[0m in \u001b[0;36m__init__\u001b[0;34m(self, f, engine, **kwds)\u001b[0m\n\u001b[1;32m    946\u001b[0m             \u001b[0mself\u001b[0m\u001b[0;34m.\u001b[0m\u001b[0moptions\u001b[0m\u001b[0;34m[\u001b[0m\u001b[0;34m\"has_index_names\"\u001b[0m\u001b[0;34m]\u001b[0m \u001b[0;34m=\u001b[0m \u001b[0mkwds\u001b[0m\u001b[0;34m[\u001b[0m\u001b[0;34m\"has_index_names\"\u001b[0m\u001b[0;34m]\u001b[0m\u001b[0;34m\u001b[0m\u001b[0;34m\u001b[0m\u001b[0m\n\u001b[1;32m    947\u001b[0m \u001b[0;34m\u001b[0m\u001b[0m\n\u001b[0;32m--> 948\u001b[0;31m         \u001b[0mself\u001b[0m\u001b[0;34m.\u001b[0m\u001b[0m_make_engine\u001b[0m\u001b[0;34m(\u001b[0m\u001b[0mself\u001b[0m\u001b[0;34m.\u001b[0m\u001b[0mengine\u001b[0m\u001b[0;34m)\u001b[0m\u001b[0;34m\u001b[0m\u001b[0;34m\u001b[0m\u001b[0m\n\u001b[0m\u001b[1;32m    949\u001b[0m \u001b[0;34m\u001b[0m\u001b[0m\n\u001b[1;32m    950\u001b[0m     \u001b[0;32mdef\u001b[0m \u001b[0mclose\u001b[0m\u001b[0;34m(\u001b[0m\u001b[0mself\u001b[0m\u001b[0;34m)\u001b[0m\u001b[0;34m:\u001b[0m\u001b[0;34m\u001b[0m\u001b[0;34m\u001b[0m\u001b[0m\n",
            "\u001b[0;32m/usr/local/lib/python3.7/dist-packages/pandas/io/parsers.py\u001b[0m in \u001b[0;36m_make_engine\u001b[0;34m(self, engine)\u001b[0m\n\u001b[1;32m   1178\u001b[0m     \u001b[0;32mdef\u001b[0m \u001b[0m_make_engine\u001b[0m\u001b[0;34m(\u001b[0m\u001b[0mself\u001b[0m\u001b[0;34m,\u001b[0m \u001b[0mengine\u001b[0m\u001b[0;34m=\u001b[0m\u001b[0;34m\"c\"\u001b[0m\u001b[0;34m)\u001b[0m\u001b[0;34m:\u001b[0m\u001b[0;34m\u001b[0m\u001b[0;34m\u001b[0m\u001b[0m\n\u001b[1;32m   1179\u001b[0m         \u001b[0;32mif\u001b[0m \u001b[0mengine\u001b[0m \u001b[0;34m==\u001b[0m \u001b[0;34m\"c\"\u001b[0m\u001b[0;34m:\u001b[0m\u001b[0;34m\u001b[0m\u001b[0;34m\u001b[0m\u001b[0m\n\u001b[0;32m-> 1180\u001b[0;31m             \u001b[0mself\u001b[0m\u001b[0;34m.\u001b[0m\u001b[0m_engine\u001b[0m \u001b[0;34m=\u001b[0m \u001b[0mCParserWrapper\u001b[0m\u001b[0;34m(\u001b[0m\u001b[0mself\u001b[0m\u001b[0;34m.\u001b[0m\u001b[0mf\u001b[0m\u001b[0;34m,\u001b[0m \u001b[0;34m**\u001b[0m\u001b[0mself\u001b[0m\u001b[0;34m.\u001b[0m\u001b[0moptions\u001b[0m\u001b[0;34m)\u001b[0m\u001b[0;34m\u001b[0m\u001b[0;34m\u001b[0m\u001b[0m\n\u001b[0m\u001b[1;32m   1181\u001b[0m         \u001b[0;32melse\u001b[0m\u001b[0;34m:\u001b[0m\u001b[0;34m\u001b[0m\u001b[0;34m\u001b[0m\u001b[0m\n\u001b[1;32m   1182\u001b[0m             \u001b[0;32mif\u001b[0m \u001b[0mengine\u001b[0m \u001b[0;34m==\u001b[0m \u001b[0;34m\"python\"\u001b[0m\u001b[0;34m:\u001b[0m\u001b[0;34m\u001b[0m\u001b[0;34m\u001b[0m\u001b[0m\n",
            "\u001b[0;32m/usr/local/lib/python3.7/dist-packages/pandas/io/parsers.py\u001b[0m in \u001b[0;36m__init__\u001b[0;34m(self, src, **kwds)\u001b[0m\n\u001b[1;32m   2008\u001b[0m         \u001b[0mkwds\u001b[0m\u001b[0;34m[\u001b[0m\u001b[0;34m\"usecols\"\u001b[0m\u001b[0;34m]\u001b[0m \u001b[0;34m=\u001b[0m \u001b[0mself\u001b[0m\u001b[0;34m.\u001b[0m\u001b[0musecols\u001b[0m\u001b[0;34m\u001b[0m\u001b[0;34m\u001b[0m\u001b[0m\n\u001b[1;32m   2009\u001b[0m \u001b[0;34m\u001b[0m\u001b[0m\n\u001b[0;32m-> 2010\u001b[0;31m         \u001b[0mself\u001b[0m\u001b[0;34m.\u001b[0m\u001b[0m_reader\u001b[0m \u001b[0;34m=\u001b[0m \u001b[0mparsers\u001b[0m\u001b[0;34m.\u001b[0m\u001b[0mTextReader\u001b[0m\u001b[0;34m(\u001b[0m\u001b[0msrc\u001b[0m\u001b[0;34m,\u001b[0m \u001b[0;34m**\u001b[0m\u001b[0mkwds\u001b[0m\u001b[0;34m)\u001b[0m\u001b[0;34m\u001b[0m\u001b[0;34m\u001b[0m\u001b[0m\n\u001b[0m\u001b[1;32m   2011\u001b[0m         \u001b[0mself\u001b[0m\u001b[0;34m.\u001b[0m\u001b[0munnamed_cols\u001b[0m \u001b[0;34m=\u001b[0m \u001b[0mself\u001b[0m\u001b[0;34m.\u001b[0m\u001b[0m_reader\u001b[0m\u001b[0;34m.\u001b[0m\u001b[0munnamed_cols\u001b[0m\u001b[0;34m\u001b[0m\u001b[0;34m\u001b[0m\u001b[0m\n\u001b[1;32m   2012\u001b[0m \u001b[0;34m\u001b[0m\u001b[0m\n",
            "\u001b[0;32mpandas/_libs/parsers.pyx\u001b[0m in \u001b[0;36mpandas._libs.parsers.TextReader.__cinit__\u001b[0;34m()\u001b[0m\n",
            "\u001b[0;32mpandas/_libs/parsers.pyx\u001b[0m in \u001b[0;36mpandas._libs.parsers.TextReader._setup_parser_source\u001b[0;34m()\u001b[0m\n",
            "\u001b[0;31mFileNotFoundError\u001b[0m: [Errno 2] No such file or directory: 'winequality-red.csv'"
          ]
        }
      ]
    },
    {
      "cell_type": "code",
      "metadata": {
        "colab": {
          "base_uri": "https://localhost:8080/",
          "height": 218
        },
        "id": "aXSlOKxAdqPv",
        "outputId": "c91f2129-8b87-4a11-dd6e-e6e7ef11de2a"
      },
      "source": [
        "X = redwine.iloc[:, :-1]; y = redwine.iloc[:,-1]\n",
        "from sklearn.model_selection import train_test_split\n",
        "train_X, test_X, train_y, test_y = train_test_split(X, y, test_size = 0.3, random_state = 1)\n",
        "train_X.shape, test_X.shape, train_y.shape, test_y.shape"
      ],
      "execution_count": null,
      "outputs": [
        {
          "output_type": "error",
          "ename": "NameError",
          "evalue": "ignored",
          "traceback": [
            "\u001b[0;31m---------------------------------------------------------------------------\u001b[0m",
            "\u001b[0;31mNameError\u001b[0m                                 Traceback (most recent call last)",
            "\u001b[0;32m<ipython-input-66-64c7bc67d682>\u001b[0m in \u001b[0;36m<module>\u001b[0;34m()\u001b[0m\n\u001b[0;32m----> 1\u001b[0;31m \u001b[0mX\u001b[0m \u001b[0;34m=\u001b[0m \u001b[0mredwine\u001b[0m\u001b[0;34m.\u001b[0m\u001b[0miloc\u001b[0m\u001b[0;34m[\u001b[0m\u001b[0;34m:\u001b[0m\u001b[0;34m,\u001b[0m \u001b[0;34m:\u001b[0m\u001b[0;34m-\u001b[0m\u001b[0;36m1\u001b[0m\u001b[0;34m]\u001b[0m\u001b[0;34m;\u001b[0m \u001b[0my\u001b[0m \u001b[0;34m=\u001b[0m \u001b[0mredwine\u001b[0m\u001b[0;34m.\u001b[0m\u001b[0miloc\u001b[0m\u001b[0;34m[\u001b[0m\u001b[0;34m:\u001b[0m\u001b[0;34m,\u001b[0m\u001b[0;34m-\u001b[0m\u001b[0;36m1\u001b[0m\u001b[0;34m]\u001b[0m\u001b[0;34m\u001b[0m\u001b[0;34m\u001b[0m\u001b[0m\n\u001b[0m\u001b[1;32m      2\u001b[0m \u001b[0;32mfrom\u001b[0m \u001b[0msklearn\u001b[0m\u001b[0;34m.\u001b[0m\u001b[0mmodel_selection\u001b[0m \u001b[0;32mimport\u001b[0m \u001b[0mtrain_test_split\u001b[0m\u001b[0;34m\u001b[0m\u001b[0;34m\u001b[0m\u001b[0m\n\u001b[1;32m      3\u001b[0m \u001b[0mtrain_X\u001b[0m\u001b[0;34m,\u001b[0m \u001b[0mtest_X\u001b[0m\u001b[0;34m,\u001b[0m \u001b[0mtrain_y\u001b[0m\u001b[0;34m,\u001b[0m \u001b[0mtest_y\u001b[0m \u001b[0;34m=\u001b[0m \u001b[0mtrain_test_split\u001b[0m\u001b[0;34m(\u001b[0m\u001b[0mX\u001b[0m\u001b[0;34m,\u001b[0m \u001b[0my\u001b[0m\u001b[0;34m,\u001b[0m \u001b[0mtest_size\u001b[0m \u001b[0;34m=\u001b[0m \u001b[0;36m0.3\u001b[0m\u001b[0;34m,\u001b[0m \u001b[0mrandom_state\u001b[0m \u001b[0;34m=\u001b[0m \u001b[0;36m1\u001b[0m\u001b[0;34m)\u001b[0m\u001b[0;34m\u001b[0m\u001b[0;34m\u001b[0m\u001b[0m\n\u001b[1;32m      4\u001b[0m \u001b[0mtrain_X\u001b[0m\u001b[0;34m.\u001b[0m\u001b[0mshape\u001b[0m\u001b[0;34m,\u001b[0m \u001b[0mtest_X\u001b[0m\u001b[0;34m.\u001b[0m\u001b[0mshape\u001b[0m\u001b[0;34m,\u001b[0m \u001b[0mtrain_y\u001b[0m\u001b[0;34m.\u001b[0m\u001b[0mshape\u001b[0m\u001b[0;34m,\u001b[0m \u001b[0mtest_y\u001b[0m\u001b[0;34m.\u001b[0m\u001b[0mshape\u001b[0m\u001b[0;34m\u001b[0m\u001b[0;34m\u001b[0m\u001b[0m\n",
            "\u001b[0;31mNameError\u001b[0m: name 'redwine' is not defined"
          ]
        }
      ]
    },
    {
      "cell_type": "code",
      "metadata": {
        "id": "XkLi--HweKKL"
      },
      "source": [
        "import seaborn as sns\n",
        "import matplotlib.pyplot as plt\n",
        "%matplotlib inline"
      ],
      "execution_count": null,
      "outputs": []
    },
    {
      "cell_type": "code",
      "metadata": {
        "colab": {
          "base_uri": "https://localhost:8080/",
          "height": 218
        },
        "id": "XhfRrzQ6eQig",
        "outputId": "01c91c63-d711-4549-b2a9-f9e30ecf1d54"
      },
      "source": [
        "plt.figure(figsize = (12, 10))\n",
        "sns.heatmap(redwine.corr(), annot = True, vmin = -1, vmax = 1, cmap = 'coolwarm_r')\n",
        "plt.show()"
      ],
      "execution_count": null,
      "outputs": [
        {
          "output_type": "error",
          "ename": "NameError",
          "evalue": "ignored",
          "traceback": [
            "\u001b[0;31m---------------------------------------------------------------------------\u001b[0m",
            "\u001b[0;31mNameError\u001b[0m                                 Traceback (most recent call last)",
            "\u001b[0;32m<ipython-input-67-e673cac5b1e7>\u001b[0m in \u001b[0;36m<module>\u001b[0;34m()\u001b[0m\n\u001b[1;32m      1\u001b[0m \u001b[0mplt\u001b[0m\u001b[0;34m.\u001b[0m\u001b[0mfigure\u001b[0m\u001b[0;34m(\u001b[0m\u001b[0mfigsize\u001b[0m \u001b[0;34m=\u001b[0m \u001b[0;34m(\u001b[0m\u001b[0;36m12\u001b[0m\u001b[0;34m,\u001b[0m \u001b[0;36m10\u001b[0m\u001b[0;34m)\u001b[0m\u001b[0;34m)\u001b[0m\u001b[0;34m\u001b[0m\u001b[0;34m\u001b[0m\u001b[0m\n\u001b[0;32m----> 2\u001b[0;31m \u001b[0msns\u001b[0m\u001b[0;34m.\u001b[0m\u001b[0mheatmap\u001b[0m\u001b[0;34m(\u001b[0m\u001b[0mredwine\u001b[0m\u001b[0;34m.\u001b[0m\u001b[0mcorr\u001b[0m\u001b[0;34m(\u001b[0m\u001b[0;34m)\u001b[0m\u001b[0;34m,\u001b[0m \u001b[0mannot\u001b[0m \u001b[0;34m=\u001b[0m \u001b[0;32mTrue\u001b[0m\u001b[0;34m,\u001b[0m \u001b[0mvmin\u001b[0m \u001b[0;34m=\u001b[0m \u001b[0;34m-\u001b[0m\u001b[0;36m1\u001b[0m\u001b[0;34m,\u001b[0m \u001b[0mvmax\u001b[0m \u001b[0;34m=\u001b[0m \u001b[0;36m1\u001b[0m\u001b[0;34m,\u001b[0m \u001b[0mcmap\u001b[0m \u001b[0;34m=\u001b[0m \u001b[0;34m'coolwarm_r'\u001b[0m\u001b[0;34m)\u001b[0m\u001b[0;34m\u001b[0m\u001b[0;34m\u001b[0m\u001b[0m\n\u001b[0m\u001b[1;32m      3\u001b[0m \u001b[0mplt\u001b[0m\u001b[0;34m.\u001b[0m\u001b[0mshow\u001b[0m\u001b[0;34m(\u001b[0m\u001b[0;34m)\u001b[0m\u001b[0;34m\u001b[0m\u001b[0;34m\u001b[0m\u001b[0m\n",
            "\u001b[0;31mNameError\u001b[0m: name 'redwine' is not defined"
          ]
        },
        {
          "output_type": "display_data",
          "data": {
            "text/plain": [
              "<Figure size 864x720 with 0 Axes>"
            ]
          },
          "metadata": {}
        }
      ]
    },
    {
      "cell_type": "code",
      "metadata": {
        "id": "9OdSJyLVebyr"
      },
      "source": [
        "from sklearn.ensemble import RandomForestClassifier\n",
        "rf_model = RandomForestClassifier(n_estimators = 10, random_state = 10)\n",
        "rf_model.fit(train_X, train_y)"
      ],
      "execution_count": null,
      "outputs": []
    },
    {
      "cell_type": "code",
      "metadata": {
        "colab": {
          "base_uri": "https://localhost:8080/",
          "height": 166
        },
        "id": "8ZC1Pe3EeveE",
        "outputId": "d18bdbca-2009-43a9-dcf6-c721c08ddd47"
      },
      "source": [
        "rf_model.feature_importances_"
      ],
      "execution_count": null,
      "outputs": [
        {
          "output_type": "error",
          "ename": "NameError",
          "evalue": "ignored",
          "traceback": [
            "\u001b[0;31m---------------------------------------------------------------------------\u001b[0m",
            "\u001b[0;31mNameError\u001b[0m                                 Traceback (most recent call last)",
            "\u001b[0;32m<ipython-input-68-27271c6c818e>\u001b[0m in \u001b[0;36m<module>\u001b[0;34m()\u001b[0m\n\u001b[0;32m----> 1\u001b[0;31m \u001b[0mrf_model\u001b[0m\u001b[0;34m.\u001b[0m\u001b[0mfeature_importances_\u001b[0m\u001b[0;34m\u001b[0m\u001b[0;34m\u001b[0m\u001b[0m\n\u001b[0m",
            "\u001b[0;31mNameError\u001b[0m: name 'rf_model' is not defined"
          ]
        }
      ]
    },
    {
      "cell_type": "code",
      "metadata": {
        "id": "fbffF8QOfFmc"
      },
      "source": [
        "import numpy as np\n",
        "np.sum(rf_model.feature_importances_)"
      ],
      "execution_count": null,
      "outputs": []
    },
    {
      "cell_type": "code",
      "metadata": {
        "id": "4hkSi6N1fJTS"
      },
      "source": [
        "features = pd.DataFrame(data = np.c_[X.columns, rf_model.feature_importances_],\n",
        "                        columns = ['feature','importance'])"
      ],
      "execution_count": null,
      "outputs": []
    },
    {
      "cell_type": "code",
      "metadata": {
        "id": "hIZ8GBEofT8d"
      },
      "source": [
        "features.sort_values (by = 'importance', ascending=False, inplace = True)\n",
        "features.reset_index(drop = True, inplace = True)\n",
        "features"
      ],
      "execution_count": null,
      "outputs": []
    },
    {
      "cell_type": "code",
      "metadata": {
        "colab": {
          "base_uri": "https://localhost:8080/",
          "height": 236
        },
        "id": "t8f0fTUbfehJ",
        "outputId": "29f02ade-5df4-4a81-9941-b7a2dddc84fd"
      },
      "source": [
        "plt.figure(figsize = (12, 8))\n",
        "plt.bar(features.feature, features.importance)\n",
        "plt.xticks(features.feature, fontsize = 12, rotation = 45)\n",
        "plt.show()"
      ],
      "execution_count": null,
      "outputs": [
        {
          "output_type": "error",
          "ename": "NameError",
          "evalue": "ignored",
          "traceback": [
            "\u001b[0;31m---------------------------------------------------------------------------\u001b[0m",
            "\u001b[0;31mNameError\u001b[0m                                 Traceback (most recent call last)",
            "\u001b[0;32m<ipython-input-69-ac95b143e624>\u001b[0m in \u001b[0;36m<module>\u001b[0;34m()\u001b[0m\n\u001b[1;32m      1\u001b[0m \u001b[0mplt\u001b[0m\u001b[0;34m.\u001b[0m\u001b[0mfigure\u001b[0m\u001b[0;34m(\u001b[0m\u001b[0mfigsize\u001b[0m \u001b[0;34m=\u001b[0m \u001b[0;34m(\u001b[0m\u001b[0;36m12\u001b[0m\u001b[0;34m,\u001b[0m \u001b[0;36m8\u001b[0m\u001b[0;34m)\u001b[0m\u001b[0;34m)\u001b[0m\u001b[0;34m\u001b[0m\u001b[0;34m\u001b[0m\u001b[0m\n\u001b[0;32m----> 2\u001b[0;31m \u001b[0mplt\u001b[0m\u001b[0;34m.\u001b[0m\u001b[0mbar\u001b[0m\u001b[0;34m(\u001b[0m\u001b[0mfeatures\u001b[0m\u001b[0;34m.\u001b[0m\u001b[0mfeature\u001b[0m\u001b[0;34m,\u001b[0m \u001b[0mfeatures\u001b[0m\u001b[0;34m.\u001b[0m\u001b[0mimportance\u001b[0m\u001b[0;34m)\u001b[0m\u001b[0;34m\u001b[0m\u001b[0;34m\u001b[0m\u001b[0m\n\u001b[0m\u001b[1;32m      3\u001b[0m \u001b[0mplt\u001b[0m\u001b[0;34m.\u001b[0m\u001b[0mxticks\u001b[0m\u001b[0;34m(\u001b[0m\u001b[0mfeatures\u001b[0m\u001b[0;34m.\u001b[0m\u001b[0mfeature\u001b[0m\u001b[0;34m,\u001b[0m \u001b[0mfontsize\u001b[0m \u001b[0;34m=\u001b[0m \u001b[0;36m12\u001b[0m\u001b[0;34m,\u001b[0m \u001b[0mrotation\u001b[0m \u001b[0;34m=\u001b[0m \u001b[0;36m45\u001b[0m\u001b[0;34m)\u001b[0m\u001b[0;34m\u001b[0m\u001b[0;34m\u001b[0m\u001b[0m\n\u001b[1;32m      4\u001b[0m \u001b[0mplt\u001b[0m\u001b[0;34m.\u001b[0m\u001b[0mshow\u001b[0m\u001b[0;34m(\u001b[0m\u001b[0;34m)\u001b[0m\u001b[0;34m\u001b[0m\u001b[0;34m\u001b[0m\u001b[0m\n",
            "\u001b[0;31mNameError\u001b[0m: name 'features' is not defined"
          ]
        },
        {
          "output_type": "display_data",
          "data": {
            "text/plain": [
              "<Figure size 864x576 with 0 Axes>"
            ]
          },
          "metadata": {}
        }
      ]
    },
    {
      "cell_type": "code",
      "metadata": {
        "id": "eR7MyYU2fwtM"
      },
      "source": [
        "y_stack = np.cumsum(features.importance, axis = 0)\n",
        "plt.figure(figsize = (12, 8))\n",
        "plt.bar(features.feature, y_stack)\n",
        "plt.xticks(features.feature, fontsize = 12, rotation = 45)\n",
        "plt.show()\n"
      ],
      "execution_count": null,
      "outputs": []
    },
    {
      "cell_type": "code",
      "metadata": {
        "id": "qPtamMXNgHPP"
      },
      "source": [
        "from sklearn.ensemble import RandomForestClassifier\n",
        "from sklearn.feature_selection import RFE"
      ],
      "execution_count": null,
      "outputs": []
    },
    {
      "cell_type": "code",
      "metadata": {
        "id": "E6XwaBgmgePi"
      },
      "source": [
        "rf_model = RandomForestClassifier(n_estimators = 10, random_state = 10)\n",
        "rfe_model = RFE(rf_model, n_features_to_select=5)\n",
        "rfe_model.fit(train_X, train_y)"
      ],
      "execution_count": null,
      "outputs": []
    },
    {
      "cell_type": "code",
      "metadata": {
        "id": "Nvfntld5gotS"
      },
      "source": [
        "rfe_model.get_support()"
      ],
      "execution_count": null,
      "outputs": []
    },
    {
      "cell_type": "code",
      "metadata": {
        "id": "VUK2xK3fgu36"
      },
      "source": [
        "import numpy as np\n",
        "import pandas as pd\n",
        "features_rfe = pd.DataFrame(data = np.c_[X.columns.values, rfe_model.get_support()],\n",
        "                            columns = ['feature','selected'])\n",
        "features_rfe.sort_values(by = 'selected', ascending = False)"
      ],
      "execution_count": null,
      "outputs": []
    },
    {
      "cell_type": "code",
      "metadata": {
        "id": "IQjJ9F18hBlq"
      },
      "source": [
        "features.merge(features_rfe)"
      ],
      "execution_count": null,
      "outputs": []
    },
    {
      "cell_type": "code",
      "metadata": {
        "id": "saH0IYqMhJ1y"
      },
      "source": [
        "import pickle\n",
        "\n",
        "with open('rfe.model', 'wb') as f:\n",
        "  pickle.dump(rfe_model, f)"
      ],
      "execution_count": null,
      "outputs": []
    },
    {
      "cell_type": "code",
      "metadata": {
        "id": "cBHARHE4hVja"
      },
      "source": [
        "import pickle\n",
        "with open('rfe.model', 'rb') as f:\n",
        "  rfe_model = pickle.load(f)"
      ],
      "execution_count": null,
      "outputs": []
    },
    {
      "cell_type": "code",
      "metadata": {
        "id": "D9kDXpQWhqVO"
      },
      "source": [
        "rfe_model.predict(test_X[:10])"
      ],
      "execution_count": null,
      "outputs": []
    },
    {
      "cell_type": "code",
      "metadata": {
        "colab": {
          "base_uri": "https://localhost:8080/"
        },
        "id": "c9S4bxg2hs9j",
        "outputId": "ec52eaf6-8f18-431b-da46-5addd90c5f48"
      },
      "source": [
        "test_y[:10].values"
      ],
      "execution_count": null,
      "outputs": [
        {
          "output_type": "execute_result",
          "data": {
            "text/plain": [
              "array([2., 1., 2., 1., 1., 2., 1., 0., 2., 2.])"
            ]
          },
          "metadata": {},
          "execution_count": 70
        }
      ]
    },
    {
      "cell_type": "code",
      "metadata": {
        "id": "d8DbbHHrhvOB"
      },
      "source": [
        "from sklearn.datasets import load_boston\n",
        "boston = load_boston()\n",
        "X = boston.data\n",
        "y = boston.target"
      ],
      "execution_count": null,
      "outputs": []
    },
    {
      "cell_type": "code",
      "metadata": {
        "id": "hEhEZMeqiVPQ"
      },
      "source": [
        "from sklearn.model_selection import train_test_split\n",
        "train_X, test_X, train_y, test_y = train_test_split(X, y, test_size = 0.3, random_state = 1)"
      ],
      "execution_count": null,
      "outputs": []
    },
    {
      "cell_type": "code",
      "metadata": {
        "id": "kGYyz7pHifLM"
      },
      "source": [
        "from sklearn.preprocessing import MinMaxScaler\n",
        "scaler = MinMaxScaler(feature_range = (0,1))\n",
        "scaler.fit(train_X)\n",
        "train_X_scaled = scaler.transform(train_X)\n",
        "test_X_scaled = scaler.transform(test_X)"
      ],
      "execution_count": null,
      "outputs": []
    },
    {
      "cell_type": "code",
      "metadata": {
        "colab": {
          "base_uri": "https://localhost:8080/"
        },
        "id": "dtqYv_FLivLq",
        "outputId": "9675a25c-ce33-4681-e17c-4cddcc6cef40"
      },
      "source": [
        "from sklearn.linear_model import LinearRegression\n",
        "lr = LinearRegression()\n",
        "lr.fit(train_X_scaled, train_y)"
      ],
      "execution_count": null,
      "outputs": [
        {
          "output_type": "execute_result",
          "data": {
            "text/plain": [
              "LinearRegression(copy_X=True, fit_intercept=True, n_jobs=None, normalize=False)"
            ]
          },
          "metadata": {},
          "execution_count": 74
        }
      ]
    },
    {
      "cell_type": "code",
      "metadata": {
        "colab": {
          "base_uri": "https://localhost:8080/"
        },
        "id": "JONa28yVi-Ab",
        "outputId": "64f3a3b5-963d-469c-eb10-ce5a1ce6095a"
      },
      "source": [
        "lr.coef_"
      ],
      "execution_count": null,
      "outputs": [
        {
          "output_type": "execute_result",
          "data": {
            "text/plain": [
              "array([ -7.24560918,   6.07841138,   1.61419961,   2.43955988,\n",
              "       -10.43440297,  14.59135251,   0.33601219, -16.67429358,\n",
              "         7.07346015,  -5.91072872,  -9.45138418,   2.55801415,\n",
              "       -20.61456368])"
            ]
          },
          "metadata": {},
          "execution_count": 75
        }
      ]
    },
    {
      "cell_type": "code",
      "metadata": {
        "id": "65QJOoYoi-7q"
      },
      "source": [
        "import pandas as pd\n",
        "import numpy as np\n",
        "features = pd.DataFrame(np.c_[boston.feature_names, lr.coef_], columns = ['feature', 'coef'])"
      ],
      "execution_count": null,
      "outputs": []
    },
    {
      "cell_type": "code",
      "metadata": {
        "colab": {
          "base_uri": "https://localhost:8080/",
          "height": 457
        },
        "id": "eY_QOg8_jKGa",
        "outputId": "4d1fc904-0032-478b-dd5c-33b2c4e31009"
      },
      "source": [
        "features.sort_values('coef', ascending = 'False', inplace = True)\n",
        "features"
      ],
      "execution_count": null,
      "outputs": [
        {
          "output_type": "execute_result",
          "data": {
            "text/html": [
              "<div>\n",
              "<style scoped>\n",
              "    .dataframe tbody tr th:only-of-type {\n",
              "        vertical-align: middle;\n",
              "    }\n",
              "\n",
              "    .dataframe tbody tr th {\n",
              "        vertical-align: top;\n",
              "    }\n",
              "\n",
              "    .dataframe thead th {\n",
              "        text-align: right;\n",
              "    }\n",
              "</style>\n",
              "<table border=\"1\" class=\"dataframe\">\n",
              "  <thead>\n",
              "    <tr style=\"text-align: right;\">\n",
              "      <th></th>\n",
              "      <th>feature</th>\n",
              "      <th>coef</th>\n",
              "    </tr>\n",
              "  </thead>\n",
              "  <tbody>\n",
              "    <tr>\n",
              "      <th>4</th>\n",
              "      <td>NOX</td>\n",
              "      <td>-10.4344029721219</td>\n",
              "    </tr>\n",
              "    <tr>\n",
              "      <th>7</th>\n",
              "      <td>DIS</td>\n",
              "      <td>-16.674293582867215</td>\n",
              "    </tr>\n",
              "    <tr>\n",
              "      <th>12</th>\n",
              "      <td>LSTAT</td>\n",
              "      <td>-20.61456367645347</td>\n",
              "    </tr>\n",
              "    <tr>\n",
              "      <th>9</th>\n",
              "      <td>TAX</td>\n",
              "      <td>-5.910728716948035</td>\n",
              "    </tr>\n",
              "    <tr>\n",
              "      <th>0</th>\n",
              "      <td>CRIM</td>\n",
              "      <td>-7.245609178578915</td>\n",
              "    </tr>\n",
              "    <tr>\n",
              "      <th>10</th>\n",
              "      <td>PTRATIO</td>\n",
              "      <td>-9.451384184058634</td>\n",
              "    </tr>\n",
              "    <tr>\n",
              "      <th>6</th>\n",
              "      <td>AGE</td>\n",
              "      <td>0.33601219093841994</td>\n",
              "    </tr>\n",
              "    <tr>\n",
              "      <th>2</th>\n",
              "      <td>INDUS</td>\n",
              "      <td>1.6141996129903822</td>\n",
              "    </tr>\n",
              "    <tr>\n",
              "      <th>5</th>\n",
              "      <td>RM</td>\n",
              "      <td>14.591352506822624</td>\n",
              "    </tr>\n",
              "    <tr>\n",
              "      <th>3</th>\n",
              "      <td>CHAS</td>\n",
              "      <td>2.4395598751548446</td>\n",
              "    </tr>\n",
              "    <tr>\n",
              "      <th>11</th>\n",
              "      <td>B</td>\n",
              "      <td>2.5580141534966216</td>\n",
              "    </tr>\n",
              "    <tr>\n",
              "      <th>1</th>\n",
              "      <td>ZN</td>\n",
              "      <td>6.078411384243515</td>\n",
              "    </tr>\n",
              "    <tr>\n",
              "      <th>8</th>\n",
              "      <td>RAD</td>\n",
              "      <td>7.073460145684019</td>\n",
              "    </tr>\n",
              "  </tbody>\n",
              "</table>\n",
              "</div>"
            ],
            "text/plain": [
              "    feature                 coef\n",
              "4       NOX    -10.4344029721219\n",
              "7       DIS  -16.674293582867215\n",
              "12    LSTAT   -20.61456367645347\n",
              "9       TAX   -5.910728716948035\n",
              "0      CRIM   -7.245609178578915\n",
              "10  PTRATIO   -9.451384184058634\n",
              "6       AGE  0.33601219093841994\n",
              "2     INDUS   1.6141996129903822\n",
              "5        RM   14.591352506822624\n",
              "3      CHAS   2.4395598751548446\n",
              "11        B   2.5580141534966216\n",
              "1        ZN    6.078411384243515\n",
              "8       RAD    7.073460145684019"
            ]
          },
          "metadata": {},
          "execution_count": 77
        }
      ]
    },
    {
      "cell_type": "code",
      "metadata": {
        "colab": {
          "base_uri": "https://localhost:8080/"
        },
        "id": "1wqhu4G6jQk0",
        "outputId": "5c50aec6-1339-4a25-bd76-e1ec5e121c1a"
      },
      "source": [
        "from sklearn.datasets import load_iris\n",
        "from sklearn.feature_selection import SelectKBest, chi2\n",
        "\n",
        "X, y = load_iris(return_X_y = True)\n",
        "X.shape"
      ],
      "execution_count": null,
      "outputs": [
        {
          "output_type": "execute_result",
          "data": {
            "text/plain": [
              "(150, 4)"
            ]
          },
          "metadata": {},
          "execution_count": 78
        }
      ]
    },
    {
      "cell_type": "code",
      "metadata": {
        "colab": {
          "base_uri": "https://localhost:8080/"
        },
        "id": "D261Ol_pjnz8",
        "outputId": "b4b87fa5-5ea2-43e4-9a70-6f335966da8f"
      },
      "source": [
        "X_new = SelectKBest(chi2, k = 1).fit_transform(X, y)\n",
        "X_new.shape"
      ],
      "execution_count": null,
      "outputs": [
        {
          "output_type": "execute_result",
          "data": {
            "text/plain": [
              "(150, 1)"
            ]
          },
          "metadata": {},
          "execution_count": 79
        }
      ]
    },
    {
      "cell_type": "code",
      "metadata": {
        "colab": {
          "base_uri": "https://localhost:8080/"
        },
        "id": "ppoBsVp_juMf",
        "outputId": "f47481fc-e13c-491c-e736-8983a99061ca"
      },
      "source": [
        "X_new"
      ],
      "execution_count": null,
      "outputs": [
        {
          "output_type": "execute_result",
          "data": {
            "text/plain": [
              "array([[1.4],\n",
              "       [1.4],\n",
              "       [1.3],\n",
              "       [1.5],\n",
              "       [1.4],\n",
              "       [1.7],\n",
              "       [1.4],\n",
              "       [1.5],\n",
              "       [1.4],\n",
              "       [1.5],\n",
              "       [1.5],\n",
              "       [1.6],\n",
              "       [1.4],\n",
              "       [1.1],\n",
              "       [1.2],\n",
              "       [1.5],\n",
              "       [1.3],\n",
              "       [1.4],\n",
              "       [1.7],\n",
              "       [1.5],\n",
              "       [1.7],\n",
              "       [1.5],\n",
              "       [1. ],\n",
              "       [1.7],\n",
              "       [1.9],\n",
              "       [1.6],\n",
              "       [1.6],\n",
              "       [1.5],\n",
              "       [1.4],\n",
              "       [1.6],\n",
              "       [1.6],\n",
              "       [1.5],\n",
              "       [1.5],\n",
              "       [1.4],\n",
              "       [1.5],\n",
              "       [1.2],\n",
              "       [1.3],\n",
              "       [1.4],\n",
              "       [1.3],\n",
              "       [1.5],\n",
              "       [1.3],\n",
              "       [1.3],\n",
              "       [1.3],\n",
              "       [1.6],\n",
              "       [1.9],\n",
              "       [1.4],\n",
              "       [1.6],\n",
              "       [1.4],\n",
              "       [1.5],\n",
              "       [1.4],\n",
              "       [4.7],\n",
              "       [4.5],\n",
              "       [4.9],\n",
              "       [4. ],\n",
              "       [4.6],\n",
              "       [4.5],\n",
              "       [4.7],\n",
              "       [3.3],\n",
              "       [4.6],\n",
              "       [3.9],\n",
              "       [3.5],\n",
              "       [4.2],\n",
              "       [4. ],\n",
              "       [4.7],\n",
              "       [3.6],\n",
              "       [4.4],\n",
              "       [4.5],\n",
              "       [4.1],\n",
              "       [4.5],\n",
              "       [3.9],\n",
              "       [4.8],\n",
              "       [4. ],\n",
              "       [4.9],\n",
              "       [4.7],\n",
              "       [4.3],\n",
              "       [4.4],\n",
              "       [4.8],\n",
              "       [5. ],\n",
              "       [4.5],\n",
              "       [3.5],\n",
              "       [3.8],\n",
              "       [3.7],\n",
              "       [3.9],\n",
              "       [5.1],\n",
              "       [4.5],\n",
              "       [4.5],\n",
              "       [4.7],\n",
              "       [4.4],\n",
              "       [4.1],\n",
              "       [4. ],\n",
              "       [4.4],\n",
              "       [4.6],\n",
              "       [4. ],\n",
              "       [3.3],\n",
              "       [4.2],\n",
              "       [4.2],\n",
              "       [4.2],\n",
              "       [4.3],\n",
              "       [3. ],\n",
              "       [4.1],\n",
              "       [6. ],\n",
              "       [5.1],\n",
              "       [5.9],\n",
              "       [5.6],\n",
              "       [5.8],\n",
              "       [6.6],\n",
              "       [4.5],\n",
              "       [6.3],\n",
              "       [5.8],\n",
              "       [6.1],\n",
              "       [5.1],\n",
              "       [5.3],\n",
              "       [5.5],\n",
              "       [5. ],\n",
              "       [5.1],\n",
              "       [5.3],\n",
              "       [5.5],\n",
              "       [6.7],\n",
              "       [6.9],\n",
              "       [5. ],\n",
              "       [5.7],\n",
              "       [4.9],\n",
              "       [6.7],\n",
              "       [4.9],\n",
              "       [5.7],\n",
              "       [6. ],\n",
              "       [4.8],\n",
              "       [4.9],\n",
              "       [5.6],\n",
              "       [5.8],\n",
              "       [6.1],\n",
              "       [6.4],\n",
              "       [5.6],\n",
              "       [5.1],\n",
              "       [5.6],\n",
              "       [6.1],\n",
              "       [5.6],\n",
              "       [5.5],\n",
              "       [4.8],\n",
              "       [5.4],\n",
              "       [5.6],\n",
              "       [5.1],\n",
              "       [5.1],\n",
              "       [5.9],\n",
              "       [5.7],\n",
              "       [5.2],\n",
              "       [5. ],\n",
              "       [5.2],\n",
              "       [5.4],\n",
              "       [5.1]])"
            ]
          },
          "metadata": {},
          "execution_count": 80
        }
      ]
    },
    {
      "cell_type": "code",
      "metadata": {
        "id": "feVreIfqj2Zo"
      },
      "source": [
        "from sklearn.datasets import load_digits\n",
        "from sklearn.feature_selection import SelectKBest, chi2"
      ],
      "execution_count": null,
      "outputs": []
    },
    {
      "cell_type": "code",
      "metadata": {
        "colab": {
          "base_uri": "https://localhost:8080/"
        },
        "id": "sZ7D5yMukCsZ",
        "outputId": "f0ceb3d0-df86-422c-ff5d-d82755332a16"
      },
      "source": [
        "X,y = load_digits(return_X_y = True)\n",
        "X.shape"
      ],
      "execution_count": null,
      "outputs": [
        {
          "output_type": "execute_result",
          "data": {
            "text/plain": [
              "(1797, 64)"
            ]
          },
          "metadata": {},
          "execution_count": 82
        }
      ]
    },
    {
      "cell_type": "code",
      "metadata": {
        "colab": {
          "base_uri": "https://localhost:8080/"
        },
        "id": "d9k_o6xhkHKU",
        "outputId": "f478aea5-eb32-4a05-e8fd-d480676c1b8d"
      },
      "source": [
        "X_new = SelectKBest(chi2, k = 20).fit_transform(X, y)\n",
        "X_new.shape"
      ],
      "execution_count": null,
      "outputs": [
        {
          "output_type": "execute_result",
          "data": {
            "text/plain": [
              "(1797, 20)"
            ]
          },
          "metadata": {},
          "execution_count": 83
        }
      ]
    },
    {
      "cell_type": "code",
      "metadata": {
        "id": "MAmVXWkBkNc5"
      },
      "source": [
        "import seaborn as sns\n",
        "titanic = sns.load_dataset('titanic')\n",
        "sex_mean = titanic.groupby('sex')['survived'].mean()\n",
        "titanic['sex_mean'] = titanic['sex'].map(sex_mean)"
      ],
      "execution_count": null,
      "outputs": []
    },
    {
      "cell_type": "code",
      "metadata": {
        "id": "uwcrPoMjkfgj"
      },
      "source": [
        "titanic['sex_n_rows'] = titanic['sex'].map(titanic.groupby('sex').size())\n",
        "global_mean = titanic['survived'].mean()\n",
        "alpha = 0.7"
      ],
      "execution_count": null,
      "outputs": []
    },
    {
      "cell_type": "code",
      "metadata": {
        "id": "5mzPFm0skzi_"
      },
      "source": [
        "def smoothing(n_rows, target_mean):\n",
        "  return(target_mean * n_rows + global_mean * alpha) / (n_rows + alpha)"
      ],
      "execution_count": null,
      "outputs": []
    },
    {
      "cell_type": "code",
      "metadata": {
        "id": "3r0hVye4k-FP"
      },
      "source": [
        "titanic['sex_mean_smoothing'] = titanic.apply(lambda x: smoothing(x['sex_n_rows'], x['sex_mean']), axis = 1)"
      ],
      "execution_count": null,
      "outputs": []
    },
    {
      "cell_type": "code",
      "metadata": {
        "colab": {
          "base_uri": "https://localhost:8080/",
          "height": 206
        },
        "id": "n5DJZBallHEj",
        "outputId": "eb00d427-4306-48db-b7c0-bd58b2462362"
      },
      "source": [
        "titanic[['sex_mean', 'sex_mean_smoothing']].head()"
      ],
      "execution_count": null,
      "outputs": [
        {
          "output_type": "execute_result",
          "data": {
            "text/html": [
              "<div>\n",
              "<style scoped>\n",
              "    .dataframe tbody tr th:only-of-type {\n",
              "        vertical-align: middle;\n",
              "    }\n",
              "\n",
              "    .dataframe tbody tr th {\n",
              "        vertical-align: top;\n",
              "    }\n",
              "\n",
              "    .dataframe thead th {\n",
              "        text-align: right;\n",
              "    }\n",
              "</style>\n",
              "<table border=\"1\" class=\"dataframe\">\n",
              "  <thead>\n",
              "    <tr style=\"text-align: right;\">\n",
              "      <th></th>\n",
              "      <th>sex_mean</th>\n",
              "      <th>sex_mean_smoothing</th>\n",
              "    </tr>\n",
              "  </thead>\n",
              "  <tbody>\n",
              "    <tr>\n",
              "      <th>0</th>\n",
              "      <td>0.188908</td>\n",
              "      <td>0.189144</td>\n",
              "    </tr>\n",
              "    <tr>\n",
              "      <th>1</th>\n",
              "      <td>0.742038</td>\n",
              "      <td>0.741241</td>\n",
              "    </tr>\n",
              "    <tr>\n",
              "      <th>2</th>\n",
              "      <td>0.742038</td>\n",
              "      <td>0.741241</td>\n",
              "    </tr>\n",
              "    <tr>\n",
              "      <th>3</th>\n",
              "      <td>0.742038</td>\n",
              "      <td>0.741241</td>\n",
              "    </tr>\n",
              "    <tr>\n",
              "      <th>4</th>\n",
              "      <td>0.188908</td>\n",
              "      <td>0.189144</td>\n",
              "    </tr>\n",
              "  </tbody>\n",
              "</table>\n",
              "</div>"
            ],
            "text/plain": [
              "   sex_mean  sex_mean_smoothing\n",
              "0  0.188908            0.189144\n",
              "1  0.742038            0.741241\n",
              "2  0.742038            0.741241\n",
              "3  0.742038            0.741241\n",
              "4  0.188908            0.189144"
            ]
          },
          "metadata": {},
          "execution_count": 88
        }
      ]
    },
    {
      "cell_type": "code",
      "metadata": {
        "colab": {
          "base_uri": "https://localhost:8080/",
          "height": 313
        },
        "id": "TrXJY71GlPBr",
        "outputId": "c1eead00-0e81-421d-ec7b-c1a580b32025"
      },
      "source": [
        "from sklearn.model_selection import train_test_split\n",
        "import numpy as np\n",
        "\n",
        "train, test = train_test_split(titanic, test_size = 0.2, random_state = 43, shuffle = True)\n",
        "train_new = train.copy()\n",
        "train_new[:] = np.nan\n",
        "train_new['sex_mean'] = np.nan\n",
        "from sklearn.model_selection import StratifiedKFold\n",
        "\n",
        "train_X = train.drop('survived', axis = 1)\n",
        "train_y = train['survived']\n",
        "skf = StratifiedKFold(n_splits = 5, shuffle = True, random_state = 42)\n",
        "\n",
        "for tr_idx, val_idx in skf.split(train_X, train_y):\n",
        "  train_X, X_val = train.iloc[tr_idx], train.iloc[val_idx]\n",
        "\n",
        "  means = X_val['sex'].map(train_X.groupby('sex')['survived'].mean())\n",
        "  X_val['sex_mean'] = means\n",
        "  train_new.iloc[val_idx] = X_val\n",
        "\n",
        "global_mean = train['survived'].mean()\n",
        "train_new['sex'] = train_new['sex'].fillna(global_mean)\n",
        "train_new[['sex', 'sex_mean']].head()"
      ],
      "execution_count": null,
      "outputs": [
        {
          "output_type": "stream",
          "name": "stderr",
          "text": [
            "/usr/local/lib/python3.7/dist-packages/ipykernel_launcher.py:18: SettingWithCopyWarning: \n",
            "A value is trying to be set on a copy of a slice from a DataFrame.\n",
            "Try using .loc[row_indexer,col_indexer] = value instead\n",
            "\n",
            "See the caveats in the documentation: https://pandas.pydata.org/pandas-docs/stable/user_guide/indexing.html#returning-a-view-versus-a-copy\n"
          ]
        },
        {
          "output_type": "execute_result",
          "data": {
            "text/html": [
              "<div>\n",
              "<style scoped>\n",
              "    .dataframe tbody tr th:only-of-type {\n",
              "        vertical-align: middle;\n",
              "    }\n",
              "\n",
              "    .dataframe tbody tr th {\n",
              "        vertical-align: top;\n",
              "    }\n",
              "\n",
              "    .dataframe thead th {\n",
              "        text-align: right;\n",
              "    }\n",
              "</style>\n",
              "<table border=\"1\" class=\"dataframe\">\n",
              "  <thead>\n",
              "    <tr style=\"text-align: right;\">\n",
              "      <th></th>\n",
              "      <th>sex</th>\n",
              "      <th>sex_mean</th>\n",
              "    </tr>\n",
              "  </thead>\n",
              "  <tbody>\n",
              "    <tr>\n",
              "      <th>826</th>\n",
              "      <td>male</td>\n",
              "      <td>0.179558</td>\n",
              "    </tr>\n",
              "    <tr>\n",
              "      <th>838</th>\n",
              "      <td>male</td>\n",
              "      <td>0.178862</td>\n",
              "    </tr>\n",
              "    <tr>\n",
              "      <th>763</th>\n",
              "      <td>female</td>\n",
              "      <td>0.760000</td>\n",
              "    </tr>\n",
              "    <tr>\n",
              "      <th>189</th>\n",
              "      <td>male</td>\n",
              "      <td>0.176966</td>\n",
              "    </tr>\n",
              "    <tr>\n",
              "      <th>109</th>\n",
              "      <td>female</td>\n",
              "      <td>0.760000</td>\n",
              "    </tr>\n",
              "  </tbody>\n",
              "</table>\n",
              "</div>"
            ],
            "text/plain": [
              "        sex  sex_mean\n",
              "826    male  0.179558\n",
              "838    male  0.178862\n",
              "763  female  0.760000\n",
              "189    male  0.176966\n",
              "109  female  0.760000"
            ]
          },
          "metadata": {},
          "execution_count": 89
        }
      ]
    },
    {
      "cell_type": "code",
      "metadata": {
        "colab": {
          "base_uri": "https://localhost:8080/",
          "height": 333
        },
        "id": "VU9kPafImjUR",
        "outputId": "216b4c5d-2dee-4a0f-e078-1a6e0a789f89"
      },
      "source": [
        "train_new.pivot_table(columns = 'survived', index = train_new.index, values = 'sex_mean').hist(bins = 100)"
      ],
      "execution_count": null,
      "outputs": [
        {
          "output_type": "execute_result",
          "data": {
            "text/plain": [
              "array([[<matplotlib.axes._subplots.AxesSubplot object at 0x7fb77fe78110>,\n",
              "        <matplotlib.axes._subplots.AxesSubplot object at 0x7fb77fe26750>]],\n",
              "      dtype=object)"
            ]
          },
          "metadata": {},
          "execution_count": 90
        },
        {
          "output_type": "display_data",
          "data": {
            "image/png": "[encoded data removed]",
            "text/plain": [
              "<Figure size 432x288 with 2 Axes>"
            ]
          },
          "metadata": {
            "needs_background": "light"
          }
        }
      ]
    },
    {
      "cell_type": "code",
      "metadata": {
        "id": "njbIgBI6nEKs"
      },
      "source": [
        "cumsum = train.groupby('sex')['survived'].cumsum() - train['survived']\n",
        "cumcnt = train.groupby('sex').cumcount() + 1\n",
        "train_new['sex_mean'] = cumsum/ cumcnt\n"
      ],
      "execution_count": null,
      "outputs": []
    },
    {
      "cell_type": "code",
      "metadata": {
        "colab": {
          "base_uri": "https://localhost:8080/",
          "height": 206
        },
        "id": "Qyz6mnlHnUuJ",
        "outputId": "cdc1957c-322d-4822-ddf1-a8f9327895cf"
      },
      "source": [
        "train_new[['sex', 'sex_mean']].tail()"
      ],
      "execution_count": null,
      "outputs": [
        {
          "output_type": "execute_result",
          "data": {
            "text/html": [
              "<div>\n",
              "<style scoped>\n",
              "    .dataframe tbody tr th:only-of-type {\n",
              "        vertical-align: middle;\n",
              "    }\n",
              "\n",
              "    .dataframe tbody tr th {\n",
              "        vertical-align: top;\n",
              "    }\n",
              "\n",
              "    .dataframe thead th {\n",
              "        text-align: right;\n",
              "    }\n",
              "</style>\n",
              "<table border=\"1\" class=\"dataframe\">\n",
              "  <thead>\n",
              "    <tr style=\"text-align: right;\">\n",
              "      <th></th>\n",
              "      <th>sex</th>\n",
              "      <th>sex_mean</th>\n",
              "    </tr>\n",
              "  </thead>\n",
              "  <tbody>\n",
              "    <tr>\n",
              "      <th>277</th>\n",
              "      <td>male</td>\n",
              "      <td>0.173333</td>\n",
              "    </tr>\n",
              "    <tr>\n",
              "      <th>817</th>\n",
              "      <td>male</td>\n",
              "      <td>0.172949</td>\n",
              "    </tr>\n",
              "    <tr>\n",
              "      <th>255</th>\n",
              "      <td>female</td>\n",
              "      <td>0.749035</td>\n",
              "    </tr>\n",
              "    <tr>\n",
              "      <th>320</th>\n",
              "      <td>male</td>\n",
              "      <td>0.172566</td>\n",
              "    </tr>\n",
              "    <tr>\n",
              "      <th>836</th>\n",
              "      <td>male</td>\n",
              "      <td>0.172185</td>\n",
              "    </tr>\n",
              "  </tbody>\n",
              "</table>\n",
              "</div>"
            ],
            "text/plain": [
              "        sex  sex_mean\n",
              "277    male  0.173333\n",
              "817    male  0.172949\n",
              "255  female  0.749035\n",
              "320    male  0.172566\n",
              "836    male  0.172185"
            ]
          },
          "metadata": {},
          "execution_count": 92
        }
      ]
    },
    {
      "cell_type": "code",
      "metadata": {
        "colab": {
          "base_uri": "https://localhost:8080/",
          "height": 333
        },
        "id": "tPJC3xDFnXd-",
        "outputId": "8852fceb-aa6f-4102-856b-4832b2f63784"
      },
      "source": [
        "train_new.pivot_table(columns = 'survived', index = train_new.index,\n",
        "                      values = 'sex_mean').hist(bins = 100)"
      ],
      "execution_count": null,
      "outputs": [
        {
          "output_type": "execute_result",
          "data": {
            "text/plain": [
              "array([[<matplotlib.axes._subplots.AxesSubplot object at 0x7fb77fd36c10>,\n",
              "        <matplotlib.axes._subplots.AxesSubplot object at 0x7fb77feb9a50>]],\n",
              "      dtype=object)"
            ]
          },
          "metadata": {},
          "execution_count": 93
        },
        {
          "output_type": "display_data",
          "data": {
            "image/png": "[encoded data removed]",
            "text/plain": [
              "<Figure size 432x288 with 2 Axes>"
            ]
          },
          "metadata": {
            "needs_background": "light"
          }
        }
      ]
    },
    {
      "cell_type": "code",
      "metadata": {
        "id": "hZYO30wwnjR1"
      },
      "source": [
        "from sklearn.datasets import load_digits\n",
        "digits = load_digits()\n",
        "X, y = digits.data, digits.target"
      ],
      "execution_count": null,
      "outputs": []
    },
    {
      "cell_type": "code",
      "metadata": {
        "colab": {
          "base_uri": "https://localhost:8080/",
          "height": 173
        },
        "id": "AVF7_p8ZoLwb",
        "outputId": "3f70506b-743f-4d77-b193-a66c46643916"
      },
      "source": [
        "%matplotlib inline\n",
        "import matplotlib.pyplot as plt\n",
        "N = 30\n",
        "nrows = (N//10)\n",
        "\n",
        "for row in range(nrows):\n",
        "  plt.figure(figsize = (8,8))\n",
        "  for i in range(10):\n",
        "    plt.subplot(1, 10 , i+1)\n",
        "    plt.imshow(digits.images[i + row * 10], cmap = plt.cm.gray_r,\n",
        "               interpolation = 'nearest')\n",
        "    plt.axis('off')\n",
        "  plt.show()"
      ],
      "execution_count": null,
      "outputs": [
        {
          "output_type": "display_data",
          "data": {
            "image/png": "[encoded data removed]",
            "text/plain": [
              "<Figure size 576x576 with 10 Axes>"
            ]
          },
          "metadata": {
            "needs_background": "light"
          }
        },
        {
          "output_type": "display_data",
          "data": {
            "image/png": "[encoded data removed]",
            "text/plain": [
              "<Figure size 576x576 with 10 Axes>"
            ]
          },
          "metadata": {
            "needs_background": "light"
          }
        },
        {
          "output_type": "display_data",
          "data": {
            "image/png": "[encoded data removed]",
            "text/plain": [
              "<Figure size 576x576 with 10 Axes>"
            ]
          },
          "metadata": {
            "needs_background": "light"
          }
        }
      ]
    },
    {
      "cell_type": "code",
      "metadata": {
        "colab": {
          "base_uri": "https://localhost:8080/"
        },
        "id": "eTit6389olSK",
        "outputId": "58e768bb-b285-4aef-9f9f-dd6736e79e34"
      },
      "source": [
        "from sklearn.svm import SVC\n",
        "model = SVC().fit(X,y)\n",
        "model"
      ],
      "execution_count": null,
      "outputs": [
        {
          "output_type": "execute_result",
          "data": {
            "text/plain": [
              "SVC(C=1.0, break_ties=False, cache_size=200, class_weight=None, coef0=0.0,\n",
              "    decision_function_shape='ovr', degree=3, gamma='scale', kernel='rbf',\n",
              "    max_iter=-1, probability=False, random_state=None, shrinking=True,\n",
              "    tol=0.001, verbose=False)"
            ]
          },
          "metadata": {},
          "execution_count": 96
        }
      ]
    },
    {
      "cell_type": "code",
      "metadata": {
        "colab": {
          "base_uri": "https://localhost:8080/"
        },
        "id": "i5MsJ1wuowBP",
        "outputId": "751237dc-498c-40f2-c588-d69fe426baac"
      },
      "source": [
        "model.score(X,y)"
      ],
      "execution_count": null,
      "outputs": [
        {
          "output_type": "execute_result",
          "data": {
            "text/plain": [
              "0.996661101836394"
            ]
          },
          "metadata": {},
          "execution_count": 97
        }
      ]
    },
    {
      "cell_type": "code",
      "metadata": {
        "colab": {
          "base_uri": "https://localhost:8080/"
        },
        "id": "B7VXRHa8oz1G",
        "outputId": "624b66f4-be98-471c-f854-49dcb6d8966b"
      },
      "source": [
        "from sklearn.model_selection import cross_val_score\n",
        "\n",
        "cross_val_score(model, X, y , cv= 5)\n"
      ],
      "execution_count": null,
      "outputs": [
        {
          "output_type": "execute_result",
          "data": {
            "text/plain": [
              "array([0.96111111, 0.94444444, 0.98328691, 0.98885794, 0.93871866])"
            ]
          },
          "metadata": {},
          "execution_count": 98
        }
      ]
    },
    {
      "cell_type": "code",
      "metadata": {
        "id": "YlszAKF4o7TD"
      },
      "source": [
        "import numpy as np\n",
        "param_range = np.logspace(-6, -1, 10)"
      ],
      "execution_count": null,
      "outputs": []
    },
    {
      "cell_type": "code",
      "metadata": {
        "colab": {
          "base_uri": "https://localhost:8080/"
        },
        "id": "MvoRFBijpDvq",
        "outputId": "30756496-b2fa-411c-e95d-64939d5ba0ce"
      },
      "source": [
        "%%time\n",
        "from sklearn.svm import SVC\n",
        "from sklearn.model_selection import validation_curve\n",
        "train_scores, test_scores = validation_curve(\n",
        "    SVC(), X, y, param_name = 'gamma', param_range = param_range, cv = 10, scoring = 'accuracy', n_jobs = 1\n",
        ")"
      ],
      "execution_count": null,
      "outputs": [
        {
          "output_type": "stream",
          "name": "stdout",
          "text": [
            "CPU times: user 1min 14s, sys: 115 ms, total: 1min 14s\n",
            "Wall time: 1min 14s\n"
          ]
        }
      ]
    },
    {
      "cell_type": "code",
      "metadata": {
        "id": "KQrOtYqRpXDV"
      },
      "source": [
        "import numpy as np\n",
        "train_scores_mean = np.mean(train_scores, axis = 1)\n",
        "train_scores_std = np.std(train_scores, axis = 1)\n",
        "test_scores_mean = np.mean(test_scores, axis = 1)\n",
        "test_scores_std = np.std(test_scores, axis =1)"
      ],
      "execution_count": null,
      "outputs": []
    },
    {
      "cell_type": "code",
      "metadata": {
        "colab": {
          "base_uri": "https://localhost:8080/",
          "height": 318
        },
        "id": "lufZeVN5p8gY",
        "outputId": "998e081f-f259-49e8-b3a9-346e76cb38a3"
      },
      "source": [
        "%matplotlib\n",
        "import matplotlib.pyplot as plt\n",
        "\n",
        "plt.title('Validation Curve with SVM')\n",
        "plt.xlabel('$\\gamma$')\n",
        "plt.ylabel('Score')\n",
        "plt.ylim(0.0, 1.1)\n",
        "lw = 2\n",
        "\n",
        "plt.semilogx(param_range, train_scores_mean, label = 'Training score', color = 'darkorange', lw = lw)\n",
        "plt.fill_between(param_range, train_scores_mean - train_scores_std, train_scores_mean + train_scores_std,  alpha = 0.2,\n",
        "                 color = 'darkorange', lw = lw)\n",
        "plt.semilogx(param_range, test_scores_mean, label = 'Corss-validation score', color = 'navy', lw = lw)\n",
        "plt.fill_between(param_range, test_scores_mean - test_scores_std, test_scores_mean + test_scores_std, alpha = 0.2,\n",
        "                 color = 'navy', lw = lw)\n",
        "plt.legend(loc = 'best')\n",
        "plt.show()"
      ],
      "execution_count": null,
      "outputs": [
        {
          "output_type": "stream",
          "name": "stdout",
          "text": [
            "Using matplotlib backend: agg\n"
          ]
        },
        {
          "output_type": "display_data",
          "data": {
            "image/png": "[encoded data removed]",
            "text/plain": [
              "<Figure size 432x288 with 1 Axes>"
            ]
          },
          "metadata": {
            "needs_background": "light"
          }
        }
      ]
    },
    {
      "cell_type": "code",
      "metadata": {
        "id": "wj8TaksDq3jH"
      },
      "source": [
        "gamma = param_range[test_scores_mean.argmax()]\n",
        "from sklearn.svm import SVC"
      ],
      "execution_count": null,
      "outputs": []
    },
    {
      "cell_type": "code",
      "metadata": {
        "colab": {
          "base_uri": "https://localhost:8080/"
        },
        "id": "jjL1y2IxrPn2",
        "outputId": "5599f9ad-e264-4134-943d-d426ddeef67c"
      },
      "source": [
        "model = SVC(gamma = gamma).fit(X,y)\n",
        "model"
      ],
      "execution_count": null,
      "outputs": [
        {
          "output_type": "execute_result",
          "data": {
            "text/plain": [
              "SVC(C=1.0, break_ties=False, cache_size=200, class_weight=None, coef0=0.0,\n",
              "    decision_function_shape='ovr', degree=3, gamma=0.0021544346900318843,\n",
              "    kernel='rbf', max_iter=-1, probability=False, random_state=None,\n",
              "    shrinking=True, tol=0.001, verbose=False)"
            ]
          },
          "metadata": {},
          "execution_count": 104
        }
      ]
    },
    {
      "cell_type": "code",
      "metadata": {
        "colab": {
          "base_uri": "https://localhost:8080/"
        },
        "id": "J9cFD2uKrTDH",
        "outputId": "0ed1f5a5-d324-4fa9-81bd-54b30b9e59c5"
      },
      "source": [
        "model.score(X,y)"
      ],
      "execution_count": null,
      "outputs": [
        {
          "output_type": "execute_result",
          "data": {
            "text/plain": [
              "1.0"
            ]
          },
          "metadata": {},
          "execution_count": 105
        }
      ]
    },
    {
      "cell_type": "code",
      "metadata": {
        "colab": {
          "base_uri": "https://localhost:8080/"
        },
        "id": "3ccuHXQOrVXe",
        "outputId": "1cf01120-070e-43c8-f06f-bda60dacc56e"
      },
      "source": [
        "from sklearn.model_selection import cross_val_score\n",
        "np.mean(cross_val_score(model, X, y, cv = 5))"
      ],
      "execution_count": null,
      "outputs": [
        {
          "output_type": "execute_result",
          "data": {
            "text/plain": [
              "0.9655137728257506"
            ]
          },
          "metadata": {},
          "execution_count": 106
        }
      ]
    },
    {
      "cell_type": "code",
      "metadata": {
        "id": "1FzEkygOrbk_",
        "colab": {
          "base_uri": "https://localhost:8080/",
          "height": 433
        },
        "outputId": "339fdf24-1178-4f26-a9ad-065e24bbd977"
      },
      "source": [
        "from sklearn.pipeline import Pipeline\n",
        "from sklearn.model_selection import GridSearchCV\n",
        "from sklearn.svm import SVC\n",
        "from sklearn.feature_selection import SelectKBest\n",
        "import pandas as pd\n",
        "\n",
        "redwine = pd.read_csv('winequality-red.csv', sep = ';')\n",
        "redwine_X , redwine_y = redwine.iloc[:, :-1], redwine.iloc[:,-1]"
      ],
      "execution_count": null,
      "outputs": [
        {
          "output_type": "error",
          "ename": "FileNotFoundError",
          "evalue": "ignored",
          "traceback": [
            "\u001b[0;31m---------------------------------------------------------------------------\u001b[0m",
            "\u001b[0;31mFileNotFoundError\u001b[0m                         Traceback (most recent call last)",
            "\u001b[0;32m<ipython-input-107-b71793b7392f>\u001b[0m in \u001b[0;36m<module>\u001b[0;34m()\u001b[0m\n\u001b[1;32m      5\u001b[0m \u001b[0;32mimport\u001b[0m \u001b[0mpandas\u001b[0m \u001b[0;32mas\u001b[0m \u001b[0mpd\u001b[0m\u001b[0;34m\u001b[0m\u001b[0;34m\u001b[0m\u001b[0m\n\u001b[1;32m      6\u001b[0m \u001b[0;34m\u001b[0m\u001b[0m\n\u001b[0;32m----> 7\u001b[0;31m \u001b[0mredwine\u001b[0m \u001b[0;34m=\u001b[0m \u001b[0mpd\u001b[0m\u001b[0;34m.\u001b[0m\u001b[0mread_csv\u001b[0m\u001b[0;34m(\u001b[0m\u001b[0;34m'winequality-red.csv'\u001b[0m\u001b[0;34m,\u001b[0m \u001b[0msep\u001b[0m \u001b[0;34m=\u001b[0m \u001b[0;34m';'\u001b[0m\u001b[0;34m)\u001b[0m\u001b[0;34m\u001b[0m\u001b[0;34m\u001b[0m\u001b[0m\n\u001b[0m\u001b[1;32m      8\u001b[0m \u001b[0mredwine_X\u001b[0m \u001b[0;34m,\u001b[0m \u001b[0mredwine_y\u001b[0m \u001b[0;34m=\u001b[0m \u001b[0mredwine\u001b[0m\u001b[0;34m.\u001b[0m\u001b[0miloc\u001b[0m\u001b[0;34m[\u001b[0m\u001b[0;34m:\u001b[0m\u001b[0;34m,\u001b[0m \u001b[0;34m:\u001b[0m\u001b[0;34m-\u001b[0m\u001b[0;36m1\u001b[0m\u001b[0;34m]\u001b[0m\u001b[0;34m,\u001b[0m \u001b[0mredwine\u001b[0m\u001b[0;34m.\u001b[0m\u001b[0miloc\u001b[0m\u001b[0;34m[\u001b[0m\u001b[0;34m:\u001b[0m\u001b[0;34m,\u001b[0m\u001b[0;34m-\u001b[0m\u001b[0;36m1\u001b[0m\u001b[0;34m]\u001b[0m\u001b[0;34m\u001b[0m\u001b[0;34m\u001b[0m\u001b[0m\n",
            "\u001b[0;32m/usr/local/lib/python3.7/dist-packages/pandas/io/parsers.py\u001b[0m in \u001b[0;36mread_csv\u001b[0;34m(filepath_or_buffer, sep, delimiter, header, names, index_col, usecols, squeeze, prefix, mangle_dupe_cols, dtype, engine, converters, true_values, false_values, skipinitialspace, skiprows, skipfooter, nrows, na_values, keep_default_na, na_filter, verbose, skip_blank_lines, parse_dates, infer_datetime_format, keep_date_col, date_parser, dayfirst, cache_dates, iterator, chunksize, compression, thousands, decimal, lineterminator, quotechar, quoting, doublequote, escapechar, comment, encoding, dialect, error_bad_lines, warn_bad_lines, delim_whitespace, low_memory, memory_map, float_precision)\u001b[0m\n\u001b[1;32m    686\u001b[0m     )\n\u001b[1;32m    687\u001b[0m \u001b[0;34m\u001b[0m\u001b[0m\n\u001b[0;32m--> 688\u001b[0;31m     \u001b[0;32mreturn\u001b[0m \u001b[0m_read\u001b[0m\u001b[0;34m(\u001b[0m\u001b[0mfilepath_or_buffer\u001b[0m\u001b[0;34m,\u001b[0m \u001b[0mkwds\u001b[0m\u001b[0;34m)\u001b[0m\u001b[0;34m\u001b[0m\u001b[0;34m\u001b[0m\u001b[0m\n\u001b[0m\u001b[1;32m    689\u001b[0m \u001b[0;34m\u001b[0m\u001b[0m\n\u001b[1;32m    690\u001b[0m \u001b[0;34m\u001b[0m\u001b[0m\n",
            "\u001b[0;32m/usr/local/lib/python3.7/dist-packages/pandas/io/parsers.py\u001b[0m in \u001b[0;36m_read\u001b[0;34m(filepath_or_buffer, kwds)\u001b[0m\n\u001b[1;32m    452\u001b[0m \u001b[0;34m\u001b[0m\u001b[0m\n\u001b[1;32m    453\u001b[0m     \u001b[0;31m# Create the parser.\u001b[0m\u001b[0;34m\u001b[0m\u001b[0;34m\u001b[0m\u001b[0;34m\u001b[0m\u001b[0m\n\u001b[0;32m--> 454\u001b[0;31m     \u001b[0mparser\u001b[0m \u001b[0;34m=\u001b[0m \u001b[0mTextFileReader\u001b[0m\u001b[0;34m(\u001b[0m\u001b[0mfp_or_buf\u001b[0m\u001b[0;34m,\u001b[0m \u001b[0;34m**\u001b[0m\u001b[0mkwds\u001b[0m\u001b[0;34m)\u001b[0m\u001b[0;34m\u001b[0m\u001b[0;34m\u001b[0m\u001b[0m\n\u001b[0m\u001b[1;32m    455\u001b[0m \u001b[0;34m\u001b[0m\u001b[0m\n\u001b[1;32m    456\u001b[0m     \u001b[0;32mif\u001b[0m \u001b[0mchunksize\u001b[0m \u001b[0;32mor\u001b[0m \u001b[0miterator\u001b[0m\u001b[0;34m:\u001b[0m\u001b[0;34m\u001b[0m\u001b[0;34m\u001b[0m\u001b[0m\n",
            "\u001b[0;32m/usr/local/lib/python3.7/dist-packages/pandas/io/parsers.py\u001b[0m in \u001b[0;36m__init__\u001b[0;34m(self, f, engine, **kwds)\u001b[0m\n\u001b[1;32m    946\u001b[0m             \u001b[0mself\u001b[0m\u001b[0;34m.\u001b[0m\u001b[0moptions\u001b[0m\u001b[0;34m[\u001b[0m\u001b[0;34m\"has_index_names\"\u001b[0m\u001b[0;34m]\u001b[0m \u001b[0;34m=\u001b[0m \u001b[0mkwds\u001b[0m\u001b[0;34m[\u001b[0m\u001b[0;34m\"has_index_names\"\u001b[0m\u001b[0;34m]\u001b[0m\u001b[0;34m\u001b[0m\u001b[0;34m\u001b[0m\u001b[0m\n\u001b[1;32m    947\u001b[0m \u001b[0;34m\u001b[0m\u001b[0m\n\u001b[0;32m--> 948\u001b[0;31m         \u001b[0mself\u001b[0m\u001b[0;34m.\u001b[0m\u001b[0m_make_engine\u001b[0m\u001b[0;34m(\u001b[0m\u001b[0mself\u001b[0m\u001b[0;34m.\u001b[0m\u001b[0mengine\u001b[0m\u001b[0;34m)\u001b[0m\u001b[0;34m\u001b[0m\u001b[0;34m\u001b[0m\u001b[0m\n\u001b[0m\u001b[1;32m    949\u001b[0m \u001b[0;34m\u001b[0m\u001b[0m\n\u001b[1;32m    950\u001b[0m     \u001b[0;32mdef\u001b[0m \u001b[0mclose\u001b[0m\u001b[0;34m(\u001b[0m\u001b[0mself\u001b[0m\u001b[0;34m)\u001b[0m\u001b[0;34m:\u001b[0m\u001b[0;34m\u001b[0m\u001b[0;34m\u001b[0m\u001b[0m\n",
            "\u001b[0;32m/usr/local/lib/python3.7/dist-packages/pandas/io/parsers.py\u001b[0m in \u001b[0;36m_make_engine\u001b[0;34m(self, engine)\u001b[0m\n\u001b[1;32m   1178\u001b[0m     \u001b[0;32mdef\u001b[0m \u001b[0m_make_engine\u001b[0m\u001b[0;34m(\u001b[0m\u001b[0mself\u001b[0m\u001b[0;34m,\u001b[0m \u001b[0mengine\u001b[0m\u001b[0;34m=\u001b[0m\u001b[0;34m\"c\"\u001b[0m\u001b[0;34m)\u001b[0m\u001b[0;34m:\u001b[0m\u001b[0;34m\u001b[0m\u001b[0;34m\u001b[0m\u001b[0m\n\u001b[1;32m   1179\u001b[0m         \u001b[0;32mif\u001b[0m \u001b[0mengine\u001b[0m \u001b[0;34m==\u001b[0m \u001b[0;34m\"c\"\u001b[0m\u001b[0;34m:\u001b[0m\u001b[0;34m\u001b[0m\u001b[0;34m\u001b[0m\u001b[0m\n\u001b[0;32m-> 1180\u001b[0;31m             \u001b[0mself\u001b[0m\u001b[0;34m.\u001b[0m\u001b[0m_engine\u001b[0m \u001b[0;34m=\u001b[0m \u001b[0mCParserWrapper\u001b[0m\u001b[0;34m(\u001b[0m\u001b[0mself\u001b[0m\u001b[0;34m.\u001b[0m\u001b[0mf\u001b[0m\u001b[0;34m,\u001b[0m \u001b[0;34m**\u001b[0m\u001b[0mself\u001b[0m\u001b[0;34m.\u001b[0m\u001b[0moptions\u001b[0m\u001b[0;34m)\u001b[0m\u001b[0;34m\u001b[0m\u001b[0;34m\u001b[0m\u001b[0m\n\u001b[0m\u001b[1;32m   1181\u001b[0m         \u001b[0;32melse\u001b[0m\u001b[0;34m:\u001b[0m\u001b[0;34m\u001b[0m\u001b[0;34m\u001b[0m\u001b[0m\n\u001b[1;32m   1182\u001b[0m             \u001b[0;32mif\u001b[0m \u001b[0mengine\u001b[0m \u001b[0;34m==\u001b[0m \u001b[0;34m\"python\"\u001b[0m\u001b[0;34m:\u001b[0m\u001b[0;34m\u001b[0m\u001b[0;34m\u001b[0m\u001b[0m\n",
            "\u001b[0;32m/usr/local/lib/python3.7/dist-packages/pandas/io/parsers.py\u001b[0m in \u001b[0;36m__init__\u001b[0;34m(self, src, **kwds)\u001b[0m\n\u001b[1;32m   2008\u001b[0m         \u001b[0mkwds\u001b[0m\u001b[0;34m[\u001b[0m\u001b[0;34m\"usecols\"\u001b[0m\u001b[0;34m]\u001b[0m \u001b[0;34m=\u001b[0m \u001b[0mself\u001b[0m\u001b[0;34m.\u001b[0m\u001b[0musecols\u001b[0m\u001b[0;34m\u001b[0m\u001b[0;34m\u001b[0m\u001b[0m\n\u001b[1;32m   2009\u001b[0m \u001b[0;34m\u001b[0m\u001b[0m\n\u001b[0;32m-> 2010\u001b[0;31m         \u001b[0mself\u001b[0m\u001b[0;34m.\u001b[0m\u001b[0m_reader\u001b[0m \u001b[0;34m=\u001b[0m \u001b[0mparsers\u001b[0m\u001b[0;34m.\u001b[0m\u001b[0mTextReader\u001b[0m\u001b[0;34m(\u001b[0m\u001b[0msrc\u001b[0m\u001b[0;34m,\u001b[0m \u001b[0;34m**\u001b[0m\u001b[0mkwds\u001b[0m\u001b[0;34m)\u001b[0m\u001b[0;34m\u001b[0m\u001b[0;34m\u001b[0m\u001b[0m\n\u001b[0m\u001b[1;32m   2011\u001b[0m         \u001b[0mself\u001b[0m\u001b[0;34m.\u001b[0m\u001b[0munnamed_cols\u001b[0m \u001b[0;34m=\u001b[0m \u001b[0mself\u001b[0m\u001b[0;34m.\u001b[0m\u001b[0m_reader\u001b[0m\u001b[0;34m.\u001b[0m\u001b[0munnamed_cols\u001b[0m\u001b[0;34m\u001b[0m\u001b[0;34m\u001b[0m\u001b[0m\n\u001b[1;32m   2012\u001b[0m \u001b[0;34m\u001b[0m\u001b[0m\n",
            "\u001b[0;32mpandas/_libs/parsers.pyx\u001b[0m in \u001b[0;36mpandas._libs.parsers.TextReader.__cinit__\u001b[0;34m()\u001b[0m\n",
            "\u001b[0;32mpandas/_libs/parsers.pyx\u001b[0m in \u001b[0;36mpandas._libs.parsers.TextReader._setup_parser_source\u001b[0;34m()\u001b[0m\n",
            "\u001b[0;31mFileNotFoundError\u001b[0m: [Errno 2] No such file or directory: 'winequality-red.csv'"
          ]
        }
      ]
    },
    {
      "cell_type": "code",
      "metadata": {
        "id": "eEmYawJMtuZF"
      },
      "source": [
        "selection = SelectKBest(k=1)\n",
        "svm = SVC(kernel = 'linear')\n",
        "pipeline = Pipeline([('univ_select', selection), ('svm', svm)])\n",
        "param_grid = dict(univ_select__k = [4, 5, 6, 7, 8, 9, 10, 11],\n",
        "                  svm__C = [0.1, 1, 10])\n",
        "grid_search = GridSearchCV(pipeline, param_grid = param_grid, cv = 2, verbose = 10)\n",
        "grid_search.fit(redwine_X, redwine_y)"
      ],
      "execution_count": null,
      "outputs": []
    },
    {
      "cell_type": "code",
      "metadata": {
        "id": "Z9CUjjzWubs6"
      },
      "source": [
        "print(grid_search.best_estimator_)"
      ],
      "execution_count": null,
      "outputs": []
    },
    {
      "cell_type": "code",
      "metadata": {
        "id": "qZiagJYdwRpc"
      },
      "source": [
        "grid_search.best_params_"
      ],
      "execution_count": null,
      "outputs": []
    },
    {
      "cell_type": "code",
      "metadata": {
        "id": "XB8Q0OIlwaOd"
      },
      "source": [
        "grid_search.score(redwine_X, redwine_y)"
      ],
      "execution_count": null,
      "outputs": []
    },
    {
      "cell_type": "code",
      "metadata": {
        "id": "IFGZuuWfwsbI"
      },
      "source": [
        "from sklearn.pipeline import Pipeline, FeatureUnion\n",
        "from sklearn.model_selection import GridSearchCV\n",
        "from sklearn.svm import SVC\n",
        "from sklearn.datasets import load_iris\n",
        "from sklearn.decomposition import PCA\n",
        "from sklearn.feature_selection import SelectKBest"
      ],
      "execution_count": null,
      "outputs": []
    },
    {
      "cell_type": "code",
      "metadata": {
        "id": "LSCYFCK3w6uq"
      },
      "source": [
        "iris = load_iris()\n",
        "iris_X, iris_y = iris.data, iris.target"
      ],
      "execution_count": null,
      "outputs": []
    },
    {
      "cell_type": "code",
      "metadata": {
        "id": "0RIgseqQxBse"
      },
      "source": [
        "pca = PCA(n_components = 2)"
      ],
      "execution_count": null,
      "outputs": []
    },
    {
      "cell_type": "code",
      "metadata": {
        "id": "AEJjbTGqxD9I"
      },
      "source": [
        "selection = SelectKBest(k = 1)\n",
        "combined_features = FeatureUnion([('pca', pca),('univ_select', selection)])\n",
        "X_features = combined_features.fit(iris_X, iris_y).transform(iris_X)\n",
        "svm = SVC(kernel = 'linear')"
      ],
      "execution_count": null,
      "outputs": []
    },
    {
      "cell_type": "code",
      "metadata": {
        "id": "Nnc4R15GxWiB"
      },
      "source": [
        "pipeline = Pipeline([('features', combined_features), ('svm',svm)])\n",
        "param_grid = dict(features__pca__n_components = [1, 2, 3],\n",
        "                  features__univ__select__k = [1, 2], \n",
        "                  svm__C = [0.1, 1, 10])"
      ],
      "execution_count": null,
      "outputs": []
    },
    {
      "cell_type": "code",
      "metadata": {
        "id": "01fY5sDlxvdI"
      },
      "source": [
        "grid_search = GridSearchCV(pipeline, param_grid = param_grid, cv = 5, verbose = 10)\n",
        "grid_search.fit(iris_X, iris_y)\n",
        "print(grid_search.best_estimator_)"
      ],
      "execution_count": null,
      "outputs": []
    },
    {
      "cell_type": "code",
      "metadata": {
        "id": "Ay1pYnGGx5qu",
        "colab": {
          "base_uri": "https://localhost:8080/"
        },
        "outputId": "148d5b96-8d6c-4f1d-a105-df6abd7c4df2"
      },
      "source": [
        "from sklearn.model_selection import ParameterGrid\n",
        "param_grid = {'a' : [1,2], 'b' : [True, False]}\n",
        "list(ParameterGrid(param_grid))"
      ],
      "execution_count": null,
      "outputs": [
        {
          "output_type": "execute_result",
          "data": {
            "text/plain": [
              "[{'a': 1, 'b': True},\n",
              " {'a': 1, 'b': False},\n",
              " {'a': 2, 'b': True},\n",
              " {'a': 2, 'b': False}]"
            ]
          },
          "metadata": {},
          "execution_count": 114
        }
      ]
    },
    {
      "cell_type": "code",
      "metadata": {
        "colab": {
          "base_uri": "https://localhost:8080/"
        },
        "id": "zYSUK3NOQrxe",
        "outputId": "00f76ac4-20ec-4192-83f0-c23a2c7a917f"
      },
      "source": [
        "param_grid = [{'kernel' : ['linear']}, {'kernel' : ['rbf'], 'gamma' : [1,10]}]\n",
        "list(ParameterGrid(param_grid))"
      ],
      "execution_count": null,
      "outputs": [
        {
          "output_type": "execute_result",
          "data": {
            "text/plain": [
              "[{'kernel': 'linear'},\n",
              " {'gamma': 1, 'kernel': 'rbf'},\n",
              " {'gamma': 10, 'kernel': 'rbf'}]"
            ]
          },
          "metadata": {},
          "execution_count": 115
        }
      ]
    },
    {
      "cell_type": "code",
      "metadata": {
        "colab": {
          "base_uri": "https://localhost:8080/"
        },
        "id": "5gUZFNF1Q35e",
        "outputId": "04ca91b4-c659-45b7-bae8-1e7d72f1d108"
      },
      "source": [
        "ParameterGrid(param_grid)[1]"
      ],
      "execution_count": null,
      "outputs": [
        {
          "output_type": "execute_result",
          "data": {
            "text/plain": [
              "{'gamma': 1, 'kernel': 'rbf'}"
            ]
          },
          "metadata": {},
          "execution_count": 116
        }
      ]
    },
    {
      "cell_type": "code",
      "metadata": {
        "colab": {
          "base_uri": "https://localhost:8080/"
        },
        "id": "S66zKTCAQ_Fp",
        "outputId": "bd6108c9-fb41-4a32-df98-36ae0eefbcf3"
      },
      "source": [
        "%%time\n",
        "from sklearn.svm import SVC\n",
        "from sklearn.model_selection import validation_curve\n",
        "\n",
        "train_scores, test_scores = validation_curve(\n",
        "    SVC(), X, y, param_name = 'gamma', param_range = param_range, cv = 10, scoring = 'accuracy', n_jobs =1\n",
        ")"
      ],
      "execution_count": null,
      "outputs": [
        {
          "output_type": "stream",
          "name": "stdout",
          "text": [
            "CPU times: user 1min 14s, sys: 72.3 ms, total: 1min 14s\n",
            "Wall time: 1min 13s\n"
          ]
        }
      ]
    },
    {
      "cell_type": "code",
      "metadata": {
        "colab": {
          "base_uri": "https://localhost:8080/"
        },
        "id": "GDn407YvRdX4",
        "outputId": "6e89f236-30d2-43d3-eed6-76125ff95503"
      },
      "source": [
        "%%time\n",
        "from sklearn.svm import SVC\n",
        "from sklearn.model_selection import validation_curve\n",
        "\n",
        "train_scores, test_scores = validation_curve(\n",
        "    SVC(), X, y, param_name = 'gamma', param_range = param_range, cv = 10, scoring = 'accuracy', n_jobs =4\n",
        ")"
      ],
      "execution_count": null,
      "outputs": [
        {
          "output_type": "stream",
          "name": "stdout",
          "text": [
            "CPU times: user 898 ms, sys: 164 ms, total: 1.06 s\n",
            "Wall time: 48.3 s\n"
          ]
        }
      ]
    },
    {
      "cell_type": "code",
      "metadata": {
        "colab": {
          "base_uri": "https://localhost:8080/"
        },
        "id": "lr3qvBOBS67o",
        "outputId": "df8ad452-3fa5-44aa-971e-4ba3eb1bc962"
      },
      "source": [
        "%%time\n",
        "from sklearn.datasets import load_digits\n",
        "from sklearn.model_selection import GridSearchCV\n",
        "from sklearn.pipeline import Pipeline\n",
        "from sklearn.svm import LinearSVC\n",
        "from sklearn.decomposition import PCA, NMF\n",
        "from sklearn.feature_selection import SelectKBest, chi2\n",
        "\n",
        "\n",
        "pipe = Pipeline([\n",
        "                 ('reduce_dim', None),\n",
        "                 ('classify', LinearSVC())\n",
        "])\n",
        "\n",
        "\n",
        "N_FEATURES_OPTIONS = [2, 4, 8]\n",
        "C_OPTIONS = [1, 10, 100, 1000]\n",
        "\n",
        "param_grid = [\n",
        "              {\n",
        "                  'reduce_dim' : [PCA(iterated_power=7), NMF()],\n",
        "               'reduce_dim__n_components' : N_FEATURES_OPTIONS,\n",
        "               'classify__C' : C_OPTIONS\n",
        "              },\n",
        "              {\n",
        "                  'reduce_dim' : [SelectKBest(chi2)],\n",
        "               'reduce_dim__k' : N_FEATURES_OPTIONS,\n",
        "               'classify__C' : C_OPTIONS\n",
        "              },\n",
        "]\n",
        "\n",
        "\n",
        "reducer_labels = ['PCA', 'NMF', 'KBEST(chi2)']\n",
        "grid = GridSearchCV(pipe, cv = 5, n_jobs = -1, param_grid=param_grid)\n",
        "digits = load_digits()\n",
        "grid.fit(digits.data, digits.target)"
      ],
      "execution_count": null,
      "outputs": [
        {
          "output_type": "stream",
          "name": "stdout",
          "text": [
            "CPU times: user 1.83 s, sys: 352 ms, total: 2.18 s\n",
            "Wall time: 48.7 s\n"
          ]
        },
        {
          "output_type": "stream",
          "name": "stderr",
          "text": [
            "/usr/local/lib/python3.7/dist-packages/sklearn/svm/_base.py:947: ConvergenceWarning: Liblinear failed to converge, increase the number of iterations.\n",
            "  \"the number of iterations.\", ConvergenceWarning)\n"
          ]
        }
      ]
    },
    {
      "cell_type": "code",
      "metadata": {
        "colab": {
          "base_uri": "https://localhost:8080/",
          "height": 52
        },
        "id": "6Y3gEL2dUXOL",
        "outputId": "87bb8f6e-0eaf-4f28-87e5-39567c4b02b5"
      },
      "source": [
        "%matplotlib inline\n",
        "import matplotlib.pyplot as plt\n",
        "\n",
        "mean_scores = np.array(grid.cv_results_['mean_test_score'])\n",
        "mean_scores = mean_scores.reshape(len(C_OPTIONS), -1,\n",
        "                                  len(N_FEATURES_OPTIONS))\n",
        "\n",
        "mean_scores = mean_scores.max(axis = 0)\n",
        "bar_offsets = (np.arange(len(N_FEATURES_OPTIONS)) *\n",
        "               (len(reducer_labels)+1 )+ .5)\n",
        "\n",
        "plt.figure()\n"
      ],
      "execution_count": null,
      "outputs": [
        {
          "output_type": "execute_result",
          "data": {
            "text/plain": [
              "<Figure size 432x288 with 0 Axes>"
            ]
          },
          "metadata": {},
          "execution_count": 123
        },
        {
          "output_type": "display_data",
          "data": {
            "text/plain": [
              "<Figure size 432x288 with 0 Axes>"
            ]
          },
          "metadata": {}
        }
      ]
    },
    {
      "cell_type": "code",
      "metadata": {
        "colab": {
          "base_uri": "https://localhost:8080/",
          "height": 295
        },
        "id": "61nF1q2mXVh_",
        "outputId": "11aeb3d9-cdd0-4938-e7bc-ea3294ce9257"
      },
      "source": [
        "COLORS = 'bgrcmyk'\n",
        "\n",
        "for i , (label, reducer_scores) in enumerate(zip(reducer_labels, mean_scores)):\n",
        "  plt.bar(bar_offsets +i, reducer_scores, label = label, color = COLORS[i])\n",
        "\n",
        "plt.title('Comparing feature reduction techniques')\n",
        "plt.xlabel('Reduced number of features')\n",
        "plt.xticks(bar_offsets + len(reducer_labels) / 2, N_FEATURES_OPTIONS)\n",
        "plt.ylabel('Digit classification accuracy')\n",
        "plt.ylim((0,1))\n",
        "plt.legend(loc = 'upper left')\n",
        "plt.show()"
      ],
      "execution_count": null,
      "outputs": [
        {
          "output_type": "display_data",
          "data": {
            "image/png": "[encoded data removed]",
            "text/plain": [
              "<Figure size 432x288 with 1 Axes>"
            ]
          },
          "metadata": {
            "needs_background": "light"
          }
        }
      ]
    },
    {
      "cell_type": "code",
      "metadata": {
        "id": "gQQt7aQNYDp0"
      },
      "source": [
        "from tempfile import mkdtemp\n",
        "from shutil import rmtree\n",
        "from joblib import Memory\n"
      ],
      "execution_count": null,
      "outputs": []
    },
    {
      "cell_type": "code",
      "metadata": {
        "colab": {
          "base_uri": "https://localhost:8080/"
        },
        "id": "u1pWv3BAYmwv",
        "outputId": "27866f4c-eebe-4006-d8dd-bb099d874243"
      },
      "source": [
        "cachedir = mkdtemp()\n",
        "memory = Memory(cachedir = cachedir)\n",
        "pipe = Pipeline([\n",
        "                 ('reduce_dim', None),\n",
        "                 ('classify', LinearSVC())\n",
        "])\n",
        "\n",
        "\n",
        "N_FEATURES_OPTIONS = [2, 4, 8]\n",
        "C_OPTIONS = [1, 10, 100, 1000]\n",
        "\n",
        "param_grid = [\n",
        "              {\n",
        "                  'reduce_dim' : [PCA(iterated_power=7), NMF()],\n",
        "               'reduce_dim__n_components' : N_FEATURES_OPTIONS,\n",
        "               'classify__C' : C_OPTIONS\n",
        "              },\n",
        "              {\n",
        "                  'reduce_dim' : [SelectKBest(chi2)],\n",
        "               'reduce_dim__k' : N_FEATURES_OPTIONS,\n",
        "               'classify__C' : C_OPTIONS\n",
        "              },\n",
        "]\n",
        "\n",
        "\n",
        "reducer_labels = ['PCA', 'NMF', 'KBEST(chi2)']\n",
        "grid = GridSearchCV(pipe, cv = 5, n_jobs = -1, param_grid=param_grid)\n",
        "digits = load_digits()\n",
        "grid.fit(digits.data, digits.target)\n",
        "rmtree(cachedir)"
      ],
      "execution_count": null,
      "outputs": [
        {
          "output_type": "stream",
          "name": "stderr",
          "text": [
            "/usr/local/lib/python3.7/dist-packages/ipykernel_launcher.py:2: DeprecationWarning: The 'cachedir' parameter has been deprecated in version 0.12 and will be removed in version 0.14.\n",
            "You provided \"cachedir='/tmp/tmpujc61kq5'\", use \"location='/tmp/tmpujc61kq5'\" instead.\n",
            "  \n",
            "/usr/local/lib/python3.7/dist-packages/sklearn/svm/_base.py:947: ConvergenceWarning: Liblinear failed to converge, increase the number of iterations.\n",
            "  \"the number of iterations.\", ConvergenceWarning)\n"
          ]
        }
      ]
    },
    {
      "cell_type": "code",
      "metadata": {
        "id": "QR8zVhNOY2TX"
      },
      "source": [
        "%matplotlib inline\n",
        "import matplotlib.pyplot as plt\n",
        "\n",
        "from sklearn.datasets import make_classification\n",
        "X, y = make_classification(n_samples = 10000, n_features = 10, n_informative = 5, n_redundant = 0, n_clusters_per_class = 1, n_classes = 2,\n",
        "                           weights = [0.99, 0.01], random_state = 42)\n"
      ],
      "execution_count": null,
      "outputs": []
    },
    {
      "cell_type": "code",
      "metadata": {
        "colab": {
          "base_uri": "https://localhost:8080/",
          "height": 265
        },
        "id": "OCT3nPUWcTBH",
        "outputId": "b7e2e684-fedc-480e-ffcc-d62f2c6d422a"
      },
      "source": [
        "plt.scatter(x = X[:,0], y = X[:,1], marker = 'o', c = y, s = 100, edgecolor = 'k', linewidth = 2, alpha = 0.4)\n",
        "plt.show()"
      ],
      "execution_count": null,
      "outputs": [
        {
          "output_type": "display_data",
          "data": {
            "image/png": "[encoded data removed]",
            "text/plain": [
              "<Figure size 432x288 with 1 Axes>"
            ]
          },
          "metadata": {
            "needs_background": "light"
          }
        }
      ]
    },
    {
      "cell_type": "code",
      "metadata": {
        "colab": {
          "base_uri": "https://localhost:8080/"
        },
        "id": "ZNfPBx8pclmv",
        "outputId": "039c74aa-6682-49b5-a59e-3f9bc94cc723"
      },
      "source": [
        "from sklearn.ensemble import RandomForestClassifier\n",
        "from sklearn.model_selection import train_test_split\n",
        "train_X, test_X, train_y, test_y = train_test_split(X, y , test_size = 0.3, random_state =42)\n",
        "rf_model = RandomForestClassifier(n_estimators = 100, max_features = 2, random_state = 42)\n",
        "rf_model.fit(train_X, train_y)"
      ],
      "execution_count": null,
      "outputs": [
        {
          "output_type": "execute_result",
          "data": {
            "text/plain": [
              "RandomForestClassifier(max_features=2, random_state=42)"
            ]
          },
          "metadata": {},
          "execution_count": 5
        }
      ]
    },
    {
      "cell_type": "code",
      "metadata": {
        "id": "zVRPsQ1Kc55W"
      },
      "source": [
        "rfc_pred = rf_model.predict(test_X)"
      ],
      "execution_count": null,
      "outputs": []
    },
    {
      "cell_type": "code",
      "metadata": {
        "colab": {
          "base_uri": "https://localhost:8080/"
        },
        "id": "pV9481u9dXk8",
        "outputId": "e878e739-1660-4f50-9aca-aef58aaa3f4b"
      },
      "source": [
        "from sklearn.metrics import confusion_matrix\n",
        "confusion_matrix(test_y, rfc_pred)"
      ],
      "execution_count": null,
      "outputs": [
        {
          "output_type": "execute_result",
          "data": {
            "text/plain": [
              "array([[2960,    0],\n",
              "       [  36,    4]])"
            ]
          },
          "metadata": {},
          "execution_count": 7
        }
      ]
    },
    {
      "cell_type": "code",
      "metadata": {
        "colab": {
          "base_uri": "https://localhost:8080/"
        },
        "id": "UJrohGIsdcHA",
        "outputId": "75c7e119-7132-439e-fb07-40a61ac63651"
      },
      "source": [
        "from sklearn.metrics import classification_report\n",
        "print(classification_report(test_y, rfc_pred))"
      ],
      "execution_count": null,
      "outputs": [
        {
          "output_type": "stream",
          "name": "stdout",
          "text": [
            "              precision    recall  f1-score   support\n",
            "\n",
            "           0       0.99      1.00      0.99      2960\n",
            "           1       1.00      0.10      0.18        40\n",
            "\n",
            "    accuracy                           0.99      3000\n",
            "   macro avg       0.99      0.55      0.59      3000\n",
            "weighted avg       0.99      0.99      0.98      3000\n",
            "\n"
          ]
        }
      ]
    },
    {
      "cell_type": "code",
      "metadata": {
        "colab": {
          "base_uri": "https://localhost:8080/"
        },
        "id": "QW-PRXTMdmWR",
        "outputId": "0fb04d1d-317d-4deb-d612-aa7d53d52ff9"
      },
      "source": [
        "! pip install -U imbalanced-learn"
      ],
      "execution_count": null,
      "outputs": [
        {
          "output_type": "stream",
          "name": "stdout",
          "text": [
            "Requirement already satisfied: imbalanced-learn in /usr/local/lib/python3.7/dist-packages (0.8.1)\n",
            "Requirement already satisfied: joblib>=0.11 in /usr/local/lib/python3.7/dist-packages (from imbalanced-learn) (1.0.1)\n",
            "Requirement already satisfied: numpy>=1.13.3 in /usr/local/lib/python3.7/dist-packages (from imbalanced-learn) (1.19.5)\n",
            "Requirement already satisfied: scipy>=0.19.1 in /usr/local/lib/python3.7/dist-packages (from imbalanced-learn) (1.4.1)\n",
            "Requirement already satisfied: scikit-learn>=0.24 in /usr/local/lib/python3.7/dist-packages (from imbalanced-learn) (1.0)\n",
            "Requirement already satisfied: threadpoolctl>=2.0.0 in /usr/local/lib/python3.7/dist-packages (from scikit-learn>=0.24->imbalanced-learn) (3.0.0)\n"
          ]
        }
      ]
    },
    {
      "cell_type": "code",
      "metadata": {
        "id": "qkbnLFZAd-nG"
      },
      "source": [
        "from imblearn.over_sampling import SMOTE\n",
        "sm = SMOTE()\n",
        "X_resampled, y_resampled = sm.fit_resample(X,y)"
      ],
      "execution_count": null,
      "outputs": []
    },
    {
      "cell_type": "code",
      "metadata": {
        "colab": {
          "base_uri": "https://localhost:8080/"
        },
        "id": "kkPUKGjFefzd",
        "outputId": "fed33906-af4c-48b6-f000-5019a2f2038c"
      },
      "source": [
        "X_resampled.shape, y_resampled.shape"
      ],
      "execution_count": null,
      "outputs": [
        {
          "output_type": "execute_result",
          "data": {
            "text/plain": [
              "((19720, 10), (19720,))"
            ]
          },
          "metadata": {},
          "execution_count": 11
        }
      ]
    },
    {
      "cell_type": "code",
      "metadata": {
        "colab": {
          "base_uri": "https://localhost:8080/",
          "height": 265
        },
        "id": "wgUc93XAetm_",
        "outputId": "67073e78-7c63-4c9f-ce66-53869112d585"
      },
      "source": [
        "plt.scatter(x = X_resampled[:,0], y = X_resampled[:,1], marker = 'o', c = y_resampled, s= 100, edgecolor = 'k', linewidth = 2, alpha = 0.1)\n",
        "plt.show()"
      ],
      "execution_count": null,
      "outputs": [
        {
          "output_type": "display_data",
          "data": {
            "image/png": "[encoded data removed]",
            "text/plain": [
              "<Figure size 432x288 with 1 Axes>"
            ]
          },
          "metadata": {
            "needs_background": "light"
          }
        }
      ]
    },
    {
      "cell_type": "code",
      "metadata": {
        "colab": {
          "base_uri": "https://localhost:8080/"
        },
        "id": "UgZpjZ2fe8ZV",
        "outputId": "e92fc7f9-00c2-406c-ab88-f394742a2593"
      },
      "source": [
        "from sklearn.model_selection import train_test_split\n",
        "train_X, test_X, train_y, test_y = train_test_split(X_resampled, y_resampled, test_size = 0.3, shuffle = True, random_state = 42)\n",
        "train_X.shape, test_X.shape, train_y.shape, test_y.shape"
      ],
      "execution_count": null,
      "outputs": [
        {
          "output_type": "execute_result",
          "data": {
            "text/plain": [
              "((13804, 10), (5916, 10), (13804,), (5916,))"
            ]
          },
          "metadata": {},
          "execution_count": 13
        }
      ]
    },
    {
      "cell_type": "code",
      "metadata": {
        "colab": {
          "base_uri": "https://localhost:8080/"
        },
        "id": "b3kj_12PfRWN",
        "outputId": "f98510db-e7ef-411b-ff26-ec568b6b5e4b"
      },
      "source": [
        "from sklearn.ensemble import RandomForestClassifier\n",
        "rf_model = RandomForestClassifier(n_estimators=100, max_features=2, random_state=42)\n",
        "rf_model.fit(train_X, train_y)"
      ],
      "execution_count": null,
      "outputs": [
        {
          "output_type": "execute_result",
          "data": {
            "text/plain": [
              "RandomForestClassifier(max_features=2, random_state=42)"
            ]
          },
          "metadata": {},
          "execution_count": 15
        }
      ]
    },
    {
      "cell_type": "code",
      "metadata": {
        "colab": {
          "base_uri": "https://localhost:8080/"
        },
        "id": "uG_aPp1vffaQ",
        "outputId": "8f833dc5-32be-47c8-b251-7e9b5514d293"
      },
      "source": [
        "pred = rf_model.predict(test_X)\n",
        "from sklearn.metrics import confusion_matrix\n",
        "confusion_matrix(test_y, pred)"
      ],
      "execution_count": null,
      "outputs": [
        {
          "output_type": "execute_result",
          "data": {
            "text/plain": [
              "array([[2965,    3],\n",
              "       [  25, 2923]])"
            ]
          },
          "metadata": {},
          "execution_count": 16
        }
      ]
    },
    {
      "cell_type": "code",
      "metadata": {
        "colab": {
          "base_uri": "https://localhost:8080/"
        },
        "id": "eSgSCKbwfqHH",
        "outputId": "73321a08-58eb-4f35-a98c-5eafd2539f2f"
      },
      "source": [
        "from sklearn.metrics import classification_report\n",
        "print(classification_report(test_y, pred))"
      ],
      "execution_count": null,
      "outputs": [
        {
          "output_type": "stream",
          "name": "stdout",
          "text": [
            "              precision    recall  f1-score   support\n",
            "\n",
            "           0       0.99      1.00      1.00      2968\n",
            "           1       1.00      0.99      1.00      2948\n",
            "\n",
            "    accuracy                           1.00      5916\n",
            "   macro avg       1.00      1.00      1.00      5916\n",
            "weighted avg       1.00      1.00      1.00      5916\n",
            "\n"
          ]
        }
      ]
    },
    {
      "cell_type": "code",
      "metadata": {
        "id": "SqPG60fAgVju"
      },
      "source": [
        "from sklearn.datasets import make_classification\n",
        "X, y = make_classification(n_samples = 10000, n_features = 10, n_informative=5, \n",
        "                           n_redundant = 0, n_clusters_per_class = 1, n_classes = 2, weights = [0.99, 0.01],\n",
        "                           random_state = 42)"
      ],
      "execution_count": null,
      "outputs": []
    },
    {
      "cell_type": "code",
      "metadata": {
        "id": "lqS05wEggvBd"
      },
      "source": [
        "from sklearn.model_selection import train_test_split\n",
        "train_X, test_X, train_y, test_y = train_test_split(X, y , test_size = 0.3, stratify = y , random_state = 42)"
      ],
      "execution_count": null,
      "outputs": []
    },
    {
      "cell_type": "code",
      "metadata": {
        "colab": {
          "base_uri": "https://localhost:8080/"
        },
        "id": "DoKJ1dygg69E",
        "outputId": "83be0d51-7f9b-4e66-bd3e-d94229b5d794"
      },
      "source": [
        "from imblearn.over_sampling import SMOTE\n",
        "sm = SMOTE()\n",
        "resampled_X, resampled_y = sm.fit_resample(train_X, train_y)\n",
        "resampled_X.shape, resampled_y.shape"
      ],
      "execution_count": null,
      "outputs": [
        {
          "output_type": "execute_result",
          "data": {
            "text/plain": [
              "((13804, 10), (13804,))"
            ]
          },
          "metadata": {},
          "execution_count": 21
        }
      ]
    },
    {
      "cell_type": "code",
      "metadata": {
        "colab": {
          "base_uri": "https://localhost:8080/"
        },
        "id": "UvXbA4yVhH-c",
        "outputId": "1d74f5a8-9677-4d3e-c558-064489753a17"
      },
      "source": [
        "from sklearn.ensemble import RandomForestClassifier\n",
        "rf_model = RandomForestClassifier(n_estimators = 100,  max_features=2, random_state = 42)\n",
        "rf_model.fit(resampled_X, resampled_y)"
      ],
      "execution_count": null,
      "outputs": [
        {
          "output_type": "execute_result",
          "data": {
            "text/plain": [
              "RandomForestClassifier(max_features=2, random_state=42)"
            ]
          },
          "metadata": {},
          "execution_count": 22
        }
      ]
    },
    {
      "cell_type": "code",
      "metadata": {
        "colab": {
          "base_uri": "https://localhost:8080/"
        },
        "id": "YJUmIISXhcrd",
        "outputId": "dba42b13-e840-47c2-c6e7-9ccb758794ca"
      },
      "source": [
        "pred = rf_model.predict(test_X)\n",
        "from sklearn.metrics import confusion_matrix\n",
        "confusion_matrix(test_y, pred)\n",
        "\n",
        "from sklearn.metrics import classification_report\n",
        "print(classification_report(test_y, pred))\n"
      ],
      "execution_count": null,
      "outputs": [
        {
          "output_type": "stream",
          "name": "stdout",
          "text": [
            "              precision    recall  f1-score   support\n",
            "\n",
            "           0       0.99      1.00      1.00      2958\n",
            "           1       0.93      0.33      0.49        42\n",
            "\n",
            "    accuracy                           0.99      3000\n",
            "   macro avg       0.96      0.67      0.74      3000\n",
            "weighted avg       0.99      0.99      0.99      3000\n",
            "\n"
          ]
        }
      ]
    },
    {
      "cell_type": "code",
      "metadata": {
        "id": "Slecqw8Ah4fh"
      },
      "source": [
        "from sklearn.datasets import make_classification\n",
        "X,y = make_classification(n_samples = 10000, n_features = 10 , n_informative = 5, n_redundant = 0, n_clusters_per_class= 1, n_classes = 2, weights = [0.99,0.01],\n",
        "                          random_state = 42)"
      ],
      "execution_count": null,
      "outputs": []
    },
    {
      "cell_type": "code",
      "metadata": {
        "id": "zQ3nL2hciXfk"
      },
      "source": [
        "from sklearn.model_selection import train_test_split\n",
        "train_X, test_X, train_y, test_y = train_test_split(X, y , test_size = 0.3, stratify = y, random_state = 42)"
      ],
      "execution_count": null,
      "outputs": []
    },
    {
      "cell_type": "code",
      "metadata": {
        "colab": {
          "base_uri": "https://localhost:8080/"
        },
        "id": "6AxGQNuTiimo",
        "outputId": "e277b55a-6fc6-4238-fe9c-5b7697171179"
      },
      "source": [
        "from sklearn.ensemble import RandomForestClassifier\n",
        "rf_model = RandomForestClassifier(n_estimators = 100, max_features= 2, class_weight={0:1, 1:1.4}, random_state = 42)\n",
        "rf_model.fit(train_X,train_y)"
      ],
      "execution_count": null,
      "outputs": [
        {
          "output_type": "execute_result",
          "data": {
            "text/plain": [
              "RandomForestClassifier(class_weight={0: 1, 1: 1.4}, max_features=2,\n",
              "                       random_state=42)"
            ]
          },
          "metadata": {},
          "execution_count": 29
        }
      ]
    },
    {
      "cell_type": "code",
      "metadata": {
        "colab": {
          "base_uri": "https://localhost:8080/"
        },
        "id": "RHPz_ZxKizcM",
        "outputId": "f8aa7cff-2d37-4178-904a-680722264606"
      },
      "source": [
        "rfc_pred = rf_model.predict(test_X)\n",
        "from sklearn.metrics import classification_report\n",
        "print(classification_report(test_y, rfc_pred))"
      ],
      "execution_count": null,
      "outputs": [
        {
          "output_type": "stream",
          "name": "stdout",
          "text": [
            "              precision    recall  f1-score   support\n",
            "\n",
            "           0       0.99      1.00      0.99      2958\n",
            "           1       1.00      0.21      0.35        42\n",
            "\n",
            "    accuracy                           0.99      3000\n",
            "   macro avg       0.99      0.61      0.67      3000\n",
            "weighted avg       0.99      0.99      0.99      3000\n",
            "\n"
          ]
        }
      ]
    },
    {
      "cell_type": "code",
      "metadata": {
        "colab": {
          "base_uri": "https://localhost:8080/"
        },
        "id": "3_mLW4L1jDXq",
        "outputId": "847998cf-c8d8-462e-bc92-d696fad47818"
      },
      "source": [
        "import numpy as np\n",
        "\n",
        "N = 1000000\n",
        "bootstrap = np.random.choice(N, N, replace = True)\n",
        "np.round(len(set(bootstrap))/N, 3)"
      ],
      "execution_count": null,
      "outputs": [
        {
          "output_type": "execute_result",
          "data": {
            "text/plain": [
              "0.632"
            ]
          },
          "metadata": {},
          "execution_count": 33
        }
      ]
    },
    {
      "cell_type": "code",
      "metadata": {
        "id": "KaYR-imWjilu"
      },
      "source": [
        "import pandas as pd\n",
        "\n",
        "wine_df = pd.read_csv('wine.data', header = None)"
      ],
      "execution_count": null,
      "outputs": []
    },
    {
      "cell_type": "code",
      "metadata": {
        "colab": {
          "base_uri": "https://localhost:8080/",
          "height": 224
        },
        "id": "c4d5UJ46lK1S",
        "outputId": "6b421861-dcfb-4498-bfff-3e4e64bf2fa3"
      },
      "source": [
        "wind_df.head()"
      ],
      "execution_count": null,
      "outputs": [
        {
          "output_type": "execute_result",
          "data": {
            "text/html": [
              "<div>\n",
              "<style scoped>\n",
              "    .dataframe tbody tr th:only-of-type {\n",
              "        vertical-align: middle;\n",
              "    }\n",
              "\n",
              "    .dataframe tbody tr th {\n",
              "        vertical-align: top;\n",
              "    }\n",
              "\n",
              "    .dataframe thead th {\n",
              "        text-align: right;\n",
              "    }\n",
              "</style>\n",
              "<table border=\"1\" class=\"dataframe\">\n",
              "  <thead>\n",
              "    <tr style=\"text-align: right;\">\n",
              "      <th></th>\n",
              "      <th>fixed acidity;\"volatile acidity\";\"citric acid\";\"residual sugar\";\"chlorides\";\"free sulfur dioxide\";\"total sulfur dioxide\";\"density\";\"pH\";\"sulphates\";\"alcohol\";\"quality\"</th>\n",
              "    </tr>\n",
              "  </thead>\n",
              "  <tbody>\n",
              "    <tr>\n",
              "      <th>0</th>\n",
              "      <td>7.4;0.7;0;1.9;0.076;11;34;0.9978;3.51;0.56;9.4;5</td>\n",
              "    </tr>\n",
              "    <tr>\n",
              "      <th>1</th>\n",
              "      <td>7.8;0.88;0;2.6;0.098;25;67;0.9968;3.2;0.68;9.8;5</td>\n",
              "    </tr>\n",
              "    <tr>\n",
              "      <th>2</th>\n",
              "      <td>7.8;0.76;0.04;2.3;0.092;15;54;0.997;3.26;0.65;...</td>\n",
              "    </tr>\n",
              "    <tr>\n",
              "      <th>3</th>\n",
              "      <td>11.2;0.28;0.56;1.9;0.075;17;60;0.998;3.16;0.58...</td>\n",
              "    </tr>\n",
              "    <tr>\n",
              "      <th>4</th>\n",
              "      <td>7.4;0.7;0;1.9;0.076;11;34;0.9978;3.51;0.56;9.4;5</td>\n",
              "    </tr>\n",
              "  </tbody>\n",
              "</table>\n",
              "</div>"
            ],
            "text/plain": [
              "  fixed acidity;\"volatile acidity\";\"citric acid\";\"residual sugar\";\"chlorides\";\"free sulfur dioxide\";\"total sulfur dioxide\";\"density\";\"pH\";\"sulphates\";\"alcohol\";\"quality\"\n",
              "0   7.4;0.7;0;1.9;0.076;11;34;0.9978;3.51;0.56;9.4;5                                                                                                                     \n",
              "1   7.8;0.88;0;2.6;0.098;25;67;0.9968;3.2;0.68;9.8;5                                                                                                                     \n",
              "2  7.8;0.76;0.04;2.3;0.092;15;54;0.997;3.26;0.65;...                                                                                                                     \n",
              "3  11.2;0.28;0.56;1.9;0.075;17;60;0.998;3.16;0.58...                                                                                                                     \n",
              "4   7.4;0.7;0;1.9;0.076;11;34;0.9978;3.51;0.56;9.4;5                                                                                                                     "
            ]
          },
          "metadata": {},
          "execution_count": 47
        }
      ]
    },
    {
      "cell_type": "code",
      "metadata": {
        "id": "rY5foY4Aj4lg"
      },
      "source": [
        "wine_df.columns = ['Class label', 'Alcohol', 'Malic acid', 'Ash',\n",
        "                   'Alcalinity of ash', 'Magnesium', 'Total phenols',\n",
        "                   'Flavanoids', 'Nonflavanoid phenols',\n",
        "                   'Proanthocyanins', 'Color intensity', 'Hue',\n",
        "                   'OD280/OD315 of diluted wines', 'Proline']"
      ],
      "execution_count": null,
      "outputs": []
    },
    {
      "cell_type": "code",
      "metadata": {
        "colab": {
          "base_uri": "https://localhost:8080/",
          "height": 261
        },
        "id": "u1fXk5S-ka5a",
        "outputId": "c5d0c350-218c-4bb4-bf77-d3e0d3b8a1ea"
      },
      "source": [
        "wine_df.head()"
      ],
      "execution_count": null,
      "outputs": [
        {
          "output_type": "execute_result",
          "data": {
            "text/html": [
              "<div>\n",
              "<style scoped>\n",
              "    .dataframe tbody tr th:only-of-type {\n",
              "        vertical-align: middle;\n",
              "    }\n",
              "\n",
              "    .dataframe tbody tr th {\n",
              "        vertical-align: top;\n",
              "    }\n",
              "\n",
              "    .dataframe thead th {\n",
              "        text-align: right;\n",
              "    }\n",
              "</style>\n",
              "<table border=\"1\" class=\"dataframe\">\n",
              "  <thead>\n",
              "    <tr style=\"text-align: right;\">\n",
              "      <th></th>\n",
              "      <th>Class label</th>\n",
              "      <th>Alcohol</th>\n",
              "      <th>Malic acid</th>\n",
              "      <th>Ash</th>\n",
              "      <th>Alcalinity of ash</th>\n",
              "      <th>Magnesium</th>\n",
              "      <th>Total phenols</th>\n",
              "      <th>Flavanoids</th>\n",
              "      <th>Nonflavanoid phenols</th>\n",
              "      <th>Proanthocyanins</th>\n",
              "      <th>Color intensity</th>\n",
              "      <th>Hue</th>\n",
              "      <th>OD280/OD315 of diluted wines</th>\n",
              "      <th>Proline</th>\n",
              "    </tr>\n",
              "  </thead>\n",
              "  <tbody>\n",
              "    <tr>\n",
              "      <th>0</th>\n",
              "      <td>1</td>\n",
              "      <td>14.23</td>\n",
              "      <td>1.71</td>\n",
              "      <td>2.43</td>\n",
              "      <td>15.6</td>\n",
              "      <td>127</td>\n",
              "      <td>2.80</td>\n",
              "      <td>3.06</td>\n",
              "      <td>0.28</td>\n",
              "      <td>2.29</td>\n",
              "      <td>5.64</td>\n",
              "      <td>1.04</td>\n",
              "      <td>3.92</td>\n",
              "      <td>1065</td>\n",
              "    </tr>\n",
              "    <tr>\n",
              "      <th>1</th>\n",
              "      <td>1</td>\n",
              "      <td>13.20</td>\n",
              "      <td>1.78</td>\n",
              "      <td>2.14</td>\n",
              "      <td>11.2</td>\n",
              "      <td>100</td>\n",
              "      <td>2.65</td>\n",
              "      <td>2.76</td>\n",
              "      <td>0.26</td>\n",
              "      <td>1.28</td>\n",
              "      <td>4.38</td>\n",
              "      <td>1.05</td>\n",
              "      <td>3.40</td>\n",
              "      <td>1050</td>\n",
              "    </tr>\n",
              "    <tr>\n",
              "      <th>2</th>\n",
              "      <td>1</td>\n",
              "      <td>13.16</td>\n",
              "      <td>2.36</td>\n",
              "      <td>2.67</td>\n",
              "      <td>18.6</td>\n",
              "      <td>101</td>\n",
              "      <td>2.80</td>\n",
              "      <td>3.24</td>\n",
              "      <td>0.30</td>\n",
              "      <td>2.81</td>\n",
              "      <td>5.68</td>\n",
              "      <td>1.03</td>\n",
              "      <td>3.17</td>\n",
              "      <td>1185</td>\n",
              "    </tr>\n",
              "    <tr>\n",
              "      <th>3</th>\n",
              "      <td>1</td>\n",
              "      <td>14.37</td>\n",
              "      <td>1.95</td>\n",
              "      <td>2.50</td>\n",
              "      <td>16.8</td>\n",
              "      <td>113</td>\n",
              "      <td>3.85</td>\n",
              "      <td>3.49</td>\n",
              "      <td>0.24</td>\n",
              "      <td>2.18</td>\n",
              "      <td>7.80</td>\n",
              "      <td>0.86</td>\n",
              "      <td>3.45</td>\n",
              "      <td>1480</td>\n",
              "    </tr>\n",
              "    <tr>\n",
              "      <th>4</th>\n",
              "      <td>1</td>\n",
              "      <td>13.24</td>\n",
              "      <td>2.59</td>\n",
              "      <td>2.87</td>\n",
              "      <td>21.0</td>\n",
              "      <td>118</td>\n",
              "      <td>2.80</td>\n",
              "      <td>2.69</td>\n",
              "      <td>0.39</td>\n",
              "      <td>1.82</td>\n",
              "      <td>4.32</td>\n",
              "      <td>1.04</td>\n",
              "      <td>2.93</td>\n",
              "      <td>735</td>\n",
              "    </tr>\n",
              "  </tbody>\n",
              "</table>\n",
              "</div>"
            ],
            "text/plain": [
              "   Class label  Alcohol  ...  OD280/OD315 of diluted wines  Proline\n",
              "0            1    14.23  ...                          3.92     1065\n",
              "1            1    13.20  ...                          3.40     1050\n",
              "2            1    13.16  ...                          3.17     1185\n",
              "3            1    14.37  ...                          3.45     1480\n",
              "4            1    13.24  ...                          2.93      735\n",
              "\n",
              "[5 rows x 14 columns]"
            ]
          },
          "metadata": {},
          "execution_count": 49
        }
      ]
    },
    {
      "cell_type": "code",
      "metadata": {
        "id": "-9DXcc_CmVKY"
      },
      "source": [
        "wine_df = wine_df[wine_df['Class label']  != 1]\n",
        "X  = wine_df[['Alcohol', 'Hue']].values\n",
        "y = wine_df['Class label'].values"
      ],
      "execution_count": null,
      "outputs": []
    },
    {
      "cell_type": "code",
      "metadata": {
        "id": "0J_-Lxzsmlpn"
      },
      "source": [
        "from sklearn.preprocessing import LabelEncoder\n",
        "le = LabelEncoder()\n",
        "y = le.fit_transform(y)"
      ],
      "execution_count": null,
      "outputs": []
    },
    {
      "cell_type": "code",
      "metadata": {
        "colab": {
          "base_uri": "https://localhost:8080/"
        },
        "id": "DQyPd2aJm4GL",
        "outputId": "37b3df51-7cf2-45b1-a5de-3b7a274b52e7"
      },
      "source": [
        "from sklearn.model_selection import train_test_split\n",
        "train_X, test_X, train_y, test_y = train_test_split(X, y , test_size = 0.4, random_state = 1)\n",
        "train_y, test_y"
      ],
      "execution_count": null,
      "outputs": [
        {
          "output_type": "execute_result",
          "data": {
            "text/plain": [
              "(array([0, 0, 0, 1, 0, 0, 1, 1, 0, 1, 0, 1, 0, 0, 0, 1, 0, 0, 0, 0, 1, 1,\n",
              "        0, 0, 0, 0, 1, 0, 1, 0, 1, 0, 0, 0, 1, 0, 0, 0, 0, 0, 1, 0, 1, 1,\n",
              "        1, 0, 1, 0, 0, 0, 0, 1, 0, 1, 0, 0, 0, 0, 1, 1, 0, 0, 0, 1, 0, 1,\n",
              "        0, 1, 0, 1, 0]),\n",
              " array([1, 0, 0, 1, 1, 0, 0, 1, 0, 1, 1, 1, 0, 1, 1, 0, 1, 1, 0, 0, 1, 0,\n",
              "        1, 1, 0, 1, 0, 0, 1, 1, 0, 0, 0, 0, 0, 0, 0, 1, 0, 0, 1, 0, 0, 1,\n",
              "        0, 1, 1, 1]))"
            ]
          },
          "metadata": {},
          "execution_count": 58
        }
      ]
    },
    {
      "cell_type": "code",
      "metadata": {
        "colab": {
          "base_uri": "https://localhost:8080/"
        },
        "id": "1ViIkxfnnDaB",
        "outputId": "a58ff591-df38-4ed7-8225-a55f5da1db49"
      },
      "source": [
        "from sklearn.tree import DecisionTreeClassifier\n",
        "tree = DecisionTreeClassifier(criterion = 'entropy', max_depth = None, random_state = 1)\n",
        "tree.fit(train_X, train_y)"
      ],
      "execution_count": null,
      "outputs": [
        {
          "output_type": "execute_result",
          "data": {
            "text/plain": [
              "DecisionTreeClassifier(criterion='entropy', random_state=1)"
            ]
          },
          "metadata": {},
          "execution_count": 59
        }
      ]
    },
    {
      "cell_type": "code",
      "metadata": {
        "colab": {
          "base_uri": "https://localhost:8080/"
        },
        "id": "PyfIOJXJnu8K",
        "outputId": "9e01310c-a02c-40dc-ff0f-11437a3c39fd"
      },
      "source": [
        "tree.score(test_X, test_y)"
      ],
      "execution_count": null,
      "outputs": [
        {
          "output_type": "execute_result",
          "data": {
            "text/plain": [
              "0.8333333333333334"
            ]
          },
          "metadata": {},
          "execution_count": 61
        }
      ]
    },
    {
      "cell_type": "code",
      "metadata": {
        "id": "FVEKz_QNnz9q"
      },
      "source": [
        "from sklearn.ensemble import BaggingClassifier\n",
        "\n",
        "bag = BaggingClassifier(base_estimator = tree, n_estimators = 500, bootstrap = True, bootstrap_features = False, \n",
        "                        random_state = 1)"
      ],
      "execution_count": null,
      "outputs": []
    },
    {
      "cell_type": "code",
      "metadata": {
        "colab": {
          "base_uri": "https://localhost:8080/"
        },
        "id": "2UuIWA_noF5K",
        "outputId": "8508659a-24c1-44b9-e6da-0315808a08df"
      },
      "source": [
        "bag.fit(train_X, train_y)"
      ],
      "execution_count": null,
      "outputs": [
        {
          "output_type": "execute_result",
          "data": {
            "text/plain": [
              "BaggingClassifier(base_estimator=DecisionTreeClassifier(criterion='entropy',\n",
              "                                                        random_state=1),\n",
              "                  n_estimators=500, random_state=1)"
            ]
          },
          "metadata": {},
          "execution_count": 63
        }
      ]
    },
    {
      "cell_type": "code",
      "metadata": {
        "colab": {
          "base_uri": "https://localhost:8080/"
        },
        "id": "wZdZi00yoHv0",
        "outputId": "3e0b43d0-9186-4b2e-9b8b-02c39fb31057"
      },
      "source": [
        "bag.score(test_X, test_y)"
      ],
      "execution_count": null,
      "outputs": [
        {
          "output_type": "execute_result",
          "data": {
            "text/plain": [
              "0.8958333333333334"
            ]
          },
          "metadata": {},
          "execution_count": 64
        }
      ]
    },
    {
      "cell_type": "code",
      "metadata": {
        "id": "BjpKjpeHoJ7B"
      },
      "source": [
        "from sklearn.ensemble import RandomForestClassifier\n",
        "rf = RandomForestClassifier()"
      ],
      "execution_count": null,
      "outputs": []
    },
    {
      "cell_type": "code",
      "metadata": {
        "colab": {
          "base_uri": "https://localhost:8080/"
        },
        "id": "IJPZ6ZYkoVjH",
        "outputId": "0dae3150-a9e5-4408-b3dd-6f3f9efe1309"
      },
      "source": [
        "rf.fit(train_X, train_y)"
      ],
      "execution_count": null,
      "outputs": [
        {
          "output_type": "execute_result",
          "data": {
            "text/plain": [
              "RandomForestClassifier()"
            ]
          },
          "metadata": {},
          "execution_count": 69
        }
      ]
    },
    {
      "cell_type": "code",
      "metadata": {
        "colab": {
          "base_uri": "https://localhost:8080/"
        },
        "id": "0k7bhOb8oXRy",
        "outputId": "89a254a4-ff4e-4314-bcb9-658a441be7ed"
      },
      "source": [
        "rf.score(test_X, test_y)"
      ],
      "execution_count": null,
      "outputs": [
        {
          "output_type": "execute_result",
          "data": {
            "text/plain": [
              "0.9166666666666666"
            ]
          },
          "metadata": {},
          "execution_count": 70
        }
      ]
    },
    {
      "cell_type": "code",
      "metadata": {
        "id": "Bqev4fxponaf"
      },
      "source": [
        "import numpy as np\n",
        "\n",
        "x_min, x_max = train_X[:,0].min()-1, train_X[:,0].max() +1\n",
        "y_min, y_max = train_X[:,1].min()-1, train_X[:,1].max() +1\n",
        "\n",
        "xx, yy = np.meshgrid(np.arange(x_min, x_max,0.1),\n",
        "                     np.arange(y_min, y_max,0.1))"
      ],
      "execution_count": null,
      "outputs": []
    },
    {
      "cell_type": "code",
      "metadata": {
        "colab": {
          "base_uri": "https://localhost:8080/",
          "height": 225
        },
        "id": "wKL-yflZpCs9",
        "outputId": "4675912f-2f08-457e-b8ca-3d44d518b47d"
      },
      "source": [
        "import matplotlib.pyplot as plt\n",
        "\n",
        "fig,axes = plt.subplots(nrows = 1, ncols = 3, sharex = 'col', sharey = 'row', figsize = (12,3))\n",
        "\n",
        "model_info = zip([0, 1, 2],\n",
        "                 [tree, bag, rf],\n",
        "                 ['Decision Tree', 'Bagging', 'Random Forest'])\n",
        "for idx, model, title_txt in model_info:\n",
        "  model.fit(train_X, train_y)\n",
        "\n",
        "  Z = model.predict(np.c_[xx.ravel(), yy.ravel()])\n",
        "  Z = Z.reshape(xx.shape)\n",
        "\n",
        "  axes[idx].contourf(xx, yy , Z, alpha = 0.3)\n",
        "  axes[idx].scatter(train_X[train_y == 0,0], train_X[train_y == 0,1],\n",
        "                    c = 'blue', marker = '^')\n",
        "  axes[idx].scatter(train_X[train_y == 1,0], train_X[train_y == 1,1],\n",
        "                    c = 'red', marker = 'o')\n",
        "  axes[idx].set_title(title_txt)\n",
        "  axes[idx].set_xlabel('Hue', fontsize = 12)\n",
        "\n",
        "axes[0].set_ylabel('Alcohol', fontsize = 12) \n",
        "\n",
        "plt.tight_layout()\n",
        "plt.show()\n",
        "  "
      ],
      "execution_count": null,
      "outputs": [
        {
          "output_type": "display_data",
          "data": {
            "image/png": "[encoded data removed]",
            "text/plain": [
              "<Figure size 864x216 with 3 Axes>"
            ]
          },
          "metadata": {
            "needs_background": "light"
          }
        }
      ]
    },
    {
      "cell_type": "code",
      "metadata": {
        "colab": {
          "base_uri": "https://localhost:8080/"
        },
        "id": "ad2knHVtqT2W",
        "outputId": "4f6f2177-5fb5-46a6-d240-60edcd4fe343"
      },
      "source": [
        "from sklearn.ensemble import AdaBoostClassifier\n",
        "abm = AdaBoostClassifier(base_estimator = tree, n_estimators = 500, \n",
        "                         random_state = 1)\n",
        "abm.fit(train_X, train_y)"
      ],
      "execution_count": null,
      "outputs": [
        {
          "output_type": "execute_result",
          "data": {
            "text/plain": [
              "AdaBoostClassifier(base_estimator=DecisionTreeClassifier(criterion='entropy',\n",
              "                                                         random_state=1),\n",
              "                   n_estimators=500, random_state=1)"
            ]
          },
          "metadata": {},
          "execution_count": 74
        }
      ]
    },
    {
      "cell_type": "code",
      "metadata": {
        "colab": {
          "base_uri": "https://localhost:8080/"
        },
        "id": "Pjv6C4GasA1Z",
        "outputId": "5a0fde97-34a2-4e4a-d3d3-d0ca1b73224c"
      },
      "source": [
        "abm.score(test_X, test_y)"
      ],
      "execution_count": null,
      "outputs": [
        {
          "output_type": "execute_result",
          "data": {
            "text/plain": [
              "0.8333333333333334"
            ]
          },
          "metadata": {},
          "execution_count": 75
        }
      ]
    },
    {
      "cell_type": "code",
      "metadata": {
        "colab": {
          "base_uri": "https://localhost:8080/"
        },
        "id": "SOuCeA8BsEHI",
        "outputId": "29db17c1-114c-4bc7-d3e8-185ada546ad5"
      },
      "source": [
        "from sklearn.ensemble import GradientBoostingClassifier\n",
        "\n",
        "gbm = GradientBoostingClassifier(n_estimators = 500,  random_state = 1)\n",
        "gbm.fit(train_X, train_y)"
      ],
      "execution_count": null,
      "outputs": [
        {
          "output_type": "execute_result",
          "data": {
            "text/plain": [
              "GradientBoostingClassifier(n_estimators=500, random_state=1)"
            ]
          },
          "metadata": {},
          "execution_count": 79
        }
      ]
    },
    {
      "cell_type": "code",
      "metadata": {
        "colab": {
          "base_uri": "https://localhost:8080/"
        },
        "id": "hQbTdVZ5sYfF",
        "outputId": "25752ce2-55e6-4199-cf5d-00add93c3491"
      },
      "source": [
        "gbm.score(test_X, test_y)"
      ],
      "execution_count": null,
      "outputs": [
        {
          "output_type": "execute_result",
          "data": {
            "text/plain": [
              "0.875"
            ]
          },
          "metadata": {},
          "execution_count": 80
        }
      ]
    },
    {
      "cell_type": "code",
      "metadata": {
        "colab": {
          "base_uri": "https://localhost:8080/"
        },
        "id": "fBkdkGUjshLh",
        "outputId": "7c66c23b-0dd1-439d-be09-94ddcbb1ecb3"
      },
      "source": [
        "! pip install xgboost"
      ],
      "execution_count": null,
      "outputs": [
        {
          "output_type": "stream",
          "name": "stdout",
          "text": [
            "Requirement already satisfied: xgboost in /usr/local/lib/python3.7/dist-packages (0.90)\n",
            "Requirement already satisfied: numpy in /usr/local/lib/python3.7/dist-packages (from xgboost) (1.19.5)\n",
            "Requirement already satisfied: scipy in /usr/local/lib/python3.7/dist-packages (from xgboost) (1.4.1)\n"
          ]
        }
      ]
    },
    {
      "cell_type": "code",
      "metadata": {
        "colab": {
          "base_uri": "https://localhost:8080/"
        },
        "id": "gJYdjYbRsmKG",
        "outputId": "4350bf75-4973-4efe-b15d-f71e110125d4"
      },
      "source": [
        "from xgboost import XGBClassifier\n",
        "xgb = XGBClassifier()\n",
        "xgb.fit(train_X,train_y, eval_metric = 'logloss')"
      ],
      "execution_count": null,
      "outputs": [
        {
          "output_type": "execute_result",
          "data": {
            "text/plain": [
              "XGBClassifier()"
            ]
          },
          "metadata": {},
          "execution_count": 82
        }
      ]
    },
    {
      "cell_type": "code",
      "metadata": {
        "colab": {
          "base_uri": "https://localhost:8080/"
        },
        "id": "X5pMIXYstBlJ",
        "outputId": "37ddc4c8-f664-47ee-f247-b6034524c9d7"
      },
      "source": [
        "xgb.score(test_X, test_y)"
      ],
      "execution_count": null,
      "outputs": [
        {
          "output_type": "execute_result",
          "data": {
            "text/plain": [
              "0.875"
            ]
          },
          "metadata": {},
          "execution_count": 83
        }
      ]
    },
    {
      "cell_type": "code",
      "metadata": {
        "colab": {
          "base_uri": "https://localhost:8080/"
        },
        "id": "Ij3jlnOetET2",
        "outputId": "cbd51ef2-2243-493e-9fcf-0e2476c21389"
      },
      "source": [
        "! pip install lightgbm"
      ],
      "execution_count": null,
      "outputs": [
        {
          "output_type": "stream",
          "name": "stdout",
          "text": [
            "Requirement already satisfied: lightgbm in /usr/local/lib/python3.7/dist-packages (2.2.3)\n",
            "Requirement already satisfied: scikit-learn in /usr/local/lib/python3.7/dist-packages (from lightgbm) (1.0)\n",
            "Requirement already satisfied: numpy in /usr/local/lib/python3.7/dist-packages (from lightgbm) (1.19.5)\n",
            "Requirement already satisfied: scipy in /usr/local/lib/python3.7/dist-packages (from lightgbm) (1.4.1)\n",
            "Requirement already satisfied: joblib>=0.11 in /usr/local/lib/python3.7/dist-packages (from scikit-learn->lightgbm) (1.0.1)\n",
            "Requirement already satisfied: threadpoolctl>=2.0.0 in /usr/local/lib/python3.7/dist-packages (from scikit-learn->lightgbm) (3.0.0)\n"
          ]
        }
      ]
    },
    {
      "cell_type": "code",
      "metadata": {
        "colab": {
          "base_uri": "https://localhost:8080/"
        },
        "id": "noVA11w9tLp2",
        "outputId": "07e18844-c4ab-40e9-b790-d5bf72977e37"
      },
      "source": [
        "from lightgbm import LGBMClassifier\n",
        "lgbm = LGBMClassifier()\n",
        "lgbm.fit(train_X, train_y)"
      ],
      "execution_count": null,
      "outputs": [
        {
          "output_type": "execute_result",
          "data": {
            "text/plain": [
              "LGBMClassifier()"
            ]
          },
          "metadata": {},
          "execution_count": 85
        }
      ]
    },
    {
      "cell_type": "code",
      "metadata": {
        "colab": {
          "base_uri": "https://localhost:8080/"
        },
        "id": "AYjvwhKKtVOp",
        "outputId": "d5930d15-78aa-474d-f57c-f0dd9ab7127a"
      },
      "source": [
        "lgbm.score(test_X, test_y)"
      ],
      "execution_count": null,
      "outputs": [
        {
          "output_type": "execute_result",
          "data": {
            "text/plain": [
              "0.8958333333333334"
            ]
          },
          "metadata": {},
          "execution_count": 86
        }
      ]
    },
    {
      "cell_type": "code",
      "metadata": {
        "id": "09_eDjiotX8Q"
      },
      "source": [
        "from sklearn.model_selection import GridSearchCV\n",
        "xgb_param_grid = {'max_depth' : [3,5,7,9],\n",
        "                  'subsample' : [0.4, 0.6, 0.8, 1.0]}\n",
        "grid = GridSearchCV(estimator = xgb, param_grid = xgb_param_grid, scoring = 'roc_auc', n_jobs = -1, cv = 5, \n",
        "                    refit = True,  return_train_score = True)"
      ],
      "execution_count": null,
      "outputs": []
    },
    {
      "cell_type": "code",
      "metadata": {
        "colab": {
          "base_uri": "https://localhost:8080/"
        },
        "id": "Pnztk7WGtyuH",
        "outputId": "de2d0c7f-bbd0-4522-9128-2e370c644962"
      },
      "source": [
        "grid.fit(train_X, train_y)"
      ],
      "execution_count": null,
      "outputs": [
        {
          "output_type": "execute_result",
          "data": {
            "text/plain": [
              "GridSearchCV(cv=5, estimator=XGBClassifier(), n_jobs=-1,\n",
              "             param_grid={'max_depth': [3, 5, 7, 9],\n",
              "                         'subsample': [0.4, 0.6, 0.8, 1.0]},\n",
              "             return_train_score=True, scoring='roc_auc')"
            ]
          },
          "metadata": {},
          "execution_count": 88
        }
      ]
    },
    {
      "cell_type": "code",
      "metadata": {
        "id": "tgREe2w9t1xA"
      },
      "source": [
        "grid_df = pd.DataFrame(grid.cv_results_)"
      ],
      "execution_count": null,
      "outputs": []
    },
    {
      "cell_type": "code",
      "metadata": {
        "colab": {
          "base_uri": "https://localhost:8080/",
          "height": 551
        },
        "id": "aI8fazGpujKK",
        "outputId": "6c82ccb9-8a57-4967-d775-5d040e330441"
      },
      "source": [
        "grid_df.loc[:, ['mean_test_score', 'params']]"
      ],
      "execution_count": null,
      "outputs": [
        {
          "output_type": "execute_result",
          "data": {
            "text/html": [
              "<div>\n",
              "<style scoped>\n",
              "    .dataframe tbody tr th:only-of-type {\n",
              "        vertical-align: middle;\n",
              "    }\n",
              "\n",
              "    .dataframe tbody tr th {\n",
              "        vertical-align: top;\n",
              "    }\n",
              "\n",
              "    .dataframe thead th {\n",
              "        text-align: right;\n",
              "    }\n",
              "</style>\n",
              "<table border=\"1\" class=\"dataframe\">\n",
              "  <thead>\n",
              "    <tr style=\"text-align: right;\">\n",
              "      <th></th>\n",
              "      <th>mean_test_score</th>\n",
              "      <th>params</th>\n",
              "    </tr>\n",
              "  </thead>\n",
              "  <tbody>\n",
              "    <tr>\n",
              "      <th>0</th>\n",
              "      <td>0.962667</td>\n",
              "      <td>{'max_depth': 3, 'subsample': 0.4}</td>\n",
              "    </tr>\n",
              "    <tr>\n",
              "      <th>1</th>\n",
              "      <td>0.971556</td>\n",
              "      <td>{'max_depth': 3, 'subsample': 0.6}</td>\n",
              "    </tr>\n",
              "    <tr>\n",
              "      <th>2</th>\n",
              "      <td>0.967111</td>\n",
              "      <td>{'max_depth': 3, 'subsample': 0.8}</td>\n",
              "    </tr>\n",
              "    <tr>\n",
              "      <th>3</th>\n",
              "      <td>0.962667</td>\n",
              "      <td>{'max_depth': 3, 'subsample': 1.0}</td>\n",
              "    </tr>\n",
              "    <tr>\n",
              "      <th>4</th>\n",
              "      <td>0.962667</td>\n",
              "      <td>{'max_depth': 5, 'subsample': 0.4}</td>\n",
              "    </tr>\n",
              "    <tr>\n",
              "      <th>5</th>\n",
              "      <td>0.971556</td>\n",
              "      <td>{'max_depth': 5, 'subsample': 0.6}</td>\n",
              "    </tr>\n",
              "    <tr>\n",
              "      <th>6</th>\n",
              "      <td>0.967111</td>\n",
              "      <td>{'max_depth': 5, 'subsample': 0.8}</td>\n",
              "    </tr>\n",
              "    <tr>\n",
              "      <th>7</th>\n",
              "      <td>0.962667</td>\n",
              "      <td>{'max_depth': 5, 'subsample': 1.0}</td>\n",
              "    </tr>\n",
              "    <tr>\n",
              "      <th>8</th>\n",
              "      <td>0.962667</td>\n",
              "      <td>{'max_depth': 7, 'subsample': 0.4}</td>\n",
              "    </tr>\n",
              "    <tr>\n",
              "      <th>9</th>\n",
              "      <td>0.971556</td>\n",
              "      <td>{'max_depth': 7, 'subsample': 0.6}</td>\n",
              "    </tr>\n",
              "    <tr>\n",
              "      <th>10</th>\n",
              "      <td>0.967111</td>\n",
              "      <td>{'max_depth': 7, 'subsample': 0.8}</td>\n",
              "    </tr>\n",
              "    <tr>\n",
              "      <th>11</th>\n",
              "      <td>0.962667</td>\n",
              "      <td>{'max_depth': 7, 'subsample': 1.0}</td>\n",
              "    </tr>\n",
              "    <tr>\n",
              "      <th>12</th>\n",
              "      <td>0.962667</td>\n",
              "      <td>{'max_depth': 9, 'subsample': 0.4}</td>\n",
              "    </tr>\n",
              "    <tr>\n",
              "      <th>13</th>\n",
              "      <td>0.971556</td>\n",
              "      <td>{'max_depth': 9, 'subsample': 0.6}</td>\n",
              "    </tr>\n",
              "    <tr>\n",
              "      <th>14</th>\n",
              "      <td>0.967111</td>\n",
              "      <td>{'max_depth': 9, 'subsample': 0.8}</td>\n",
              "    </tr>\n",
              "    <tr>\n",
              "      <th>15</th>\n",
              "      <td>0.962667</td>\n",
              "      <td>{'max_depth': 9, 'subsample': 1.0}</td>\n",
              "    </tr>\n",
              "  </tbody>\n",
              "</table>\n",
              "</div>"
            ],
            "text/plain": [
              "    mean_test_score                              params\n",
              "0          0.962667  {'max_depth': 3, 'subsample': 0.4}\n",
              "1          0.971556  {'max_depth': 3, 'subsample': 0.6}\n",
              "2          0.967111  {'max_depth': 3, 'subsample': 0.8}\n",
              "3          0.962667  {'max_depth': 3, 'subsample': 1.0}\n",
              "4          0.962667  {'max_depth': 5, 'subsample': 0.4}\n",
              "5          0.971556  {'max_depth': 5, 'subsample': 0.6}\n",
              "6          0.967111  {'max_depth': 5, 'subsample': 0.8}\n",
              "7          0.962667  {'max_depth': 5, 'subsample': 1.0}\n",
              "8          0.962667  {'max_depth': 7, 'subsample': 0.4}\n",
              "9          0.971556  {'max_depth': 7, 'subsample': 0.6}\n",
              "10         0.967111  {'max_depth': 7, 'subsample': 0.8}\n",
              "11         0.962667  {'max_depth': 7, 'subsample': 1.0}\n",
              "12         0.962667  {'max_depth': 9, 'subsample': 0.4}\n",
              "13         0.971556  {'max_depth': 9, 'subsample': 0.6}\n",
              "14         0.967111  {'max_depth': 9, 'subsample': 0.8}\n",
              "15         0.962667  {'max_depth': 9, 'subsample': 1.0}"
            ]
          },
          "metadata": {},
          "execution_count": 90
        }
      ]
    },
    {
      "cell_type": "code",
      "metadata": {
        "colab": {
          "base_uri": "https://localhost:8080/",
          "height": 403
        },
        "id": "V2KgQP4huoGJ",
        "outputId": "321deb46-6cf1-4c86-9ab4-ee03b2836aca"
      },
      "source": [
        "grid_df[grid_df['rank_test_score']==1]"
      ],
      "execution_count": null,
      "outputs": [
        {
          "output_type": "execute_result",
          "data": {
            "text/html": [
              "<div>\n",
              "<style scoped>\n",
              "    .dataframe tbody tr th:only-of-type {\n",
              "        vertical-align: middle;\n",
              "    }\n",
              "\n",
              "    .dataframe tbody tr th {\n",
              "        vertical-align: top;\n",
              "    }\n",
              "\n",
              "    .dataframe thead th {\n",
              "        text-align: right;\n",
              "    }\n",
              "</style>\n",
              "<table border=\"1\" class=\"dataframe\">\n",
              "  <thead>\n",
              "    <tr style=\"text-align: right;\">\n",
              "      <th></th>\n",
              "      <th>mean_fit_time</th>\n",
              "      <th>std_fit_time</th>\n",
              "      <th>mean_score_time</th>\n",
              "      <th>std_score_time</th>\n",
              "      <th>param_max_depth</th>\n",
              "      <th>param_subsample</th>\n",
              "      <th>params</th>\n",
              "      <th>split0_test_score</th>\n",
              "      <th>split1_test_score</th>\n",
              "      <th>split2_test_score</th>\n",
              "      <th>split3_test_score</th>\n",
              "      <th>split4_test_score</th>\n",
              "      <th>mean_test_score</th>\n",
              "      <th>std_test_score</th>\n",
              "      <th>rank_test_score</th>\n",
              "      <th>split0_train_score</th>\n",
              "      <th>split1_train_score</th>\n",
              "      <th>split2_train_score</th>\n",
              "      <th>split3_train_score</th>\n",
              "      <th>split4_train_score</th>\n",
              "      <th>mean_train_score</th>\n",
              "      <th>std_train_score</th>\n",
              "    </tr>\n",
              "  </thead>\n",
              "  <tbody>\n",
              "    <tr>\n",
              "      <th>1</th>\n",
              "      <td>0.014118</td>\n",
              "      <td>0.000980</td>\n",
              "      <td>0.002972</td>\n",
              "      <td>0.000813</td>\n",
              "      <td>3</td>\n",
              "      <td>0.6</td>\n",
              "      <td>{'max_depth': 3, 'subsample': 0.6}</td>\n",
              "      <td>0.98</td>\n",
              "      <td>0.977778</td>\n",
              "      <td>1.0</td>\n",
              "      <td>0.988889</td>\n",
              "      <td>0.911111</td>\n",
              "      <td>0.971556</td>\n",
              "      <td>0.031219</td>\n",
              "      <td>1</td>\n",
              "      <td>0.991667</td>\n",
              "      <td>0.985135</td>\n",
              "      <td>0.990541</td>\n",
              "      <td>0.989189</td>\n",
              "      <td>0.995946</td>\n",
              "      <td>0.990495</td>\n",
              "      <td>0.003508</td>\n",
              "    </tr>\n",
              "    <tr>\n",
              "      <th>5</th>\n",
              "      <td>0.017614</td>\n",
              "      <td>0.005429</td>\n",
              "      <td>0.002967</td>\n",
              "      <td>0.001086</td>\n",
              "      <td>5</td>\n",
              "      <td>0.6</td>\n",
              "      <td>{'max_depth': 5, 'subsample': 0.6}</td>\n",
              "      <td>0.98</td>\n",
              "      <td>0.977778</td>\n",
              "      <td>1.0</td>\n",
              "      <td>0.988889</td>\n",
              "      <td>0.911111</td>\n",
              "      <td>0.971556</td>\n",
              "      <td>0.031219</td>\n",
              "      <td>1</td>\n",
              "      <td>0.991667</td>\n",
              "      <td>0.985135</td>\n",
              "      <td>0.990541</td>\n",
              "      <td>0.989189</td>\n",
              "      <td>0.995946</td>\n",
              "      <td>0.990495</td>\n",
              "      <td>0.003508</td>\n",
              "    </tr>\n",
              "    <tr>\n",
              "      <th>9</th>\n",
              "      <td>0.013584</td>\n",
              "      <td>0.000274</td>\n",
              "      <td>0.002550</td>\n",
              "      <td>0.000042</td>\n",
              "      <td>7</td>\n",
              "      <td>0.6</td>\n",
              "      <td>{'max_depth': 7, 'subsample': 0.6}</td>\n",
              "      <td>0.98</td>\n",
              "      <td>0.977778</td>\n",
              "      <td>1.0</td>\n",
              "      <td>0.988889</td>\n",
              "      <td>0.911111</td>\n",
              "      <td>0.971556</td>\n",
              "      <td>0.031219</td>\n",
              "      <td>1</td>\n",
              "      <td>0.991667</td>\n",
              "      <td>0.985135</td>\n",
              "      <td>0.990541</td>\n",
              "      <td>0.989189</td>\n",
              "      <td>0.995946</td>\n",
              "      <td>0.990495</td>\n",
              "      <td>0.003508</td>\n",
              "    </tr>\n",
              "    <tr>\n",
              "      <th>13</th>\n",
              "      <td>0.013180</td>\n",
              "      <td>0.000178</td>\n",
              "      <td>0.002440</td>\n",
              "      <td>0.000070</td>\n",
              "      <td>9</td>\n",
              "      <td>0.6</td>\n",
              "      <td>{'max_depth': 9, 'subsample': 0.6}</td>\n",
              "      <td>0.98</td>\n",
              "      <td>0.977778</td>\n",
              "      <td>1.0</td>\n",
              "      <td>0.988889</td>\n",
              "      <td>0.911111</td>\n",
              "      <td>0.971556</td>\n",
              "      <td>0.031219</td>\n",
              "      <td>1</td>\n",
              "      <td>0.991667</td>\n",
              "      <td>0.985135</td>\n",
              "      <td>0.990541</td>\n",
              "      <td>0.989189</td>\n",
              "      <td>0.995946</td>\n",
              "      <td>0.990495</td>\n",
              "      <td>0.003508</td>\n",
              "    </tr>\n",
              "  </tbody>\n",
              "</table>\n",
              "</div>"
            ],
            "text/plain": [
              "    mean_fit_time  std_fit_time  ...  mean_train_score  std_train_score\n",
              "1        0.014118      0.000980  ...          0.990495         0.003508\n",
              "5        0.017614      0.005429  ...          0.990495         0.003508\n",
              "9        0.013584      0.000274  ...          0.990495         0.003508\n",
              "13       0.013180      0.000178  ...          0.990495         0.003508\n",
              "\n",
              "[4 rows x 22 columns]"
            ]
          },
          "metadata": {},
          "execution_count": 91
        }
      ]
    },
    {
      "cell_type": "code",
      "metadata": {
        "id": "r6Ia8wqjuunX"
      },
      "source": [
        "from sklearn.datasets import make_classification\n",
        "X, y = make_classification(n_samples = 10000, n_features=10, n_informative = 5, \n",
        "                           n_redundant = 0, n_clusters_per_class = 1, n_classes = 2,\n",
        "                           weights = [0.99, 0.11],\n",
        "                           random_state = 42)"
      ],
      "execution_count": null,
      "outputs": []
    },
    {
      "cell_type": "code",
      "metadata": {
        "id": "wtxD3vOevXHd"
      },
      "source": [
        "from sklearn.model_selection import train_test_split\n",
        "train_X, test_X, train_y, test_y = train_test_split(X, y , test_size = 0.3, stratify = y, random_state = 42)\n",
        "\n",
        "from imblearn.over_sampling import SMOTE\n",
        "sm = SMOTE()\n",
        "resampled_X, resampled_y = sm.fit_resample(train_X, train_y)"
      ],
      "execution_count": null,
      "outputs": []
    },
    {
      "cell_type": "code",
      "metadata": {
        "colab": {
          "base_uri": "https://localhost:8080/"
        },
        "id": "cpBe1Gb3vwOk",
        "outputId": "009a1f8f-f735-414f-92e3-87c8bfa02896"
      },
      "source": [
        "from sklearn.ensemble import RandomForestClassifier\n",
        "rf_model = RandomForestClassifier(n_estimators = 100 , max_features = 2, random_state = 42)\n",
        "rf_model.fit(resampled_X, resampled_y)"
      ],
      "execution_count": null,
      "outputs": [
        {
          "output_type": "execute_result",
          "data": {
            "text/plain": [
              "RandomForestClassifier(max_features=2, random_state=42)"
            ]
          },
          "metadata": {},
          "execution_count": 96
        }
      ]
    },
    {
      "cell_type": "code",
      "metadata": {
        "id": "kgS_jWE2wBH7"
      },
      "source": [
        "y_pred_rfc = rf_model.predict(test_X)"
      ],
      "execution_count": null,
      "outputs": []
    },
    {
      "cell_type": "code",
      "metadata": {
        "id": "9t6QUWDjwEVe"
      },
      "source": [
        "from sklearn.metrics import confusion_matrix"
      ],
      "execution_count": null,
      "outputs": []
    },
    {
      "cell_type": "code",
      "metadata": {
        "colab": {
          "base_uri": "https://localhost:8080/"
        },
        "id": "rAoiU_-UwGtK",
        "outputId": "b944c57a-40f3-4489-ecfb-364912290753"
      },
      "source": [
        "confusion_matrix(test_y, y_pred_rfc)"
      ],
      "execution_count": null,
      "outputs": [
        {
          "output_type": "execute_result",
          "data": {
            "text/plain": [
              "array([[2956,    2],\n",
              "       [  27,   15]])"
            ]
          },
          "metadata": {},
          "execution_count": 99
        }
      ]
    },
    {
      "cell_type": "code",
      "metadata": {
        "id": "UR-bDR4VwKL3"
      },
      "source": [
        "from sklearn.metrics import confusion_matrix\n",
        "def model_measure(model, train_X, train_y, test_X, test_y):\n",
        "  model.fit(train_X, train_y)\n",
        "  y_pred = model.predict(test_X)\n",
        "  cm = confusion_matrix(test_y, y_pred)\n",
        "  precision = cm[1,1] / (cm[0,1] + cm[1,1])\n",
        "  recall = cm[1,1] / (cm[1,0] + cm[1,1])\n",
        "  f1score = (2 * precision * recall) / (precision + recall)\n",
        "  print(f'precision : {precision : .6f}, recall: {recall : .6f}, f1score : {f1score:.6f}')"
      ],
      "execution_count": null,
      "outputs": []
    },
    {
      "cell_type": "code",
      "metadata": {
        "colab": {
          "base_uri": "https://localhost:8080/"
        },
        "id": "KT1tLTVrwzr9",
        "outputId": "2c53aa28-075b-458f-d152-c8c7f8b273a4"
      },
      "source": [
        "from sklearn.ensemble import RandomForestClassifier\n",
        "\n",
        "model_measure(RandomForestClassifier(n_estimators=100, max_features=2, random_state = 42),\n",
        "              resampled_X, resampled_y, test_X, test_y)"
      ],
      "execution_count": null,
      "outputs": [
        {
          "output_type": "stream",
          "name": "stdout",
          "text": [
            "precision :  0.882353, recall:  0.357143, f1score : 0.508475\n"
          ]
        }
      ]
    },
    {
      "cell_type": "code",
      "metadata": {
        "colab": {
          "base_uri": "https://localhost:8080/"
        },
        "id": "MmXCxjztxECL",
        "outputId": "19e8e989-8ccf-4ea3-bd7f-bbea8b1e7768"
      },
      "source": [
        "from sklearn.svm import SVC\n",
        "model_measure(SVC(random_state = 42), resampled_X, resampled_y, test_X, test_y)"
      ],
      "execution_count": null,
      "outputs": [
        {
          "output_type": "stream",
          "name": "stdout",
          "text": [
            "precision :  0.214953, recall:  0.547619, f1score : 0.308725\n"
          ]
        }
      ]
    },
    {
      "cell_type": "code",
      "metadata": {
        "colab": {
          "base_uri": "https://localhost:8080/"
        },
        "id": "cZzuHaiyxkVM",
        "outputId": "c793d3a8-0c4e-4ec1-ed6f-365c42494fc6"
      },
      "source": [
        "from sklearn.neural_network import MLPClassifier\n",
        "model_measure(MLPClassifier(hidden_layer_sizes = (50, ), max_iter = 500),\n",
        "              resampled_X, resampled_y, test_X, test_y)"
      ],
      "execution_count": null,
      "outputs": [
        {
          "output_type": "stream",
          "name": "stdout",
          "text": [
            "precision :  0.479167, recall:  0.547619, f1score : 0.511111\n"
          ]
        }
      ]
    },
    {
      "cell_type": "code",
      "metadata": {
        "colab": {
          "base_uri": "https://localhost:8080/"
        },
        "id": "GARajtfAyQK2",
        "outputId": "b569d812-68aa-42c2-e8d6-a41cfeaab97c"
      },
      "source": [
        "from xgboost import XGBClassifier\n",
        "model_measure(XGBClassifier(max_depth = 10, n_estimators = 100, learning_rate = 0.01, use_label_encoder = False),\n",
        "              resampled_X, resampled_y, test_X, test_y)"
      ],
      "execution_count": null,
      "outputs": [
        {
          "output_type": "stream",
          "name": "stdout",
          "text": [
            "precision :  0.212766, recall:  0.476190, f1score : 0.294118\n"
          ]
        }
      ]
    },
    {
      "cell_type": "code",
      "metadata": {
        "colab": {
          "base_uri": "https://localhost:8080/"
        },
        "id": "t3mwTwSIyos4",
        "outputId": "3ba9d67a-b03d-4ad1-d946-f4de5f31c865"
      },
      "source": [
        "from lightgbm import LGBMClassifier\n",
        "model_measure(LGBMClassifier(n_estimators=100), resampled_X, resampled_y, test_X, test_y)"
      ],
      "execution_count": null,
      "outputs": [
        {
          "output_type": "stream",
          "name": "stdout",
          "text": [
            "precision :  0.512195, recall:  0.500000, f1score : 0.506024\n"
          ]
        }
      ]
    },
    {
      "cell_type": "code",
      "metadata": {
        "id": "yPb21TzAzCsB"
      },
      "source": [
        "rf_model = RandomForestClassifier(n_estimators=100, max_features = 2, random_state = 42)\n",
        "xgb_model = XGBClassifier(max_depth = 10, n_estimators=100, learning_rate = 0.01)\n",
        "lgb_model = LGBMClassifier(n_estimators= 100)"
      ],
      "execution_count": null,
      "outputs": []
    },
    {
      "cell_type": "code",
      "metadata": {
        "id": "t3gigj1q0QN8"
      },
      "source": [
        "from sklearn.ensemble import VotingClassifier\n",
        "voting_model = VotingClassifier(estimators = [('rfc', rf_model),\n",
        "                                              ('xgb', xgb_model), \n",
        "                                              ('lgbm', lgb_model)],\n",
        "                                voting = 'hard')"
      ],
      "execution_count": null,
      "outputs": []
    },
    {
      "cell_type": "code",
      "metadata": {
        "colab": {
          "base_uri": "https://localhost:8080/"
        },
        "id": "Er9sL89y0hpI",
        "outputId": "1dab8e1a-6c35-4f82-f5f1-85bf85c0cdb9"
      },
      "source": [
        "ests = voting_model.fit(X_resampled, y_resampled)\n",
        "ests.named_estimators_"
      ],
      "execution_count": null,
      "outputs": [
        {
          "output_type": "execute_result",
          "data": {
            "text/plain": [
              "{'lgbm': LGBMClassifier(),\n",
              " 'rfc': RandomForestClassifier(max_features=2, random_state=42),\n",
              " 'xgb': XGBClassifier(learning_rate=0.01, max_depth=10)}"
            ]
          },
          "metadata": {},
          "execution_count": 115
        }
      ]
    },
    {
      "cell_type": "code",
      "metadata": {
        "colab": {
          "base_uri": "https://localhost:8080/"
        },
        "id": "AVHec44u05Vq",
        "outputId": "82862d2b-1c0a-48a4-e986-050972d79765"
      },
      "source": [
        "ests.get_params()"
      ],
      "execution_count": null,
      "outputs": [
        {
          "output_type": "execute_result",
          "data": {
            "text/plain": [
              "{'estimators': [('rfc',\n",
              "   RandomForestClassifier(max_features=2, random_state=42)),\n",
              "  ('xgb', XGBClassifier(learning_rate=0.01, max_depth=10)),\n",
              "  ('lgbm', LGBMClassifier())],\n",
              " 'flatten_transform': True,\n",
              " 'lgbm': LGBMClassifier(),\n",
              " 'lgbm__boosting_type': 'gbdt',\n",
              " 'lgbm__class_weight': None,\n",
              " 'lgbm__colsample_bytree': 1.0,\n",
              " 'lgbm__importance_type': 'split',\n",
              " 'lgbm__learning_rate': 0.1,\n",
              " 'lgbm__max_depth': -1,\n",
              " 'lgbm__min_child_samples': 20,\n",
              " 'lgbm__min_child_weight': 0.001,\n",
              " 'lgbm__min_split_gain': 0.0,\n",
              " 'lgbm__n_estimators': 100,\n",
              " 'lgbm__n_jobs': -1,\n",
              " 'lgbm__num_leaves': 31,\n",
              " 'lgbm__objective': None,\n",
              " 'lgbm__random_state': None,\n",
              " 'lgbm__reg_alpha': 0.0,\n",
              " 'lgbm__reg_lambda': 0.0,\n",
              " 'lgbm__silent': True,\n",
              " 'lgbm__subsample': 1.0,\n",
              " 'lgbm__subsample_for_bin': 200000,\n",
              " 'lgbm__subsample_freq': 0,\n",
              " 'n_jobs': None,\n",
              " 'rfc': RandomForestClassifier(max_features=2, random_state=42),\n",
              " 'rfc__bootstrap': True,\n",
              " 'rfc__ccp_alpha': 0.0,\n",
              " 'rfc__class_weight': None,\n",
              " 'rfc__criterion': 'gini',\n",
              " 'rfc__max_depth': None,\n",
              " 'rfc__max_features': 2,\n",
              " 'rfc__max_leaf_nodes': None,\n",
              " 'rfc__max_samples': None,\n",
              " 'rfc__min_impurity_decrease': 0.0,\n",
              " 'rfc__min_samples_leaf': 1,\n",
              " 'rfc__min_samples_split': 2,\n",
              " 'rfc__min_weight_fraction_leaf': 0.0,\n",
              " 'rfc__n_estimators': 100,\n",
              " 'rfc__n_jobs': None,\n",
              " 'rfc__oob_score': False,\n",
              " 'rfc__random_state': 42,\n",
              " 'rfc__verbose': 0,\n",
              " 'rfc__warm_start': False,\n",
              " 'verbose': False,\n",
              " 'voting': 'hard',\n",
              " 'weights': None,\n",
              " 'xgb': XGBClassifier(learning_rate=0.01, max_depth=10),\n",
              " 'xgb__base_score': 0.5,\n",
              " 'xgb__booster': 'gbtree',\n",
              " 'xgb__colsample_bylevel': 1,\n",
              " 'xgb__colsample_bynode': 1,\n",
              " 'xgb__colsample_bytree': 1,\n",
              " 'xgb__gamma': 0,\n",
              " 'xgb__learning_rate': 0.01,\n",
              " 'xgb__max_delta_step': 0,\n",
              " 'xgb__max_depth': 10,\n",
              " 'xgb__min_child_weight': 1,\n",
              " 'xgb__missing': None,\n",
              " 'xgb__n_estimators': 100,\n",
              " 'xgb__n_jobs': 1,\n",
              " 'xgb__nthread': None,\n",
              " 'xgb__objective': 'binary:logistic',\n",
              " 'xgb__random_state': 0,\n",
              " 'xgb__reg_alpha': 0,\n",
              " 'xgb__reg_lambda': 1,\n",
              " 'xgb__scale_pos_weight': 1,\n",
              " 'xgb__seed': None,\n",
              " 'xgb__silent': None,\n",
              " 'xgb__subsample': 1,\n",
              " 'xgb__verbosity': 1}"
            ]
          },
          "metadata": {},
          "execution_count": 117
        }
      ]
    },
    {
      "cell_type": "code",
      "metadata": {
        "colab": {
          "base_uri": "https://localhost:8080/",
          "height": 166
        },
        "id": "PGMXV8CW1ESl",
        "outputId": "1f1b1502-e8c9-4d39-cae0-14e17f550961"
      },
      "source": [
        "model_measure(voting_model, X_resampled, y_resampled)"
      ],
      "execution_count": null,
      "outputs": [
        {
          "output_type": "error",
          "ename": "TypeError",
          "evalue": "ignored",
          "traceback": [
            "\u001b[0;31m---------------------------------------------------------------------------\u001b[0m",
            "\u001b[0;31mTypeError\u001b[0m                                 Traceback (most recent call last)",
            "\u001b[0;32m<ipython-input-118-a72f391230c0>\u001b[0m in \u001b[0;36m<module>\u001b[0;34m()\u001b[0m\n\u001b[0;32m----> 1\u001b[0;31m \u001b[0mmodel_measure\u001b[0m\u001b[0;34m(\u001b[0m\u001b[0mvoting_model\u001b[0m\u001b[0;34m,\u001b[0m \u001b[0mX_resampled\u001b[0m\u001b[0;34m,\u001b[0m \u001b[0my_resampled\u001b[0m\u001b[0;34m)\u001b[0m\u001b[0;34m\u001b[0m\u001b[0;34m\u001b[0m\u001b[0m\n\u001b[0m",
            "\u001b[0;31mTypeError\u001b[0m: model_measure() missing 2 required positional arguments: 'test_X' and 'test_y'"
          ]
        }
      ]
    },
    {
      "cell_type": "code",
      "metadata": {
        "id": "TvW96rdP1OKv"
      },
      "source": [
        ""
      ],
      "execution_count": null,
      "outputs": []
    }
  ]
}